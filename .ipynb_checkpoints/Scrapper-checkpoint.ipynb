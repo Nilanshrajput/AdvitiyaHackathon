{
 "cells": [
  {
   "cell_type": "code",
   "execution_count": 56,
   "metadata": {},
   "outputs": [
    {
     "name": "stdout",
     "output_type": "stream",
     "text": [
      "https://patents.google.com/patent/US2668287A\n",
      "https://patents.google.com/patent/US266827A\n",
      "Patent inventor : Luis W Alvarez\n"
     ]
    }
   ],
   "source": [
    "# ~ Import packages ~ #\n",
    "from google_patent_scrapper import scraper_class\n",
    "import json\n",
    "\n",
    "# ~ Initialize scraper class ~ #\n",
    "scraper=scraper_class()\n",
    "\n",
    "# ~ Add patents to list ~ #\n",
    "scraper.add_patents('US2668287A')\n",
    "scraper.add_patents('US266827A')\n",
    "\n",
    "# ~ Scrape all patents ~ #\n",
    "scraper.scrape_all_patents()\n",
    "\n",
    "# ~ Get results of scrape ~ #\n",
    "patent_1_parsed = scraper.parsed_patents['US2668287A']\n",
    "patent_2_parsed = scraper.parsed_patents['US266827A']\n",
    "\n",
    "# ~ Print inventors of patent US2668287A ~ #\n",
    "for inventor in json.loads(patent_1_parsed['inventor_name']):\n",
    "  print('Patent inventor : {0}'.format(inventor['inventor_name']))"
   ]
  },
  {
   "cell_type": "code",
   "execution_count": 1,
   "metadata": {},
   "outputs": [
    {
     "name": "stdout",
     "output_type": "stream",
     "text": [
      "https://patents.google.com/patent/US9389611B2\n",
      "https://patents.google.com/patent/US266827A\n"
     ]
    }
   ],
   "source": [
    "# ~ Import packages ~ #\n",
    "from google_patent_scrapper import scraper_class\n",
    "\n",
    "# ~ Initialize scraper class ~ #\n",
    "scraper=scraper_class() \n",
    "\n",
    "# ~~ Scrape patents individually ~~ #\n",
    "patent_1 = 'US9389611B2'\n",
    "patent_2 = 'US266827A'\n",
    "err_1, soup_1, url_1 = scraper.request_single_patent(patent_1)\n",
    "err_2, soup_2, url_2 = scraper.request_single_patent(patent_2)\n",
    "\n",
    "# ~ Parse results of scrape ~ #\n",
    "patent_1_parsed = scraper.get_scraped_data(soup_1,patent_1,url_1)\n",
    "patent_2_parsed = scraper.get_scraped_data(soup_2,patent_2,url_2)"
   ]
  },
  {
   "cell_type": "code",
   "execution_count": 2,
   "metadata": {},
   "outputs": [
    {
     "data": {
      "text/plain": [
       "{'title': '\"US9389611B2 - Adaptative platform for unmanned defense vehicles \\\\n        - Google Patents\"',\n",
       " 'abstract': '[{\"abstract\": \"A kit for building an adaptive unmanned CIED vehicle comprising a vehicle chassis having a locomotion system for moving the vehicle in an operating environment, and a controllable steering mechanism for steering the vehicle as it moves in the operating environment; one or more motors for coupling to the locomotion system to the controllable steering mechanism; a remote control unit for communication with and for controlling the one or more motors and the controllable steering mechanism; payload devices for performing tasks attributed to the vehicle; and a platform for providing the capability of adapting the vehicle to perform new tasks in view of evolution in the operating environment, the platform comprising: a casing for mounting on or in the vehicle chassis; a computing device for connection to a selection of payload devices from the payload devices, and a memory for storing computing instructions for controlling operation of the selection of payload devices; a power source for powering at least one of the payload devices; power ports connected to the power source; and data ports connected to the computing device for connecting at least one of the payload devices to the computing device; wherein the computing device, the power source, the power ports and the data ports are mounted to the casing and wherein the payload devices and the one or more motors are for mounting to either the vehicle chassis or the casing. The payload devices are plug and play devices and are connected to the platform using standardized military connectors.\"}]',\n",
       " 'claims': '[{\"claims\": \"1. A kit for building an adaptive unmanned defense vehicle (vehicle), the kit comprising:\\\\na vehicle chassis comprising a locomotion system for moving the vehicle in an operating environment, and a controllable steering mechanism for steering the vehicle as it moves in the operating environment;\\\\none or more motors for coupling to the locomotion system and to the controllable steering mechanism;\\\\na remote control unit for communication with and for controlling the one or more motors and consequently the locomotion system and the controllable steering mechanism;\\\\npayload devices for performing tasks attributed to the vehicle; and\\\\na platform for adapting the vehicle in-situ to perform new tasks in view of evolution in the operating environment, the platform comprising:\\\\na casing for mounting on or in the vehicle chassis;\\\\na computing device for connection to existing payload devices from the payload devices, the computing device comprising a processor and a memory, the memory for storing computing instructions for controlling operation of the existing payload devices, the processor having unused processing capacity and the memory having unused storage space for controlling operation of additional payload devices other than the existing payload devices;\\\\na power source for powering at least one of the payload devices;\\\\npower ports connected to the power source; and\\\\ndata ports connected to the computing device for connecting at least one of the payload devices to the computing device;\\\\n\\\\n\"}, {\"claims\": \"a vehicle chassis comprising a locomotion system for moving the vehicle in an operating environment, and a controllable steering mechanism for steering the vehicle as it moves in the operating environment;\"}, {\"claims\": \"one or more motors for coupling to the locomotion system and to the controllable steering mechanism;\"}, {\"claims\": \"a remote control unit for communication with and for controlling the one or more motors and consequently the locomotion system and the controllable steering mechanism;\"}, {\"claims\": \"payload devices for performing tasks attributed to the vehicle; and\"}, {\"claims\": \"a platform for adapting the vehicle in-situ to perform new tasks in view of evolution in the operating environment, the platform comprising:\\\\na casing for mounting on or in the vehicle chassis;\\\\na computing device for connection to existing payload devices from the payload devices, the computing device comprising a processor and a memory, the memory for storing computing instructions for controlling operation of the existing payload devices, the processor having unused processing capacity and the memory having unused storage space for controlling operation of additional payload devices other than the existing payload devices;\\\\na power source for powering at least one of the payload devices;\\\\npower ports connected to the power source; and\\\\ndata ports connected to the computing device for connecting at least one of the payload devices to the computing device;\\\\n\"}, {\"claims\": \"a casing for mounting on or in the vehicle chassis;\"}, {\"claims\": \"a computing device for connection to existing payload devices from the payload devices, the computing device comprising a processor and a memory, the memory for storing computing instructions for controlling operation of the existing payload devices, the processor having unused processing capacity and the memory having unused storage space for controlling operation of additional payload devices other than the existing payload devices;\"}, {\"claims\": \"a power source for powering at least one of the payload devices;\"}, {\"claims\": \"power ports connected to the power source; and\"}, {\"claims\": \"data ports connected to the computing device for connecting at least one of the payload devices to the computing device;\"}, {\"claims\": \"wherein the computing device, the power source, the power ports and the data ports are mounted to the casing and wherein the payload devices and the one or more motors are for mounting to either the vehicle chassis or the casing.\"}, {\"claims\": \"2. The kit of claim 1, wherein the payload devices are plug and play devices.\"}, {\"claims\": \"3. The kit of claim 1, further comprising a transceiver for establishing a communication link with a remote base for at least one of:\\\\ntransmitting data gathered by either one of the payload devices;\\\\nreceiving and installing upgrading/driver software for at least one of the computing device and the payload devices; and\\\\nreceiving instructions for execution by the computing device to enable and disable one or more of the payload devices.\\\\n\"}, {\"claims\": \"transmitting data gathered by either one of the payload devices;\"}, {\"claims\": \"receiving and installing upgrading/driver software for at least one of the computing device and the payload devices; and\"}, {\"claims\": \"receiving instructions for execution by the computing device to enable and disable one or more of the payload devices.\"}, {\"claims\": \"4. The kit of claim 1, wherein the memory is further for storing data gathered by either one of the payload devices.\"}, {\"claims\": \"5. The kit of claim 1, further comprising a plurality of vehicle chassis of different types for building different types of vehicles as needed using a single platform, the vehicle chassis being adapted to receive and be operated by the platform in a plug and play manner.\"}, {\"claims\": \"6. The kit of claim 5, wherein the plurality of vehicle chassis comprise at least two of:\\\\na chassis for a ground vehicle, the locomotion system comprises a set of wheels or a set of tracks for rollably driving the vehicle on the ground;\\\\na chassis for an airplane, the locomotion system comprising at least one turbine or blade for moving the airplane in the air;\\\\na chassis for a boat, the locomotion system comprising at least one turbine for moving the boat on water; and\\\\na chassis for a submarine comprising a sonar transceiver for connecting to the computing device, the locomotion system comprises at least one turbine for moving the submarine in the water.\\\\n\"}, {\"claims\": \"a chassis for a ground vehicle, the locomotion system comprises a set of wheels or a set of tracks for rollably driving the vehicle on the ground;\"}, {\"claims\": \"a chassis for an airplane, the locomotion system comprising at least one turbine or blade for moving the airplane in the air;\"}, {\"claims\": \"a chassis for a boat, the locomotion system comprising at least one turbine for moving the boat on water; and\"}, {\"claims\": \"a chassis for a submarine comprising a sonar transceiver for connecting to the computing device, the locomotion system comprises at least one turbine for moving the submarine in the water.\"}, {\"claims\": \"7. The kit of claim 1, wherein the power source includes one or more of: a battery, an internal combustion engine, and a solar panel.\"}, {\"claims\": \"8. The kit of claim 1, further comprising mechanical connectors on one or both of the vehicle chassis and the casing, the mechanical connectors shaped and dimensioned to provide a connection interface for the payload devices.\"}, {\"claims\": \"9. The kit of claim 1, wherein the platform includes mechanical connectors comprising military mounting brackets, Picatinny Arsenal mounting rails, Weaver mounting rails, and MIL-STD-1913 rails.\"}, {\"claims\": \"10. The kit of claim 1, wherein the data ports comprise wired data ports comprising one or more of: USB ports, PS/2 ports, Ethernet ports, CANbus ports, GIGA Ethernet ports, RS-232, RS-234, RS-488, IEEE 1394 Firewire ports, HDMI ports, VGA ports, and SVGA ports.\"}, {\"claims\": \"11. The kit of claim 1, wherein the data ports comprise one or more wireless ports comprising Bluetooth ports, Infrared ports, wireless Ethernet ports, MiWi ports, Zigbee ports, and wireless mesh network ports.\"}, {\"claims\": \"12. The kit of claim 1, wherein the payload devices include one or more of: capture device(s), lamp, bomb sniffer, automated rifle and/or rocket launcher, explosives connected to a self-destructing module, explosive sniffer, radar, auxiliary processor, auxiliary memory, sensors, actuators, lamps, robotic manipulators with end-effectors, detonators, stand-off neutralizer, grappling hook, dozer blade, communication re-broadcaster, ammunition carrier, trailer, communication cable spooler, trailer hitch, and motion detector.\"}, {\"claims\": \"13. The kit of claim 1, wherein the remote control unit is wired or wireless.\"}, {\"claims\": \"14. A platform for mounting to a vehicle chassis forming part of an adaptive unmanned defense vehicle, the platform for adapting the vehicle in-situ to perform new tasks in view of evolution in an operating environment, the platform comprising:\\\\na casing for mounting on or in the vehicle chassis;\\\\na computing device for connection to existing payload devices, the computing device comprising a processor and a memory, the memory for storing computing instructions for controlling operation of the existing payload devices, the processor having unused processing capacity and the memory having unused storage space for controlling operation of additional payload devices other than the existing payload devices;\\\\na power source for powering at least one of the payload devices;\\\\npower ports connected to the power source; and\\\\ndata ports connected to the computing device for connecting at least one of the payload devices to the computing device;\\\\n\"}, {\"claims\": \"a casing for mounting on or in the vehicle chassis;\"}, {\"claims\": \"a computing device for connection to existing payload devices, the computing device comprising a processor and a memory, the memory for storing computing instructions for controlling operation of the existing payload devices, the processor having unused processing capacity and the memory having unused storage space for controlling operation of additional payload devices other than the existing payload devices;\"}, {\"claims\": \"a power source for powering at least one of the payload devices;\"}, {\"claims\": \"power ports connected to the power source; and\"}, {\"claims\": \"data ports connected to the computing device for connecting at least one of the payload devices to the computing device;\"}, {\"claims\": \"wherein the computing device, the power source, the power ports and the data ports are mounted to the casing and wherein the payload devices are for mounting to either the vehicle chassis or the casing.\"}, {\"claims\": \"15. A method for countering evolving IED (improvised explosive devices) threats in a battlefield, the method comprising:\\\\nobtaining a vehicle having an initial set of capabilities/features defined by existing payload devices and a platform comprising:\\\\nmechanical connectors for receiving additional payload devices other than the existing payload devices;\\\\na computing device configured to control operation of the additional payload devices;\\\\npower ports for powering the additional payload devices; and\\\\ndata ports for interfacing the additional payload devices with the computing device for controlling operation of the additional payload devices;\\\\n\\\\ngathering data on the operating environment, including detecting a new task requirement for a new threat;\\\\nusing the gathered data, modifying the vehicle to counter the new threat in-situ, the modifying including mounting an additional payload device onto the platform and connecting the additional payload device to the computing device using a data port.\\\\n\"}, {\"claims\": \"obtaining a vehicle having an initial set of capabilities/features defined by existing payload devices and a platform comprising:\\\\nmechanical connectors for receiving additional payload devices other than the existing payload devices;\\\\na computing device configured to control operation of the additional payload devices;\\\\npower ports for powering the additional payload devices; and\\\\ndata ports for interfacing the additional payload devices with the computing device for controlling operation of the additional payload devices;\\\\n\"}, {\"claims\": \"mechanical connectors for receiving additional payload devices other than the existing payload devices;\"}, {\"claims\": \"a computing device configured to control operation of the additional payload devices;\"}, {\"claims\": \"power ports for powering the additional payload devices; and\"}, {\"claims\": \"data ports for interfacing the additional payload devices with the computing device for controlling operation of the additional payload devices;\"}, {\"claims\": \"gathering data on the operating environment, including detecting a new task requirement for a new threat;\"}, {\"claims\": \"using the gathered data, modifying the vehicle to counter the new threat in-situ, the modifying including mounting an additional payload device onto the platform and connecting the additional payload device to the computing device using a data port.\"}, {\"claims\": \"16. The method of claim 15, wherein gathering data on the operating environment comprises using the vehicle in the operating environment and taking a photo or a video footage of the operating environment using a camera.\"}, {\"claims\": \"17. The method of claim 16, further comprising uninstalling the platform from a first type of chassis for a first physical environment and installing the platform, in a plug and play manner, in a second type of chassis for a second physical environment different than the first physical environment, the first type of chassis and the second type of chassis being one of: a chassis for ground vehicle, a chassis for an airplane, a chassis for a boat, and chassis for a submarine.\"}, {\"claims\": \"18. The method of claim 15, further comprising, upon identifying the new threat, querying a database for a design change proposal and using the design change proposal to modify the vehicle.\"}, {\"claims\": \"19. The method of claim 15, further comprising connecting the additional payload devices to a power port for powering the additional payload device.\"}]',\n",
       " 'classification': '[{\"classifaiction\": \"PHYSICS\"}, {\"classifaiction\": \"CONTROLLING; REGULATING\"}, {\"classifaiction\": \"SYSTEMS FOR CONTROLLING OR REGULATING NON-ELECTRIC VARIABLES\"}, {\"classifaiction\": \"Control of position, course or altitude of land, water, air, or space vehicles, e.g. automatic pilot\"}, {\"classifaiction\": \"Control of position, course or altitude of land, water, air, or space vehicles, e.g. automatic pilot associated with a remote control arrangement\"}, {\"classifaiction\": \"PERFORMING OPERATIONS; TRANSPORTING\"}, {\"classifaiction\": \"SHIPS OR OTHER WATERBORNE VESSELS; RELATED EQUIPMENT\"}, {\"classifaiction\": \"OFFENSIVE OR DEFENSIVE ARRANGEMENTS ON VESSELS; MINE-LAYING; MINE-SWEEPING; SUBMARINES; AIRCRAFT CARRIERS\"}, {\"classifaiction\": \"Other offensive or defensive arrangements on vessels; Vessels characterised thereby\"}, {\"classifaiction\": \"PERFORMING OPERATIONS; TRANSPORTING\"}, {\"classifaiction\": \"SHIPS OR OTHER WATERBORNE VESSELS; RELATED EQUIPMENT\"}, {\"classifaiction\": \"MARINE PROPULSION OR STEERING\"}, {\"classifaiction\": \"Use of propulsion power plant or units on vessels\"}, {\"classifaiction\": \"Control means for engine or transmission, specially adapted for use on marine vessels\"}, {\"classifaiction\": \"PERFORMING OPERATIONS; TRANSPORTING\"}, {\"classifaiction\": \"AIRCRAFT; AVIATION; COSMONAUTICS\"}, {\"classifaiction\": \"AEROPLANES; HELICOPTERS\"}, {\"classifaiction\": \"Aircraft not otherwise provided for\"}, {\"classifaiction\": \"Aircraft not otherwise provided for characterised by special use\"}, {\"classifaiction\": \"Aircraft not otherwise provided for characterised by special use of the remote controlled vehicle type, i.e. RPV\"}, {\"classifaiction\": \"MECHANICAL ENGINEERING; LIGHTING; HEATING; WEAPONS; BLASTING\"}, {\"classifaiction\": \"WEAPONS\"}, {\"classifaiction\": \"ARMOUR; ARMOURED TURRETS; ARMOURED OR ARMED VEHICLES; MEANS OF ATTACK OR DEFENCE, e.g. CAMOUFLAGE, IN GENERAL\"}, {\"classifaiction\": \"Defence installations; Defence devices\"}, {\"classifaiction\": \"MECHANICAL ENGINEERING; LIGHTING; HEATING; WEAPONS; BLASTING\"}, {\"classifaiction\": \"WEAPONS\"}, {\"classifaiction\": \"ARMOUR; ARMOURED TURRETS; ARMOURED OR ARMED VEHICLES; MEANS OF ATTACK OR DEFENCE, e.g. CAMOUFLAGE, IN GENERAL\"}, {\"classifaiction\": \"Defence installations; Defence devices\"}, {\"classifaiction\": \"Means for clearing land minefields; Systems specially adapted for detection of landmines\"}, {\"classifaiction\": \"Self-propelled mine-clearing vehicles; Mine-clearing devices attachable to vehicles\"}, {\"classifaiction\": \"MECHANICAL ENGINEERING; LIGHTING; HEATING; WEAPONS; BLASTING\"}, {\"classifaiction\": \"WEAPONS\"}, {\"classifaiction\": \"ARMOUR; ARMOURED TURRETS; ARMOURED OR ARMED VEHICLES; MEANS OF ATTACK OR DEFENCE, e.g. CAMOUFLAGE, IN GENERAL\"}, {\"classifaiction\": \"Armoured or armed vehicles\"}, {\"classifaiction\": \"Unmanned ground vehicles, i.e. robotic, remote controlled or autonomous, mobile platforms carrying equipment for performing a military or police role, e.g. weapon systems or reconnaissance sensors\"}, {\"classifaiction\": \"PHYSICS\"}, {\"classifaiction\": \"COMPUTING; CALCULATING; COUNTING\"}, {\"classifaiction\": \"DATA PROCESSING SYSTEMS OR METHODS, SPECIALLY ADAPTED FOR ADMINISTRATIVE, COMMERCIAL, FINANCIAL, MANAGERIAL, SUPERVISORY OR FORECASTING PURPOSES; SYSTEMS OR METHODS SPECIALLY ADAPTED FOR ADMINISTRATIVE, COMMERCIAL, FINANCIAL, MANAGERIAL, SUPERVISORY OR FORECASTING PURPOSES, NOT OTHERWISE PROVIDED FOR\"}, {\"classifaiction\": \"Systems or methods specially adapted for specific business sectors, e.g. utilities or tourism\"}, {\"classifaiction\": \"Transportation; Communications\"}, {\"classifaiction\": \"PERFORMING OPERATIONS; TRANSPORTING\"}, {\"classifaiction\": \"SHIPS OR OTHER WATERBORNE VESSELS; RELATED EQUIPMENT\"}, {\"classifaiction\": \"OFFENSIVE OR DEFENSIVE ARRANGEMENTS ON VESSELS; MINE-LAYING; MINE-SWEEPING; SUBMARINES; AIRCRAFT CARRIERS\"}, {\"classifaiction\": \"Underwater vessels, e.g. submarines; Equipment specially adapted therefor\"}, {\"classifaiction\": \"Underwater vessels adapted for special purposes, e.g. unmanned, underwater vessels; Equipment specially adapted therefor, e.g. docking stations\"}, {\"classifaiction\": \"Underwater vessels adapted for special purposes, e.g. unmanned, underwater vessels; Equipment specially adapted therefor, e.g. docking stations unmanned\"}, {\"classifaiction\": \"Underwater vessels adapted for special purposes, e.g. unmanned, underwater vessels; Equipment specially adapted therefor, e.g. docking stations unmanned remotely controlled\"}, {\"classifaiction\": \"PERFORMING OPERATIONS; TRANSPORTING\"}, {\"classifaiction\": \"SHIPS OR OTHER WATERBORNE VESSELS; RELATED EQUIPMENT\"}, {\"classifaiction\": \"OFFENSIVE OR DEFENSIVE ARRANGEMENTS ON VESSELS; MINE-LAYING; MINE-SWEEPING; SUBMARINES; AIRCRAFT CARRIERS\"}, {\"classifaiction\": \"Underwater vessels, e.g. submarines; Equipment specially adapted therefor\"}, {\"classifaiction\": \"Underwater vessels adapted for special purposes, e.g. unmanned, underwater vessels; Equipment specially adapted therefor, e.g. docking stations\"}, {\"classifaiction\": \"PERFORMING OPERATIONS; TRANSPORTING\"}, {\"classifaiction\": \"AIRCRAFT; AVIATION; COSMONAUTICS\"}, {\"classifaiction\": \"AEROPLANES; HELICOPTERS\"}, {\"classifaiction\": \"Modular constructions of airplanes or helicopters\"}, {\"classifaiction\": \"PHYSICS\"}, {\"classifaiction\": \"COMPUTING; CALCULATING; COUNTING\"}, {\"classifaiction\": \"ELECTRIC DIGITAL DATA PROCESSING\"}, {\"classifaiction\": \"Arrangements for program control, e.g. control units\"}, {\"classifaiction\": \"Arrangements for program control, e.g. control units using stored programs, i.e. using an internal store of processing equipment to receive or retain programs\"}, {\"classifaiction\": \"Arrangements for executing specific programs\"}, {\"classifaiction\": \"Bootstrapping\"}, {\"classifaiction\": \"Configuring for operating with peripheral devices; Loading of device drivers\"}]',\n",
       " 'url': 'https://patents.google.com/patent/US9389611B2',\n",
       " 'patent': 'US9389611B2'}"
      ]
     },
     "execution_count": 2,
     "metadata": {},
     "output_type": "execute_result"
    }
   ],
   "source": [
    "\n",
    "patent_1_parsed"
   ]
  },
  {
   "cell_type": "code",
   "execution_count": 4,
   "metadata": {},
   "outputs": [
    {
     "name": "stdout",
     "output_type": "stream",
     "text": [
      "[]\n"
     ]
    }
   ],
   "source": [
    "print(([{'inventor_name':x.get_text()} for x in soup_1.select(\".title\",limit = 30)]))"
   ]
  },
  {
   "cell_type": "code",
   "execution_count": 7,
   "metadata": {},
   "outputs": [
    {
     "ename": "AttributeError",
     "evalue": "'NavigableString' object has no attribute 'get_text'",
     "output_type": "error",
     "traceback": [
      "\u001b[0;31m---------------------------------------------------------------------------\u001b[0m",
      "\u001b[0;31mAttributeError\u001b[0m                            Traceback (most recent call last)",
      "\u001b[0;32m<ipython-input-7-bc9fea6a8658>\u001b[0m in \u001b[0;36m<module>\u001b[0;34m\u001b[0m\n\u001b[0;32m----> 1\u001b[0;31m \u001b[0mprint\u001b[0m\u001b[0;34m(\u001b[0m\u001b[0;34m[\u001b[0m\u001b[0;34m{\u001b[0m\u001b[0;34m'inventor_name'\u001b[0m\u001b[0;34m:\u001b[0m\u001b[0mx\u001b[0m\u001b[0;34m.\u001b[0m\u001b[0mget_text\u001b[0m\u001b[0;34m(\u001b[0m\u001b[0;34m)\u001b[0m\u001b[0;34m}\u001b[0m \u001b[0;32mfor\u001b[0m \u001b[0mx\u001b[0m \u001b[0;32min\u001b[0m \u001b[0msoup_1\u001b[0m\u001b[0;34m.\u001b[0m\u001b[0mfind\u001b[0m\u001b[0;34m(\u001b[0m\u001b[0;34m'title'\u001b[0m\u001b[0;34m)\u001b[0m\u001b[0;34m]\u001b[0m\u001b[0;34m)\u001b[0m\u001b[0;34m\u001b[0m\u001b[0;34m\u001b[0m\u001b[0m\n\u001b[0m",
      "\u001b[0;32m<ipython-input-7-bc9fea6a8658>\u001b[0m in \u001b[0;36m<listcomp>\u001b[0;34m(.0)\u001b[0m\n\u001b[0;32m----> 1\u001b[0;31m \u001b[0mprint\u001b[0m\u001b[0;34m(\u001b[0m\u001b[0;34m[\u001b[0m\u001b[0;34m{\u001b[0m\u001b[0;34m'inventor_name'\u001b[0m\u001b[0;34m:\u001b[0m\u001b[0mx\u001b[0m\u001b[0;34m.\u001b[0m\u001b[0mget_text\u001b[0m\u001b[0;34m(\u001b[0m\u001b[0;34m)\u001b[0m\u001b[0;34m}\u001b[0m \u001b[0;32mfor\u001b[0m \u001b[0mx\u001b[0m \u001b[0;32min\u001b[0m \u001b[0msoup_1\u001b[0m\u001b[0;34m.\u001b[0m\u001b[0mfind\u001b[0m\u001b[0;34m(\u001b[0m\u001b[0;34m'title'\u001b[0m\u001b[0;34m)\u001b[0m\u001b[0;34m]\u001b[0m\u001b[0;34m)\u001b[0m\u001b[0;34m\u001b[0m\u001b[0;34m\u001b[0m\u001b[0m\n\u001b[0m",
      "\u001b[0;32m~/anaconda3/envs/tensorflow/lib/python3.6/site-packages/bs4/element.py\u001b[0m in \u001b[0;36m__getattr__\u001b[0;34m(self, attr)\u001b[0m\n\u001b[1;32m    869\u001b[0m             raise AttributeError(\n\u001b[1;32m    870\u001b[0m                 \"'%s' object has no attribute '%s'\" % (\n\u001b[0;32m--> 871\u001b[0;31m                     self.__class__.__name__, attr))\n\u001b[0m\u001b[1;32m    872\u001b[0m \u001b[0;34m\u001b[0m\u001b[0m\n\u001b[1;32m    873\u001b[0m     \u001b[0;32mdef\u001b[0m \u001b[0moutput_ready\u001b[0m\u001b[0;34m(\u001b[0m\u001b[0mself\u001b[0m\u001b[0;34m,\u001b[0m \u001b[0mformatter\u001b[0m\u001b[0;34m=\u001b[0m\u001b[0;34m\"minimal\"\u001b[0m\u001b[0;34m)\u001b[0m\u001b[0;34m:\u001b[0m\u001b[0;34m\u001b[0m\u001b[0;34m\u001b[0m\u001b[0m\n",
      "\u001b[0;31mAttributeError\u001b[0m: 'NavigableString' object has no attribute 'get_text'"
     ]
    }
   ],
   "source": [
    "print([{'inventor_name':x.get_text()} for x in soup_1.find('title')])"
   ]
  },
  {
   "cell_type": "code",
   "execution_count": null,
   "metadata": {},
   "outputs": [],
   "source": [
    "<span class=\"description style-scope classification-tree\">Control of position, course or altitude of land, water, air, or space vehicles, e.g. automatic pilot associated with a remote control arrangement</span>"
   ]
  },
  {
   "cell_type": "raw",
   "metadata": {},
   "source": [
    "print(soup_1.find('title'))"
   ]
  },
  {
   "cell_type": "code",
   "execution_count": 19,
   "metadata": {},
   "outputs": [
    {
     "ename": "SyntaxError",
     "evalue": "can't use starred expression here (<ipython-input-19-eaa3da37cc54>, line 4)",
     "output_type": "error",
     "traceback": [
      "\u001b[0;36m  File \u001b[0;32m\"<ipython-input-19-eaa3da37cc54>\"\u001b[0;36m, line \u001b[0;32m4\u001b[0m\n\u001b[0;31mSyntaxError\u001b[0m\u001b[0;31m:\u001b[0m can't use starred expression here\n"
     ]
    }
   ],
   "source": [
    "*(soup_1.select(\".abstract\")).get_text()"
   ]
  },
  {
   "cell_type": "code",
   "execution_count": 4,
   "metadata": {},
   "outputs": [
    {
     "name": "stdout",
     "output_type": "stream",
     "text": [
      "US9389611B2 - Adaptative platform for unmanned defense vehicles \n",
      "        - Google Patents\n"
     ]
    }
   ],
   "source": [
    "print(soup_1.find('title').get_text())"
   ]
  },
  {
   "cell_type": "code",
   "execution_count": null,
   "metadata": {},
   "outputs": [],
   "source": []
  },
  {
   "cell_type": "raw",
   "metadata": {},
   "source": []
  },
  {
   "cell_type": "raw",
   "metadata": {},
   "source": []
  }
 ],
 "metadata": {
  "kernelspec": {
   "display_name": "Python 3",
   "language": "python",
   "name": "python3"
  },
  "language_info": {
   "codemirror_mode": {
    "name": "ipython",
    "version": 3
   },
   "file_extension": ".py",
   "mimetype": "text/x-python",
   "name": "python",
   "nbconvert_exporter": "python",
   "pygments_lexer": "ipython3",
   "version": "3.6.9"
  }
 },
 "nbformat": 4,
 "nbformat_minor": 4
}
