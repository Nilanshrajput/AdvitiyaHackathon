{
 "cells": [
  {
   "cell_type": "code",
   "execution_count": 56,
   "metadata": {},
   "outputs": [
    {
     "name": "stdout",
     "output_type": "stream",
     "text": [
      "https://patents.google.com/patent/US2668287A\n",
      "https://patents.google.com/patent/US266827A\n",
      "Patent inventor : Luis W Alvarez\n"
     ]
    }
   ],
   "source": [
    "# ~ Import packages ~ #\n",
    "from google_patent_scrapper import scraper_class\n",
    "import json\n",
    "\n",
    "# ~ Initialize scraper class ~ #\n",
    "scraper=scraper_class()\n",
    "\n",
    "# ~ Add patents to list ~ #\n",
    "scraper.add_patents('US2668287A')\n",
    "scraper.add_patents('US266827A')\n",
    "\n",
    "# ~ Scrape all patents ~ #\n",
    "scraper.scrape_all_patents()\n",
    "\n",
    "# ~ Get results of scrape ~ #\n",
    "patent_1_parsed = scraper.parsed_patents['US2668287A']\n",
    "patent_2_parsed = scraper.parsed_patents['US266827A']\n",
    "\n",
    "# ~ Print inventors of patent US2668287A ~ #\n",
    "for inventor in json.loads(patent_1_parsed['inventor_name']):\n",
    "  print('Patent inventor : {0}'.format(inventor['inventor_name']))"
   ]
  },
  {
   "cell_type": "code",
   "execution_count": 5,
   "metadata": {},
   "outputs": [
    {
     "name": "stdout",
     "output_type": "stream",
     "text": [
      "https://patents.google.com/patent/US9389611B2\n",
      "https://patents.google.com/patent/US266827A\n"
     ]
    }
   ],
   "source": [
    "# ~ Import packages ~ #\n",
    "from google_patent_scrapper import scraper_class\n",
    "\n",
    "# ~ Initialize scraper class ~ #\n",
    "scraper=scraper_class() \n",
    "\n",
    "# ~~ Scrape patents individually ~~ #\n",
    "patent_1 = 'US9389611B2'\n",
    "patent_2 = 'US266827A'\n",
    "err_1, soup_1, url_1 = scraper.request_single_patent(patent_1)\n",
    "err_2, soup_2, url_2 = scraper.request_single_patent(patent_2)\n",
    "\n",
    "# ~ Parse results of scrape ~ #\n",
    "patent_1_parsed = scraper.get_scraped_data(soup_1,patent_1,url_1)\n",
    "patent_2_parsed = scraper.get_scraped_data(soup_2,patent_2,url_2)"
   ]
  },
  {
   "cell_type": "code",
   "execution_count": 2,
   "metadata": {},
   "outputs": [
    {
     "data": {
      "text/plain": [
       "{'title': '[]',\n",
       " 'abstract': '[]',\n",
       " 'inventor_name': '[{\"inventor_name\": \"David Ryan ERICKSON\"}, {\"inventor_name\": \"Matthew WJ CEH\"}, {\"inventor_name\": \"Dale Anderson\"}]',\n",
       " 'assignee_name_orig': '[{\"assignee_name\": \"Canada Minister of National Defence \"}]',\n",
       " 'assignee_name_current': '[{\"assignee_name\": \"\\\\n    Canada Minister of National Defence \\\\n  \"}]',\n",
       " 'pub_date': '2015-10-22',\n",
       " 'priority_date': '2012-04-11',\n",
       " 'grant_date': '2016-07-12',\n",
       " 'filing_date': '',\n",
       " 'forward_cite_no_family': '[{\"patent_number\": \"US20170168810A1\", \"priority_date\": \"2015-12-11\", \"pub_date\": \"2017-06-15\"}]',\n",
       " 'forward_cite_yes_family': '[{\"patent_number\": \"US9579797B2\", \"priority_date\": \"2014-04-10\", \"pub_date\": \"2017-02-28\"}, {\"patent_number\": \"US10500955B2\", \"priority_date\": \"2014-12-30\", \"pub_date\": \"2019-12-10\"}, {\"patent_number\": \"DE102015216272A1\", \"priority_date\": \"2015-08-26\", \"pub_date\": \"2017-03-02\"}]',\n",
       " 'backward_cite_no_family': '[{\"patent_number\": \"US4621562A\", \"priority_date\": \"1983-05-31\", \"pub_date\": \"1986-11-11\"}, {\"patent_number\": \"US20040216932A1\", \"priority_date\": \"2001-07-09\", \"pub_date\": \"2004-11-04\"}, {\"patent_number\": \"US20040168837A1\", \"priority_date\": \"2002-11-27\", \"pub_date\": \"2004-09-02\"}, {\"patent_number\": \"US20060237239A1\", \"priority_date\": \"2005-04-23\", \"pub_date\": \"2006-10-26\"}, {\"patent_number\": \"US20080017426A1\", \"priority_date\": \"2006-03-23\", \"pub_date\": \"2008-01-24\"}, {\"patent_number\": \"WO2008060689A2\", \"priority_date\": \"2006-10-06\", \"pub_date\": \"2008-05-22\"}, {\"patent_number\": \"US20100275472A1\", \"priority_date\": \"2009-04-07\", \"pub_date\": \"2010-11-04\"}, {\"patent_number\": \"US20110190933A1\", \"priority_date\": \"2010-01-29\", \"pub_date\": \"2011-08-04\"}, {\"patent_number\": \"US20110301786A1\", \"priority_date\": \"2010-05-12\", \"pub_date\": \"2011-12-08\"}]',\n",
       " 'backward_cite_yes_family': '[]',\n",
       " 'url': 'https://patents.google.com/patent/US9389611B2',\n",
       " 'patent': 'US9389611B2'}"
      ]
     },
     "execution_count": 2,
     "metadata": {},
     "output_type": "execute_result"
    }
   ],
   "source": [
    "\n",
    "patent_1_parsed"
   ]
  },
  {
   "cell_type": "code",
   "execution_count": 22,
   "metadata": {},
   "outputs": [
    {
     "name": "stdout",
     "output_type": "stream",
     "text": [
      "[]\n"
     ]
    }
   ],
   "source": [
    "print([{'inventor_name':x.get_text()} for x in soup_1.select(\"[class~=title]\")])"
   ]
  },
  {
   "cell_type": "code",
   "execution_count": 6,
   "metadata": {},
   "outputs": [
    {
     "data": {
      "text/plain": [
       "[]"
      ]
     },
     "execution_count": 6,
     "metadata": {},
     "output_type": "execute_result"
    }
   ],
   "source": [
    ".soup_1.find_all('abstract',itemprop='content')"
   ]
  },
  {
   "cell_type": "code",
   "execution_count": null,
   "metadata": {},
   "outputs": [],
   "source": [
    "so"
   ]
  },
  {
   "cell_type": "raw",
   "metadata": {},
   "source": []
  },
  {
   "cell_type": "code",
   "execution_count": 19,
   "metadata": {},
   "outputs": [
    {
     "ename": "SyntaxError",
     "evalue": "can't use starred expression here (<ipython-input-19-eaa3da37cc54>, line 4)",
     "output_type": "error",
     "traceback": [
      "\u001b[0;36m  File \u001b[0;32m\"<ipython-input-19-eaa3da37cc54>\"\u001b[0;36m, line \u001b[0;32m4\u001b[0m\n\u001b[0;31mSyntaxError\u001b[0m\u001b[0;31m:\u001b[0m can't use starred expression here\n"
     ]
    }
   ],
   "source": [
    "*(soup_1.select(\".abstract\")).get_text()"
   ]
  },
  {
   "cell_type": "code",
   "execution_count": null,
   "metadata": {},
   "outputs": [],
   "source": []
  },
  {
   "cell_type": "code",
   "execution_count": null,
   "metadata": {},
   "outputs": [],
   "source": []
  },
  {
   "cell_type": "raw",
   "metadata": {},
   "source": []
  },
  {
   "cell_type": "raw",
   "metadata": {},
   "source": []
  }
 ],
 "metadata": {
  "kernelspec": {
   "display_name": "Python 3",
   "language": "python",
   "name": "python3"
  },
  "language_info": {
   "codemirror_mode": {
    "name": "ipython",
    "version": 3
   },
   "file_extension": ".py",
   "mimetype": "text/x-python",
   "name": "python",
   "nbconvert_exporter": "python",
   "pygments_lexer": "ipython3",
   "version": "3.6.9"
  }
 },
 "nbformat": 4,
 "nbformat_minor": 4
}
