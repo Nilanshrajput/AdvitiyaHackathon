{
 "cells": [
  {
   "cell_type": "code",
   "execution_count": null,
   "metadata": {},
   "outputs": [],
   "source": [
    "from fastai.text import * \n",
    "import pandas as pd\n",
    "import re \n",
    "import matplotlib.pyplot as plt"
   ]
  },
  {
   "cell_type": "code",
   "execution_count": null,
   "metadata": {},
   "outputs": [],
   "source": [
    "# Language model data\n",
    "data_lm = TextLMDataBunch.from_csv(path, 'texts.csv')\n",
    "# Classifier model data\n",
    "data_clas = TextClasDataBunch.from_csv(path, 'texts.csv', vocab=data_lm.train_ds.vocab, bs=32)"
   ]
  },
  {
   "cell_type": "code",
   "execution_count": 1,
   "metadata": {},
   "outputs": [
    {
     "name": "stdout",
     "output_type": "stream",
     "text": [
      "https://patents.google.com/patent/US9389611B2\n",
      "https://patents.google.com/patent/US266827A\n"
     ]
    }
   ],
   "source": [
    "# ~ Import packages ~ #\n",
    "from google_patent_scrapper import scraper_class\n",
    "\n",
    "# ~ Initialize scraper class ~ #\n",
    "scraper=scraper_class() \n",
    "\n",
    "# ~~ Scrape patents individually ~~ #\n",
    "patent_1 = 'US9389611B2'\n",
    "patent_2 = 'US266827A'\n",
    "err_1, soup_1, url_1 = scraper.request_single_patent(patent_1)\n",
    "err_2, soup_2, url_2 = scraper.request_single_patent(patent_2)\n",
    "\n",
    "# ~ Parse results of scrape ~ #\n",
    "patent_1_parsed = scraper.get_scraped_data(soup_1,patent_1,url_1)\n",
    "patent_2_parsed = scraper.get_scraped_data(soup_2,patent_2,url_2)"
   ]
  },
  {
   "cell_type": "code",
   "execution_count": null,
   "metadata": {},
   "outputs": [],
   "source": []
  },
  {
   "cell_type": "code",
   "execution_count": 5,
   "metadata": {},
   "outputs": [],
   "source": [
    "soup_1\n",
    "with open(\"output1.txt\", \"w\") as file:\n",
    "    file.write(str(soup_1))"
   ]
  },
  {
   "cell_type": "code",
   "execution_count": null,
   "metadata": {},
   "outputs": [],
   "source": []
  }
 ],
 "metadata": {
  "kernelspec": {
   "display_name": "Python 3",
   "language": "python",
   "name": "python3"
  },
  "language_info": {
   "codemirror_mode": {
    "name": "ipython",
    "version": 3
   },
   "file_extension": ".py",
   "mimetype": "text/x-python",
   "name": "python",
   "nbconvert_exporter": "python",
   "pygments_lexer": "ipython3",
   "version": "3.6.9"
  }
 },
 "nbformat": 4,
 "nbformat_minor": 4
}
