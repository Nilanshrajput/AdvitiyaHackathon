{
 "cells": [
  {
   "cell_type": "code",
   "execution_count": 52,
   "metadata": {},
   "outputs": [],
   "source": [
    "import pandas as pd\n",
    "import re "
   ]
  },
  {
   "cell_type": "code",
   "execution_count": 50,
   "metadata": {},
   "outputs": [],
   "source": [
    "dataCsv = pd.read_csv(\"data.csv\", index_col=0)"
   ]
  },
  {
   "cell_type": "code",
   "execution_count": 51,
   "metadata": {},
   "outputs": [
    {
     "data": {
      "text/html": [
       "<div>\n",
       "<style scoped>\n",
       "    .dataframe tbody tr th:only-of-type {\n",
       "        vertical-align: middle;\n",
       "    }\n",
       "\n",
       "    .dataframe tbody tr th {\n",
       "        vertical-align: top;\n",
       "    }\n",
       "\n",
       "    .dataframe thead th {\n",
       "        text-align: right;\n",
       "    }\n",
       "</style>\n",
       "<table border=\"1\" class=\"dataframe\">\n",
       "  <thead>\n",
       "    <tr style=\"text-align: right;\">\n",
       "      <th></th>\n",
       "      <th>Publication number</th>\n",
       "      <th>Category</th>\n",
       "      <th>Publication number.1</th>\n",
       "      <th>Category.1</th>\n",
       "      <th>Publication number.2</th>\n",
       "      <th>Category.2</th>\n",
       "      <th>Publication number.3</th>\n",
       "      <th>Category.3</th>\n",
       "    </tr>\n",
       "  </thead>\n",
       "  <tbody>\n",
       "    <tr>\n",
       "      <th>0</th>\n",
       "      <td>US9040302B2</td>\n",
       "      <td>Non-Alcohol</td>\n",
       "      <td>US9012694B2</td>\n",
       "      <td>Alcohol</td>\n",
       "      <td>US9277674B2</td>\n",
       "      <td>Non-Autonomous Vehicles</td>\n",
       "      <td>US9646356B1</td>\n",
       "      <td>Autonomous Vehicles</td>\n",
       "    </tr>\n",
       "    <tr>\n",
       "      <th>1</th>\n",
       "      <td>US9040109B2</td>\n",
       "      <td>Non-Alcohol</td>\n",
       "      <td>US9012188B2</td>\n",
       "      <td>Alcohol</td>\n",
       "      <td>US9277385B2</td>\n",
       "      <td>Non-Autonomous Vehicles</td>\n",
       "      <td>US9645576B2</td>\n",
       "      <td>Autonomous Vehicles</td>\n",
       "    </tr>\n",
       "    <tr>\n",
       "      <th>2</th>\n",
       "      <td>US9040107B2</td>\n",
       "      <td>Non-Alcohol</td>\n",
       "      <td>US9010952B2</td>\n",
       "      <td>Alcohol</td>\n",
       "      <td>US9277311B2</td>\n",
       "      <td>Non-Autonomous Vehicles</td>\n",
       "      <td>US9622452B2</td>\n",
       "      <td>Autonomous Vehicles</td>\n",
       "    </tr>\n",
       "    <tr>\n",
       "      <th>3</th>\n",
       "      <td>US9040036B2</td>\n",
       "      <td>Non-Alcohol</td>\n",
       "      <td>US8987530B2</td>\n",
       "      <td>Alcohol</td>\n",
       "      <td>US9277191B2</td>\n",
       "      <td>Non-Autonomous Vehicles</td>\n",
       "      <td>US9599482B2</td>\n",
       "      <td>Autonomous Vehicles</td>\n",
       "    </tr>\n",
       "    <tr>\n",
       "      <th>4</th>\n",
       "      <td>US9038991B2</td>\n",
       "      <td>Non-Alcohol</td>\n",
       "      <td>US8981165B2</td>\n",
       "      <td>Alcohol</td>\n",
       "      <td>US9276431B2</td>\n",
       "      <td>Non-Autonomous Vehicles</td>\n",
       "      <td>US9598078B2</td>\n",
       "      <td>Autonomous Vehicles</td>\n",
       "    </tr>\n",
       "  </tbody>\n",
       "</table>\n",
       "</div>"
      ],
      "text/plain": [
       "  Publication number     Category Publication number.1 Category.1  \\\n",
       "0        US9040302B2  Non-Alcohol          US9012694B2    Alcohol   \n",
       "1        US9040109B2  Non-Alcohol          US9012188B2    Alcohol   \n",
       "2        US9040107B2  Non-Alcohol          US9010952B2    Alcohol   \n",
       "3        US9040036B2  Non-Alcohol          US8987530B2    Alcohol   \n",
       "4        US9038991B2  Non-Alcohol          US8981165B2    Alcohol   \n",
       "\n",
       "  Publication number.2               Category.2 Publication number.3  \\\n",
       "0          US9277674B2  Non-Autonomous Vehicles          US9646356B1   \n",
       "1          US9277385B2  Non-Autonomous Vehicles          US9645576B2   \n",
       "2          US9277311B2  Non-Autonomous Vehicles          US9622452B2   \n",
       "3          US9277191B2  Non-Autonomous Vehicles          US9599482B2   \n",
       "4          US9276431B2  Non-Autonomous Vehicles          US9598078B2   \n",
       "\n",
       "            Category.3  \n",
       "0  Autonomous Vehicles  \n",
       "1  Autonomous Vehicles  \n",
       "2  Autonomous Vehicles  \n",
       "3  Autonomous Vehicles  \n",
       "4  Autonomous Vehicles  "
      ]
     },
     "execution_count": 51,
     "metadata": {},
     "output_type": "execute_result"
    }
   ],
   "source": [
    "dataCsv.head()"
   ]
  },
  {
   "cell_type": "code",
   "execution_count": 47,
   "metadata": {},
   "outputs": [],
   "source": [
    "dataCsv.iloc[:,[1,3,5,7]]=[\"Non-Alcohol\",\"Alcohol\", \"Non-Autonomous Vehicles\",\"Autonomous Vehicles\"]"
   ]
  },
  {
   "cell_type": "code",
   "execution_count": 39,
   "metadata": {},
   "outputs": [
    {
     "data": {
      "text/plain": [
       "'\\nnew_header = dataCsv.iloc[0] #grab the first row for the header\\ndataCsv = dataCsv[1:] #take the data less the header row\\ndataCsv.columns = new_header\\n'"
      ]
     },
     "execution_count": 39,
     "metadata": {},
     "output_type": "execute_result"
    }
   ],
   "source": [
    "\n",
    "# remove unnammed columns\n",
    "dataCsv = dataCsv.loc[:, ~dataCsv.columns.str.contains('^Unnamed')]\n",
    "\"\"\"\n",
    "new_header = dataCsv.iloc[0] #grab the first row for the header\n",
    "dataCsv = dataCsv[1:] #take the data less the header row\n",
    "dataCsv.columns = new_header\n",
    "\"\"\"\n"
   ]
  },
  {
   "cell_type": "code",
   "execution_count": 53,
   "metadata": {},
   "outputs": [
    {
     "data": {
      "text/html": [
       "<div>\n",
       "<style scoped>\n",
       "    .dataframe tbody tr th:only-of-type {\n",
       "        vertical-align: middle;\n",
       "    }\n",
       "\n",
       "    .dataframe tbody tr th {\n",
       "        vertical-align: top;\n",
       "    }\n",
       "\n",
       "    .dataframe thead th {\n",
       "        text-align: right;\n",
       "    }\n",
       "</style>\n",
       "<table border=\"1\" class=\"dataframe\">\n",
       "  <thead>\n",
       "    <tr style=\"text-align: right;\">\n",
       "      <th></th>\n",
       "      <th>Publication number</th>\n",
       "      <th>Category</th>\n",
       "      <th>Publication number.1</th>\n",
       "      <th>Category.1</th>\n",
       "      <th>Publication number.2</th>\n",
       "      <th>Category.2</th>\n",
       "      <th>Publication number.3</th>\n",
       "      <th>Category.3</th>\n",
       "    </tr>\n",
       "  </thead>\n",
       "  <tbody>\n",
       "    <tr>\n",
       "      <th>295</th>\n",
       "      <td>WO2015032008A1</td>\n",
       "      <td>Non-Alcohol</td>\n",
       "      <td>US20160176589A1</td>\n",
       "      <td>Alcohol</td>\n",
       "      <td>CN103354991B</td>\n",
       "      <td>Non-Autonomous Vehicles</td>\n",
       "      <td>CN103281742B</td>\n",
       "      <td>Autonomous Vehicles</td>\n",
       "    </tr>\n",
       "    <tr>\n",
       "      <th>296</th>\n",
       "      <td>WO2015031940A1</td>\n",
       "      <td>Non-Alcohol</td>\n",
       "      <td>US20160175783A1</td>\n",
       "      <td>Alcohol</td>\n",
       "      <td>US9257926B2</td>\n",
       "      <td>Non-Autonomous Vehicles</td>\n",
       "      <td>CN102806912B</td>\n",
       "      <td>Autonomous Vehicles</td>\n",
       "    </tr>\n",
       "    <tr>\n",
       "      <th>297</th>\n",
       "      <td>WO2015003995A3</td>\n",
       "      <td>Non-Alcohol</td>\n",
       "      <td>US20160175782A1</td>\n",
       "      <td>Alcohol</td>\n",
       "      <td>US9257918B2</td>\n",
       "      <td>Non-Autonomous Vehicles</td>\n",
       "      <td>CN206091477U</td>\n",
       "      <td>Autonomous Vehicles</td>\n",
       "    </tr>\n",
       "    <tr>\n",
       "      <th>298</th>\n",
       "      <td>WO2014201037A3</td>\n",
       "      <td>Non-Alcohol</td>\n",
       "      <td>US20160175781A1</td>\n",
       "      <td>Alcohol</td>\n",
       "      <td>US9257867B2</td>\n",
       "      <td>Non-Autonomous Vehicles</td>\n",
       "      <td>EP2544928B1</td>\n",
       "      <td>Autonomous Vehicles</td>\n",
       "    </tr>\n",
       "    <tr>\n",
       "      <th>299</th>\n",
       "      <td>WO2015031637A1</td>\n",
       "      <td>Non-Alcohol</td>\n",
       "      <td>US20160145551A1</td>\n",
       "      <td>Alcohol</td>\n",
       "      <td>US9257832B2</td>\n",
       "      <td>Non-Autonomous Vehicles</td>\n",
       "      <td>EP2758295B1</td>\n",
       "      <td>Autonomous Vehicles</td>\n",
       "    </tr>\n",
       "  </tbody>\n",
       "</table>\n",
       "</div>"
      ],
      "text/plain": [
       "    Publication number     Category Publication number.1 Category.1  \\\n",
       "295     WO2015032008A1  Non-Alcohol      US20160176589A1    Alcohol   \n",
       "296     WO2015031940A1  Non-Alcohol      US20160175783A1    Alcohol   \n",
       "297     WO2015003995A3  Non-Alcohol      US20160175782A1    Alcohol   \n",
       "298     WO2014201037A3  Non-Alcohol      US20160175781A1    Alcohol   \n",
       "299     WO2015031637A1  Non-Alcohol      US20160145551A1    Alcohol   \n",
       "\n",
       "    Publication number.2               Category.2 Publication number.3  \\\n",
       "295         CN103354991B  Non-Autonomous Vehicles         CN103281742B   \n",
       "296          US9257926B2  Non-Autonomous Vehicles         CN102806912B   \n",
       "297          US9257918B2  Non-Autonomous Vehicles         CN206091477U   \n",
       "298          US9257867B2  Non-Autonomous Vehicles          EP2544928B1   \n",
       "299          US9257832B2  Non-Autonomous Vehicles          EP2758295B1   \n",
       "\n",
       "              Category.3  \n",
       "295  Autonomous Vehicles  \n",
       "296  Autonomous Vehicles  \n",
       "297  Autonomous Vehicles  \n",
       "298  Autonomous Vehicles  \n",
       "299  Autonomous Vehicles  "
      ]
     },
     "execution_count": 53,
     "metadata": {},
     "output_type": "execute_result"
    }
   ],
   "source": [
    "dataCsv.tail()"
   ]
  },
  {
   "cell_type": "code",
   "execution_count": 49,
   "metadata": {},
   "outputs": [],
   "source": [
    "dataCsv.to_csv(\"data.csv\")"
   ]
  },
  {
   "cell_type": "markdown",
   "metadata": {},
   "source": [
    "###############################\n",
    "############  EDA  ############\n",
    "###############################"
   ]
  },
  {
   "cell_type": "code",
   "execution_count": 58,
   "metadata": {},
   "outputs": [
    {
     "name": "stdout",
     "output_type": "stream",
     "text": [
      "3 4 5\n"
     ]
    }
   ],
   "source": [
    "\n",
    "# Function to extract all the numbers from the given string \n",
    "def getNumber(str): \n",
    "    array = re.findall(r'[0-9]+', str) \n",
    "    return array[0] \n",
    "  \n",
    "# Driver code \n",
    "str = \"adbv345hj43hvb42\"\n",
    "array = getNumber(str) \n",
    "print(*array) \n",
    "\n",
    "centerintData.iloc[:,i] = dataCsv.iloc[:,[0,2,4,6]].apply(lambda x : getNumber(x))\n",
    "\n"
   ]
  },
  {
   "cell_type": "code",
   "execution_count": 59,
   "metadata": {},
   "outputs": [
    {
     "data": {
      "text/plain": [
       "(300, 8)"
      ]
     },
     "execution_count": 59,
     "metadata": {},
     "output_type": "execute_result"
    }
   ],
   "source": [
    "centerintData.shape"
   ]
  },
  {
   "cell_type": "code",
   "execution_count": 60,
   "metadata": {},
   "outputs": [
    {
     "data": {
      "text/html": [
       "<div>\n",
       "<style scoped>\n",
       "    .dataframe tbody tr th:only-of-type {\n",
       "        vertical-align: middle;\n",
       "    }\n",
       "\n",
       "    .dataframe tbody tr th {\n",
       "        vertical-align: top;\n",
       "    }\n",
       "\n",
       "    .dataframe thead th {\n",
       "        text-align: right;\n",
       "    }\n",
       "</style>\n",
       "<table border=\"1\" class=\"dataframe\">\n",
       "  <thead>\n",
       "    <tr style=\"text-align: right;\">\n",
       "      <th></th>\n",
       "      <th>Publication number</th>\n",
       "      <th>Category</th>\n",
       "      <th>Publication number.1</th>\n",
       "      <th>Category.1</th>\n",
       "      <th>Publication number.2</th>\n",
       "      <th>Category.2</th>\n",
       "      <th>Publication number.3</th>\n",
       "      <th>Category.3</th>\n",
       "    </tr>\n",
       "  </thead>\n",
       "  <tbody>\n",
       "    <tr>\n",
       "      <th>0</th>\n",
       "      <td>9040302</td>\n",
       "      <td>Non-Alcohol</td>\n",
       "      <td>9012694</td>\n",
       "      <td>Alcohol</td>\n",
       "      <td>9277674</td>\n",
       "      <td>Non-Autonomous Vehicles</td>\n",
       "      <td>9646356</td>\n",
       "      <td>Autonomous Vehicles</td>\n",
       "    </tr>\n",
       "    <tr>\n",
       "      <th>1</th>\n",
       "      <td>9040109</td>\n",
       "      <td>Non-Alcohol</td>\n",
       "      <td>9012188</td>\n",
       "      <td>Alcohol</td>\n",
       "      <td>9277385</td>\n",
       "      <td>Non-Autonomous Vehicles</td>\n",
       "      <td>9645576</td>\n",
       "      <td>Autonomous Vehicles</td>\n",
       "    </tr>\n",
       "    <tr>\n",
       "      <th>2</th>\n",
       "      <td>9040107</td>\n",
       "      <td>Non-Alcohol</td>\n",
       "      <td>9010952</td>\n",
       "      <td>Alcohol</td>\n",
       "      <td>9277311</td>\n",
       "      <td>Non-Autonomous Vehicles</td>\n",
       "      <td>9622452</td>\n",
       "      <td>Autonomous Vehicles</td>\n",
       "    </tr>\n",
       "    <tr>\n",
       "      <th>3</th>\n",
       "      <td>9040036</td>\n",
       "      <td>Non-Alcohol</td>\n",
       "      <td>8987530</td>\n",
       "      <td>Alcohol</td>\n",
       "      <td>9277191</td>\n",
       "      <td>Non-Autonomous Vehicles</td>\n",
       "      <td>9599482</td>\n",
       "      <td>Autonomous Vehicles</td>\n",
       "    </tr>\n",
       "    <tr>\n",
       "      <th>4</th>\n",
       "      <td>9038991</td>\n",
       "      <td>Non-Alcohol</td>\n",
       "      <td>8981165</td>\n",
       "      <td>Alcohol</td>\n",
       "      <td>9276431</td>\n",
       "      <td>Non-Autonomous Vehicles</td>\n",
       "      <td>9598078</td>\n",
       "      <td>Autonomous Vehicles</td>\n",
       "    </tr>\n",
       "  </tbody>\n",
       "</table>\n",
       "</div>"
      ],
      "text/plain": [
       "  Publication number     Category Publication number.1 Category.1  \\\n",
       "0            9040302  Non-Alcohol              9012694    Alcohol   \n",
       "1            9040109  Non-Alcohol              9012188    Alcohol   \n",
       "2            9040107  Non-Alcohol              9010952    Alcohol   \n",
       "3            9040036  Non-Alcohol              8987530    Alcohol   \n",
       "4            9038991  Non-Alcohol              8981165    Alcohol   \n",
       "\n",
       "  Publication number.2               Category.2 Publication number.3  \\\n",
       "0              9277674  Non-Autonomous Vehicles              9646356   \n",
       "1              9277385  Non-Autonomous Vehicles              9645576   \n",
       "2              9277311  Non-Autonomous Vehicles              9622452   \n",
       "3              9277191  Non-Autonomous Vehicles              9599482   \n",
       "4              9276431  Non-Autonomous Vehicles              9598078   \n",
       "\n",
       "            Category.3  \n",
       "0  Autonomous Vehicles  \n",
       "1  Autonomous Vehicles  \n",
       "2  Autonomous Vehicles  \n",
       "3  Autonomous Vehicles  \n",
       "4  Autonomous Vehicles  "
      ]
     },
     "execution_count": 60,
     "metadata": {},
     "output_type": "execute_result"
    }
   ],
   "source": [
    "centerintData.head()"
   ]
  },
  {
   "cell_type": "code",
   "execution_count": null,
   "metadata": {},
   "outputs": [],
   "source": []
  }
 ],
 "metadata": {
  "kernelspec": {
   "display_name": "Python 3",
   "language": "python",
   "name": "python3"
  },
  "language_info": {
   "codemirror_mode": {
    "name": "ipython",
    "version": 3
   },
   "file_extension": ".py",
   "mimetype": "text/x-python",
   "name": "python",
   "nbconvert_exporter": "python",
   "pygments_lexer": "ipython3",
   "version": "3.6.9"
  }
 },
 "nbformat": 4,
 "nbformat_minor": 4
}
