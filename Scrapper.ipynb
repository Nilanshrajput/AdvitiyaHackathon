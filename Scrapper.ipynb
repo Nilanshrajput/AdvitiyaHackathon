{
 "cells": [
  {
   "cell_type": "code",
   "execution_count": 13,
   "metadata": {},
   "outputs": [
    {
     "ename": "SyntaxError",
     "evalue": "invalid syntax (google_patent_scrapper.py, line 245)",
     "output_type": "error",
     "traceback": [
      "Traceback \u001b[0;36m(most recent call last)\u001b[0m:\n",
      "  File \u001b[1;32m\"/home/nilansh/anaconda3/envs/tensorflow/lib/python3.6/site-packages/IPython/core/interactiveshell.py\"\u001b[0m, line \u001b[1;32m3319\u001b[0m, in \u001b[1;35mrun_code\u001b[0m\n    exec(code_obj, self.user_global_ns, self.user_ns)\n",
      "\u001b[0;36m  File \u001b[0;32m\"<ipython-input-13-2583dc856aba>\"\u001b[0;36m, line \u001b[0;32m2\u001b[0;36m, in \u001b[0;35m<module>\u001b[0;36m\u001b[0m\n\u001b[0;31m    from google_patent_scrapper import scraper_class\u001b[0m\n",
      "\u001b[0;36m  File \u001b[0;32m\"/home/nilansh/Anton/AdvitiyaHackathaon/google_patent_scrapper.py\"\u001b[0;36m, line \u001b[0;32m245\u001b[0m\n\u001b[0;31m    'inventor_name':json.dumps(inventor_name),\u001b[0m\n\u001b[0m                  ^\u001b[0m\n\u001b[0;31mSyntaxError\u001b[0m\u001b[0;31m:\u001b[0m invalid syntax\n"
     ]
    }
   ],
   "source": [
    "# ~ Import packages ~ #\n",
    "from google_patent_scrapper import scraper_class\n",
    "import json\n",
    "\n",
    "# ~ Initialize scraper class ~ #\n",
    "scraper=scraper_class()\n",
    "\n",
    "# ~ Add patents to list ~ #\n",
    "scraper.add_patents('US2668287A')\n",
    "scraper.add_patents('US266827A')\n",
    "\n",
    "# ~ Scrape all patents ~ #\n",
    "scraper.scrape_all_patents()\n",
    "\n",
    "# ~ Get results of scrape ~ #\n",
    "patent_1_parsed = scraper.parsed_patents['US2668287A']\n",
    "patent_2_parsed = scraper.parsed_patents['US266827A']\n",
    "\n",
    "# ~ Print inventors of patent US2668287A ~ #\n",
    "for inventor in json.loads(patent_1_parsed['inventor_name']):\n",
    "  print('Patent inventor : {0}'.format(inventor['inventor_name']))"
   ]
  },
  {
   "cell_type": "code",
   "execution_count": 11,
   "metadata": {},
   "outputs": [],
   "source": [
    "# ~ Import packages ~ #\n",
    "from google_patent_scrapper import scraper_class\n",
    "\n",
    "# ~ Initialize scraper class ~ #\n",
    "scraper=scraper_class() \n",
    "\n",
    "# ~~ Scrape patents individually ~~ #\n",
    "patent_1 = 'US2668287A'\n",
    "patent_2 = 'US266827A'\n",
    "err_1, soup_1, url_1 = scraper.request_single_patent(patent_1)\n",
    "err_2, soup_2, url_2 = scraper.request_single_patent(patent_2)\n",
    "\n",
    "# ~ Parse results of scrape ~ #\n",
    "patent_1_parsed = scraper.get_scraped_data(soup_1,patent_1,url_1)\n",
    "patent_2_parsed = scraper.get_scraped_data(soup_2,patent_2,url_2)"
   ]
  },
  {
   "cell_type": "code",
   "execution_count": 12,
   "metadata": {},
   "outputs": [
    {
     "data": {
      "text/plain": [
       "{'inventor_name': '[{\"inventor_name\": \"Luis W Alvarez\"}]',\n",
       " 'assignee_name_orig': '[{\"assignee_name\": \"Luis W Alvarez\"}]',\n",
       " 'assignee_name_current': '[]',\n",
       " 'pub_date': '1954-02-02',\n",
       " 'priority_date': '1948-06-18',\n",
       " 'grant_date': '1954-02-02',\n",
       " 'filing_date': '',\n",
       " 'forward_cite_no_family': '[{\"patent_number\": \"US3049704A\", \"priority_date\": \"1958-10-31\", \"pub_date\": \"1962-08-14\"}, {\"patent_number\": \"US3089090A\", \"priority_date\": \"1959-06-24\", \"pub_date\": \"1963-05-07\"}]',\n",
       " 'forward_cite_yes_family': '[]',\n",
       " 'backward_cite_no_family': '[{\"patent_number\": \"US1615712A\", \"priority_date\": \"1924-03-07\", \"pub_date\": \"1927-01-25\"}, {\"patent_number\": \"US2405238A\", \"priority_date\": \"1940-04-13\", \"pub_date\": \"1946-08-06\"}, {\"patent_number\": \"US2403600A\", \"priority_date\": \"1941-11-29\", \"pub_date\": \"1946-07-09\"}, {\"patent_number\": \"US2403626A\", \"priority_date\": \"1941-11-29\", \"pub_date\": \"1946-07-09\"}, {\"patent_number\": \"US2441956A\", \"priority_date\": \"1942-08-28\", \"pub_date\": \"1948-05-25\"}, {\"patent_number\": \"US2408048A\", \"priority_date\": \"1942-08-28\", \"pub_date\": \"1946-09-24\"}, {\"patent_number\": \"US2419525A\", \"priority_date\": \"1942-10-08\", \"pub_date\": \"1947-04-29\"}, {\"patent_number\": \"US2444426A\", \"priority_date\": \"1943-10-26\", \"pub_date\": \"1948-07-06\"}, {\"patent_number\": \"US2436376A\", \"priority_date\": \"1944-03-31\", \"pub_date\": \"1948-02-24\"}, {\"patent_number\": \"US2428966A\", \"priority_date\": \"1944-05-08\", \"pub_date\": \"1947-10-14\"}, {\"patent_number\": \"US2508565A\", \"priority_date\": \"1945-09-21\", \"pub_date\": \"1950-05-23\"}, {\"patent_number\": \"US2515464A\", \"priority_date\": \"1947-04-26\", \"pub_date\": \"1950-07-18\"}, {\"patent_number\": \"US2487822A\", \"priority_date\": \"1947-04-30\", \"pub_date\": \"1949-11-15\"}, {\"patent_number\": \"US2514436A\", \"priority_date\": \"1948-06-18\", \"pub_date\": \"1950-07-11\"}]',\n",
       " 'backward_cite_yes_family': '[]',\n",
       " 'url': 'https://patents.google.com/patent/US2668287A',\n",
       " 'patent': 'US2668287A'}"
      ]
     },
     "execution_count": 12,
     "metadata": {},
     "output_type": "execute_result"
    }
   ],
   "source": [
    "patent_1_parsed"
   ]
  },
  {
   "cell_type": "code",
   "execution_count": 9,
   "metadata": {},
   "outputs": [],
   "source": []
  },
  {
   "cell_type": "code",
   "execution_count": null,
   "metadata": {},
   "outputs": [],
   "source": []
  }
 ],
 "metadata": {
  "kernelspec": {
   "display_name": "Python 3",
   "language": "python",
   "name": "python3"
  },
  "language_info": {
   "codemirror_mode": {
    "name": "ipython",
    "version": 3
   },
   "file_extension": ".py",
   "mimetype": "text/x-python",
   "name": "python",
   "nbconvert_exporter": "python",
   "pygments_lexer": "ipython3",
   "version": "3.6.9"
  }
 },
 "nbformat": 4,
 "nbformat_minor": 4
}
