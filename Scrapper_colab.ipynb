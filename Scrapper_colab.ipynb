{
  "nbformat": 4,
  "nbformat_minor": 0,
  "metadata": {
    "kernelspec": {
      "name": "python3",
      "display_name": "Python 3"
    },
    "language_info": {
      "codemirror_mode": {
        "name": "ipython",
        "version": 3
      },
      "file_extension": ".py",
      "mimetype": "text/x-python",
      "name": "python",
      "nbconvert_exporter": "python",
      "pygments_lexer": "ipython3",
      "version": "3.6.9"
    },
    "colab": {
      "name": "Scrapper.ipynb",
      "provenance": [],
      "include_colab_link": true
    },
    "accelerator": "GPU",
    "widgets": {
      "application/vnd.jupyter.widget-state+json": {
        "3b54750622054cc49f8a59ac65308ea2": {
          "model_module": "@jupyter-widgets/controls",
          "model_name": "HBoxModel",
          "state": {
            "_view_name": "HBoxView",
            "_dom_classes": [],
            "_model_name": "HBoxModel",
            "_view_module": "@jupyter-widgets/controls",
            "_model_module_version": "1.5.0",
            "_view_count": null,
            "_view_module_version": "1.5.0",
            "box_style": "",
            "layout": "IPY_MODEL_c7ff5485e5b24359a750fabe2372f8c4",
            "_model_module": "@jupyter-widgets/controls",
            "children": [
              "IPY_MODEL_d8646a7cc04b42669809f93c26da0873",
              "IPY_MODEL_d797e72c6ca74b8bac6a57f8b355d825"
            ]
          }
        },
        "c7ff5485e5b24359a750fabe2372f8c4": {
          "model_module": "@jupyter-widgets/base",
          "model_name": "LayoutModel",
          "state": {
            "_view_name": "LayoutView",
            "grid_template_rows": null,
            "right": null,
            "justify_content": null,
            "_view_module": "@jupyter-widgets/base",
            "overflow": null,
            "_model_module_version": "1.2.0",
            "_view_count": null,
            "flex_flow": null,
            "width": null,
            "min_width": null,
            "border": null,
            "align_items": null,
            "bottom": null,
            "_model_module": "@jupyter-widgets/base",
            "top": null,
            "grid_column": null,
            "overflow_y": null,
            "overflow_x": null,
            "grid_auto_flow": null,
            "grid_area": null,
            "grid_template_columns": null,
            "flex": null,
            "_model_name": "LayoutModel",
            "justify_items": null,
            "grid_row": null,
            "max_height": null,
            "align_content": null,
            "visibility": null,
            "align_self": null,
            "height": null,
            "min_height": null,
            "padding": null,
            "grid_auto_rows": null,
            "grid_gap": null,
            "max_width": null,
            "order": null,
            "_view_module_version": "1.2.0",
            "grid_template_areas": null,
            "object_position": null,
            "object_fit": null,
            "grid_auto_columns": null,
            "margin": null,
            "display": null,
            "left": null
          }
        },
        "d8646a7cc04b42669809f93c26da0873": {
          "model_module": "@jupyter-widgets/controls",
          "model_name": "IntProgressModel",
          "state": {
            "_view_name": "ProgressView",
            "style": "IPY_MODEL_c4e726f631d04f51a5197f24eadd1d28",
            "_dom_classes": [],
            "description": "wabalabadubdub",
            "_model_name": "IntProgressModel",
            "bar_style": "success",
            "max": 3,
            "_view_module": "@jupyter-widgets/controls",
            "_model_module_version": "1.5.0",
            "value": 3,
            "_view_count": null,
            "_view_module_version": "1.5.0",
            "orientation": "horizontal",
            "min": 0,
            "description_tooltip": null,
            "_model_module": "@jupyter-widgets/controls",
            "layout": "IPY_MODEL_4551fc507d5745f78dba94742628241c"
          }
        },
        "d797e72c6ca74b8bac6a57f8b355d825": {
          "model_module": "@jupyter-widgets/controls",
          "model_name": "HTMLModel",
          "state": {
            "_view_name": "HTMLView",
            "style": "IPY_MODEL_a773d68b3b6b443083f5058bf1b01954",
            "_dom_classes": [],
            "description": "",
            "_model_name": "HTMLModel",
            "placeholder": "​",
            "_view_module": "@jupyter-widgets/controls",
            "_model_module_version": "1.5.0",
            "value": "100% 3/3 [00:00&lt;00:00,  8.55it/s]",
            "_view_count": null,
            "_view_module_version": "1.5.0",
            "description_tooltip": null,
            "_model_module": "@jupyter-widgets/controls",
            "layout": "IPY_MODEL_ba433e4ceb714f8382274f7281d5bba0"
          }
        },
        "c4e726f631d04f51a5197f24eadd1d28": {
          "model_module": "@jupyter-widgets/controls",
          "model_name": "ProgressStyleModel",
          "state": {
            "_view_name": "StyleView",
            "_model_name": "ProgressStyleModel",
            "description_width": "initial",
            "_view_module": "@jupyter-widgets/base",
            "_model_module_version": "1.5.0",
            "_view_count": null,
            "_view_module_version": "1.2.0",
            "bar_color": null,
            "_model_module": "@jupyter-widgets/controls"
          }
        },
        "4551fc507d5745f78dba94742628241c": {
          "model_module": "@jupyter-widgets/base",
          "model_name": "LayoutModel",
          "state": {
            "_view_name": "LayoutView",
            "grid_template_rows": null,
            "right": null,
            "justify_content": null,
            "_view_module": "@jupyter-widgets/base",
            "overflow": null,
            "_model_module_version": "1.2.0",
            "_view_count": null,
            "flex_flow": null,
            "width": null,
            "min_width": null,
            "border": null,
            "align_items": null,
            "bottom": null,
            "_model_module": "@jupyter-widgets/base",
            "top": null,
            "grid_column": null,
            "overflow_y": null,
            "overflow_x": null,
            "grid_auto_flow": null,
            "grid_area": null,
            "grid_template_columns": null,
            "flex": null,
            "_model_name": "LayoutModel",
            "justify_items": null,
            "grid_row": null,
            "max_height": null,
            "align_content": null,
            "visibility": null,
            "align_self": null,
            "height": null,
            "min_height": null,
            "padding": null,
            "grid_auto_rows": null,
            "grid_gap": null,
            "max_width": null,
            "order": null,
            "_view_module_version": "1.2.0",
            "grid_template_areas": null,
            "object_position": null,
            "object_fit": null,
            "grid_auto_columns": null,
            "margin": null,
            "display": null,
            "left": null
          }
        },
        "a773d68b3b6b443083f5058bf1b01954": {
          "model_module": "@jupyter-widgets/controls",
          "model_name": "DescriptionStyleModel",
          "state": {
            "_view_name": "StyleView",
            "_model_name": "DescriptionStyleModel",
            "description_width": "",
            "_view_module": "@jupyter-widgets/base",
            "_model_module_version": "1.5.0",
            "_view_count": null,
            "_view_module_version": "1.2.0",
            "_model_module": "@jupyter-widgets/controls"
          }
        },
        "ba433e4ceb714f8382274f7281d5bba0": {
          "model_module": "@jupyter-widgets/base",
          "model_name": "LayoutModel",
          "state": {
            "_view_name": "LayoutView",
            "grid_template_rows": null,
            "right": null,
            "justify_content": null,
            "_view_module": "@jupyter-widgets/base",
            "overflow": null,
            "_model_module_version": "1.2.0",
            "_view_count": null,
            "flex_flow": null,
            "width": null,
            "min_width": null,
            "border": null,
            "align_items": null,
            "bottom": null,
            "_model_module": "@jupyter-widgets/base",
            "top": null,
            "grid_column": null,
            "overflow_y": null,
            "overflow_x": null,
            "grid_auto_flow": null,
            "grid_area": null,
            "grid_template_columns": null,
            "flex": null,
            "_model_name": "LayoutModel",
            "justify_items": null,
            "grid_row": null,
            "max_height": null,
            "align_content": null,
            "visibility": null,
            "align_self": null,
            "height": null,
            "min_height": null,
            "padding": null,
            "grid_auto_rows": null,
            "grid_gap": null,
            "max_width": null,
            "order": null,
            "_view_module_version": "1.2.0",
            "grid_template_areas": null,
            "object_position": null,
            "object_fit": null,
            "grid_auto_columns": null,
            "margin": null,
            "display": null,
            "left": null
          }
        },
        "11d9ddfe4991492c9492bbc625c952c3": {
          "model_module": "@jupyter-widgets/controls",
          "model_name": "HBoxModel",
          "state": {
            "_view_name": "HBoxView",
            "_dom_classes": [],
            "_model_name": "HBoxModel",
            "_view_module": "@jupyter-widgets/controls",
            "_model_module_version": "1.5.0",
            "_view_count": null,
            "_view_module_version": "1.5.0",
            "box_style": "",
            "layout": "IPY_MODEL_e63bdccf60a94f19b609b2345628954c",
            "_model_module": "@jupyter-widgets/controls",
            "children": [
              "IPY_MODEL_b5300495e2c04ee4a68e3af1c7cba092",
              "IPY_MODEL_ecf06ea286fd40c7ad787ea876b54879"
            ]
          }
        },
        "e63bdccf60a94f19b609b2345628954c": {
          "model_module": "@jupyter-widgets/base",
          "model_name": "LayoutModel",
          "state": {
            "_view_name": "LayoutView",
            "grid_template_rows": null,
            "right": null,
            "justify_content": null,
            "_view_module": "@jupyter-widgets/base",
            "overflow": null,
            "_model_module_version": "1.2.0",
            "_view_count": null,
            "flex_flow": null,
            "width": null,
            "min_width": null,
            "border": null,
            "align_items": null,
            "bottom": null,
            "_model_module": "@jupyter-widgets/base",
            "top": null,
            "grid_column": null,
            "overflow_y": null,
            "overflow_x": null,
            "grid_auto_flow": null,
            "grid_area": null,
            "grid_template_columns": null,
            "flex": null,
            "_model_name": "LayoutModel",
            "justify_items": null,
            "grid_row": null,
            "max_height": null,
            "align_content": null,
            "visibility": null,
            "align_self": null,
            "height": null,
            "min_height": null,
            "padding": null,
            "grid_auto_rows": null,
            "grid_gap": null,
            "max_width": null,
            "order": null,
            "_view_module_version": "1.2.0",
            "grid_template_areas": null,
            "object_position": null,
            "object_fit": null,
            "grid_auto_columns": null,
            "margin": null,
            "display": null,
            "left": null
          }
        },
        "b5300495e2c04ee4a68e3af1c7cba092": {
          "model_module": "@jupyter-widgets/controls",
          "model_name": "IntProgressModel",
          "state": {
            "_view_name": "ProgressView",
            "style": "IPY_MODEL_7add5f3ad3bb424da7679533acf14f3d",
            "_dom_classes": [],
            "description": "patents",
            "_model_name": "IntProgressModel",
            "bar_style": "success",
            "max": 200,
            "_view_module": "@jupyter-widgets/controls",
            "_model_module_version": "1.5.0",
            "value": 200,
            "_view_count": null,
            "_view_module_version": "1.5.0",
            "orientation": "horizontal",
            "min": 0,
            "description_tooltip": null,
            "_model_module": "@jupyter-widgets/controls",
            "layout": "IPY_MODEL_089b1d90437f47d18a91232026b3f667"
          }
        },
        "ecf06ea286fd40c7ad787ea876b54879": {
          "model_module": "@jupyter-widgets/controls",
          "model_name": "HTMLModel",
          "state": {
            "_view_name": "HTMLView",
            "style": "IPY_MODEL_1eaf8c73d5334a2a9c037dd3c64da2a6",
            "_dom_classes": [],
            "description": "",
            "_model_name": "HTMLModel",
            "placeholder": "​",
            "_view_module": "@jupyter-widgets/controls",
            "_model_module_version": "1.5.0",
            "value": "100% 200/200 [01:35&lt;00:00,  3.24it/s]",
            "_view_count": null,
            "_view_module_version": "1.5.0",
            "description_tooltip": null,
            "_model_module": "@jupyter-widgets/controls",
            "layout": "IPY_MODEL_2b983119dd3a409a915116d903cda604"
          }
        },
        "7add5f3ad3bb424da7679533acf14f3d": {
          "model_module": "@jupyter-widgets/controls",
          "model_name": "ProgressStyleModel",
          "state": {
            "_view_name": "StyleView",
            "_model_name": "ProgressStyleModel",
            "description_width": "initial",
            "_view_module": "@jupyter-widgets/base",
            "_model_module_version": "1.5.0",
            "_view_count": null,
            "_view_module_version": "1.2.0",
            "bar_color": null,
            "_model_module": "@jupyter-widgets/controls"
          }
        },
        "089b1d90437f47d18a91232026b3f667": {
          "model_module": "@jupyter-widgets/base",
          "model_name": "LayoutModel",
          "state": {
            "_view_name": "LayoutView",
            "grid_template_rows": null,
            "right": null,
            "justify_content": null,
            "_view_module": "@jupyter-widgets/base",
            "overflow": null,
            "_model_module_version": "1.2.0",
            "_view_count": null,
            "flex_flow": null,
            "width": null,
            "min_width": null,
            "border": null,
            "align_items": null,
            "bottom": null,
            "_model_module": "@jupyter-widgets/base",
            "top": null,
            "grid_column": null,
            "overflow_y": null,
            "overflow_x": null,
            "grid_auto_flow": null,
            "grid_area": null,
            "grid_template_columns": null,
            "flex": null,
            "_model_name": "LayoutModel",
            "justify_items": null,
            "grid_row": null,
            "max_height": null,
            "align_content": null,
            "visibility": null,
            "align_self": null,
            "height": null,
            "min_height": null,
            "padding": null,
            "grid_auto_rows": null,
            "grid_gap": null,
            "max_width": null,
            "order": null,
            "_view_module_version": "1.2.0",
            "grid_template_areas": null,
            "object_position": null,
            "object_fit": null,
            "grid_auto_columns": null,
            "margin": null,
            "display": null,
            "left": null
          }
        },
        "1eaf8c73d5334a2a9c037dd3c64da2a6": {
          "model_module": "@jupyter-widgets/controls",
          "model_name": "DescriptionStyleModel",
          "state": {
            "_view_name": "StyleView",
            "_model_name": "DescriptionStyleModel",
            "description_width": "",
            "_view_module": "@jupyter-widgets/base",
            "_model_module_version": "1.5.0",
            "_view_count": null,
            "_view_module_version": "1.2.0",
            "_model_module": "@jupyter-widgets/controls"
          }
        },
        "2b983119dd3a409a915116d903cda604": {
          "model_module": "@jupyter-widgets/base",
          "model_name": "LayoutModel",
          "state": {
            "_view_name": "LayoutView",
            "grid_template_rows": null,
            "right": null,
            "justify_content": null,
            "_view_module": "@jupyter-widgets/base",
            "overflow": null,
            "_model_module_version": "1.2.0",
            "_view_count": null,
            "flex_flow": null,
            "width": null,
            "min_width": null,
            "border": null,
            "align_items": null,
            "bottom": null,
            "_model_module": "@jupyter-widgets/base",
            "top": null,
            "grid_column": null,
            "overflow_y": null,
            "overflow_x": null,
            "grid_auto_flow": null,
            "grid_area": null,
            "grid_template_columns": null,
            "flex": null,
            "_model_name": "LayoutModel",
            "justify_items": null,
            "grid_row": null,
            "max_height": null,
            "align_content": null,
            "visibility": null,
            "align_self": null,
            "height": null,
            "min_height": null,
            "padding": null,
            "grid_auto_rows": null,
            "grid_gap": null,
            "max_width": null,
            "order": null,
            "_view_module_version": "1.2.0",
            "grid_template_areas": null,
            "object_position": null,
            "object_fit": null,
            "grid_auto_columns": null,
            "margin": null,
            "display": null,
            "left": null
          }
        },
        "89caba5e19524e41a3c261ba66469652": {
          "model_module": "@jupyter-widgets/controls",
          "model_name": "HBoxModel",
          "state": {
            "_view_name": "HBoxView",
            "_dom_classes": [],
            "_model_name": "HBoxModel",
            "_view_module": "@jupyter-widgets/controls",
            "_model_module_version": "1.5.0",
            "_view_count": null,
            "_view_module_version": "1.5.0",
            "box_style": "",
            "layout": "IPY_MODEL_24b5f693fd7841b0967add71bbc4004f",
            "_model_module": "@jupyter-widgets/controls",
            "children": [
              "IPY_MODEL_78b17466d63440c790fcaeeffba4ec06",
              "IPY_MODEL_8a1783951a6e4f5facea20832e199d2f"
            ]
          }
        },
        "24b5f693fd7841b0967add71bbc4004f": {
          "model_module": "@jupyter-widgets/base",
          "model_name": "LayoutModel",
          "state": {
            "_view_name": "LayoutView",
            "grid_template_rows": null,
            "right": null,
            "justify_content": null,
            "_view_module": "@jupyter-widgets/base",
            "overflow": null,
            "_model_module_version": "1.2.0",
            "_view_count": null,
            "flex_flow": null,
            "width": null,
            "min_width": null,
            "border": null,
            "align_items": null,
            "bottom": null,
            "_model_module": "@jupyter-widgets/base",
            "top": null,
            "grid_column": null,
            "overflow_y": null,
            "overflow_x": null,
            "grid_auto_flow": null,
            "grid_area": null,
            "grid_template_columns": null,
            "flex": null,
            "_model_name": "LayoutModel",
            "justify_items": null,
            "grid_row": null,
            "max_height": null,
            "align_content": null,
            "visibility": null,
            "align_self": null,
            "height": null,
            "min_height": null,
            "padding": null,
            "grid_auto_rows": null,
            "grid_gap": null,
            "max_width": null,
            "order": null,
            "_view_module_version": "1.2.0",
            "grid_template_areas": null,
            "object_position": null,
            "object_fit": null,
            "grid_auto_columns": null,
            "margin": null,
            "display": null,
            "left": null
          }
        },
        "78b17466d63440c790fcaeeffba4ec06": {
          "model_module": "@jupyter-widgets/controls",
          "model_name": "IntProgressModel",
          "state": {
            "_view_name": "ProgressView",
            "style": "IPY_MODEL_d998c1e9a8ae4aa2a515d6270744ab2b",
            "_dom_classes": [],
            "description": "patents",
            "_model_name": "IntProgressModel",
            "bar_style": "success",
            "max": 200,
            "_view_module": "@jupyter-widgets/controls",
            "_model_module_version": "1.5.0",
            "value": 200,
            "_view_count": null,
            "_view_module_version": "1.5.0",
            "orientation": "horizontal",
            "min": 0,
            "description_tooltip": null,
            "_model_module": "@jupyter-widgets/controls",
            "layout": "IPY_MODEL_6d7351cb1cdd4a40a6f52f286829b68e"
          }
        },
        "8a1783951a6e4f5facea20832e199d2f": {
          "model_module": "@jupyter-widgets/controls",
          "model_name": "HTMLModel",
          "state": {
            "_view_name": "HTMLView",
            "style": "IPY_MODEL_aeb357a133df425996e89a80081e8eff",
            "_dom_classes": [],
            "description": "",
            "_model_name": "HTMLModel",
            "placeholder": "​",
            "_view_module": "@jupyter-widgets/controls",
            "_model_module_version": "1.5.0",
            "value": "100% 200/200 [00:03&lt;00:00, 61.98it/s]",
            "_view_count": null,
            "_view_module_version": "1.5.0",
            "description_tooltip": null,
            "_model_module": "@jupyter-widgets/controls",
            "layout": "IPY_MODEL_3b4ef54837bd4ba08236783d0d2bc812"
          }
        },
        "d998c1e9a8ae4aa2a515d6270744ab2b": {
          "model_module": "@jupyter-widgets/controls",
          "model_name": "ProgressStyleModel",
          "state": {
            "_view_name": "StyleView",
            "_model_name": "ProgressStyleModel",
            "description_width": "initial",
            "_view_module": "@jupyter-widgets/base",
            "_model_module_version": "1.5.0",
            "_view_count": null,
            "_view_module_version": "1.2.0",
            "bar_color": null,
            "_model_module": "@jupyter-widgets/controls"
          }
        },
        "6d7351cb1cdd4a40a6f52f286829b68e": {
          "model_module": "@jupyter-widgets/base",
          "model_name": "LayoutModel",
          "state": {
            "_view_name": "LayoutView",
            "grid_template_rows": null,
            "right": null,
            "justify_content": null,
            "_view_module": "@jupyter-widgets/base",
            "overflow": null,
            "_model_module_version": "1.2.0",
            "_view_count": null,
            "flex_flow": null,
            "width": null,
            "min_width": null,
            "border": null,
            "align_items": null,
            "bottom": null,
            "_model_module": "@jupyter-widgets/base",
            "top": null,
            "grid_column": null,
            "overflow_y": null,
            "overflow_x": null,
            "grid_auto_flow": null,
            "grid_area": null,
            "grid_template_columns": null,
            "flex": null,
            "_model_name": "LayoutModel",
            "justify_items": null,
            "grid_row": null,
            "max_height": null,
            "align_content": null,
            "visibility": null,
            "align_self": null,
            "height": null,
            "min_height": null,
            "padding": null,
            "grid_auto_rows": null,
            "grid_gap": null,
            "max_width": null,
            "order": null,
            "_view_module_version": "1.2.0",
            "grid_template_areas": null,
            "object_position": null,
            "object_fit": null,
            "grid_auto_columns": null,
            "margin": null,
            "display": null,
            "left": null
          }
        },
        "aeb357a133df425996e89a80081e8eff": {
          "model_module": "@jupyter-widgets/controls",
          "model_name": "DescriptionStyleModel",
          "state": {
            "_view_name": "StyleView",
            "_model_name": "DescriptionStyleModel",
            "description_width": "",
            "_view_module": "@jupyter-widgets/base",
            "_model_module_version": "1.5.0",
            "_view_count": null,
            "_view_module_version": "1.2.0",
            "_model_module": "@jupyter-widgets/controls"
          }
        },
        "3b4ef54837bd4ba08236783d0d2bc812": {
          "model_module": "@jupyter-widgets/base",
          "model_name": "LayoutModel",
          "state": {
            "_view_name": "LayoutView",
            "grid_template_rows": null,
            "right": null,
            "justify_content": null,
            "_view_module": "@jupyter-widgets/base",
            "overflow": null,
            "_model_module_version": "1.2.0",
            "_view_count": null,
            "flex_flow": null,
            "width": null,
            "min_width": null,
            "border": null,
            "align_items": null,
            "bottom": null,
            "_model_module": "@jupyter-widgets/base",
            "top": null,
            "grid_column": null,
            "overflow_y": null,
            "overflow_x": null,
            "grid_auto_flow": null,
            "grid_area": null,
            "grid_template_columns": null,
            "flex": null,
            "_model_name": "LayoutModel",
            "justify_items": null,
            "grid_row": null,
            "max_height": null,
            "align_content": null,
            "visibility": null,
            "align_self": null,
            "height": null,
            "min_height": null,
            "padding": null,
            "grid_auto_rows": null,
            "grid_gap": null,
            "max_width": null,
            "order": null,
            "_view_module_version": "1.2.0",
            "grid_template_areas": null,
            "object_position": null,
            "object_fit": null,
            "grid_auto_columns": null,
            "margin": null,
            "display": null,
            "left": null
          }
        },
        "3f50f8ea667b4c228b8055a04140bfd6": {
          "model_module": "@jupyter-widgets/controls",
          "model_name": "HBoxModel",
          "state": {
            "_view_name": "HBoxView",
            "_dom_classes": [],
            "_model_name": "HBoxModel",
            "_view_module": "@jupyter-widgets/controls",
            "_model_module_version": "1.5.0",
            "_view_count": null,
            "_view_module_version": "1.5.0",
            "box_style": "",
            "layout": "IPY_MODEL_4630250dfce745f5aa192b1897bfb996",
            "_model_module": "@jupyter-widgets/controls",
            "children": [
              "IPY_MODEL_3f3f39368a404ced906f9375e118e5bf",
              "IPY_MODEL_e9b04cca37164a6f887898a4eeb32815"
            ]
          }
        },
        "4630250dfce745f5aa192b1897bfb996": {
          "model_module": "@jupyter-widgets/base",
          "model_name": "LayoutModel",
          "state": {
            "_view_name": "LayoutView",
            "grid_template_rows": null,
            "right": null,
            "justify_content": null,
            "_view_module": "@jupyter-widgets/base",
            "overflow": null,
            "_model_module_version": "1.2.0",
            "_view_count": null,
            "flex_flow": null,
            "width": null,
            "min_width": null,
            "border": null,
            "align_items": null,
            "bottom": null,
            "_model_module": "@jupyter-widgets/base",
            "top": null,
            "grid_column": null,
            "overflow_y": null,
            "overflow_x": null,
            "grid_auto_flow": null,
            "grid_area": null,
            "grid_template_columns": null,
            "flex": null,
            "_model_name": "LayoutModel",
            "justify_items": null,
            "grid_row": null,
            "max_height": null,
            "align_content": null,
            "visibility": null,
            "align_self": null,
            "height": null,
            "min_height": null,
            "padding": null,
            "grid_auto_rows": null,
            "grid_gap": null,
            "max_width": null,
            "order": null,
            "_view_module_version": "1.2.0",
            "grid_template_areas": null,
            "object_position": null,
            "object_fit": null,
            "grid_auto_columns": null,
            "margin": null,
            "display": null,
            "left": null
          }
        },
        "3f3f39368a404ced906f9375e118e5bf": {
          "model_module": "@jupyter-widgets/controls",
          "model_name": "IntProgressModel",
          "state": {
            "_view_name": "ProgressView",
            "style": "IPY_MODEL_ce52e61c2c6e4cca9d05290442ecf652",
            "_dom_classes": [],
            "description": "CatList",
            "_model_name": "IntProgressModel",
            "bar_style": "success",
            "max": 4,
            "_view_module": "@jupyter-widgets/controls",
            "_model_module_version": "1.5.0",
            "value": 4,
            "_view_count": null,
            "_view_module_version": "1.5.0",
            "orientation": "horizontal",
            "min": 0,
            "description_tooltip": null,
            "_model_module": "@jupyter-widgets/controls",
            "layout": "IPY_MODEL_28a70495a0344186947ee9807255dd53"
          }
        },
        "e9b04cca37164a6f887898a4eeb32815": {
          "model_module": "@jupyter-widgets/controls",
          "model_name": "HTMLModel",
          "state": {
            "_view_name": "HTMLView",
            "style": "IPY_MODEL_9750d36508ad41e4a3e659ec0ff5ec94",
            "_dom_classes": [],
            "description": "",
            "_model_name": "HTMLModel",
            "placeholder": "​",
            "_view_module": "@jupyter-widgets/controls",
            "_model_module_version": "1.5.0",
            "value": "100% 4/4 [00:00&lt;00:00,  4.01it/s]",
            "_view_count": null,
            "_view_module_version": "1.5.0",
            "description_tooltip": null,
            "_model_module": "@jupyter-widgets/controls",
            "layout": "IPY_MODEL_1b75d2874d4942a095f40bfc400ad2c5"
          }
        },
        "ce52e61c2c6e4cca9d05290442ecf652": {
          "model_module": "@jupyter-widgets/controls",
          "model_name": "ProgressStyleModel",
          "state": {
            "_view_name": "StyleView",
            "_model_name": "ProgressStyleModel",
            "description_width": "initial",
            "_view_module": "@jupyter-widgets/base",
            "_model_module_version": "1.5.0",
            "_view_count": null,
            "_view_module_version": "1.2.0",
            "bar_color": null,
            "_model_module": "@jupyter-widgets/controls"
          }
        },
        "28a70495a0344186947ee9807255dd53": {
          "model_module": "@jupyter-widgets/base",
          "model_name": "LayoutModel",
          "state": {
            "_view_name": "LayoutView",
            "grid_template_rows": null,
            "right": null,
            "justify_content": null,
            "_view_module": "@jupyter-widgets/base",
            "overflow": null,
            "_model_module_version": "1.2.0",
            "_view_count": null,
            "flex_flow": null,
            "width": null,
            "min_width": null,
            "border": null,
            "align_items": null,
            "bottom": null,
            "_model_module": "@jupyter-widgets/base",
            "top": null,
            "grid_column": null,
            "overflow_y": null,
            "overflow_x": null,
            "grid_auto_flow": null,
            "grid_area": null,
            "grid_template_columns": null,
            "flex": null,
            "_model_name": "LayoutModel",
            "justify_items": null,
            "grid_row": null,
            "max_height": null,
            "align_content": null,
            "visibility": null,
            "align_self": null,
            "height": null,
            "min_height": null,
            "padding": null,
            "grid_auto_rows": null,
            "grid_gap": null,
            "max_width": null,
            "order": null,
            "_view_module_version": "1.2.0",
            "grid_template_areas": null,
            "object_position": null,
            "object_fit": null,
            "grid_auto_columns": null,
            "margin": null,
            "display": null,
            "left": null
          }
        },
        "9750d36508ad41e4a3e659ec0ff5ec94": {
          "model_module": "@jupyter-widgets/controls",
          "model_name": "DescriptionStyleModel",
          "state": {
            "_view_name": "StyleView",
            "_model_name": "DescriptionStyleModel",
            "description_width": "",
            "_view_module": "@jupyter-widgets/base",
            "_model_module_version": "1.5.0",
            "_view_count": null,
            "_view_module_version": "1.2.0",
            "_model_module": "@jupyter-widgets/controls"
          }
        },
        "1b75d2874d4942a095f40bfc400ad2c5": {
          "model_module": "@jupyter-widgets/base",
          "model_name": "LayoutModel",
          "state": {
            "_view_name": "LayoutView",
            "grid_template_rows": null,
            "right": null,
            "justify_content": null,
            "_view_module": "@jupyter-widgets/base",
            "overflow": null,
            "_model_module_version": "1.2.0",
            "_view_count": null,
            "flex_flow": null,
            "width": null,
            "min_width": null,
            "border": null,
            "align_items": null,
            "bottom": null,
            "_model_module": "@jupyter-widgets/base",
            "top": null,
            "grid_column": null,
            "overflow_y": null,
            "overflow_x": null,
            "grid_auto_flow": null,
            "grid_area": null,
            "grid_template_columns": null,
            "flex": null,
            "_model_name": "LayoutModel",
            "justify_items": null,
            "grid_row": null,
            "max_height": null,
            "align_content": null,
            "visibility": null,
            "align_self": null,
            "height": null,
            "min_height": null,
            "padding": null,
            "grid_auto_rows": null,
            "grid_gap": null,
            "max_width": null,
            "order": null,
            "_view_module_version": "1.2.0",
            "grid_template_areas": null,
            "object_position": null,
            "object_fit": null,
            "grid_auto_columns": null,
            "margin": null,
            "display": null,
            "left": null
          }
        },
        "9b464a1dc8164776b5c779d66c2a8409": {
          "model_module": "@jupyter-widgets/controls",
          "model_name": "HBoxModel",
          "state": {
            "_view_name": "HBoxView",
            "_dom_classes": [],
            "_model_name": "HBoxModel",
            "_view_module": "@jupyter-widgets/controls",
            "_model_module_version": "1.5.0",
            "_view_count": null,
            "_view_module_version": "1.5.0",
            "box_style": "",
            "layout": "IPY_MODEL_7209baa2282f4dd4a13fd95bec2fac69",
            "_model_module": "@jupyter-widgets/controls",
            "children": [
              "IPY_MODEL_5c113e3e9e8741a29318c06f43f74fa6",
              "IPY_MODEL_a7ad1a38f45b4681b5a1b2959026238d"
            ]
          }
        },
        "7209baa2282f4dd4a13fd95bec2fac69": {
          "model_module": "@jupyter-widgets/base",
          "model_name": "LayoutModel",
          "state": {
            "_view_name": "LayoutView",
            "grid_template_rows": null,
            "right": null,
            "justify_content": null,
            "_view_module": "@jupyter-widgets/base",
            "overflow": null,
            "_model_module_version": "1.2.0",
            "_view_count": null,
            "flex_flow": null,
            "width": null,
            "min_width": null,
            "border": null,
            "align_items": null,
            "bottom": null,
            "_model_module": "@jupyter-widgets/base",
            "top": null,
            "grid_column": null,
            "overflow_y": null,
            "overflow_x": null,
            "grid_auto_flow": null,
            "grid_area": null,
            "grid_template_columns": null,
            "flex": null,
            "_model_name": "LayoutModel",
            "justify_items": null,
            "grid_row": null,
            "max_height": null,
            "align_content": null,
            "visibility": null,
            "align_self": null,
            "height": null,
            "min_height": null,
            "padding": null,
            "grid_auto_rows": null,
            "grid_gap": null,
            "max_width": null,
            "order": null,
            "_view_module_version": "1.2.0",
            "grid_template_areas": null,
            "object_position": null,
            "object_fit": null,
            "grid_auto_columns": null,
            "margin": null,
            "display": null,
            "left": null
          }
        },
        "5c113e3e9e8741a29318c06f43f74fa6": {
          "model_module": "@jupyter-widgets/controls",
          "model_name": "IntProgressModel",
          "state": {
            "_view_name": "ProgressView",
            "style": "IPY_MODEL_6f25c7d7b6274522aecd85977fbd9247",
            "_dom_classes": [],
            "description": "patents",
            "_model_name": "IntProgressModel",
            "bar_style": "success",
            "max": 20,
            "_view_module": "@jupyter-widgets/controls",
            "_model_module_version": "1.5.0",
            "value": 20,
            "_view_count": null,
            "_view_module_version": "1.5.0",
            "orientation": "horizontal",
            "min": 0,
            "description_tooltip": null,
            "_model_module": "@jupyter-widgets/controls",
            "layout": "IPY_MODEL_27048db7d0ae456eba4142468ba74f2b"
          }
        },
        "a7ad1a38f45b4681b5a1b2959026238d": {
          "model_module": "@jupyter-widgets/controls",
          "model_name": "HTMLModel",
          "state": {
            "_view_name": "HTMLView",
            "style": "IPY_MODEL_025bd9ab81224c918b010b3143c9424e",
            "_dom_classes": [],
            "description": "",
            "_model_name": "HTMLModel",
            "placeholder": "​",
            "_view_module": "@jupyter-widgets/controls",
            "_model_module_version": "1.5.0",
            "value": "100% 20/20 [00:00&lt;00:00, 70.06it/s]",
            "_view_count": null,
            "_view_module_version": "1.5.0",
            "description_tooltip": null,
            "_model_module": "@jupyter-widgets/controls",
            "layout": "IPY_MODEL_4472c0585db744e6b00465b8c99bd247"
          }
        },
        "6f25c7d7b6274522aecd85977fbd9247": {
          "model_module": "@jupyter-widgets/controls",
          "model_name": "ProgressStyleModel",
          "state": {
            "_view_name": "StyleView",
            "_model_name": "ProgressStyleModel",
            "description_width": "initial",
            "_view_module": "@jupyter-widgets/base",
            "_model_module_version": "1.5.0",
            "_view_count": null,
            "_view_module_version": "1.2.0",
            "bar_color": null,
            "_model_module": "@jupyter-widgets/controls"
          }
        },
        "27048db7d0ae456eba4142468ba74f2b": {
          "model_module": "@jupyter-widgets/base",
          "model_name": "LayoutModel",
          "state": {
            "_view_name": "LayoutView",
            "grid_template_rows": null,
            "right": null,
            "justify_content": null,
            "_view_module": "@jupyter-widgets/base",
            "overflow": null,
            "_model_module_version": "1.2.0",
            "_view_count": null,
            "flex_flow": null,
            "width": null,
            "min_width": null,
            "border": null,
            "align_items": null,
            "bottom": null,
            "_model_module": "@jupyter-widgets/base",
            "top": null,
            "grid_column": null,
            "overflow_y": null,
            "overflow_x": null,
            "grid_auto_flow": null,
            "grid_area": null,
            "grid_template_columns": null,
            "flex": null,
            "_model_name": "LayoutModel",
            "justify_items": null,
            "grid_row": null,
            "max_height": null,
            "align_content": null,
            "visibility": null,
            "align_self": null,
            "height": null,
            "min_height": null,
            "padding": null,
            "grid_auto_rows": null,
            "grid_gap": null,
            "max_width": null,
            "order": null,
            "_view_module_version": "1.2.0",
            "grid_template_areas": null,
            "object_position": null,
            "object_fit": null,
            "grid_auto_columns": null,
            "margin": null,
            "display": null,
            "left": null
          }
        },
        "025bd9ab81224c918b010b3143c9424e": {
          "model_module": "@jupyter-widgets/controls",
          "model_name": "DescriptionStyleModel",
          "state": {
            "_view_name": "StyleView",
            "_model_name": "DescriptionStyleModel",
            "description_width": "",
            "_view_module": "@jupyter-widgets/base",
            "_model_module_version": "1.5.0",
            "_view_count": null,
            "_view_module_version": "1.2.0",
            "_model_module": "@jupyter-widgets/controls"
          }
        },
        "4472c0585db744e6b00465b8c99bd247": {
          "model_module": "@jupyter-widgets/base",
          "model_name": "LayoutModel",
          "state": {
            "_view_name": "LayoutView",
            "grid_template_rows": null,
            "right": null,
            "justify_content": null,
            "_view_module": "@jupyter-widgets/base",
            "overflow": null,
            "_model_module_version": "1.2.0",
            "_view_count": null,
            "flex_flow": null,
            "width": null,
            "min_width": null,
            "border": null,
            "align_items": null,
            "bottom": null,
            "_model_module": "@jupyter-widgets/base",
            "top": null,
            "grid_column": null,
            "overflow_y": null,
            "overflow_x": null,
            "grid_auto_flow": null,
            "grid_area": null,
            "grid_template_columns": null,
            "flex": null,
            "_model_name": "LayoutModel",
            "justify_items": null,
            "grid_row": null,
            "max_height": null,
            "align_content": null,
            "visibility": null,
            "align_self": null,
            "height": null,
            "min_height": null,
            "padding": null,
            "grid_auto_rows": null,
            "grid_gap": null,
            "max_width": null,
            "order": null,
            "_view_module_version": "1.2.0",
            "grid_template_areas": null,
            "object_position": null,
            "object_fit": null,
            "grid_auto_columns": null,
            "margin": null,
            "display": null,
            "left": null
          }
        },
        "a066ec84d6e647cb827b5f9bdf1e52df": {
          "model_module": "@jupyter-widgets/controls",
          "model_name": "HBoxModel",
          "state": {
            "_view_name": "HBoxView",
            "_dom_classes": [],
            "_model_name": "HBoxModel",
            "_view_module": "@jupyter-widgets/controls",
            "_model_module_version": "1.5.0",
            "_view_count": null,
            "_view_module_version": "1.5.0",
            "box_style": "",
            "layout": "IPY_MODEL_a1b0cb75625e41cfa481b3b94fe06189",
            "_model_module": "@jupyter-widgets/controls",
            "children": [
              "IPY_MODEL_5fad1792f9894625b7b4a368f5d81444",
              "IPY_MODEL_93ebf481458240ff9d4ddaac9d5f321e"
            ]
          }
        },
        "a1b0cb75625e41cfa481b3b94fe06189": {
          "model_module": "@jupyter-widgets/base",
          "model_name": "LayoutModel",
          "state": {
            "_view_name": "LayoutView",
            "grid_template_rows": null,
            "right": null,
            "justify_content": null,
            "_view_module": "@jupyter-widgets/base",
            "overflow": null,
            "_model_module_version": "1.2.0",
            "_view_count": null,
            "flex_flow": null,
            "width": null,
            "min_width": null,
            "border": null,
            "align_items": null,
            "bottom": null,
            "_model_module": "@jupyter-widgets/base",
            "top": null,
            "grid_column": null,
            "overflow_y": null,
            "overflow_x": null,
            "grid_auto_flow": null,
            "grid_area": null,
            "grid_template_columns": null,
            "flex": null,
            "_model_name": "LayoutModel",
            "justify_items": null,
            "grid_row": null,
            "max_height": null,
            "align_content": null,
            "visibility": null,
            "align_self": null,
            "height": null,
            "min_height": null,
            "padding": null,
            "grid_auto_rows": null,
            "grid_gap": null,
            "max_width": null,
            "order": null,
            "_view_module_version": "1.2.0",
            "grid_template_areas": null,
            "object_position": null,
            "object_fit": null,
            "grid_auto_columns": null,
            "margin": null,
            "display": null,
            "left": null
          }
        },
        "5fad1792f9894625b7b4a368f5d81444": {
          "model_module": "@jupyter-widgets/controls",
          "model_name": "IntProgressModel",
          "state": {
            "_view_name": "ProgressView",
            "style": "IPY_MODEL_eda92600e5e64bee85813bc39ed7d30f",
            "_dom_classes": [],
            "description": "patents",
            "_model_name": "IntProgressModel",
            "bar_style": "success",
            "max": 20,
            "_view_module": "@jupyter-widgets/controls",
            "_model_module_version": "1.5.0",
            "value": 20,
            "_view_count": null,
            "_view_module_version": "1.5.0",
            "orientation": "horizontal",
            "min": 0,
            "description_tooltip": null,
            "_model_module": "@jupyter-widgets/controls",
            "layout": "IPY_MODEL_6768fdfb04b843c7afe17de32a70397b"
          }
        },
        "93ebf481458240ff9d4ddaac9d5f321e": {
          "model_module": "@jupyter-widgets/controls",
          "model_name": "HTMLModel",
          "state": {
            "_view_name": "HTMLView",
            "style": "IPY_MODEL_78572c84fbf24b9a9b3cf018b3276c9a",
            "_dom_classes": [],
            "description": "",
            "_model_name": "HTMLModel",
            "placeholder": "​",
            "_view_module": "@jupyter-widgets/controls",
            "_model_module_version": "1.5.0",
            "value": "100% 20/20 [00:00&lt;00:00, 86.35it/s]",
            "_view_count": null,
            "_view_module_version": "1.5.0",
            "description_tooltip": null,
            "_model_module": "@jupyter-widgets/controls",
            "layout": "IPY_MODEL_995edf012caf4cac8facf16b6b93e481"
          }
        },
        "eda92600e5e64bee85813bc39ed7d30f": {
          "model_module": "@jupyter-widgets/controls",
          "model_name": "ProgressStyleModel",
          "state": {
            "_view_name": "StyleView",
            "_model_name": "ProgressStyleModel",
            "description_width": "initial",
            "_view_module": "@jupyter-widgets/base",
            "_model_module_version": "1.5.0",
            "_view_count": null,
            "_view_module_version": "1.2.0",
            "bar_color": null,
            "_model_module": "@jupyter-widgets/controls"
          }
        },
        "6768fdfb04b843c7afe17de32a70397b": {
          "model_module": "@jupyter-widgets/base",
          "model_name": "LayoutModel",
          "state": {
            "_view_name": "LayoutView",
            "grid_template_rows": null,
            "right": null,
            "justify_content": null,
            "_view_module": "@jupyter-widgets/base",
            "overflow": null,
            "_model_module_version": "1.2.0",
            "_view_count": null,
            "flex_flow": null,
            "width": null,
            "min_width": null,
            "border": null,
            "align_items": null,
            "bottom": null,
            "_model_module": "@jupyter-widgets/base",
            "top": null,
            "grid_column": null,
            "overflow_y": null,
            "overflow_x": null,
            "grid_auto_flow": null,
            "grid_area": null,
            "grid_template_columns": null,
            "flex": null,
            "_model_name": "LayoutModel",
            "justify_items": null,
            "grid_row": null,
            "max_height": null,
            "align_content": null,
            "visibility": null,
            "align_self": null,
            "height": null,
            "min_height": null,
            "padding": null,
            "grid_auto_rows": null,
            "grid_gap": null,
            "max_width": null,
            "order": null,
            "_view_module_version": "1.2.0",
            "grid_template_areas": null,
            "object_position": null,
            "object_fit": null,
            "grid_auto_columns": null,
            "margin": null,
            "display": null,
            "left": null
          }
        },
        "78572c84fbf24b9a9b3cf018b3276c9a": {
          "model_module": "@jupyter-widgets/controls",
          "model_name": "DescriptionStyleModel",
          "state": {
            "_view_name": "StyleView",
            "_model_name": "DescriptionStyleModel",
            "description_width": "",
            "_view_module": "@jupyter-widgets/base",
            "_model_module_version": "1.5.0",
            "_view_count": null,
            "_view_module_version": "1.2.0",
            "_model_module": "@jupyter-widgets/controls"
          }
        },
        "995edf012caf4cac8facf16b6b93e481": {
          "model_module": "@jupyter-widgets/base",
          "model_name": "LayoutModel",
          "state": {
            "_view_name": "LayoutView",
            "grid_template_rows": null,
            "right": null,
            "justify_content": null,
            "_view_module": "@jupyter-widgets/base",
            "overflow": null,
            "_model_module_version": "1.2.0",
            "_view_count": null,
            "flex_flow": null,
            "width": null,
            "min_width": null,
            "border": null,
            "align_items": null,
            "bottom": null,
            "_model_module": "@jupyter-widgets/base",
            "top": null,
            "grid_column": null,
            "overflow_y": null,
            "overflow_x": null,
            "grid_auto_flow": null,
            "grid_area": null,
            "grid_template_columns": null,
            "flex": null,
            "_model_name": "LayoutModel",
            "justify_items": null,
            "grid_row": null,
            "max_height": null,
            "align_content": null,
            "visibility": null,
            "align_self": null,
            "height": null,
            "min_height": null,
            "padding": null,
            "grid_auto_rows": null,
            "grid_gap": null,
            "max_width": null,
            "order": null,
            "_view_module_version": "1.2.0",
            "grid_template_areas": null,
            "object_position": null,
            "object_fit": null,
            "grid_auto_columns": null,
            "margin": null,
            "display": null,
            "left": null
          }
        },
        "ca1100410528418dadacd97737aca5da": {
          "model_module": "@jupyter-widgets/controls",
          "model_name": "HBoxModel",
          "state": {
            "_view_name": "HBoxView",
            "_dom_classes": [],
            "_model_name": "HBoxModel",
            "_view_module": "@jupyter-widgets/controls",
            "_model_module_version": "1.5.0",
            "_view_count": null,
            "_view_module_version": "1.5.0",
            "box_style": "",
            "layout": "IPY_MODEL_08833165c3384b66a291b40d7b4d072c",
            "_model_module": "@jupyter-widgets/controls",
            "children": [
              "IPY_MODEL_4cab196b075e45c7b51f5ba9ea4cf4ba",
              "IPY_MODEL_50ddfa155efa4bf29aaa779a7abb68b7"
            ]
          }
        },
        "08833165c3384b66a291b40d7b4d072c": {
          "model_module": "@jupyter-widgets/base",
          "model_name": "LayoutModel",
          "state": {
            "_view_name": "LayoutView",
            "grid_template_rows": null,
            "right": null,
            "justify_content": null,
            "_view_module": "@jupyter-widgets/base",
            "overflow": null,
            "_model_module_version": "1.2.0",
            "_view_count": null,
            "flex_flow": null,
            "width": null,
            "min_width": null,
            "border": null,
            "align_items": null,
            "bottom": null,
            "_model_module": "@jupyter-widgets/base",
            "top": null,
            "grid_column": null,
            "overflow_y": null,
            "overflow_x": null,
            "grid_auto_flow": null,
            "grid_area": null,
            "grid_template_columns": null,
            "flex": null,
            "_model_name": "LayoutModel",
            "justify_items": null,
            "grid_row": null,
            "max_height": null,
            "align_content": null,
            "visibility": null,
            "align_self": null,
            "height": null,
            "min_height": null,
            "padding": null,
            "grid_auto_rows": null,
            "grid_gap": null,
            "max_width": null,
            "order": null,
            "_view_module_version": "1.2.0",
            "grid_template_areas": null,
            "object_position": null,
            "object_fit": null,
            "grid_auto_columns": null,
            "margin": null,
            "display": null,
            "left": null
          }
        },
        "4cab196b075e45c7b51f5ba9ea4cf4ba": {
          "model_module": "@jupyter-widgets/controls",
          "model_name": "IntProgressModel",
          "state": {
            "_view_name": "ProgressView",
            "style": "IPY_MODEL_b82fadbf6a77426a83a2aa84d2c67567",
            "_dom_classes": [],
            "description": "patents",
            "_model_name": "IntProgressModel",
            "bar_style": "success",
            "max": 20,
            "_view_module": "@jupyter-widgets/controls",
            "_model_module_version": "1.5.0",
            "value": 20,
            "_view_count": null,
            "_view_module_version": "1.5.0",
            "orientation": "horizontal",
            "min": 0,
            "description_tooltip": null,
            "_model_module": "@jupyter-widgets/controls",
            "layout": "IPY_MODEL_31032d3a1d334c35b65a2c4326202a45"
          }
        },
        "50ddfa155efa4bf29aaa779a7abb68b7": {
          "model_module": "@jupyter-widgets/controls",
          "model_name": "HTMLModel",
          "state": {
            "_view_name": "HTMLView",
            "style": "IPY_MODEL_97fa90414fd8439280de9bb84d83b25c",
            "_dom_classes": [],
            "description": "",
            "_model_name": "HTMLModel",
            "placeholder": "​",
            "_view_module": "@jupyter-widgets/controls",
            "_model_module_version": "1.5.0",
            "value": "100% 20/20 [00:00&lt;00:00, 84.60it/s]",
            "_view_count": null,
            "_view_module_version": "1.5.0",
            "description_tooltip": null,
            "_model_module": "@jupyter-widgets/controls",
            "layout": "IPY_MODEL_caa39eaa5b244c51aa669c08bc7118b5"
          }
        },
        "b82fadbf6a77426a83a2aa84d2c67567": {
          "model_module": "@jupyter-widgets/controls",
          "model_name": "ProgressStyleModel",
          "state": {
            "_view_name": "StyleView",
            "_model_name": "ProgressStyleModel",
            "description_width": "initial",
            "_view_module": "@jupyter-widgets/base",
            "_model_module_version": "1.5.0",
            "_view_count": null,
            "_view_module_version": "1.2.0",
            "bar_color": null,
            "_model_module": "@jupyter-widgets/controls"
          }
        },
        "31032d3a1d334c35b65a2c4326202a45": {
          "model_module": "@jupyter-widgets/base",
          "model_name": "LayoutModel",
          "state": {
            "_view_name": "LayoutView",
            "grid_template_rows": null,
            "right": null,
            "justify_content": null,
            "_view_module": "@jupyter-widgets/base",
            "overflow": null,
            "_model_module_version": "1.2.0",
            "_view_count": null,
            "flex_flow": null,
            "width": null,
            "min_width": null,
            "border": null,
            "align_items": null,
            "bottom": null,
            "_model_module": "@jupyter-widgets/base",
            "top": null,
            "grid_column": null,
            "overflow_y": null,
            "overflow_x": null,
            "grid_auto_flow": null,
            "grid_area": null,
            "grid_template_columns": null,
            "flex": null,
            "_model_name": "LayoutModel",
            "justify_items": null,
            "grid_row": null,
            "max_height": null,
            "align_content": null,
            "visibility": null,
            "align_self": null,
            "height": null,
            "min_height": null,
            "padding": null,
            "grid_auto_rows": null,
            "grid_gap": null,
            "max_width": null,
            "order": null,
            "_view_module_version": "1.2.0",
            "grid_template_areas": null,
            "object_position": null,
            "object_fit": null,
            "grid_auto_columns": null,
            "margin": null,
            "display": null,
            "left": null
          }
        },
        "97fa90414fd8439280de9bb84d83b25c": {
          "model_module": "@jupyter-widgets/controls",
          "model_name": "DescriptionStyleModel",
          "state": {
            "_view_name": "StyleView",
            "_model_name": "DescriptionStyleModel",
            "description_width": "",
            "_view_module": "@jupyter-widgets/base",
            "_model_module_version": "1.5.0",
            "_view_count": null,
            "_view_module_version": "1.2.0",
            "_model_module": "@jupyter-widgets/controls"
          }
        },
        "caa39eaa5b244c51aa669c08bc7118b5": {
          "model_module": "@jupyter-widgets/base",
          "model_name": "LayoutModel",
          "state": {
            "_view_name": "LayoutView",
            "grid_template_rows": null,
            "right": null,
            "justify_content": null,
            "_view_module": "@jupyter-widgets/base",
            "overflow": null,
            "_model_module_version": "1.2.0",
            "_view_count": null,
            "flex_flow": null,
            "width": null,
            "min_width": null,
            "border": null,
            "align_items": null,
            "bottom": null,
            "_model_module": "@jupyter-widgets/base",
            "top": null,
            "grid_column": null,
            "overflow_y": null,
            "overflow_x": null,
            "grid_auto_flow": null,
            "grid_area": null,
            "grid_template_columns": null,
            "flex": null,
            "_model_name": "LayoutModel",
            "justify_items": null,
            "grid_row": null,
            "max_height": null,
            "align_content": null,
            "visibility": null,
            "align_self": null,
            "height": null,
            "min_height": null,
            "padding": null,
            "grid_auto_rows": null,
            "grid_gap": null,
            "max_width": null,
            "order": null,
            "_view_module_version": "1.2.0",
            "grid_template_areas": null,
            "object_position": null,
            "object_fit": null,
            "grid_auto_columns": null,
            "margin": null,
            "display": null,
            "left": null
          }
        },
        "6e74a5eecbbc4824892244d1ee7a8959": {
          "model_module": "@jupyter-widgets/controls",
          "model_name": "HBoxModel",
          "state": {
            "_view_name": "HBoxView",
            "_dom_classes": [],
            "_model_name": "HBoxModel",
            "_view_module": "@jupyter-widgets/controls",
            "_model_module_version": "1.5.0",
            "_view_count": null,
            "_view_module_version": "1.5.0",
            "box_style": "",
            "layout": "IPY_MODEL_e01df7cfda3b4f8aa612ea707cc2905e",
            "_model_module": "@jupyter-widgets/controls",
            "children": [
              "IPY_MODEL_51fd64fb8ea141dd83cf9698f59896ca",
              "IPY_MODEL_aaec8dcb505c470a81be544632f9a1f0"
            ]
          }
        },
        "e01df7cfda3b4f8aa612ea707cc2905e": {
          "model_module": "@jupyter-widgets/base",
          "model_name": "LayoutModel",
          "state": {
            "_view_name": "LayoutView",
            "grid_template_rows": null,
            "right": null,
            "justify_content": null,
            "_view_module": "@jupyter-widgets/base",
            "overflow": null,
            "_model_module_version": "1.2.0",
            "_view_count": null,
            "flex_flow": null,
            "width": null,
            "min_width": null,
            "border": null,
            "align_items": null,
            "bottom": null,
            "_model_module": "@jupyter-widgets/base",
            "top": null,
            "grid_column": null,
            "overflow_y": null,
            "overflow_x": null,
            "grid_auto_flow": null,
            "grid_area": null,
            "grid_template_columns": null,
            "flex": null,
            "_model_name": "LayoutModel",
            "justify_items": null,
            "grid_row": null,
            "max_height": null,
            "align_content": null,
            "visibility": null,
            "align_self": null,
            "height": null,
            "min_height": null,
            "padding": null,
            "grid_auto_rows": null,
            "grid_gap": null,
            "max_width": null,
            "order": null,
            "_view_module_version": "1.2.0",
            "grid_template_areas": null,
            "object_position": null,
            "object_fit": null,
            "grid_auto_columns": null,
            "margin": null,
            "display": null,
            "left": null
          }
        },
        "51fd64fb8ea141dd83cf9698f59896ca": {
          "model_module": "@jupyter-widgets/controls",
          "model_name": "IntProgressModel",
          "state": {
            "_view_name": "ProgressView",
            "style": "IPY_MODEL_617cc725cb3d4b14b0bb6a62fd63a539",
            "_dom_classes": [],
            "description": "patents",
            "_model_name": "IntProgressModel",
            "bar_style": "success",
            "max": 20,
            "_view_module": "@jupyter-widgets/controls",
            "_model_module_version": "1.5.0",
            "value": 20,
            "_view_count": null,
            "_view_module_version": "1.5.0",
            "orientation": "horizontal",
            "min": 0,
            "description_tooltip": null,
            "_model_module": "@jupyter-widgets/controls",
            "layout": "IPY_MODEL_b9f2e4043b304d2baead14f412d1e6d8"
          }
        },
        "aaec8dcb505c470a81be544632f9a1f0": {
          "model_module": "@jupyter-widgets/controls",
          "model_name": "HTMLModel",
          "state": {
            "_view_name": "HTMLView",
            "style": "IPY_MODEL_1ea5d65655a440b69a4d02b0600c7c98",
            "_dom_classes": [],
            "description": "",
            "_model_name": "HTMLModel",
            "placeholder": "​",
            "_view_module": "@jupyter-widgets/controls",
            "_model_module_version": "1.5.0",
            "value": "100% 20/20 [00:00&lt;00:00, 102.56it/s]",
            "_view_count": null,
            "_view_module_version": "1.5.0",
            "description_tooltip": null,
            "_model_module": "@jupyter-widgets/controls",
            "layout": "IPY_MODEL_64c7d15f4ad54803bddda948fc5a0c8f"
          }
        },
        "617cc725cb3d4b14b0bb6a62fd63a539": {
          "model_module": "@jupyter-widgets/controls",
          "model_name": "ProgressStyleModel",
          "state": {
            "_view_name": "StyleView",
            "_model_name": "ProgressStyleModel",
            "description_width": "initial",
            "_view_module": "@jupyter-widgets/base",
            "_model_module_version": "1.5.0",
            "_view_count": null,
            "_view_module_version": "1.2.0",
            "bar_color": null,
            "_model_module": "@jupyter-widgets/controls"
          }
        },
        "b9f2e4043b304d2baead14f412d1e6d8": {
          "model_module": "@jupyter-widgets/base",
          "model_name": "LayoutModel",
          "state": {
            "_view_name": "LayoutView",
            "grid_template_rows": null,
            "right": null,
            "justify_content": null,
            "_view_module": "@jupyter-widgets/base",
            "overflow": null,
            "_model_module_version": "1.2.0",
            "_view_count": null,
            "flex_flow": null,
            "width": null,
            "min_width": null,
            "border": null,
            "align_items": null,
            "bottom": null,
            "_model_module": "@jupyter-widgets/base",
            "top": null,
            "grid_column": null,
            "overflow_y": null,
            "overflow_x": null,
            "grid_auto_flow": null,
            "grid_area": null,
            "grid_template_columns": null,
            "flex": null,
            "_model_name": "LayoutModel",
            "justify_items": null,
            "grid_row": null,
            "max_height": null,
            "align_content": null,
            "visibility": null,
            "align_self": null,
            "height": null,
            "min_height": null,
            "padding": null,
            "grid_auto_rows": null,
            "grid_gap": null,
            "max_width": null,
            "order": null,
            "_view_module_version": "1.2.0",
            "grid_template_areas": null,
            "object_position": null,
            "object_fit": null,
            "grid_auto_columns": null,
            "margin": null,
            "display": null,
            "left": null
          }
        },
        "1ea5d65655a440b69a4d02b0600c7c98": {
          "model_module": "@jupyter-widgets/controls",
          "model_name": "DescriptionStyleModel",
          "state": {
            "_view_name": "StyleView",
            "_model_name": "DescriptionStyleModel",
            "description_width": "",
            "_view_module": "@jupyter-widgets/base",
            "_model_module_version": "1.5.0",
            "_view_count": null,
            "_view_module_version": "1.2.0",
            "_model_module": "@jupyter-widgets/controls"
          }
        },
        "64c7d15f4ad54803bddda948fc5a0c8f": {
          "model_module": "@jupyter-widgets/base",
          "model_name": "LayoutModel",
          "state": {
            "_view_name": "LayoutView",
            "grid_template_rows": null,
            "right": null,
            "justify_content": null,
            "_view_module": "@jupyter-widgets/base",
            "overflow": null,
            "_model_module_version": "1.2.0",
            "_view_count": null,
            "flex_flow": null,
            "width": null,
            "min_width": null,
            "border": null,
            "align_items": null,
            "bottom": null,
            "_model_module": "@jupyter-widgets/base",
            "top": null,
            "grid_column": null,
            "overflow_y": null,
            "overflow_x": null,
            "grid_auto_flow": null,
            "grid_area": null,
            "grid_template_columns": null,
            "flex": null,
            "_model_name": "LayoutModel",
            "justify_items": null,
            "grid_row": null,
            "max_height": null,
            "align_content": null,
            "visibility": null,
            "align_self": null,
            "height": null,
            "min_height": null,
            "padding": null,
            "grid_auto_rows": null,
            "grid_gap": null,
            "max_width": null,
            "order": null,
            "_view_module_version": "1.2.0",
            "grid_template_areas": null,
            "object_position": null,
            "object_fit": null,
            "grid_auto_columns": null,
            "margin": null,
            "display": null,
            "left": null
          }
        },
        "1b461d1f8865409dacf7277549aa7cee": {
          "model_module": "@jupyter-widgets/controls",
          "model_name": "HBoxModel",
          "state": {
            "_view_name": "HBoxView",
            "_dom_classes": [],
            "_model_name": "HBoxModel",
            "_view_module": "@jupyter-widgets/controls",
            "_model_module_version": "1.5.0",
            "_view_count": null,
            "_view_module_version": "1.5.0",
            "box_style": "",
            "layout": "IPY_MODEL_3526ff4092994670b898727e957aec6e",
            "_model_module": "@jupyter-widgets/controls",
            "children": [
              "IPY_MODEL_21f72d2c54104f6ebcdb581fdb124393",
              "IPY_MODEL_5a26d80c2f204ff9a44c8b314d2c2e25"
            ]
          }
        },
        "3526ff4092994670b898727e957aec6e": {
          "model_module": "@jupyter-widgets/base",
          "model_name": "LayoutModel",
          "state": {
            "_view_name": "LayoutView",
            "grid_template_rows": null,
            "right": null,
            "justify_content": null,
            "_view_module": "@jupyter-widgets/base",
            "overflow": null,
            "_model_module_version": "1.2.0",
            "_view_count": null,
            "flex_flow": null,
            "width": null,
            "min_width": null,
            "border": null,
            "align_items": null,
            "bottom": null,
            "_model_module": "@jupyter-widgets/base",
            "top": null,
            "grid_column": null,
            "overflow_y": null,
            "overflow_x": null,
            "grid_auto_flow": null,
            "grid_area": null,
            "grid_template_columns": null,
            "flex": null,
            "_model_name": "LayoutModel",
            "justify_items": null,
            "grid_row": null,
            "max_height": null,
            "align_content": null,
            "visibility": null,
            "align_self": null,
            "height": null,
            "min_height": null,
            "padding": null,
            "grid_auto_rows": null,
            "grid_gap": null,
            "max_width": null,
            "order": null,
            "_view_module_version": "1.2.0",
            "grid_template_areas": null,
            "object_position": null,
            "object_fit": null,
            "grid_auto_columns": null,
            "margin": null,
            "display": null,
            "left": null
          }
        },
        "21f72d2c54104f6ebcdb581fdb124393": {
          "model_module": "@jupyter-widgets/controls",
          "model_name": "IntProgressModel",
          "state": {
            "_view_name": "ProgressView",
            "style": "IPY_MODEL_30d98ab90d6543b396692b6986bd449d",
            "_dom_classes": [],
            "description": "CatList",
            "_model_name": "IntProgressModel",
            "bar_style": "success",
            "max": 4,
            "_view_module": "@jupyter-widgets/controls",
            "_model_module_version": "1.5.0",
            "value": 4,
            "_view_count": null,
            "_view_module_version": "1.5.0",
            "orientation": "horizontal",
            "min": 0,
            "description_tooltip": null,
            "_model_module": "@jupyter-widgets/controls",
            "layout": "IPY_MODEL_3f32542684b44510bc8dc4651dc78d36"
          }
        },
        "5a26d80c2f204ff9a44c8b314d2c2e25": {
          "model_module": "@jupyter-widgets/controls",
          "model_name": "HTMLModel",
          "state": {
            "_view_name": "HTMLView",
            "style": "IPY_MODEL_057b7aed751f4c3cb9503865a82084e5",
            "_dom_classes": [],
            "description": "",
            "_model_name": "HTMLModel",
            "placeholder": "​",
            "_view_module": "@jupyter-widgets/controls",
            "_model_module_version": "1.5.0",
            "value": "100% 4/4 [00:08&lt;00:00,  2.13s/it]",
            "_view_count": null,
            "_view_module_version": "1.5.0",
            "description_tooltip": null,
            "_model_module": "@jupyter-widgets/controls",
            "layout": "IPY_MODEL_098968938802419fa36c3c6e9d05fa23"
          }
        },
        "30d98ab90d6543b396692b6986bd449d": {
          "model_module": "@jupyter-widgets/controls",
          "model_name": "ProgressStyleModel",
          "state": {
            "_view_name": "StyleView",
            "_model_name": "ProgressStyleModel",
            "description_width": "initial",
            "_view_module": "@jupyter-widgets/base",
            "_model_module_version": "1.5.0",
            "_view_count": null,
            "_view_module_version": "1.2.0",
            "bar_color": null,
            "_model_module": "@jupyter-widgets/controls"
          }
        },
        "3f32542684b44510bc8dc4651dc78d36": {
          "model_module": "@jupyter-widgets/base",
          "model_name": "LayoutModel",
          "state": {
            "_view_name": "LayoutView",
            "grid_template_rows": null,
            "right": null,
            "justify_content": null,
            "_view_module": "@jupyter-widgets/base",
            "overflow": null,
            "_model_module_version": "1.2.0",
            "_view_count": null,
            "flex_flow": null,
            "width": null,
            "min_width": null,
            "border": null,
            "align_items": null,
            "bottom": null,
            "_model_module": "@jupyter-widgets/base",
            "top": null,
            "grid_column": null,
            "overflow_y": null,
            "overflow_x": null,
            "grid_auto_flow": null,
            "grid_area": null,
            "grid_template_columns": null,
            "flex": null,
            "_model_name": "LayoutModel",
            "justify_items": null,
            "grid_row": null,
            "max_height": null,
            "align_content": null,
            "visibility": null,
            "align_self": null,
            "height": null,
            "min_height": null,
            "padding": null,
            "grid_auto_rows": null,
            "grid_gap": null,
            "max_width": null,
            "order": null,
            "_view_module_version": "1.2.0",
            "grid_template_areas": null,
            "object_position": null,
            "object_fit": null,
            "grid_auto_columns": null,
            "margin": null,
            "display": null,
            "left": null
          }
        },
        "057b7aed751f4c3cb9503865a82084e5": {
          "model_module": "@jupyter-widgets/controls",
          "model_name": "DescriptionStyleModel",
          "state": {
            "_view_name": "StyleView",
            "_model_name": "DescriptionStyleModel",
            "description_width": "",
            "_view_module": "@jupyter-widgets/base",
            "_model_module_version": "1.5.0",
            "_view_count": null,
            "_view_module_version": "1.2.0",
            "_model_module": "@jupyter-widgets/controls"
          }
        },
        "098968938802419fa36c3c6e9d05fa23": {
          "model_module": "@jupyter-widgets/base",
          "model_name": "LayoutModel",
          "state": {
            "_view_name": "LayoutView",
            "grid_template_rows": null,
            "right": null,
            "justify_content": null,
            "_view_module": "@jupyter-widgets/base",
            "overflow": null,
            "_model_module_version": "1.2.0",
            "_view_count": null,
            "flex_flow": null,
            "width": null,
            "min_width": null,
            "border": null,
            "align_items": null,
            "bottom": null,
            "_model_module": "@jupyter-widgets/base",
            "top": null,
            "grid_column": null,
            "overflow_y": null,
            "overflow_x": null,
            "grid_auto_flow": null,
            "grid_area": null,
            "grid_template_columns": null,
            "flex": null,
            "_model_name": "LayoutModel",
            "justify_items": null,
            "grid_row": null,
            "max_height": null,
            "align_content": null,
            "visibility": null,
            "align_self": null,
            "height": null,
            "min_height": null,
            "padding": null,
            "grid_auto_rows": null,
            "grid_gap": null,
            "max_width": null,
            "order": null,
            "_view_module_version": "1.2.0",
            "grid_template_areas": null,
            "object_position": null,
            "object_fit": null,
            "grid_auto_columns": null,
            "margin": null,
            "display": null,
            "left": null
          }
        },
        "f91635178a5242d48cdcc90e9cc10dc2": {
          "model_module": "@jupyter-widgets/controls",
          "model_name": "HBoxModel",
          "state": {
            "_view_name": "HBoxView",
            "_dom_classes": [],
            "_model_name": "HBoxModel",
            "_view_module": "@jupyter-widgets/controls",
            "_model_module_version": "1.5.0",
            "_view_count": null,
            "_view_module_version": "1.5.0",
            "box_style": "",
            "layout": "IPY_MODEL_04ca02101c4143b1a4204eb0ad9befbb",
            "_model_module": "@jupyter-widgets/controls",
            "children": [
              "IPY_MODEL_0f53875d546d4b06a5f19dccf7222993",
              "IPY_MODEL_fdfe735f4a494c4ab70dcf69d0b495ad"
            ]
          }
        },
        "04ca02101c4143b1a4204eb0ad9befbb": {
          "model_module": "@jupyter-widgets/base",
          "model_name": "LayoutModel",
          "state": {
            "_view_name": "LayoutView",
            "grid_template_rows": null,
            "right": null,
            "justify_content": null,
            "_view_module": "@jupyter-widgets/base",
            "overflow": null,
            "_model_module_version": "1.2.0",
            "_view_count": null,
            "flex_flow": null,
            "width": null,
            "min_width": null,
            "border": null,
            "align_items": null,
            "bottom": null,
            "_model_module": "@jupyter-widgets/base",
            "top": null,
            "grid_column": null,
            "overflow_y": null,
            "overflow_x": null,
            "grid_auto_flow": null,
            "grid_area": null,
            "grid_template_columns": null,
            "flex": null,
            "_model_name": "LayoutModel",
            "justify_items": null,
            "grid_row": null,
            "max_height": null,
            "align_content": null,
            "visibility": null,
            "align_self": null,
            "height": null,
            "min_height": null,
            "padding": null,
            "grid_auto_rows": null,
            "grid_gap": null,
            "max_width": null,
            "order": null,
            "_view_module_version": "1.2.0",
            "grid_template_areas": null,
            "object_position": null,
            "object_fit": null,
            "grid_auto_columns": null,
            "margin": null,
            "display": null,
            "left": null
          }
        },
        "0f53875d546d4b06a5f19dccf7222993": {
          "model_module": "@jupyter-widgets/controls",
          "model_name": "IntProgressModel",
          "state": {
            "_view_name": "ProgressView",
            "style": "IPY_MODEL_2a49c7b966cb43acb03a570f3d5da82a",
            "_dom_classes": [],
            "description": "patents",
            "_model_name": "IntProgressModel",
            "bar_style": "success",
            "max": 280,
            "_view_module": "@jupyter-widgets/controls",
            "_model_module_version": "1.5.0",
            "value": 280,
            "_view_count": null,
            "_view_module_version": "1.5.0",
            "orientation": "horizontal",
            "min": 0,
            "description_tooltip": null,
            "_model_module": "@jupyter-widgets/controls",
            "layout": "IPY_MODEL_ee79f0173a094e149b0dc93f9e1e5ca2"
          }
        },
        "fdfe735f4a494c4ab70dcf69d0b495ad": {
          "model_module": "@jupyter-widgets/controls",
          "model_name": "HTMLModel",
          "state": {
            "_view_name": "HTMLView",
            "style": "IPY_MODEL_84c7937cbd9d4fefb9caf824b3a34811",
            "_dom_classes": [],
            "description": "",
            "_model_name": "HTMLModel",
            "placeholder": "​",
            "_view_module": "@jupyter-widgets/controls",
            "_model_module_version": "1.5.0",
            "value": "100% 280/280 [00:02&lt;00:00, 134.16it/s]",
            "_view_count": null,
            "_view_module_version": "1.5.0",
            "description_tooltip": null,
            "_model_module": "@jupyter-widgets/controls",
            "layout": "IPY_MODEL_c8a725d9eb3245dfb8378062bcb90f24"
          }
        },
        "2a49c7b966cb43acb03a570f3d5da82a": {
          "model_module": "@jupyter-widgets/controls",
          "model_name": "ProgressStyleModel",
          "state": {
            "_view_name": "StyleView",
            "_model_name": "ProgressStyleModel",
            "description_width": "initial",
            "_view_module": "@jupyter-widgets/base",
            "_model_module_version": "1.5.0",
            "_view_count": null,
            "_view_module_version": "1.2.0",
            "bar_color": null,
            "_model_module": "@jupyter-widgets/controls"
          }
        },
        "ee79f0173a094e149b0dc93f9e1e5ca2": {
          "model_module": "@jupyter-widgets/base",
          "model_name": "LayoutModel",
          "state": {
            "_view_name": "LayoutView",
            "grid_template_rows": null,
            "right": null,
            "justify_content": null,
            "_view_module": "@jupyter-widgets/base",
            "overflow": null,
            "_model_module_version": "1.2.0",
            "_view_count": null,
            "flex_flow": null,
            "width": null,
            "min_width": null,
            "border": null,
            "align_items": null,
            "bottom": null,
            "_model_module": "@jupyter-widgets/base",
            "top": null,
            "grid_column": null,
            "overflow_y": null,
            "overflow_x": null,
            "grid_auto_flow": null,
            "grid_area": null,
            "grid_template_columns": null,
            "flex": null,
            "_model_name": "LayoutModel",
            "justify_items": null,
            "grid_row": null,
            "max_height": null,
            "align_content": null,
            "visibility": null,
            "align_self": null,
            "height": null,
            "min_height": null,
            "padding": null,
            "grid_auto_rows": null,
            "grid_gap": null,
            "max_width": null,
            "order": null,
            "_view_module_version": "1.2.0",
            "grid_template_areas": null,
            "object_position": null,
            "object_fit": null,
            "grid_auto_columns": null,
            "margin": null,
            "display": null,
            "left": null
          }
        },
        "84c7937cbd9d4fefb9caf824b3a34811": {
          "model_module": "@jupyter-widgets/controls",
          "model_name": "DescriptionStyleModel",
          "state": {
            "_view_name": "StyleView",
            "_model_name": "DescriptionStyleModel",
            "description_width": "",
            "_view_module": "@jupyter-widgets/base",
            "_model_module_version": "1.5.0",
            "_view_count": null,
            "_view_module_version": "1.2.0",
            "_model_module": "@jupyter-widgets/controls"
          }
        },
        "c8a725d9eb3245dfb8378062bcb90f24": {
          "model_module": "@jupyter-widgets/base",
          "model_name": "LayoutModel",
          "state": {
            "_view_name": "LayoutView",
            "grid_template_rows": null,
            "right": null,
            "justify_content": null,
            "_view_module": "@jupyter-widgets/base",
            "overflow": null,
            "_model_module_version": "1.2.0",
            "_view_count": null,
            "flex_flow": null,
            "width": null,
            "min_width": null,
            "border": null,
            "align_items": null,
            "bottom": null,
            "_model_module": "@jupyter-widgets/base",
            "top": null,
            "grid_column": null,
            "overflow_y": null,
            "overflow_x": null,
            "grid_auto_flow": null,
            "grid_area": null,
            "grid_template_columns": null,
            "flex": null,
            "_model_name": "LayoutModel",
            "justify_items": null,
            "grid_row": null,
            "max_height": null,
            "align_content": null,
            "visibility": null,
            "align_self": null,
            "height": null,
            "min_height": null,
            "padding": null,
            "grid_auto_rows": null,
            "grid_gap": null,
            "max_width": null,
            "order": null,
            "_view_module_version": "1.2.0",
            "grid_template_areas": null,
            "object_position": null,
            "object_fit": null,
            "grid_auto_columns": null,
            "margin": null,
            "display": null,
            "left": null
          }
        },
        "3fbcbb7c49014445b79c8a2f5ef6e39c": {
          "model_module": "@jupyter-widgets/controls",
          "model_name": "HBoxModel",
          "state": {
            "_view_name": "HBoxView",
            "_dom_classes": [],
            "_model_name": "HBoxModel",
            "_view_module": "@jupyter-widgets/controls",
            "_model_module_version": "1.5.0",
            "_view_count": null,
            "_view_module_version": "1.5.0",
            "box_style": "",
            "layout": "IPY_MODEL_09d6b9893e9c4a74ae6cd8308f485f9d",
            "_model_module": "@jupyter-widgets/controls",
            "children": [
              "IPY_MODEL_de52bc7675304d1e93061f2afe75cfd2",
              "IPY_MODEL_553a9102b803428894925784572e03d7"
            ]
          }
        },
        "09d6b9893e9c4a74ae6cd8308f485f9d": {
          "model_module": "@jupyter-widgets/base",
          "model_name": "LayoutModel",
          "state": {
            "_view_name": "LayoutView",
            "grid_template_rows": null,
            "right": null,
            "justify_content": null,
            "_view_module": "@jupyter-widgets/base",
            "overflow": null,
            "_model_module_version": "1.2.0",
            "_view_count": null,
            "flex_flow": null,
            "width": null,
            "min_width": null,
            "border": null,
            "align_items": null,
            "bottom": null,
            "_model_module": "@jupyter-widgets/base",
            "top": null,
            "grid_column": null,
            "overflow_y": null,
            "overflow_x": null,
            "grid_auto_flow": null,
            "grid_area": null,
            "grid_template_columns": null,
            "flex": null,
            "_model_name": "LayoutModel",
            "justify_items": null,
            "grid_row": null,
            "max_height": null,
            "align_content": null,
            "visibility": null,
            "align_self": null,
            "height": null,
            "min_height": null,
            "padding": null,
            "grid_auto_rows": null,
            "grid_gap": null,
            "max_width": null,
            "order": null,
            "_view_module_version": "1.2.0",
            "grid_template_areas": null,
            "object_position": null,
            "object_fit": null,
            "grid_auto_columns": null,
            "margin": null,
            "display": null,
            "left": null
          }
        },
        "de52bc7675304d1e93061f2afe75cfd2": {
          "model_module": "@jupyter-widgets/controls",
          "model_name": "IntProgressModel",
          "state": {
            "_view_name": "ProgressView",
            "style": "IPY_MODEL_cd50dd736289407a979e323ed8cf02ca",
            "_dom_classes": [],
            "description": "patents",
            "_model_name": "IntProgressModel",
            "bar_style": "success",
            "max": 280,
            "_view_module": "@jupyter-widgets/controls",
            "_model_module_version": "1.5.0",
            "value": 280,
            "_view_count": null,
            "_view_module_version": "1.5.0",
            "orientation": "horizontal",
            "min": 0,
            "description_tooltip": null,
            "_model_module": "@jupyter-widgets/controls",
            "layout": "IPY_MODEL_dba79336105c4804b3cd0be156d88752"
          }
        },
        "553a9102b803428894925784572e03d7": {
          "model_module": "@jupyter-widgets/controls",
          "model_name": "HTMLModel",
          "state": {
            "_view_name": "HTMLView",
            "style": "IPY_MODEL_1b26bf52a1c44ff48d3dd20ccf3e006d",
            "_dom_classes": [],
            "description": "",
            "_model_name": "HTMLModel",
            "placeholder": "​",
            "_view_module": "@jupyter-widgets/controls",
            "_model_module_version": "1.5.0",
            "value": "100% 280/280 [00:01&lt;00:00, 155.51it/s]",
            "_view_count": null,
            "_view_module_version": "1.5.0",
            "description_tooltip": null,
            "_model_module": "@jupyter-widgets/controls",
            "layout": "IPY_MODEL_0d088986710546a88a4849e53fe422e3"
          }
        },
        "cd50dd736289407a979e323ed8cf02ca": {
          "model_module": "@jupyter-widgets/controls",
          "model_name": "ProgressStyleModel",
          "state": {
            "_view_name": "StyleView",
            "_model_name": "ProgressStyleModel",
            "description_width": "initial",
            "_view_module": "@jupyter-widgets/base",
            "_model_module_version": "1.5.0",
            "_view_count": null,
            "_view_module_version": "1.2.0",
            "bar_color": null,
            "_model_module": "@jupyter-widgets/controls"
          }
        },
        "dba79336105c4804b3cd0be156d88752": {
          "model_module": "@jupyter-widgets/base",
          "model_name": "LayoutModel",
          "state": {
            "_view_name": "LayoutView",
            "grid_template_rows": null,
            "right": null,
            "justify_content": null,
            "_view_module": "@jupyter-widgets/base",
            "overflow": null,
            "_model_module_version": "1.2.0",
            "_view_count": null,
            "flex_flow": null,
            "width": null,
            "min_width": null,
            "border": null,
            "align_items": null,
            "bottom": null,
            "_model_module": "@jupyter-widgets/base",
            "top": null,
            "grid_column": null,
            "overflow_y": null,
            "overflow_x": null,
            "grid_auto_flow": null,
            "grid_area": null,
            "grid_template_columns": null,
            "flex": null,
            "_model_name": "LayoutModel",
            "justify_items": null,
            "grid_row": null,
            "max_height": null,
            "align_content": null,
            "visibility": null,
            "align_self": null,
            "height": null,
            "min_height": null,
            "padding": null,
            "grid_auto_rows": null,
            "grid_gap": null,
            "max_width": null,
            "order": null,
            "_view_module_version": "1.2.0",
            "grid_template_areas": null,
            "object_position": null,
            "object_fit": null,
            "grid_auto_columns": null,
            "margin": null,
            "display": null,
            "left": null
          }
        },
        "1b26bf52a1c44ff48d3dd20ccf3e006d": {
          "model_module": "@jupyter-widgets/controls",
          "model_name": "DescriptionStyleModel",
          "state": {
            "_view_name": "StyleView",
            "_model_name": "DescriptionStyleModel",
            "description_width": "",
            "_view_module": "@jupyter-widgets/base",
            "_model_module_version": "1.5.0",
            "_view_count": null,
            "_view_module_version": "1.2.0",
            "_model_module": "@jupyter-widgets/controls"
          }
        },
        "0d088986710546a88a4849e53fe422e3": {
          "model_module": "@jupyter-widgets/base",
          "model_name": "LayoutModel",
          "state": {
            "_view_name": "LayoutView",
            "grid_template_rows": null,
            "right": null,
            "justify_content": null,
            "_view_module": "@jupyter-widgets/base",
            "overflow": null,
            "_model_module_version": "1.2.0",
            "_view_count": null,
            "flex_flow": null,
            "width": null,
            "min_width": null,
            "border": null,
            "align_items": null,
            "bottom": null,
            "_model_module": "@jupyter-widgets/base",
            "top": null,
            "grid_column": null,
            "overflow_y": null,
            "overflow_x": null,
            "grid_auto_flow": null,
            "grid_area": null,
            "grid_template_columns": null,
            "flex": null,
            "_model_name": "LayoutModel",
            "justify_items": null,
            "grid_row": null,
            "max_height": null,
            "align_content": null,
            "visibility": null,
            "align_self": null,
            "height": null,
            "min_height": null,
            "padding": null,
            "grid_auto_rows": null,
            "grid_gap": null,
            "max_width": null,
            "order": null,
            "_view_module_version": "1.2.0",
            "grid_template_areas": null,
            "object_position": null,
            "object_fit": null,
            "grid_auto_columns": null,
            "margin": null,
            "display": null,
            "left": null
          }
        },
        "e49da54d5e5943b29e0e9b202b5d2cf2": {
          "model_module": "@jupyter-widgets/controls",
          "model_name": "HBoxModel",
          "state": {
            "_view_name": "HBoxView",
            "_dom_classes": [],
            "_model_name": "HBoxModel",
            "_view_module": "@jupyter-widgets/controls",
            "_model_module_version": "1.5.0",
            "_view_count": null,
            "_view_module_version": "1.5.0",
            "box_style": "",
            "layout": "IPY_MODEL_6a78264f9450458e82753e08c2e24af9",
            "_model_module": "@jupyter-widgets/controls",
            "children": [
              "IPY_MODEL_2487e5911b7948c394d8f3b7b3ce1711",
              "IPY_MODEL_8b1b9f15d940415083ba2a337eb1ee69"
            ]
          }
        },
        "6a78264f9450458e82753e08c2e24af9": {
          "model_module": "@jupyter-widgets/base",
          "model_name": "LayoutModel",
          "state": {
            "_view_name": "LayoutView",
            "grid_template_rows": null,
            "right": null,
            "justify_content": null,
            "_view_module": "@jupyter-widgets/base",
            "overflow": null,
            "_model_module_version": "1.2.0",
            "_view_count": null,
            "flex_flow": null,
            "width": null,
            "min_width": null,
            "border": null,
            "align_items": null,
            "bottom": null,
            "_model_module": "@jupyter-widgets/base",
            "top": null,
            "grid_column": null,
            "overflow_y": null,
            "overflow_x": null,
            "grid_auto_flow": null,
            "grid_area": null,
            "grid_template_columns": null,
            "flex": null,
            "_model_name": "LayoutModel",
            "justify_items": null,
            "grid_row": null,
            "max_height": null,
            "align_content": null,
            "visibility": null,
            "align_self": null,
            "height": null,
            "min_height": null,
            "padding": null,
            "grid_auto_rows": null,
            "grid_gap": null,
            "max_width": null,
            "order": null,
            "_view_module_version": "1.2.0",
            "grid_template_areas": null,
            "object_position": null,
            "object_fit": null,
            "grid_auto_columns": null,
            "margin": null,
            "display": null,
            "left": null
          }
        },
        "2487e5911b7948c394d8f3b7b3ce1711": {
          "model_module": "@jupyter-widgets/controls",
          "model_name": "IntProgressModel",
          "state": {
            "_view_name": "ProgressView",
            "style": "IPY_MODEL_09a1c3f283044d76a7b7f747313f11c2",
            "_dom_classes": [],
            "description": "patents",
            "_model_name": "IntProgressModel",
            "bar_style": "success",
            "max": 280,
            "_view_module": "@jupyter-widgets/controls",
            "_model_module_version": "1.5.0",
            "value": 280,
            "_view_count": null,
            "_view_module_version": "1.5.0",
            "orientation": "horizontal",
            "min": 0,
            "description_tooltip": null,
            "_model_module": "@jupyter-widgets/controls",
            "layout": "IPY_MODEL_70c9b97eb68e41d498c4a65910beb020"
          }
        },
        "8b1b9f15d940415083ba2a337eb1ee69": {
          "model_module": "@jupyter-widgets/controls",
          "model_name": "HTMLModel",
          "state": {
            "_view_name": "HTMLView",
            "style": "IPY_MODEL_a690c981bcb04023b8e0872336377c59",
            "_dom_classes": [],
            "description": "",
            "_model_name": "HTMLModel",
            "placeholder": "​",
            "_view_module": "@jupyter-widgets/controls",
            "_model_module_version": "1.5.0",
            "value": "100% 280/280 [00:02&lt;00:00, 119.66it/s]",
            "_view_count": null,
            "_view_module_version": "1.5.0",
            "description_tooltip": null,
            "_model_module": "@jupyter-widgets/controls",
            "layout": "IPY_MODEL_37b8f220dbcc483f93928f474758c96c"
          }
        },
        "09a1c3f283044d76a7b7f747313f11c2": {
          "model_module": "@jupyter-widgets/controls",
          "model_name": "ProgressStyleModel",
          "state": {
            "_view_name": "StyleView",
            "_model_name": "ProgressStyleModel",
            "description_width": "initial",
            "_view_module": "@jupyter-widgets/base",
            "_model_module_version": "1.5.0",
            "_view_count": null,
            "_view_module_version": "1.2.0",
            "bar_color": null,
            "_model_module": "@jupyter-widgets/controls"
          }
        },
        "70c9b97eb68e41d498c4a65910beb020": {
          "model_module": "@jupyter-widgets/base",
          "model_name": "LayoutModel",
          "state": {
            "_view_name": "LayoutView",
            "grid_template_rows": null,
            "right": null,
            "justify_content": null,
            "_view_module": "@jupyter-widgets/base",
            "overflow": null,
            "_model_module_version": "1.2.0",
            "_view_count": null,
            "flex_flow": null,
            "width": null,
            "min_width": null,
            "border": null,
            "align_items": null,
            "bottom": null,
            "_model_module": "@jupyter-widgets/base",
            "top": null,
            "grid_column": null,
            "overflow_y": null,
            "overflow_x": null,
            "grid_auto_flow": null,
            "grid_area": null,
            "grid_template_columns": null,
            "flex": null,
            "_model_name": "LayoutModel",
            "justify_items": null,
            "grid_row": null,
            "max_height": null,
            "align_content": null,
            "visibility": null,
            "align_self": null,
            "height": null,
            "min_height": null,
            "padding": null,
            "grid_auto_rows": null,
            "grid_gap": null,
            "max_width": null,
            "order": null,
            "_view_module_version": "1.2.0",
            "grid_template_areas": null,
            "object_position": null,
            "object_fit": null,
            "grid_auto_columns": null,
            "margin": null,
            "display": null,
            "left": null
          }
        },
        "a690c981bcb04023b8e0872336377c59": {
          "model_module": "@jupyter-widgets/controls",
          "model_name": "DescriptionStyleModel",
          "state": {
            "_view_name": "StyleView",
            "_model_name": "DescriptionStyleModel",
            "description_width": "",
            "_view_module": "@jupyter-widgets/base",
            "_model_module_version": "1.5.0",
            "_view_count": null,
            "_view_module_version": "1.2.0",
            "_model_module": "@jupyter-widgets/controls"
          }
        },
        "37b8f220dbcc483f93928f474758c96c": {
          "model_module": "@jupyter-widgets/base",
          "model_name": "LayoutModel",
          "state": {
            "_view_name": "LayoutView",
            "grid_template_rows": null,
            "right": null,
            "justify_content": null,
            "_view_module": "@jupyter-widgets/base",
            "overflow": null,
            "_model_module_version": "1.2.0",
            "_view_count": null,
            "flex_flow": null,
            "width": null,
            "min_width": null,
            "border": null,
            "align_items": null,
            "bottom": null,
            "_model_module": "@jupyter-widgets/base",
            "top": null,
            "grid_column": null,
            "overflow_y": null,
            "overflow_x": null,
            "grid_auto_flow": null,
            "grid_area": null,
            "grid_template_columns": null,
            "flex": null,
            "_model_name": "LayoutModel",
            "justify_items": null,
            "grid_row": null,
            "max_height": null,
            "align_content": null,
            "visibility": null,
            "align_self": null,
            "height": null,
            "min_height": null,
            "padding": null,
            "grid_auto_rows": null,
            "grid_gap": null,
            "max_width": null,
            "order": null,
            "_view_module_version": "1.2.0",
            "grid_template_areas": null,
            "object_position": null,
            "object_fit": null,
            "grid_auto_columns": null,
            "margin": null,
            "display": null,
            "left": null
          }
        },
        "e9c11b4e1eb34ce480e16b232dca9567": {
          "model_module": "@jupyter-widgets/controls",
          "model_name": "HBoxModel",
          "state": {
            "_view_name": "HBoxView",
            "_dom_classes": [],
            "_model_name": "HBoxModel",
            "_view_module": "@jupyter-widgets/controls",
            "_model_module_version": "1.5.0",
            "_view_count": null,
            "_view_module_version": "1.5.0",
            "box_style": "",
            "layout": "IPY_MODEL_4dd4be3549644edbbcfa6e494ad49daa",
            "_model_module": "@jupyter-widgets/controls",
            "children": [
              "IPY_MODEL_e12d7652251b4c1c9c89d16754e31615",
              "IPY_MODEL_837b49ede08c49de88dfcb6d0cb1ee62"
            ]
          }
        },
        "4dd4be3549644edbbcfa6e494ad49daa": {
          "model_module": "@jupyter-widgets/base",
          "model_name": "LayoutModel",
          "state": {
            "_view_name": "LayoutView",
            "grid_template_rows": null,
            "right": null,
            "justify_content": null,
            "_view_module": "@jupyter-widgets/base",
            "overflow": null,
            "_model_module_version": "1.2.0",
            "_view_count": null,
            "flex_flow": null,
            "width": null,
            "min_width": null,
            "border": null,
            "align_items": null,
            "bottom": null,
            "_model_module": "@jupyter-widgets/base",
            "top": null,
            "grid_column": null,
            "overflow_y": null,
            "overflow_x": null,
            "grid_auto_flow": null,
            "grid_area": null,
            "grid_template_columns": null,
            "flex": null,
            "_model_name": "LayoutModel",
            "justify_items": null,
            "grid_row": null,
            "max_height": null,
            "align_content": null,
            "visibility": null,
            "align_self": null,
            "height": null,
            "min_height": null,
            "padding": null,
            "grid_auto_rows": null,
            "grid_gap": null,
            "max_width": null,
            "order": null,
            "_view_module_version": "1.2.0",
            "grid_template_areas": null,
            "object_position": null,
            "object_fit": null,
            "grid_auto_columns": null,
            "margin": null,
            "display": null,
            "left": null
          }
        },
        "e12d7652251b4c1c9c89d16754e31615": {
          "model_module": "@jupyter-widgets/controls",
          "model_name": "IntProgressModel",
          "state": {
            "_view_name": "ProgressView",
            "style": "IPY_MODEL_e37f6e314a8440c694c14731350f4969",
            "_dom_classes": [],
            "description": "patents",
            "_model_name": "IntProgressModel",
            "bar_style": "success",
            "max": 280,
            "_view_module": "@jupyter-widgets/controls",
            "_model_module_version": "1.5.0",
            "value": 280,
            "_view_count": null,
            "_view_module_version": "1.5.0",
            "orientation": "horizontal",
            "min": 0,
            "description_tooltip": null,
            "_model_module": "@jupyter-widgets/controls",
            "layout": "IPY_MODEL_1049cb06971d46889b1fd3c1d574f95b"
          }
        },
        "837b49ede08c49de88dfcb6d0cb1ee62": {
          "model_module": "@jupyter-widgets/controls",
          "model_name": "HTMLModel",
          "state": {
            "_view_name": "HTMLView",
            "style": "IPY_MODEL_30dffb28fffc42f6b6750054a785fa3b",
            "_dom_classes": [],
            "description": "",
            "_model_name": "HTMLModel",
            "placeholder": "​",
            "_view_module": "@jupyter-widgets/controls",
            "_model_module_version": "1.5.0",
            "value": "100% 280/280 [00:02&lt;00:00, 130.31it/s]",
            "_view_count": null,
            "_view_module_version": "1.5.0",
            "description_tooltip": null,
            "_model_module": "@jupyter-widgets/controls",
            "layout": "IPY_MODEL_5b5a95238ded40dc80c425805f6e879b"
          }
        },
        "e37f6e314a8440c694c14731350f4969": {
          "model_module": "@jupyter-widgets/controls",
          "model_name": "ProgressStyleModel",
          "state": {
            "_view_name": "StyleView",
            "_model_name": "ProgressStyleModel",
            "description_width": "initial",
            "_view_module": "@jupyter-widgets/base",
            "_model_module_version": "1.5.0",
            "_view_count": null,
            "_view_module_version": "1.2.0",
            "bar_color": null,
            "_model_module": "@jupyter-widgets/controls"
          }
        },
        "1049cb06971d46889b1fd3c1d574f95b": {
          "model_module": "@jupyter-widgets/base",
          "model_name": "LayoutModel",
          "state": {
            "_view_name": "LayoutView",
            "grid_template_rows": null,
            "right": null,
            "justify_content": null,
            "_view_module": "@jupyter-widgets/base",
            "overflow": null,
            "_model_module_version": "1.2.0",
            "_view_count": null,
            "flex_flow": null,
            "width": null,
            "min_width": null,
            "border": null,
            "align_items": null,
            "bottom": null,
            "_model_module": "@jupyter-widgets/base",
            "top": null,
            "grid_column": null,
            "overflow_y": null,
            "overflow_x": null,
            "grid_auto_flow": null,
            "grid_area": null,
            "grid_template_columns": null,
            "flex": null,
            "_model_name": "LayoutModel",
            "justify_items": null,
            "grid_row": null,
            "max_height": null,
            "align_content": null,
            "visibility": null,
            "align_self": null,
            "height": null,
            "min_height": null,
            "padding": null,
            "grid_auto_rows": null,
            "grid_gap": null,
            "max_width": null,
            "order": null,
            "_view_module_version": "1.2.0",
            "grid_template_areas": null,
            "object_position": null,
            "object_fit": null,
            "grid_auto_columns": null,
            "margin": null,
            "display": null,
            "left": null
          }
        },
        "30dffb28fffc42f6b6750054a785fa3b": {
          "model_module": "@jupyter-widgets/controls",
          "model_name": "DescriptionStyleModel",
          "state": {
            "_view_name": "StyleView",
            "_model_name": "DescriptionStyleModel",
            "description_width": "",
            "_view_module": "@jupyter-widgets/base",
            "_model_module_version": "1.5.0",
            "_view_count": null,
            "_view_module_version": "1.2.0",
            "_model_module": "@jupyter-widgets/controls"
          }
        },
        "5b5a95238ded40dc80c425805f6e879b": {
          "model_module": "@jupyter-widgets/base",
          "model_name": "LayoutModel",
          "state": {
            "_view_name": "LayoutView",
            "grid_template_rows": null,
            "right": null,
            "justify_content": null,
            "_view_module": "@jupyter-widgets/base",
            "overflow": null,
            "_model_module_version": "1.2.0",
            "_view_count": null,
            "flex_flow": null,
            "width": null,
            "min_width": null,
            "border": null,
            "align_items": null,
            "bottom": null,
            "_model_module": "@jupyter-widgets/base",
            "top": null,
            "grid_column": null,
            "overflow_y": null,
            "overflow_x": null,
            "grid_auto_flow": null,
            "grid_area": null,
            "grid_template_columns": null,
            "flex": null,
            "_model_name": "LayoutModel",
            "justify_items": null,
            "grid_row": null,
            "max_height": null,
            "align_content": null,
            "visibility": null,
            "align_self": null,
            "height": null,
            "min_height": null,
            "padding": null,
            "grid_auto_rows": null,
            "grid_gap": null,
            "max_width": null,
            "order": null,
            "_view_module_version": "1.2.0",
            "grid_template_areas": null,
            "object_position": null,
            "object_fit": null,
            "grid_auto_columns": null,
            "margin": null,
            "display": null,
            "left": null
          }
        }
      }
    }
  },
  "cells": [
    {
      "cell_type": "markdown",
      "metadata": {
        "id": "view-in-github",
        "colab_type": "text"
      },
      "source": [
        "<a href=\"https://colab.research.google.com/github/Nilanshrajput/AdvitiyaHackathon/blob/master/Scrapper_colab.ipynb\" target=\"_parent\"><img src=\"https://colab.research.google.com/assets/colab-badge.svg\" alt=\"Open In Colab\"/></a>"
      ]
    },
    {
      "cell_type": "code",
      "metadata": {
        "id": "53tGBiAEo9YO",
        "colab_type": "code",
        "outputId": "017590ec-36a9-460d-a17e-0a6745e10447",
        "colab": {
          "base_uri": "https://localhost:8080/",
          "height": 136
        }
      },
      "source": [
        "!git clone https://Nilanshrajput:@github.com/Nilanshrajput/AdvitiyaHackathon.git"
      ],
      "execution_count": 1,
      "outputs": [
        {
          "output_type": "stream",
          "text": [
            "Cloning into 'AdvitiyaHackathon'...\n",
            "remote: Enumerating objects: 282, done.\u001b[K\n",
            "remote: Counting objects: 100% (282/282), done.\u001b[K\n",
            "remote: Compressing objects: 100% (218/218), done.\u001b[K\n",
            "remote: Total 282 (delta 163), reused 142 (delta 59), pack-reused 0\u001b[K\n",
            "Receiving objects: 100% (282/282), 1.80 MiB | 5.04 MiB/s, done.\n",
            "Resolving deltas: 100% (163/163), done.\n"
          ],
          "name": "stdout"
        }
      ]
    },
    {
      "cell_type": "code",
      "metadata": {
        "id": "mm_6_Jc8bclR",
        "colab_type": "code",
        "colab": {}
      },
      "source": [
        "!rm -r /content/AdvitiyaHackathon"
      ],
      "execution_count": 0,
      "outputs": []
    },
    {
      "cell_type": "code",
      "metadata": {
        "id": "a2Ec1v5Oo9gH",
        "colab_type": "code",
        "outputId": "fdd06a5a-ae13-4cc2-aee2-fa64c6b5ae54",
        "colab": {
          "base_uri": "https://localhost:8080/",
          "height": 122
        }
      },
      "source": [
        "from google.colab import drive\n",
        "drive.mount('/content/drive')\n"
      ],
      "execution_count": 2,
      "outputs": [
        {
          "output_type": "stream",
          "text": [
            "Go to this URL in a browser: https://accounts.google.com/o/oauth2/auth?client_id=947318989803-6bn6qk8qdgf4n4g3pfee6491hc0brc4i.apps.googleusercontent.com&redirect_uri=urn%3aietf%3awg%3aoauth%3a2.0%3aoob&response_type=code&scope=email%20https%3a%2f%2fwww.googleapis.com%2fauth%2fdocs.test%20https%3a%2f%2fwww.googleapis.com%2fauth%2fdrive%20https%3a%2f%2fwww.googleapis.com%2fauth%2fdrive.photos.readonly%20https%3a%2f%2fwww.googleapis.com%2fauth%2fpeopleapi.readonly\n",
            "\n",
            "Enter your authorization code:\n",
            "··········\n",
            "Mounted at /content/drive\n"
          ],
          "name": "stdout"
        }
      ]
    },
    {
      "cell_type": "code",
      "metadata": {
        "id": "qWJqkXoGt7fn",
        "colab_type": "code",
        "outputId": "04599832-8587-4011-c64a-f16d0168f0da",
        "colab": {
          "base_uri": "https://localhost:8080/",
          "height": 187
        }
      },
      "source": [
        "!pip install beautifulsoup4==4.8.2"
      ],
      "execution_count": 3,
      "outputs": [
        {
          "output_type": "stream",
          "text": [
            "Collecting beautifulsoup4==4.8.2\n",
            "\u001b[?25l  Downloading https://files.pythonhosted.org/packages/cb/a1/c698cf319e9cfed6b17376281bd0efc6bfc8465698f54170ef60a485ab5d/beautifulsoup4-4.8.2-py3-none-any.whl (106kB)\n",
            "\r\u001b[K     |███                             | 10kB 25.9MB/s eta 0:00:01\r\u001b[K     |██████▏                         | 20kB 5.6MB/s eta 0:00:01\r\u001b[K     |█████████▏                      | 30kB 6.4MB/s eta 0:00:01\r\u001b[K     |████████████▎                   | 40kB 5.7MB/s eta 0:00:01\r\u001b[K     |███████████████▎                | 51kB 6.7MB/s eta 0:00:01\r\u001b[K     |██████████████████▍             | 61kB 7.9MB/s eta 0:00:01\r\u001b[K     |█████████████████████▌          | 71kB 8.3MB/s eta 0:00:01\r\u001b[K     |████████████████████████▌       | 81kB 7.3MB/s eta 0:00:01\r\u001b[K     |███████████████████████████▋    | 92kB 8.2MB/s eta 0:00:01\r\u001b[K     |██████████████████████████████▋ | 102kB 9.0MB/s eta 0:00:01\r\u001b[K     |████████████████████████████████| 112kB 9.0MB/s \n",
            "\u001b[?25hCollecting soupsieve>=1.2\n",
            "  Downloading https://files.pythonhosted.org/packages/81/94/03c0f04471fc245d08d0a99f7946ac228ca98da4fa75796c507f61e688c2/soupsieve-1.9.5-py2.py3-none-any.whl\n",
            "Installing collected packages: soupsieve, beautifulsoup4\n",
            "  Found existing installation: beautifulsoup4 4.6.3\n",
            "    Uninstalling beautifulsoup4-4.6.3:\n",
            "      Successfully uninstalled beautifulsoup4-4.6.3\n",
            "Successfully installed beautifulsoup4-4.8.2 soupsieve-1.9.5\n"
          ],
          "name": "stdout"
        }
      ]
    },
    {
      "cell_type": "code",
      "metadata": {
        "id": "jh6OWVu-o7NR",
        "colab_type": "code",
        "outputId": "1bf70835-4a66-4cac-a262-e5aecf60ac51",
        "colab": {
          "base_uri": "https://localhost:8080/",
          "height": 68
        }
      },
      "source": [
        "import pandas as pd\n",
        "import re \n",
        "import matplotlib.pyplot as plt\n",
        "# ~ Import packages ~ #\n",
        "from AdvitiyaHackathon.google_patent_scrapper import scraper_class\n",
        "import json\n",
        "import os\n",
        "import spacy\n",
        "\n",
        "from nltk.corpus import stopwords\n",
        "import string\n",
        "import spacy #load spacy\n",
        "\n",
        "import nltk\n",
        "nltk.download('stopwords')\n",
        "\n"
      ],
      "execution_count": 4,
      "outputs": [
        {
          "output_type": "stream",
          "text": [
            "[nltk_data] Downloading package stopwords to /root/nltk_data...\n",
            "[nltk_data]   Unzipping corpora/stopwords.zip.\n"
          ],
          "name": "stdout"
        },
        {
          "output_type": "execute_result",
          "data": {
            "text/plain": [
              "True"
            ]
          },
          "metadata": {
            "tags": []
          },
          "execution_count": 4
        }
      ]
    },
    {
      "cell_type": "code",
      "metadata": {
        "id": "pqgnwxU9s1GM",
        "colab_type": "code",
        "colab": {}
      },
      "source": [
        "\n",
        "%%capture\n",
        "from tqdm import tnrange\n",
        "from tqdm import tqdm_notebook as tqdm\n",
        "\n",
        "\n"
      ],
      "execution_count": 0,
      "outputs": []
    },
    {
      "cell_type": "code",
      "metadata": {
        "id": "Wjcoci08s7wh",
        "colab_type": "code",
        "outputId": "458cdb10-dc61-4acf-ffcb-0156c753b6e0",
        "colab": {
          "base_uri": "https://localhost:8080/",
          "height": 117,
          "referenced_widgets": [
            "3b54750622054cc49f8a59ac65308ea2",
            "c7ff5485e5b24359a750fabe2372f8c4",
            "d8646a7cc04b42669809f93c26da0873",
            "d797e72c6ca74b8bac6a57f8b355d825",
            "c4e726f631d04f51a5197f24eadd1d28",
            "4551fc507d5745f78dba94742628241c",
            "a773d68b3b6b443083f5058bf1b01954",
            "ba433e4ceb714f8382274f7281d5bba0"
          ]
        }
      },
      "source": [
        "\n",
        "import time\n",
        "for i in tqdm([1,2,3],desc = \"wabalabadubdub\") :\n",
        "  print(i)\n",
        "  time.sleep(.1)"
      ],
      "execution_count": 0,
      "outputs": [
        {
          "output_type": "display_data",
          "data": {
            "application/vnd.jupyter.widget-view+json": {
              "model_id": "3b54750622054cc49f8a59ac65308ea2",
              "version_minor": 0,
              "version_major": 2
            },
            "text/plain": [
              "HBox(children=(IntProgress(value=0, description='wabalabadubdub', max=3, style=ProgressStyle(description_width…"
            ]
          },
          "metadata": {
            "tags": []
          }
        },
        {
          "output_type": "stream",
          "text": [
            "1\n",
            "2\n",
            "3\n",
            "\n"
          ],
          "name": "stdout"
        }
      ]
    },
    {
      "cell_type": "code",
      "metadata": {
        "id": "TYzFEsYCrd88",
        "colab_type": "code",
        "colab": {}
      },
      "source": [
        "drive_pt=\"/content/drive/My Drive/dl_projects/AdvitiyaHackathon/\"\n",
        "\n",
        "git_path = \"AdvitiyaHackathon/\"\n",
        "path = drive_pt+\"ScrappeData\""
      ],
      "execution_count": 0,
      "outputs": []
    },
    {
      "cell_type": "code",
      "metadata": {
        "id": "NUbSwTnQo7NY",
        "colab_type": "code",
        "colab": {}
      },
      "source": [
        "\n",
        "dataCsv = pd.read_csv(git_path+\"data.csv\", index_col=0)\n",
        "test_csv = pd.read_csv(git_path+\"test.csv\")\n",
        "\n",
        "# ~ Initialize scraper class ~ #\n",
        "scraper=scraper_class()\n"
      ],
      "execution_count": 0,
      "outputs": []
    },
    {
      "cell_type": "code",
      "metadata": {
        "id": "Mt4fD149o7Nc",
        "colab_type": "code",
        "outputId": "a8dfec5d-3bf0-455a-e7dc-eef11abb84c8",
        "colab": {
          "base_uri": "https://localhost:8080/",
          "height": 139
        }
      },
      "source": [
        "\n",
        "\n",
        "patent_1 = 'CN104651159A'\n",
        "patent_2 = 'US266827A'\n",
        "scrapped_data = scraper.scrap_single_patent(patent_1)\n",
        "err_1, soup_1, url_1 = scraper.request_single_patent(patent_1)\n",
        "patent_1_parsed = scraper.get_scraped_data(soup_1,patent_1,url_1)\n",
        "\n",
        "with open(drive_pt+\"sample.json\", 'w') as file:\n",
        "    json.dump(scrapped_data, file)\n",
        "patent_1_parsed"
      ],
      "execution_count": 8,
      "outputs": [
        {
          "output_type": "execute_result",
          "data": {
            "text/plain": [
              "{'abstract': '\" The invention discloses a brewing process of a prickly pear fruit wine. The prickly pear fruit wine is brewed by taking fresh, ripe and plump prickly pears as main raw materials and through the steps of raw material pretreatment; pulping and soaking; compound enzyme treatment; matrix pretreatment; raw material mixing; fermenting; squeezing and filtering; mixing; ageing; and canning and sterilizing. According to the brewing process, the pulps and peels of the raw materials are separated, the pulps are pulped, and the peels are soaked in a white wine with a high alcohol degree, so that the utilization ratio of the raw materials is greatly increased; the fruit wine is clarified by using a compound clarifying gent, so that the transparency of a finished product of the wine is improved; and the prickly pear fruit wine has the health effects of tonifying the spleen and benefiting the stomach, promoting the production of body fluid to relieve thirst, astringing to stop bleeding, replenishing qi and enriching blood and the like.\"',\n",
              " 'claims': '\" 1. a making method for prickly-pear cactus fruit wine, is characterized in that: described making method adopts following steps: A, raw materials pretreatment: select fresh, ripe prickly-pear cactus, remove the impurity such as surface spikes, dust, earth, and clean with clear water, and peeled through peeling machine by prickly-pear cactus, obtain prickly-pear cactus pulp and prickly-pear cactus pericarp; B, making beating: in prickly-pear cactus pulp, add its weight 35-45% concentration is that the sodium ascorbate solution of 20-25% is pulled an oar, obtained prickly-pear cactus slurries; C, immersion: prickly-pear cactus pericarp being put into its weight 2-3 alcoholic strength is doubly that the white wine of 65-70% soaks 30-40 days, soak and terminate rear filtration and obtain soaking wine and prickly-pear cactus pericarp, be filtered dry by prickly-pear cactus pericarp and pulverize, obtain prickly-pear cactus fruit peel powder; D, prozyme process: in prickly-pear cactus slurries, add the polygalacturonase of its weight 0.3-0.4%, the cellulase of 0.2-0.3%, control temperature is 40-50 DEG C, the time is 4-6 hour; E, matrix pre-treatment: in Rhizoma Dioscoreae powder, add the prickly-pear cactus slurries after the enzymolysis of its weight 35-45%, rub into steamed bread of corn shape, place steamed bread of corn in steam cooker and cook to ripe and do not stick with paste, spread cooling, obtained matrix; F, raw material mix: the prickly-pear cactus fruit peel powder adding its weight 50-60% in matrix, stirs, and obtained compound, adds the wheat koji of 25-35%, the tap water of 130-150%, the distiller\\'s yeast of 5-8%, mix in compound, obtained wine unstrained spirits; G, fermentation: by the temperature control of wine unstrained spirits product at 25-35 DEG C, when in wine unstrained spirits, ethanol concn reaches 22-25% volume ratio, fermentation ends; H, squeeze and filter: wine unstrained spirits good for secondary fermentation is squeezed, obtained fermented wine, adds the tannin of its weight 0.3-0.4%, the diatomite of 0.02-0.03%, mixes in fermented wine, leaves standstill 8-12 days, carries out separation and obtain prickly-pear cactus pure mellow wine and wine mud; I, mixing: get the soaking wine 25-35 weight part in step c, prickly-pear cactus pure mellow wine 65-75 weight part in step h, stir, the obtained former wine of prickly-pear cactus; J, ageing: adopt microwave-assisted deepfreeze to accelerate pure mellow wine ageing, microwave frequency 900-1200MHz, deepfreeze time 50-60 days, temperature 4-6 DEG C; K, canned sterilization: carry out pasteurize after tinning, temperature 75-85 DEG C, time 15-20min, obtained prickly-pear cactus fruit wine.\"',\n",
              " 'classification': '\" CHEMISTRY; METALLURGY BIOCHEMISTRY; BEER; SPIRITS; WINE; VINEGAR; MICROBIOLOGY; ENZYMOLOGY; MUTATION OR GENETIC ENGINEERING WINE; OTHER ALCOHOLIC BEVERAGES; PREPARATION THEREOF Preparation of other alcoholic beverages Preparation of other alcoholic beverages by mixing, e.g. for preparation of liqueurs CHEMISTRY; METALLURGY BIOCHEMISTRY; BEER; SPIRITS; WINE; VINEGAR; MICROBIOLOGY; ENZYMOLOGY; MUTATION OR GENETIC ENGINEERING WINE; OTHER ALCOHOLIC BEVERAGES; PREPARATION THEREOF Preparation of other alcoholic beverages Preparation of other alcoholic beverages by fermentation CHEMISTRY; METALLURGY BIOCHEMISTRY; BEER; SPIRITS; WINE; VINEGAR; MICROBIOLOGY; ENZYMOLOGY; MUTATION OR GENETIC ENGINEERING PASTEURISATION, STERILISATION, PRESERVATION, PURIFICATION, CLARIFICATION OR AGEING OF ALCOHOLIC BEVERAGES; METHODS FOR ALTERING THE ALCOHOL CONTENT OF FERMENTED SOLUTIONS OR ALCOHOLIC BEVERAGES Pasteurisation, sterilisation, preservation, purification, clarification, or ageing of alcoholic beverages Pasteurisation, sterilisation, preservation, purification, clarification, or ageing of alcoholic beverages combined with removal of precipitate or added materials, e.g. adsorption material Pasteurisation, sterilisation, preservation, purification, clarification, or ageing of alcoholic beverages combined with removal of precipitate or added materials, e.g. adsorption material with the aid of ion-exchange material or inert clarification material, e.g. adsorption material Pasteurisation, sterilisation, preservation, purification, clarification, or ageing of alcoholic beverages combined with removal of precipitate or added materials, e.g. adsorption material with the aid of ion-exchange material or inert clarification material, e.g. adsorption material with the aid of inorganic added material CHEMISTRY; METALLURGY BIOCHEMISTRY; BEER; SPIRITS; WINE; VINEGAR; MICROBIOLOGY; ENZYMOLOGY; MUTATION OR GENETIC ENGINEERING PASTEURISATION, STERILISATION, PRESERVATION, PURIFICATION, CLARIFICATION OR AGEING OF ALCOHOLIC BEVERAGES; METHODS FOR ALTERING THE ALCOHOL CONTENT OF FERMENTED SOLUTIONS OR ALCOHOLIC BEVERAGES Pasteurisation, sterilisation, preservation, purification, clarification, or ageing of alcoholic beverages Pasteurisation, sterilisation, preservation, purification, clarification, or ageing of alcoholic beverages combined with removal of precipitate or added materials, e.g. adsorption material Pasteurisation, sterilisation, preservation, purification, clarification, or ageing of alcoholic beverages combined with removal of precipitate or added materials, e.g. adsorption material with the aid of ion-exchange material or inert clarification material, e.g. adsorption material Pasteurisation, sterilisation, preservation, purification, clarification, or ageing of alcoholic beverages combined with removal of precipitate or added materials, e.g. adsorption material with the aid of ion-exchange material or inert clarification material, e.g. adsorption material with the aid of organic added material\"',\n",
              " 'patent': 'CN104651159A',\n",
              " 'title': '\" - Brewing process of prickly pear fruit wine          - \"',\n",
              " 'url': 'https://patents.google.com/patent/CN104651159A/en?'}"
            ]
          },
          "metadata": {
            "tags": []
          },
          "execution_count": 8
        }
      ]
    },
    {
      "cell_type": "code",
      "metadata": {
        "id": "8v_YR-bro7Nh",
        "colab_type": "code",
        "colab": {}
      },
      "source": [
        "\"\"\"\n",
        "os.mkdir(drive_pt+\"ScrappeData\")\n",
        "os.mkdir(drive_pt+\"ScrappeData/non_alc\")\n",
        "os.mkdir(drive_pt+\"ScrappeData/alc\")\n",
        "os.mkdir(drive_pt+\"ScrappeData/non_auto\")\n",
        "os.mkdir(drive_pt+\"ScrappeData/auto\")\n",
        "\"\"\""
      ],
      "execution_count": 0,
      "outputs": []
    },
    {
      "cell_type": "code",
      "metadata": {
        "id": "J6rnzx8U7Wet",
        "colab_type": "code",
        "colab": {}
      },
      "source": [
        "test_nums = list(test_csv.iloc[:,0])"
      ],
      "execution_count": 0,
      "outputs": []
    },
    {
      "cell_type": "markdown",
      "metadata": {
        "id": "-KCDX7pX8dUA",
        "colab_type": "text"
      },
      "source": [
        "Scrap Test Data"
      ]
    },
    {
      "cell_type": "code",
      "metadata": {
        "id": "NXxaoN9h7fiC",
        "colab_type": "code",
        "outputId": "2682fdc9-3e34-49ca-8f8a-38c9d43fa3fa",
        "colab": {
          "base_uri": "https://localhost:8080/",
          "height": 66,
          "referenced_widgets": [
            "11d9ddfe4991492c9492bbc625c952c3",
            "e63bdccf60a94f19b609b2345628954c",
            "b5300495e2c04ee4a68e3af1c7cba092",
            "ecf06ea286fd40c7ad787ea876b54879",
            "7add5f3ad3bb424da7679533acf14f3d",
            "089b1d90437f47d18a91232026b3f667",
            "1eaf8c73d5334a2a9c037dd3c64da2a6",
            "2b983119dd3a409a915116d903cda604"
          ]
        }
      },
      "source": [
        "test_pt = drive_pt+\"Test_scrap\"\n",
        "\n",
        "for patent in tqdm(test_nums, desc  = \"patents\"):\n",
        "      scrappedJson = scraper.scrap_single_patent(patent)\n",
        "      filename = os.path.join(test_pt,str(patent)+\".json\")\n",
        "      with open(filename, 'w') as file:\n",
        "            json.dump(scrappedJson, file)"
      ],
      "execution_count": 0,
      "outputs": [
        {
          "output_type": "display_data",
          "data": {
            "application/vnd.jupyter.widget-view+json": {
              "model_id": "11d9ddfe4991492c9492bbc625c952c3",
              "version_minor": 0,
              "version_major": 2
            },
            "text/plain": [
              "HBox(children=(IntProgress(value=0, description='patents', max=200, style=ProgressStyle(description_width='ini…"
            ]
          },
          "metadata": {
            "tags": []
          }
        },
        {
          "output_type": "stream",
          "text": [
            "\n"
          ],
          "name": "stdout"
        }
      ]
    },
    {
      "cell_type": "code",
      "metadata": {
        "id": "tuwc3Ov4o7Nl",
        "colab_type": "code",
        "colab": {}
      },
      "source": [
        "# Make a separate list for each category\n",
        "non_alc = list(dataCsv.iloc[:,0])\n",
        "alc = list(dataCsv.iloc[:,2])\n",
        "non_auto = list(dataCsv.iloc[:,4])\n",
        "auto = list(dataCsv.iloc[:,6])\n"
      ],
      "execution_count": 0,
      "outputs": []
    },
    {
      "cell_type": "code",
      "metadata": {
        "id": "FwpXV8dmo7No",
        "colab_type": "code",
        "outputId": "40d8a540-8b83-4990-ab39-4ef5bf95c99f",
        "colab": {
          "base_uri": "https://localhost:8080/",
          "height": 54
        }
      },
      "source": [
        "\n",
        "names = [\"non_alc\", \"alc\", \"non_auto\", \"auto\"]\n",
        "catwise_patent_lists = [non_alc, alc, non_auto, auto]\n",
        "\n",
        "\"\"\"\n",
        "for index in tnrange(4, desc = \"CatList\"):\n",
        "    patents = catwise_patent_lists[index]\n",
        "    cat_folder  = names[index]\n",
        "    cat_list = catwise_patent_lists[index]\n",
        "    for patent in tqdm(cat_list,desc  = \"patents\"):\n",
        "        scrappedJson = scraper.scrap_single_patent(patent)\n",
        "        filename = os.path.join(path,cat_folder,str(patent)+\".json\")\n",
        "        with open(filename, 'w') as file:\n",
        "            json.dump(scrappedJson, file)\n",
        "     \"\"\"    "
      ],
      "execution_count": 0,
      "outputs": [
        {
          "output_type": "execute_result",
          "data": {
            "text/plain": [
              "'\\nfor index in tnrange(4, desc = \"CatList\"):\\n    patents = catwise_patent_lists[index]\\n    cat_folder  = names[index]\\n    cat_list = catwise_patent_lists[index]\\n    for patent in tqdm(cat_list,desc  = \"patents\"):\\n        scrappedJson = scraper.scrap_single_patent(patent)\\n        filename = os.path.join(path,cat_folder,str(patent)+\".json\")\\n        with open(filename, \\'w\\') as file:\\n            json.dump(scrappedJson, file)\\n     '"
            ]
          },
          "metadata": {
            "tags": []
          },
          "execution_count": 47
        }
      ]
    },
    {
      "cell_type": "code",
      "metadata": {
        "id": "CEO0oYKWo7Nz",
        "colab_type": "code",
        "outputId": "59e8a528-1ed4-4249-ca89-8473cda743af",
        "colab": {}
      },
      "source": [
        "print(([{'inventor_name':x.get_text()} for x in soup_1.select(\".title\",limit = 30)]))"
      ],
      "execution_count": 0,
      "outputs": [
        {
          "output_type": "stream",
          "text": [
            "[]\n"
          ],
          "name": "stdout"
        }
      ]
    },
    {
      "cell_type": "code",
      "metadata": {
        "id": "wAz5uozDo7N3",
        "colab_type": "code",
        "colab": {}
      },
      "source": [
        "print([{'inventor_name':x.get_text()} for x in soup_1.find('title')])"
      ],
      "execution_count": 0,
      "outputs": []
    },
    {
      "cell_type": "code",
      "metadata": {
        "id": "eWT_sl8Eo7N_",
        "colab_type": "code",
        "colab": {}
      },
      "source": [
        "*(soup_1.select(\".abstract\")).get_text()"
      ],
      "execution_count": 0,
      "outputs": []
    },
    {
      "cell_type": "code",
      "metadata": {
        "id": "m7Z95j3lo7OC",
        "colab_type": "code",
        "colab": {}
      },
      "source": [
        "print(soup_1.find('title').get_text())"
      ],
      "execution_count": 0,
      "outputs": []
    },
    {
      "cell_type": "code",
      "metadata": {
        "id": "-LWVGX2Jo7OF",
        "colab_type": "code",
        "colab": {}
      },
      "source": [
        ""
      ],
      "execution_count": 0,
      "outputs": []
    },
    {
      "cell_type": "markdown",
      "metadata": {
        "id": "qIBlEzBQkdqw",
        "colab_type": "text"
      },
      "source": [
        "**Data** **cleaning**"
      ]
    },
    {
      "cell_type": "code",
      "metadata": {
        "id": "0Y7B8JDBmZXx",
        "colab_type": "code",
        "colab": {}
      },
      "source": [
        "# Make a separate list for each category\n",
        "non_alc_json_pt = [os.path.join(path,names[0],p_num+\".json\") for p_num in catwise_patent_lists[0]]\n",
        "alc_json_pt = [os.path.join(path,names[1],p_num+\".json\") for p_num in catwise_patent_lists[1]]\n",
        "non_auto_json_pt = [os.path.join(path,names[2],p_num+\".json\") for p_num in catwise_patent_lists[2]]\n",
        "auto_json_pt = [os.path.join(path,names[3],p_num+\".json\") for p_num in catwise_patent_lists[3]]"
      ],
      "execution_count": 0,
      "outputs": []
    },
    {
      "cell_type": "code",
      "metadata": {
        "id": "ygQq8G_SnnCg",
        "colab_type": "code",
        "outputId": "9a6911a8-5585-4191-bb48-323d74734de3",
        "colab": {
          "base_uri": "https://localhost:8080/",
          "height": 34
        }
      },
      "source": [
        "non_alc_json_pt[1]"
      ],
      "execution_count": 0,
      "outputs": [
        {
          "output_type": "execute_result",
          "data": {
            "text/plain": [
              "'/content/drive/My Drive/dl_projects/AdvitiyaHackathon/ScrappeData/non_alc/US9040109B2.json'"
            ]
          },
          "metadata": {
            "tags": []
          },
          "execution_count": 10
        }
      ]
    },
    {
      "cell_type": "code",
      "metadata": {
        "id": "q4B8ETMxr48N",
        "colab_type": "code",
        "colab": {}
      },
      "source": [
        "\n",
        "for index in tnrange(4, desc = \"CatList\"):\n",
        "    patents = catwise_patent_lists[index]\n",
        "    cat_folder  = names[index]\n",
        "    cat_list = catwise_patent_lists[index]\n",
        "    for patent in tqdm(cat_list,desc  = \"patents\"):\n",
        "        scrappedJson = scraper.scrap_single_patent(patent)\n",
        "        filename = os.path.join(path,cat_folder,str(patent)+\".json\")\n",
        "        with open(filename ) as file:\n",
        "            data = json.load(file)"
      ],
      "execution_count": 0,
      "outputs": []
    },
    {
      "cell_type": "code",
      "metadata": {
        "id": "7XZsFxVwwlQH",
        "colab_type": "code",
        "colab": {}
      },
      "source": [
        "class data_wrangler:\n",
        "  def __init__(self, data_csv_pt, max_limit = 10000, classification = True, abstract =False, claims  = False, all = False,\n",
        "               path = \"/content/drive/My Drive/dl_projects/AdvitiyaHackathon/ScrappeData\",\n",
        "               test_path = \"/content/drive/My Drive/dl_projects/AdvitiyaHackathon/Test_scrap\",\n",
        "               val = False, test = False):\n",
        "    self.patent_info = \"\"\n",
        "    self.path = path\n",
        "    self.test_path = test_path\n",
        "    self.max_limit = max_limit\n",
        "    self.class_names = [\"non_alc\", \"alc\", \"non_auto\", \"auto\"]\n",
        "    self.info_classes = [\"title\", 'classification' ]\n",
        "    self.data_csv_pt = data_csv_pt\n",
        "    self.csv  = pd.read_csv(self.data_csv_pt,index_col= 0)\n",
        "\n",
        "    self.nlp = spacy.load(\"en\", disable=['parser', 'tagger', 'ner'])\n",
        "    self.nlp.max_length = 50000000000\n",
        "    self.stops = stopwords.words(\"english\")\n",
        "    self.punctuations = string.punctuation\n",
        "\n",
        "    self.cleaned_data  = pd.DataFrame(columns= [\"text\",\"cat\"])\n",
        "    self.cleaned_data_test  = pd.DataFrame(columns= [\"text\",\"cat\"])\n",
        "\n",
        "    if abstract :\n",
        "      self.info_classes = [\"title\", \"abstract\", \"claims\", 'classification' ]\n",
        "    elif claims :\n",
        "      self.info_classes = [\"title\", \"claims\", 'classification', \"abstract\" ]\n",
        "    elif classification :\n",
        "      self.info_classes = [\"title\", 'classification', \"abstract\", \"claims\" ]\n",
        "\n",
        "    else :\n",
        "      self.info_classes = [\"title\", 'classification', \"abstract\", \"claims\" ]\n",
        "\n",
        "\n",
        "    if test:\n",
        "      self.test_csv = pd.read_csv(self.data_csv_pt)\n",
        "      self.test_nums = list(self.test_csv.iloc[:,0])\n",
        "      self.test_json_pt = [os.path.join(self.test_path,p_num+\".json\") for p_num in self.test_nums]\n",
        "      try: \n",
        "      \n",
        "        for patent in tqdm(self.test_json_pt,desc  = \"patents\"):\n",
        "            with open(patent) as file:\n",
        "                data = json.load(file)\n",
        "            try:  \n",
        "              self.patent_info = \"\"\n",
        "              for info in self.info_classes:\n",
        "                self.patent_info += data[info]\n",
        "                if len(self.patent_info.split()) > self.max_limit:\n",
        "                  break\n",
        "            except Exception as e:\n",
        "              print(e)\n",
        "            self.patent_info = self.clean(self.patent_info)\n",
        "            self.patent_info = re.sub(' +', ' ',str(self.patent_info))\n",
        "            self.cleaned_data_test = self.cleaned_data_test.append({\"text\":str(self.patent_info),\"cat\":0},ignore_index = True)\n",
        "       \n",
        "\n",
        "      except Exception as e:\n",
        "        print(e)\n",
        "\n",
        "      self.cleaned_data_test.to_csv(\"final_test_clean.csv\")\n",
        "    \n",
        "\n",
        "      \n",
        "    else:\n",
        "\n",
        "      # Make a separate list for each category\n",
        "      self.non_alc = list(self.csv.iloc[:,0])\n",
        "      self.alc = list(self.csv.iloc[:,2])\n",
        "      self.non_auto = list(self.csv.iloc[:,4])\n",
        "      self.auto = list(self.csv.iloc[:,6])\n",
        "\n",
        "      self.catwise_patent_lists  = [self.non_alc, self.alc, self.non_auto, self.auto]\n",
        "\n",
        "      # Make a separate list for each category\n",
        "      self.non_alc_json_pt = [os.path.join(self.path,self.class_names[0],p_num+\".json\") for p_num in self.catwise_patent_lists[0]]\n",
        "      self.alc_json_pt = [os.path.join(self.path,self.class_names[1],p_num+\".json\") for p_num in self.catwise_patent_lists[1]]\n",
        "      self.non_auto_json_pt = [os.path.join(self.path,self.class_names[2],p_num+\".json\") for p_num in self.catwise_patent_lists[2]]\n",
        "      self.auto_json_pt = [os.path.join(self.path,self.class_names[3],p_num+\".json\") for p_num in self.catwise_patent_lists[3]]\n",
        "\n",
        "    \n",
        "      i = 0\n",
        "      for pt_list in tqdm([self.non_alc_json_pt,self.alc_json_pt,self.non_auto_json_pt, self.auto_json_pt], desc = \"CatList\"):\n",
        "      \n",
        "        try: \n",
        "        \n",
        "          for patent in tqdm(pt_list,desc  = \"patents\"):\n",
        "              with open(patent) as file:\n",
        "                  data = json.load(file)\n",
        "              try:  \n",
        "                self.patent_info = \"\"\n",
        "                for info in self.info_classes:\n",
        "                  self.patent_info += data[info]\n",
        "                  if len(self.patent_info.split()) > self.max_limit:\n",
        "                    break\n",
        "              except Exception as e:\n",
        "                print(e)\n",
        "              self.patent_info = self.clean(self.patent_info)\n",
        "              self.patent_info = re.sub(' +', ' ',str(self.patent_info))\n",
        "              self.cleaned_data = self.cleaned_data.append({\"text\":str(self.patent_info),\"cat\":i},ignore_index = True)\n",
        "          i += 1\n",
        "\n",
        "        except Exception as e:\n",
        "          print(e)\n",
        "      \n",
        "      if val:\n",
        "        self.cleaned_data.to_csv(\"final_val_clean.csv\")\n",
        "      else:\n",
        "        self.cleaned_data.to_csv(\"final_train_clean.csv\")\n",
        "\n",
        "    \n",
        "\n",
        "  def clean(self, comment, lowercase = True, remove_stopwords = True):\n",
        "    if lowercase:\n",
        "        comment = comment.lower()\n",
        "    comment = self.nlp(comment,disable = ['ner', 'parser', 'tagger'])\n",
        "    lemmatized = list()\n",
        "    for word in comment:\n",
        "        lemma = word.lemma_.strip()\n",
        "       \n",
        "        #len(re.findall('[^A-Za-z0-9]+',lemma))==0 for removing alphanumerals in b/w strings\n",
        "\n",
        "        if lemma:\n",
        "            if not remove_stopwords or (remove_stopwords and lemma not in self.stops and not (\"\\\\\" in r\"%r\" % lemma)  ):\n",
        "                lemma = re.sub(\"[^a-zA-Z]\",  # Search for all non-letters\n",
        "                          \" \",          # Replace all non-letters with spaces\n",
        "                          str(lemma))\n",
        "                lemmatized.append(lemma)\n",
        "    return \" \".join(lemmatized)\n"
      ],
      "execution_count": 0,
      "outputs": []
    },
    {
      "cell_type": "code",
      "metadata": {
        "id": "NzHpmekvFwQr",
        "colab_type": "code",
        "outputId": "832ff1c4-f999-4b1d-c2ec-2c8f9a582bbe",
        "colab": {
          "base_uri": "https://localhost:8080/",
          "height": 83,
          "referenced_widgets": [
            "89caba5e19524e41a3c261ba66469652",
            "24b5f693fd7841b0967add71bbc4004f",
            "78b17466d63440c790fcaeeffba4ec06",
            "8a1783951a6e4f5facea20832e199d2f",
            "d998c1e9a8ae4aa2a515d6270744ab2b",
            "6d7351cb1cdd4a40a6f52f286829b68e",
            "aeb357a133df425996e89a80081e8eff",
            "3b4ef54837bd4ba08236783d0d2bc812"
          ]
        }
      },
      "source": [
        "data_wrangler(git_path+\"test.csv\", test=True, abstract= True)\n",
        "\n"
      ],
      "execution_count": 0,
      "outputs": [
        {
          "output_type": "display_data",
          "data": {
            "application/vnd.jupyter.widget-view+json": {
              "model_id": "89caba5e19524e41a3c261ba66469652",
              "version_minor": 0,
              "version_major": 2
            },
            "text/plain": [
              "HBox(children=(IntProgress(value=0, description='patents', max=200, style=ProgressStyle(description_width='ini…"
            ]
          },
          "metadata": {
            "tags": []
          }
        },
        {
          "output_type": "stream",
          "text": [
            "\n"
          ],
          "name": "stdout"
        },
        {
          "output_type": "execute_result",
          "data": {
            "text/plain": [
              "<__main__.data_wrangler at 0x7f3e5b428e80>"
            ]
          },
          "metadata": {
            "tags": []
          },
          "execution_count": 45
        }
      ]
    },
    {
      "cell_type": "code",
      "metadata": {
        "id": "Aajtw71BGYJ_",
        "colab_type": "code",
        "colab": {}
      },
      "source": [
        "dft = pd.read_csv(\"final_test_clean.csv\",index_col=0)\n",
        "dft = dft.dropna()\n",
        "dft.to_csv(drive_pt+\"abstract_final_train_clean.csv\")"
      ],
      "execution_count": 0,
      "outputs": []
    },
    {
      "cell_type": "code",
      "metadata": {
        "id": "7-P-2dz4GMpe",
        "colab_type": "code",
        "outputId": "3e4ba264-48e8-4a79-f5fe-4431ab494548",
        "colab": {
          "base_uri": "https://localhost:8080/",
          "height": 204
        }
      },
      "source": [
        "dft.head()"
      ],
      "execution_count": 0,
      "outputs": [
        {
          "output_type": "execute_result",
          "data": {
            "text/html": [
              "<div>\n",
              "<style scoped>\n",
              "    .dataframe tbody tr th:only-of-type {\n",
              "        vertical-align: middle;\n",
              "    }\n",
              "\n",
              "    .dataframe tbody tr th {\n",
              "        vertical-align: top;\n",
              "    }\n",
              "\n",
              "    .dataframe thead th {\n",
              "        text-align: right;\n",
              "    }\n",
              "</style>\n",
              "<table border=\"1\" class=\"dataframe\">\n",
              "  <thead>\n",
              "    <tr style=\"text-align: right;\">\n",
              "      <th></th>\n",
              "      <th>text</th>\n",
              "      <th>cat</th>\n",
              "    </tr>\n",
              "  </thead>\n",
              "  <tbody>\n",
              "    <tr>\n",
              "      <th>0</th>\n",
              "      <td>birch sap beverage cancel method claim wherei...</td>\n",
              "      <td>0</td>\n",
              "    </tr>\n",
              "    <tr>\n",
              "      <th>1</th>\n",
              "      <td>portion capsule process production beverage p...</td>\n",
              "      <td>0</td>\n",
              "    </tr>\n",
              "    <tr>\n",
              "      <th>2</th>\n",
              "      <td>use lactic acid bacterium prepare ferment foo...</td>\n",
              "      <td>0</td>\n",
              "    </tr>\n",
              "    <tr>\n",
              "      <th>3</th>\n",
              "      <td>morinda citrifolia juice formulation comprise...</td>\n",
              "      <td>0</td>\n",
              "    </tr>\n",
              "    <tr>\n",
              "      <th>4</th>\n",
              "      <td>hydrate food hydrate food comprise pyroglutam...</td>\n",
              "      <td>0</td>\n",
              "    </tr>\n",
              "  </tbody>\n",
              "</table>\n",
              "</div>"
            ],
            "text/plain": [
              "                                                text  cat\n",
              "0   birch sap beverage cancel method claim wherei...    0\n",
              "1   portion capsule process production beverage p...    0\n",
              "2   use lactic acid bacterium prepare ferment foo...    0\n",
              "3   morinda citrifolia juice formulation comprise...    0\n",
              "4   hydrate food hydrate food comprise pyroglutam...    0"
            ]
          },
          "metadata": {
            "tags": []
          },
          "execution_count": 44
        }
      ]
    },
    {
      "cell_type": "code",
      "metadata": {
        "id": "VZXBjmuih52i",
        "colab_type": "code",
        "outputId": "cb02dcd6-eb2b-4019-931a-c6a22eebe707",
        "colab": {
          "base_uri": "https://localhost:8080/",
          "height": 194,
          "referenced_widgets": [
            "3f50f8ea667b4c228b8055a04140bfd6",
            "4630250dfce745f5aa192b1897bfb996",
            "3f3f39368a404ced906f9375e118e5bf",
            "e9b04cca37164a6f887898a4eeb32815",
            "ce52e61c2c6e4cca9d05290442ecf652",
            "28a70495a0344186947ee9807255dd53",
            "9750d36508ad41e4a3e659ec0ff5ec94",
            "1b75d2874d4942a095f40bfc400ad2c5",
            "9b464a1dc8164776b5c779d66c2a8409",
            "7209baa2282f4dd4a13fd95bec2fac69",
            "5c113e3e9e8741a29318c06f43f74fa6",
            "a7ad1a38f45b4681b5a1b2959026238d",
            "6f25c7d7b6274522aecd85977fbd9247",
            "27048db7d0ae456eba4142468ba74f2b",
            "025bd9ab81224c918b010b3143c9424e",
            "4472c0585db744e6b00465b8c99bd247",
            "a066ec84d6e647cb827b5f9bdf1e52df",
            "a1b0cb75625e41cfa481b3b94fe06189",
            "5fad1792f9894625b7b4a368f5d81444",
            "93ebf481458240ff9d4ddaac9d5f321e",
            "eda92600e5e64bee85813bc39ed7d30f",
            "6768fdfb04b843c7afe17de32a70397b",
            "78572c84fbf24b9a9b3cf018b3276c9a",
            "995edf012caf4cac8facf16b6b93e481",
            "ca1100410528418dadacd97737aca5da",
            "08833165c3384b66a291b40d7b4d072c",
            "4cab196b075e45c7b51f5ba9ea4cf4ba",
            "50ddfa155efa4bf29aaa779a7abb68b7",
            "b82fadbf6a77426a83a2aa84d2c67567",
            "31032d3a1d334c35b65a2c4326202a45",
            "97fa90414fd8439280de9bb84d83b25c",
            "caa39eaa5b244c51aa669c08bc7118b5",
            "6e74a5eecbbc4824892244d1ee7a8959",
            "e01df7cfda3b4f8aa612ea707cc2905e",
            "51fd64fb8ea141dd83cf9698f59896ca",
            "aaec8dcb505c470a81be544632f9a1f0",
            "617cc725cb3d4b14b0bb6a62fd63a539",
            "b9f2e4043b304d2baead14f412d1e6d8",
            "1ea5d65655a440b69a4d02b0600c7c98",
            "64c7d15f4ad54803bddda948fc5a0c8f"
          ]
        }
      },
      "source": [
        "data_wrangler(git_path+\"val_split.csv\", val=True, classification= True)"
      ],
      "execution_count": 0,
      "outputs": [
        {
          "output_type": "display_data",
          "data": {
            "application/vnd.jupyter.widget-view+json": {
              "model_id": "3f50f8ea667b4c228b8055a04140bfd6",
              "version_minor": 0,
              "version_major": 2
            },
            "text/plain": [
              "HBox(children=(IntProgress(value=0, description='CatList', max=4, style=ProgressStyle(description_width='initi…"
            ]
          },
          "metadata": {
            "tags": []
          }
        },
        {
          "output_type": "display_data",
          "data": {
            "application/vnd.jupyter.widget-view+json": {
              "model_id": "9b464a1dc8164776b5c779d66c2a8409",
              "version_minor": 0,
              "version_major": 2
            },
            "text/plain": [
              "HBox(children=(IntProgress(value=0, description='patents', max=20, style=ProgressStyle(description_width='init…"
            ]
          },
          "metadata": {
            "tags": []
          }
        },
        {
          "output_type": "display_data",
          "data": {
            "application/vnd.jupyter.widget-view+json": {
              "model_id": "a066ec84d6e647cb827b5f9bdf1e52df",
              "version_minor": 0,
              "version_major": 2
            },
            "text/plain": [
              "HBox(children=(IntProgress(value=0, description='patents', max=20, style=ProgressStyle(description_width='init…"
            ]
          },
          "metadata": {
            "tags": []
          }
        },
        {
          "output_type": "display_data",
          "data": {
            "application/vnd.jupyter.widget-view+json": {
              "model_id": "ca1100410528418dadacd97737aca5da",
              "version_minor": 0,
              "version_major": 2
            },
            "text/plain": [
              "HBox(children=(IntProgress(value=0, description='patents', max=20, style=ProgressStyle(description_width='init…"
            ]
          },
          "metadata": {
            "tags": []
          }
        },
        {
          "output_type": "display_data",
          "data": {
            "application/vnd.jupyter.widget-view+json": {
              "model_id": "6e74a5eecbbc4824892244d1ee7a8959",
              "version_minor": 0,
              "version_major": 2
            },
            "text/plain": [
              "HBox(children=(IntProgress(value=0, description='patents', max=20, style=ProgressStyle(description_width='init…"
            ]
          },
          "metadata": {
            "tags": []
          }
        },
        {
          "output_type": "execute_result",
          "data": {
            "text/plain": [
              "<__main__.data_wrangler at 0x7f4947fa9278>"
            ]
          },
          "metadata": {
            "tags": []
          },
          "execution_count": 107
        }
      ]
    },
    {
      "cell_type": "code",
      "metadata": {
        "id": "cwgF3hjnBSBN",
        "colab_type": "code",
        "outputId": "2c0e60a8-fccf-4ae5-e80d-d5ca0ab0bb76",
        "colab": {
          "base_uri": "https://localhost:8080/",
          "height": 211,
          "referenced_widgets": [
            "1b461d1f8865409dacf7277549aa7cee",
            "3526ff4092994670b898727e957aec6e",
            "21f72d2c54104f6ebcdb581fdb124393",
            "5a26d80c2f204ff9a44c8b314d2c2e25",
            "30d98ab90d6543b396692b6986bd449d",
            "3f32542684b44510bc8dc4651dc78d36",
            "057b7aed751f4c3cb9503865a82084e5",
            "098968938802419fa36c3c6e9d05fa23",
            "f91635178a5242d48cdcc90e9cc10dc2",
            "04ca02101c4143b1a4204eb0ad9befbb",
            "0f53875d546d4b06a5f19dccf7222993",
            "fdfe735f4a494c4ab70dcf69d0b495ad",
            "2a49c7b966cb43acb03a570f3d5da82a",
            "ee79f0173a094e149b0dc93f9e1e5ca2",
            "84c7937cbd9d4fefb9caf824b3a34811",
            "c8a725d9eb3245dfb8378062bcb90f24",
            "3fbcbb7c49014445b79c8a2f5ef6e39c",
            "09d6b9893e9c4a74ae6cd8308f485f9d",
            "de52bc7675304d1e93061f2afe75cfd2",
            "553a9102b803428894925784572e03d7",
            "cd50dd736289407a979e323ed8cf02ca",
            "dba79336105c4804b3cd0be156d88752",
            "1b26bf52a1c44ff48d3dd20ccf3e006d",
            "0d088986710546a88a4849e53fe422e3",
            "e49da54d5e5943b29e0e9b202b5d2cf2",
            "6a78264f9450458e82753e08c2e24af9",
            "2487e5911b7948c394d8f3b7b3ce1711",
            "8b1b9f15d940415083ba2a337eb1ee69",
            "09a1c3f283044d76a7b7f747313f11c2",
            "70c9b97eb68e41d498c4a65910beb020",
            "a690c981bcb04023b8e0872336377c59",
            "37b8f220dbcc483f93928f474758c96c",
            "e9c11b4e1eb34ce480e16b232dca9567",
            "4dd4be3549644edbbcfa6e494ad49daa",
            "e12d7652251b4c1c9c89d16754e31615",
            "837b49ede08c49de88dfcb6d0cb1ee62",
            "e37f6e314a8440c694c14731350f4969",
            "1049cb06971d46889b1fd3c1d574f95b",
            "30dffb28fffc42f6b6750054a785fa3b",
            "5b5a95238ded40dc80c425805f6e879b"
          ]
        }
      },
      "source": [
        "data_wrangler(git_path+\"train_split.csv\",  classification= True)"
      ],
      "execution_count": 0,
      "outputs": [
        {
          "output_type": "display_data",
          "data": {
            "application/vnd.jupyter.widget-view+json": {
              "model_id": "1b461d1f8865409dacf7277549aa7cee",
              "version_minor": 0,
              "version_major": 2
            },
            "text/plain": [
              "HBox(children=(IntProgress(value=0, description='CatList', max=4, style=ProgressStyle(description_width='initi…"
            ]
          },
          "metadata": {
            "tags": []
          }
        },
        {
          "output_type": "display_data",
          "data": {
            "application/vnd.jupyter.widget-view+json": {
              "model_id": "f91635178a5242d48cdcc90e9cc10dc2",
              "version_minor": 0,
              "version_major": 2
            },
            "text/plain": [
              "HBox(children=(IntProgress(value=0, description='patents', max=280, style=ProgressStyle(description_width='ini…"
            ]
          },
          "metadata": {
            "tags": []
          }
        },
        {
          "output_type": "stream",
          "text": [
            "'NoneType' object is not subscriptable\n"
          ],
          "name": "stdout"
        },
        {
          "output_type": "display_data",
          "data": {
            "application/vnd.jupyter.widget-view+json": {
              "model_id": "3fbcbb7c49014445b79c8a2f5ef6e39c",
              "version_minor": 0,
              "version_major": 2
            },
            "text/plain": [
              "HBox(children=(IntProgress(value=0, description='patents', max=280, style=ProgressStyle(description_width='ini…"
            ]
          },
          "metadata": {
            "tags": []
          }
        },
        {
          "output_type": "display_data",
          "data": {
            "application/vnd.jupyter.widget-view+json": {
              "model_id": "e49da54d5e5943b29e0e9b202b5d2cf2",
              "version_minor": 0,
              "version_major": 2
            },
            "text/plain": [
              "HBox(children=(IntProgress(value=0, description='patents', max=280, style=ProgressStyle(description_width='ini…"
            ]
          },
          "metadata": {
            "tags": []
          }
        },
        {
          "output_type": "display_data",
          "data": {
            "application/vnd.jupyter.widget-view+json": {
              "model_id": "e9c11b4e1eb34ce480e16b232dca9567",
              "version_minor": 0,
              "version_major": 2
            },
            "text/plain": [
              "HBox(children=(IntProgress(value=0, description='patents', max=280, style=ProgressStyle(description_width='ini…"
            ]
          },
          "metadata": {
            "tags": []
          }
        },
        {
          "output_type": "execute_result",
          "data": {
            "text/plain": [
              "<__main__.data_wrangler at 0x7f49494db320>"
            ]
          },
          "metadata": {
            "tags": []
          },
          "execution_count": 106
        }
      ]
    },
    {
      "cell_type": "code",
      "metadata": {
        "id": "MpDl-Nanh5mV",
        "colab_type": "code",
        "colab": {}
      },
      "source": [
        "df1 = pd.read_csv(\"final_train_clean.csv\",index_col=0)\n",
        "df2 = pd.read_csv(\"final_val_clean.csv\", index_col= 0)"
      ],
      "execution_count": 0,
      "outputs": []
    },
    {
      "cell_type": "code",
      "metadata": {
        "id": "99J64-a6BbYZ",
        "colab_type": "code",
        "colab": {}
      },
      "source": [
        "df1 = df1.sample(frac=1).reset_index(drop=True).dropna()\n",
        "df2 = df2.sample(frac=1).reset_index(drop=True).dropna()\n"
      ],
      "execution_count": 0,
      "outputs": []
    },
    {
      "cell_type": "code",
      "metadata": {
        "id": "PSHGq4wDCj8d",
        "colab_type": "code",
        "outputId": "22693e67-28cf-422f-e0dc-cf499c72f273",
        "colab": {
          "base_uri": "https://localhost:8080/",
          "height": 34
        }
      },
      "source": [
        "df2.shape"
      ],
      "execution_count": 0,
      "outputs": [
        {
          "output_type": "execute_result",
          "data": {
            "text/plain": [
              "(80, 2)"
            ]
          },
          "metadata": {
            "tags": []
          },
          "execution_count": 91
        }
      ]
    },
    {
      "cell_type": "code",
      "metadata": {
        "id": "5zWoMLm9BbU6",
        "colab_type": "code",
        "outputId": "f30617bc-3b2b-4299-a805-bf16c5f48dab",
        "colab": {
          "base_uri": "https://localhost:8080/",
          "height": 34
        }
      },
      "source": [
        "df1.to_csv(drive_pt+\"classification_final_train_clean.csv\")\n",
        "df2.to_csv(drive_pt+\"classification_final_val_clean.csv\")\n",
        "\n",
        "\"\"\"\n",
        "df1.to_csv(drive_pt+\"abstract_final_train_clean.csv\")\n",
        "df2.to_csv(drive_pt+\"abstract_final_val_clean.csv\")\n",
        "\n",
        "\"\"\""
      ],
      "execution_count": 0,
      "outputs": [
        {
          "output_type": "execute_result",
          "data": {
            "text/plain": [
              "'\\ndf1.to_csv(drive_pt+\"abstract_final_train_clean.csv\")\\ndf2.to_csv(drive_pt+\"abstract_final_val_clean.csv\")\\n\\n'"
            ]
          },
          "metadata": {
            "tags": []
          },
          "execution_count": 123
        }
      ]
    },
    {
      "cell_type": "code",
      "metadata": {
        "id": "gZn20kKj_MAn",
        "colab_type": "code",
        "outputId": "38167a59-292e-4fe5-fdcb-d550872c42d3",
        "colab": {
          "base_uri": "https://localhost:8080/",
          "height": 298
        }
      },
      "source": [
        "(a.iloc[0,:1]).value"
      ],
      "execution_count": 0,
      "outputs": [
        {
          "output_type": "error",
          "ename": "AttributeError",
          "evalue": "ignored",
          "traceback": [
            "\u001b[0;31m---------------------------------------------------------------------------\u001b[0m",
            "\u001b[0;31mAttributeError\u001b[0m                            Traceback (most recent call last)",
            "\u001b[0;32m<ipython-input-27-8bd32b1e5d30>\u001b[0m in \u001b[0;36m<module>\u001b[0;34m()\u001b[0m\n\u001b[0;32m----> 1\u001b[0;31m \u001b[0;34m(\u001b[0m\u001b[0ma\u001b[0m\u001b[0;34m.\u001b[0m\u001b[0miloc\u001b[0m\u001b[0;34m[\u001b[0m\u001b[0;36m0\u001b[0m\u001b[0;34m,\u001b[0m\u001b[0;34m:\u001b[0m\u001b[0;36m1\u001b[0m\u001b[0;34m]\u001b[0m\u001b[0;34m)\u001b[0m\u001b[0;34m.\u001b[0m\u001b[0mvalue\u001b[0m\u001b[0;34m\u001b[0m\u001b[0;34m\u001b[0m\u001b[0m\n\u001b[0m",
            "\u001b[0;32m/usr/local/lib/python3.6/dist-packages/pandas/core/generic.py\u001b[0m in \u001b[0;36m__getattr__\u001b[0;34m(self, name)\u001b[0m\n\u001b[1;32m   5177\u001b[0m             \u001b[0;32mif\u001b[0m \u001b[0mself\u001b[0m\u001b[0;34m.\u001b[0m\u001b[0m_info_axis\u001b[0m\u001b[0;34m.\u001b[0m\u001b[0m_can_hold_identifiers_and_holds_name\u001b[0m\u001b[0;34m(\u001b[0m\u001b[0mname\u001b[0m\u001b[0;34m)\u001b[0m\u001b[0;34m:\u001b[0m\u001b[0;34m\u001b[0m\u001b[0;34m\u001b[0m\u001b[0m\n\u001b[1;32m   5178\u001b[0m                 \u001b[0;32mreturn\u001b[0m \u001b[0mself\u001b[0m\u001b[0;34m[\u001b[0m\u001b[0mname\u001b[0m\u001b[0;34m]\u001b[0m\u001b[0;34m\u001b[0m\u001b[0;34m\u001b[0m\u001b[0m\n\u001b[0;32m-> 5179\u001b[0;31m             \u001b[0;32mreturn\u001b[0m \u001b[0mobject\u001b[0m\u001b[0;34m.\u001b[0m\u001b[0m__getattribute__\u001b[0m\u001b[0;34m(\u001b[0m\u001b[0mself\u001b[0m\u001b[0;34m,\u001b[0m \u001b[0mname\u001b[0m\u001b[0;34m)\u001b[0m\u001b[0;34m\u001b[0m\u001b[0;34m\u001b[0m\u001b[0m\n\u001b[0m\u001b[1;32m   5180\u001b[0m \u001b[0;34m\u001b[0m\u001b[0m\n\u001b[1;32m   5181\u001b[0m     \u001b[0;32mdef\u001b[0m \u001b[0m__setattr__\u001b[0m\u001b[0;34m(\u001b[0m\u001b[0mself\u001b[0m\u001b[0;34m,\u001b[0m \u001b[0mname\u001b[0m\u001b[0;34m,\u001b[0m \u001b[0mvalue\u001b[0m\u001b[0;34m)\u001b[0m\u001b[0;34m:\u001b[0m\u001b[0;34m\u001b[0m\u001b[0;34m\u001b[0m\u001b[0m\n",
            "\u001b[0;31mAttributeError\u001b[0m: 'Series' object has no attribute 'value'"
          ]
        }
      ]
    },
    {
      "cell_type": "code",
      "metadata": {
        "id": "jSim_cZNklDe",
        "colab_type": "code",
        "outputId": "a21b3b7a-b497-4f4d-f255-6003f9983918",
        "colab": {
          "base_uri": "https://localhost:8080/",
          "height": 146
        }
      },
      "source": [
        "\n",
        "with open(alc_json_pt[200]) as json_file:\n",
        "    data = json.load(json_file)\n",
        "data    "
      ],
      "execution_count": 0,
      "outputs": [
        {
          "output_type": "execute_result",
          "data": {
            "text/plain": [
              "{'abstract': '\" A system and method for generating wort utilizing steam injection heating and stratified flow. The system mixes a fine ground grain with water to form a slurry. The slurry is pumped through a steam injection heater to form a mash. The heated mash enters into a stratified vessel that creates a stratified temperature profile from a first end to a second end. The stratified heating vessel allows the mash to flow from the first end to the second end without internal mixing. After retention within the mash coil, the wort is directed to a mash filtration unit. After filtration, the wort enters into a boil kettle and is heated using a second steam injection heater. The boil kettle includes a spray head that directs brewing liquor onto the wort to reduce foam within the boil kettle. Finally, the wort passes through a scraped surface sieve that removes particles from the heated wort.\"',\n",
              " 'claims': '\"  1. A system for generating wort from a slurry of milled grain and water or use in the brewing process, the system comprising: an expansion chamber that receive the slurry; a pump operable to draw the slurry from the expansion chamber; and a steam injection heater positioned downstream from the pump to heat the slurry and create a mash.  an expansion chamber that receive the slurry; a pump operable to draw the slurry from the expansion chamber; and a steam injection heater positioned downstream from the pump to heat the slurry and create a mash.  2. The system of claim 1 further comprising a stratified storage vessel positioned to receive the mash from the steam injection heater, wherein the stratified storage vessel prevents mixture within the mash as the mash moves through the stratified storage vessel.  3. The system of claim 2 wherein the stratified storage vessel is a stacked coil of pipe extending from a first end to a second end.  4. The system of claim 3 wherein the pipe has a constant diameter from the first end to the second end.  5. The system of claim 3 wherein the stacked coil has a constant inner and outer diameter from the first end to the second end.  6. The system of claim 2 further comprising a filtration unit positioned to receive the mash from the stratified storage vessel, wherein the filtration unit removes coarse particles from the mash to create a wort.  7. The system of claim 6 further comprising a boil kettle having an open interior sized to receive the wort, wherein the boil kettle includes a outlet coupled to a second steam injection heater operable to heat the wort and return the wort to the open interior.  8. The system of claim 7 further comprising a spray head positioned within the boil kettle and operable to direct a spray of liquid onto the wort contained within the open interior of the boil kettle.  9. The system of claim 8 wherein the spray of liquid is brewing liquor.  10. The system of claim 9 wherein the volume of brewing liquor directed through the spray head is measured.  11. The system of claim 7 further comprising a scraped surface sieve positioned to receive the wort from the boil kettle and operable to remove any solids from the wort.  12. The system of claim 7 further comprising: a holding tank positioned to receive the heated wort from the boil kettle a flow control valve positioned between the outlet of the boil kettle and the holding tank; and a discharge pump operable to direct the wort from the holding tank.  a holding tank positioned to receive the heated wort from the boil kettle; a flow control valve positioned between the outlet of the boil kettle and the holding tank; and a discharge pump operable to direct the wort from the holding tank.  13. A method of creating wort for use in the brewing process, the method comprising the steps of: milling a supply of grain into fine particles; mixing the milled supply of grain with water to form a slurry; and directing the slurry through a steam injection heater to heat the slurry and create a mash.  milling a supply of grain into fine particles; mixing the milled supply of grain with water to form a slurry; and directing the slurry through a steam injection heater to heat the slurry and create a mash.  14. The method of claim 13 further comprising the steps of: receiving the mash at a first end of a stratified storage vessel; and retaining the mash within the stratified storage vessel.  receiving the mash at a first end of a stratified storage vessel; and retaining the mash within the stratified storage vessel.  15. The method of claim 14 further comprising the step of removing the mash from a second end of the stratified storage vessel and directing the mash to a filtration unit to remove coarse particles from the mash to create a liquid wort.  16. The method of claim 14 further comprising the steps of: receiving the wort within an open interior of a boil kettle removing the wort from the boil kettle and heating the wort with a second steam injection heater returning the heated wort to the open interior of the boil kettle; and directing the wort from the open interior of the boil kettle for use in the fermentation process of brewing.  receiving the wort within an open interior of a boil kettle; removing the wort from the boil kettle and heating the wort with a second steam injection heater; returning the heated wort to the open interior of the boil kettle; and directing the wort from the open interior of the boil kettle for use in the fermentation process of brewing.  17. The method of claim 14 wherein the stratified storage vessel is a stacked coil of pipe extending from the first end to the second end, wherein the stacked coil prevent the mixing of the mash within the stacked coil.  18. The method of claim 16 further comprising the step of directing a spray of a brewing liquor onto the wort within the open interior of the boil kettle to reduce foaming.  19. The method of claim 18 wherein the spray of brewing liquor is directed through a spray head positioned within the open interior of the boil kettle.  20. The method of claim 16 further comprising the step of directing the wort from the boil kettle to a scraped surface sieve, wherein the scraped surface sieve operated to remove solids from the wort.  21. A system for reducing foaming in a boil kettle, comprising: a spray head positioned near an upper end of the boil kettle; a supply of brewing liquor connected to the spray head; a flow control valve operable to allow the supply of brewing liquor to pass into the spray head; and at least one flow sensor operable to measure the amount of brewing liquor directed into the boil kettle through the spray head.  a spray head positioned near an upper end of the boil kettle; a supply of brewing liquor connected to the spray head; a flow control valve operable to allow the supply of brewing liquor to pass into the spray head; and at least one flow sensor operable to measure the amount of brewing liquor directed into the boil kettle through the spray head.  22. The system of claim 21 wherein the spray head includes a plurality of nozzles.\"',\n",
              " 'classification': '\" CHEMISTRY; METALLURGY BIOCHEMISTRY; BEER; SPIRITS; WINE; VINEGAR; MICROBIOLOGY; ENZYMOLOGY; MUTATION OR GENETIC ENGINEERING BREWING OF BEER Preparation of wort Preparation or treatment of the mash Mashing apparatus PERFORMING OPERATIONS; TRANSPORTING PHYSICAL OR CHEMICAL PROCESSES OR APPARATUS IN GENERAL SEPARATION Evaporating Evaporating by spraying CHEMISTRY; METALLURGY BIOCHEMISTRY; BEER; SPIRITS; WINE; VINEGAR; MICROBIOLOGY; ENZYMOLOGY; MUTATION OR GENETIC ENGINEERING BREWING OF BEER Brewing devices, not covered by a single group of C12C1/00\\\\u00a0-\\\\u00a0C12C12/04 Brew kettles Brew kettles heated with steam CHEMISTRY; METALLURGY BIOCHEMISTRY; BEER; SPIRITS; WINE; VINEGAR; MICROBIOLOGY; ENZYMOLOGY; MUTATION OR GENETIC ENGINEERING BREWING OF BEER Preparation of wort CHEMISTRY; METALLURGY BIOCHEMISTRY; BEER; SPIRITS; WINE; VINEGAR; MICROBIOLOGY; ENZYMOLOGY; MUTATION OR GENETIC ENGINEERING BREWING OF BEER Preparation of wort Boiling the beerwort CHEMISTRY; METALLURGY BIOCHEMISTRY; BEER; SPIRITS; WINE; VINEGAR; MICROBIOLOGY; ENZYMOLOGY; MUTATION OR GENETIC ENGINEERING BREWING OF BEER Preparation of wort Boiling the beerwort Boiling with hops Processes or apparatus specially adapted to save or recover energy PERFORMING OPERATIONS; TRANSPORTING PHYSICAL OR CHEMICAL PROCESSES OR APPARATUS IN GENERAL BOILING; BOILING APPARATUS ; EVAPORATION; EVAPORATION APPARATUS Boiling; Boiling apparatus for physical or chemical purposes ; Evaporation in general Preventing foaming CHEMISTRY; METALLURGY BIOCHEMISTRY; BEER; SPIRITS; WINE; VINEGAR; MICROBIOLOGY; ENZYMOLOGY; MUTATION OR GENETIC ENGINEERING BREWING OF BEER Preparation of wort After-treatment, e.g. sterilisation CHEMISTRY; METALLURGY BIOCHEMISTRY; BEER; SPIRITS; WINE; VINEGAR; MICROBIOLOGY; ENZYMOLOGY; MUTATION OR GENETIC ENGINEERING BREWING OF BEER Methods specially adapted for the making of beerwort Beerwort treatment; Boiling with hops; Hop extraction\"',\n",
              " 'patent': 'US20180094229A1',\n",
              " 'title': '\" - System and method for wort generation        - \"',\n",
              " 'url': 'https://patents.google.com/patent/US20180094229A1/en?'}"
            ]
          },
          "metadata": {
            "tags": []
          },
          "execution_count": 13
        }
      ]
    },
    {
      "cell_type": "code",
      "metadata": {
        "id": "DbMZFsWGZ08F",
        "colab_type": "code",
        "colab": {}
      },
      "source": [
        "cleaned_data  = pd.DataFrame(columns=[\"text\",\"cat\"])\n",
        "cleaned_data=cleaned_data.append({\"text\":'bleh',\"cat\":1},ignore_index= True)\n",
        "cleaned_data = cleaned_data.append({\"text\":'bldeh',\"cat\":2},ignore_index= True)"
      ],
      "execution_count": 0,
      "outputs": []
    },
    {
      "cell_type": "code",
      "metadata": {
        "id": "ET0bDnran546",
        "colab_type": "code",
        "outputId": "de789569-4bc6-4b6a-da84-c98a4e3e090b",
        "colab": {
          "base_uri": "https://localhost:8080/",
          "height": 108
        }
      },
      "source": [
        "cleaned_data"
      ],
      "execution_count": 0,
      "outputs": [
        {
          "output_type": "execute_result",
          "data": {
            "text/html": [
              "<div>\n",
              "<style scoped>\n",
              "    .dataframe tbody tr th:only-of-type {\n",
              "        vertical-align: middle;\n",
              "    }\n",
              "\n",
              "    .dataframe tbody tr th {\n",
              "        vertical-align: top;\n",
              "    }\n",
              "\n",
              "    .dataframe thead th {\n",
              "        text-align: right;\n",
              "    }\n",
              "</style>\n",
              "<table border=\"1\" class=\"dataframe\">\n",
              "  <thead>\n",
              "    <tr style=\"text-align: right;\">\n",
              "      <th></th>\n",
              "      <th>text</th>\n",
              "      <th>cat</th>\n",
              "    </tr>\n",
              "  </thead>\n",
              "  <tbody>\n",
              "    <tr>\n",
              "      <th>0</th>\n",
              "      <td>bleh</td>\n",
              "      <td>1</td>\n",
              "    </tr>\n",
              "    <tr>\n",
              "      <th>1</th>\n",
              "      <td>bldeh</td>\n",
              "      <td>2</td>\n",
              "    </tr>\n",
              "  </tbody>\n",
              "</table>\n",
              "</div>"
            ],
            "text/plain": [
              "    text cat\n",
              "0   bleh   1\n",
              "1  bldeh   2"
            ]
          },
          "metadata": {
            "tags": []
          },
          "execution_count": 29
        }
      ]
    },
    {
      "cell_type": "code",
      "metadata": {
        "id": "3XnnoqEsQcFM",
        "colab_type": "code",
        "outputId": "a8b5c50a-249c-4984-b70e-f1d5a7091ad7",
        "colab": {
          "base_uri": "https://localhost:8080/",
          "height": 72
        }
      },
      "source": [
        "import nltk\n",
        "nltk.download('stopwords')"
      ],
      "execution_count": 0,
      "outputs": [
        {
          "output_type": "stream",
          "text": [
            "[nltk_data] Downloading package stopwords to /root/nltk_data...\n",
            "[nltk_data]   Unzipping corpora/stopwords.zip.\n"
          ],
          "name": "stdout"
        },
        {
          "output_type": "execute_result",
          "data": {
            "text/plain": [
              "True"
            ]
          },
          "metadata": {
            "tags": []
          },
          "execution_count": 15
        }
      ]
    },
    {
      "cell_type": "code",
      "metadata": {
        "id": "je3WW3I8og9b",
        "colab_type": "code",
        "colab": {}
      },
      "source": [
        "!python -m nltk.downloader all"
      ],
      "execution_count": 0,
      "outputs": []
    },
    {
      "cell_type": "code",
      "metadata": {
        "id": "JO-NNof3o09r",
        "colab_type": "code",
        "outputId": "6d06d577-1338-4af0-dd1e-47788a66e138",
        "colab": {
          "base_uri": "https://localhost:8080/",
          "height": 55
        }
      },
      "source": [
        "from nltk.corpus import stopwords\n",
        "import string\n",
        "import spacy #load spacy\n",
        "nlp = spacy.load(\"en\", disable=['parser', 'tagger', 'ner'])\n",
        "stops = stopwords.words(\"english\")\n",
        "puncs = string.punctuation\n",
        "puncs.replace('.','/')\n",
        "\n",
        "def normalize(comment, lowercase = True, remove_stopwords = True):\n",
        "  if lowercase:\n",
        "      comment = comment.lower()\n",
        "  comment = nlp(comment)\n",
        "  lemmatized = list()\n",
        "  for word in comment:\n",
        "      lemma = word.lemma_.strip()\n",
        "      if lemma:\n",
        "          if not remove_stopwords or (remove_stopwords and lemma not in stops and not (\"\\\\\" in r\"%r\" % lemma)):\n",
        "              result = re.findall('[^A-Za-z0-9]+',lemma)\n",
        "              len(result)\n",
        "              lemmatized.append(lemma)\n",
        "  return \" \".join(lemmatized)\n",
        "normalize(data[\"claims\"])"
      ],
      "execution_count": 0,
      "outputs": [
        {
          "output_type": "execute_result",
          "data": {
            "text/plain": [
              "'\" 1 . system generate wort slurry mill grain water use brew process , system comprise : expansion chamber receive slurry ; pump operable draw slurry expansion chamber ; steam injection heater position downstream pump heat slurry create mash . expansion chamber receive slurry ; pump operable draw slurry expansion chamber ; steam injection heater position downstream pump heat slurry create mash . 2 . system claim 1 far comprise stratify storage vessel position receive mash steam injection heater , wherein stratify storage vessel prevent mixture within mash mash move stratify storage vessel . 3 . system claim 2 wherein stratify storage vessel stack coil pipe extend end 2 end . 4 . system claim 3 wherein pipe constant diameter end 2 end . 5 . system claim 3 wherein stack coil constant inner outer diameter end 2 end . 6 . system claim 2 far comprise filtration unit position receive mash stratify storage vessel , wherein filtration unit remove coarse particle mash create wort . 7 . system claim 6 far comprise boil kettle open interior size receive wort , wherein boil kettle include outlet couple 2 steam injection heater operable heat wort return wort open interior . 8 . system claim 7 far comprise spray head position within boil kettle operable direct spray liquid onto wort contain within open interior boil kettle . 9 . system claim 8 wherein spray liquid brew liquor . 10 . system claim 9 wherein volume brew liquor direct spray head measure . 11 . system claim 7 far comprise scrape surface sieve position receive wort boil kettle operable remove solid wort . 12 . system claim 7 far comprise : hold tank position receive heat wort boil kettle flow control valve position outlet boil kettle hold tank ; discharge pump operable direct wort hold tank . hold tank position receive heat wort boil kettle ; flow control valve position outlet boil kettle hold tank ; discharge pump operable direct wort hold tank . 13 . method create wort use brew process , method comprise step : mill supply grain fine particle ; mix mill supply grain water form slurry ; direct slurry steam injection heater heat slurry create mash . mill supply grain fine particle ; mix mill supply grain water form slurry ; direct slurry steam injection heater heat slurry create mash . 14 . method claim 13 far comprise step : receive mash end stratify storage vessel ; retain mash within stratify storage vessel . receive mash end stratify storage vessel ; retain mash within stratify storage vessel . 15 . method claim 14 far comprise step remove mash 2 end stratify storage vessel direct mash filtration unit remove coarse particle mash create liquid wort . 16 . method claim 14 far comprise step : receive wort within open interior boil kettle remove wort boil kettle heat wort 2 steam injection heater return heat wort open interior boil kettle ; direct wort open interior boil kettle use fermentation process brew . receive wort within open interior boil kettle ; remove wort boil kettle heat wort 2 steam injection heater ; return heat wort open interior boil kettle ; direct wort open interior boil kettle use fermentation process brew . 17 . method claim 14 wherein stratify storage vessel stack coil pipe extend end 2 end , wherein stack coil prevent mix mash within stack coil . 18 . method claim 16 far comprise step direct spray brew liquor onto wort within open interior boil kettle reduce foam . 19 . method claim 18 wherein spray brew liquor direct spray head position within open interior boil kettle . 20 . method claim 16 far comprise step direct wort boil kettle scrape surface sieve , wherein scrape surface sieve operate remove solid wort . 21 . system reduce foam boil kettle , comprise : spray head position near upper end boil kettle ; supply brew liquor connect spray head ; flow control valve operable allow supply brew liquor pass spray head ; little one flow sensor operable measure amount brew liquor direct boil kettle spray head . spray head position near upper end boil kettle ; supply brew liquor connect spray head ; flow control valve operable allow supply brew liquor pass spray head ; little one flow sensor operable measure amount brew liquor direct boil kettle spray head . 22 . system claim 21 wherein spray head include plurality nozzle . \"'"
            ]
          },
          "metadata": {
            "tags": []
          },
          "execution_count": 154
        }
      ]
    },
    {
      "cell_type": "code",
      "metadata": {
        "id": "Goy28R-fpJOF",
        "colab_type": "code",
        "outputId": "d80523fb-d4ce-41d6-9595-939ec8859c06",
        "colab": {
          "base_uri": "https://localhost:8080/",
          "height": 135
        }
      },
      "source": [
        "a= \"\\ufeff1\"\n",
        "\\\\u03b4\n",
        "str = \"a23b\\\\u00a0-\\\\u 00a0a23j \"\n",
        "\"c12c1/00\\\\u00a0-\\\\u00a0c12c12/04\n",
        "a.encode(\"utf-\")"
      ],
      "execution_count": 0,
      "outputs": [
        {
          "output_type": "error",
          "ename": "SyntaxError",
          "evalue": "ignored",
          "traceback": [
            "\u001b[0;36m  File \u001b[0;32m\"<ipython-input-43-101081d5b97b>\"\u001b[0;36m, line \u001b[0;32m2\u001b[0m\n\u001b[0;31m    \\\\u03b4\u001b[0m\n\u001b[0m           ^\u001b[0m\n\u001b[0;31mSyntaxError\u001b[0m\u001b[0;31m:\u001b[0m unexpected character after line continuation character\n"
          ]
        }
      ]
    },
    {
      "cell_type": "code",
      "metadata": {
        "id": "lni_S6LynIKn",
        "colab_type": "code",
        "outputId": "91b202fe-6a8f-4317-bf32-cd1006555e71",
        "colab": {
          "base_uri": "https://localhost:8080/",
          "height": 35
        }
      },
      "source": [
        "import re\n",
        "str1 = \"a23b\\u00a0 ' \\\\u00a0a23j\"\n",
        "str = \"Ilovedlockinglovers\"\n",
        "result = re.findall('[^A-Za-z0-9]+',str1)\n",
        "(result)"
      ],
      "execution_count": 0,
      "outputs": [
        {
          "output_type": "execute_result",
          "data": {
            "text/plain": [
              "[\"\\xa0 ' \\\\\"]"
            ]
          },
          "metadata": {
            "tags": []
          },
          "execution_count": 151
        }
      ]
    },
    {
      "cell_type": "code",
      "metadata": {
        "id": "7EH_7zOar8V0",
        "colab_type": "code",
        "outputId": "ec0ad7d2-eb8c-4ea3-a067-d329831bb2ea",
        "colab": {
          "base_uri": "https://localhost:8080/",
          "height": 35
        }
      },
      "source": [
        "\"\\\\\" in r\"%r\" % str1"
      ],
      "execution_count": 0,
      "outputs": [
        {
          "output_type": "execute_result",
          "data": {
            "text/plain": [
              "True"
            ]
          },
          "metadata": {
            "tags": []
          },
          "execution_count": 150
        }
      ]
    },
    {
      "cell_type": "code",
      "metadata": {
        "id": "3pCdH6qtvoPk",
        "colab_type": "code",
        "colab": {}
      },
      "source": [
        "s = r\"u\""
      ],
      "execution_count": 0,
      "outputs": []
    },
    {
      "cell_type": "code",
      "metadata": {
        "id": "zGDtkcvqmLD-",
        "colab_type": "code",
        "outputId": "9655a7cb-e299-4b0a-954f-a42111bc10de",
        "colab": {
          "base_uri": "https://localhost:8080/",
          "height": 35
        }
      },
      "source": [
        "s"
      ],
      "execution_count": 0,
      "outputs": [
        {
          "output_type": "execute_result",
          "data": {
            "text/plain": [
              "'u'"
            ]
          },
          "metadata": {
            "tags": []
          },
          "execution_count": 149
        }
      ]
    },
    {
      "cell_type": "code",
      "metadata": {
        "id": "AfhCOr0Ynja_",
        "colab_type": "code",
        "colab": {}
      },
      "source": [
        ""
      ],
      "execution_count": 0,
      "outputs": []
    }
  ]
}