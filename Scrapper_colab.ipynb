{
  "nbformat": 4,
  "nbformat_minor": 0,
  "metadata": {
    "kernelspec": {
      "name": "python3",
      "display_name": "Python 3"
    },
    "language_info": {
      "codemirror_mode": {
        "name": "ipython",
        "version": 3
      },
      "file_extension": ".py",
      "mimetype": "text/x-python",
      "name": "python",
      "nbconvert_exporter": "python",
      "pygments_lexer": "ipython3",
      "version": "3.6.9"
    },
    "colab": {
      "name": "Scrapper.ipynb",
      "provenance": [],
      "include_colab_link": true
    },
    "accelerator": "GPU",
    "widgets": {
      "application/vnd.jupyter.widget-state+json": {
        "6d695a3edb7c45ae97bc894b62ba597b": {
          "model_module": "@jupyter-widgets/controls",
          "model_name": "HBoxModel",
          "state": {
            "_view_name": "HBoxView",
            "_dom_classes": [],
            "_model_name": "HBoxModel",
            "_view_module": "@jupyter-widgets/controls",
            "_model_module_version": "1.5.0",
            "_view_count": null,
            "_view_module_version": "1.5.0",
            "box_style": "",
            "layout": "IPY_MODEL_693a106442be4b99af8e32ca49b790a7",
            "_model_module": "@jupyter-widgets/controls",
            "children": [
              "IPY_MODEL_c45ab364591049e9ad07840f546540c1",
              "IPY_MODEL_c8bce2b298fe4e13911f0a1d2c095b9d"
            ]
          }
        },
        "693a106442be4b99af8e32ca49b790a7": {
          "model_module": "@jupyter-widgets/base",
          "model_name": "LayoutModel",
          "state": {
            "_view_name": "LayoutView",
            "grid_template_rows": null,
            "right": null,
            "justify_content": null,
            "_view_module": "@jupyter-widgets/base",
            "overflow": null,
            "_model_module_version": "1.2.0",
            "_view_count": null,
            "flex_flow": null,
            "width": null,
            "min_width": null,
            "border": null,
            "align_items": null,
            "bottom": null,
            "_model_module": "@jupyter-widgets/base",
            "top": null,
            "grid_column": null,
            "overflow_y": null,
            "overflow_x": null,
            "grid_auto_flow": null,
            "grid_area": null,
            "grid_template_columns": null,
            "flex": null,
            "_model_name": "LayoutModel",
            "justify_items": null,
            "grid_row": null,
            "max_height": null,
            "align_content": null,
            "visibility": null,
            "align_self": null,
            "height": null,
            "min_height": null,
            "padding": null,
            "grid_auto_rows": null,
            "grid_gap": null,
            "max_width": null,
            "order": null,
            "_view_module_version": "1.2.0",
            "grid_template_areas": null,
            "object_position": null,
            "object_fit": null,
            "grid_auto_columns": null,
            "margin": null,
            "display": null,
            "left": null
          }
        },
        "c45ab364591049e9ad07840f546540c1": {
          "model_module": "@jupyter-widgets/controls",
          "model_name": "IntProgressModel",
          "state": {
            "_view_name": "ProgressView",
            "style": "IPY_MODEL_62bd499e246c433a9708ac609497cdc8",
            "_dom_classes": [],
            "description": "wabalabadubdub",
            "_model_name": "IntProgressModel",
            "bar_style": "success",
            "max": 3,
            "_view_module": "@jupyter-widgets/controls",
            "_model_module_version": "1.5.0",
            "value": 3,
            "_view_count": null,
            "_view_module_version": "1.5.0",
            "orientation": "horizontal",
            "min": 0,
            "description_tooltip": null,
            "_model_module": "@jupyter-widgets/controls",
            "layout": "IPY_MODEL_86defd5dfa8e43aabf1df1672abc69eb"
          }
        },
        "c8bce2b298fe4e13911f0a1d2c095b9d": {
          "model_module": "@jupyter-widgets/controls",
          "model_name": "HTMLModel",
          "state": {
            "_view_name": "HTMLView",
            "style": "IPY_MODEL_75f159a255dd43a5b67e24148cbce198",
            "_dom_classes": [],
            "description": "",
            "_model_name": "HTMLModel",
            "placeholder": "​",
            "_view_module": "@jupyter-widgets/controls",
            "_model_module_version": "1.5.0",
            "value": "100% 3/3 [00:00&lt;00:00,  8.02it/s]",
            "_view_count": null,
            "_view_module_version": "1.5.0",
            "description_tooltip": null,
            "_model_module": "@jupyter-widgets/controls",
            "layout": "IPY_MODEL_3e29499d724f425f8cd43bb368b7ecd5"
          }
        },
        "62bd499e246c433a9708ac609497cdc8": {
          "model_module": "@jupyter-widgets/controls",
          "model_name": "ProgressStyleModel",
          "state": {
            "_view_name": "StyleView",
            "_model_name": "ProgressStyleModel",
            "description_width": "initial",
            "_view_module": "@jupyter-widgets/base",
            "_model_module_version": "1.5.0",
            "_view_count": null,
            "_view_module_version": "1.2.0",
            "bar_color": null,
            "_model_module": "@jupyter-widgets/controls"
          }
        },
        "86defd5dfa8e43aabf1df1672abc69eb": {
          "model_module": "@jupyter-widgets/base",
          "model_name": "LayoutModel",
          "state": {
            "_view_name": "LayoutView",
            "grid_template_rows": null,
            "right": null,
            "justify_content": null,
            "_view_module": "@jupyter-widgets/base",
            "overflow": null,
            "_model_module_version": "1.2.0",
            "_view_count": null,
            "flex_flow": null,
            "width": null,
            "min_width": null,
            "border": null,
            "align_items": null,
            "bottom": null,
            "_model_module": "@jupyter-widgets/base",
            "top": null,
            "grid_column": null,
            "overflow_y": null,
            "overflow_x": null,
            "grid_auto_flow": null,
            "grid_area": null,
            "grid_template_columns": null,
            "flex": null,
            "_model_name": "LayoutModel",
            "justify_items": null,
            "grid_row": null,
            "max_height": null,
            "align_content": null,
            "visibility": null,
            "align_self": null,
            "height": null,
            "min_height": null,
            "padding": null,
            "grid_auto_rows": null,
            "grid_gap": null,
            "max_width": null,
            "order": null,
            "_view_module_version": "1.2.0",
            "grid_template_areas": null,
            "object_position": null,
            "object_fit": null,
            "grid_auto_columns": null,
            "margin": null,
            "display": null,
            "left": null
          }
        },
        "75f159a255dd43a5b67e24148cbce198": {
          "model_module": "@jupyter-widgets/controls",
          "model_name": "DescriptionStyleModel",
          "state": {
            "_view_name": "StyleView",
            "_model_name": "DescriptionStyleModel",
            "description_width": "",
            "_view_module": "@jupyter-widgets/base",
            "_model_module_version": "1.5.0",
            "_view_count": null,
            "_view_module_version": "1.2.0",
            "_model_module": "@jupyter-widgets/controls"
          }
        },
        "3e29499d724f425f8cd43bb368b7ecd5": {
          "model_module": "@jupyter-widgets/base",
          "model_name": "LayoutModel",
          "state": {
            "_view_name": "LayoutView",
            "grid_template_rows": null,
            "right": null,
            "justify_content": null,
            "_view_module": "@jupyter-widgets/base",
            "overflow": null,
            "_model_module_version": "1.2.0",
            "_view_count": null,
            "flex_flow": null,
            "width": null,
            "min_width": null,
            "border": null,
            "align_items": null,
            "bottom": null,
            "_model_module": "@jupyter-widgets/base",
            "top": null,
            "grid_column": null,
            "overflow_y": null,
            "overflow_x": null,
            "grid_auto_flow": null,
            "grid_area": null,
            "grid_template_columns": null,
            "flex": null,
            "_model_name": "LayoutModel",
            "justify_items": null,
            "grid_row": null,
            "max_height": null,
            "align_content": null,
            "visibility": null,
            "align_self": null,
            "height": null,
            "min_height": null,
            "padding": null,
            "grid_auto_rows": null,
            "grid_gap": null,
            "max_width": null,
            "order": null,
            "_view_module_version": "1.2.0",
            "grid_template_areas": null,
            "object_position": null,
            "object_fit": null,
            "grid_auto_columns": null,
            "margin": null,
            "display": null,
            "left": null
          }
        },
        "6a41d411669940cda730711ac15b6fab": {
          "model_module": "@jupyter-widgets/controls",
          "model_name": "HBoxModel",
          "state": {
            "_view_name": "HBoxView",
            "_dom_classes": [],
            "_model_name": "HBoxModel",
            "_view_module": "@jupyter-widgets/controls",
            "_model_module_version": "1.5.0",
            "_view_count": null,
            "_view_module_version": "1.5.0",
            "box_style": "",
            "layout": "IPY_MODEL_93c922df665a4e7d8940e9db6c2c82f2",
            "_model_module": "@jupyter-widgets/controls",
            "children": [
              "IPY_MODEL_aa6b5ac0147b48b2bece7f6a6ad856b0",
              "IPY_MODEL_c5d3c6eef7034f67a27d53992415e855"
            ]
          }
        },
        "93c922df665a4e7d8940e9db6c2c82f2": {
          "model_module": "@jupyter-widgets/base",
          "model_name": "LayoutModel",
          "state": {
            "_view_name": "LayoutView",
            "grid_template_rows": null,
            "right": null,
            "justify_content": null,
            "_view_module": "@jupyter-widgets/base",
            "overflow": null,
            "_model_module_version": "1.2.0",
            "_view_count": null,
            "flex_flow": null,
            "width": null,
            "min_width": null,
            "border": null,
            "align_items": null,
            "bottom": null,
            "_model_module": "@jupyter-widgets/base",
            "top": null,
            "grid_column": null,
            "overflow_y": null,
            "overflow_x": null,
            "grid_auto_flow": null,
            "grid_area": null,
            "grid_template_columns": null,
            "flex": null,
            "_model_name": "LayoutModel",
            "justify_items": null,
            "grid_row": null,
            "max_height": null,
            "align_content": null,
            "visibility": null,
            "align_self": null,
            "height": null,
            "min_height": null,
            "padding": null,
            "grid_auto_rows": null,
            "grid_gap": null,
            "max_width": null,
            "order": null,
            "_view_module_version": "1.2.0",
            "grid_template_areas": null,
            "object_position": null,
            "object_fit": null,
            "grid_auto_columns": null,
            "margin": null,
            "display": null,
            "left": null
          }
        },
        "aa6b5ac0147b48b2bece7f6a6ad856b0": {
          "model_module": "@jupyter-widgets/controls",
          "model_name": "IntProgressModel",
          "state": {
            "_view_name": "ProgressView",
            "style": "IPY_MODEL_8c28a95c5909498bacdaf381a5ea1170",
            "_dom_classes": [],
            "description": "CatList",
            "_model_name": "IntProgressModel",
            "bar_style": "success",
            "max": 4,
            "_view_module": "@jupyter-widgets/controls",
            "_model_module_version": "1.5.0",
            "value": 4,
            "_view_count": null,
            "_view_module_version": "1.5.0",
            "orientation": "horizontal",
            "min": 0,
            "description_tooltip": null,
            "_model_module": "@jupyter-widgets/controls",
            "layout": "IPY_MODEL_b191c64c31644c2887f1ee35ec216e37"
          }
        },
        "c5d3c6eef7034f67a27d53992415e855": {
          "model_module": "@jupyter-widgets/controls",
          "model_name": "HTMLModel",
          "state": {
            "_view_name": "HTMLView",
            "style": "IPY_MODEL_0a1389d072794bd49e8e5be4c44733b8",
            "_dom_classes": [],
            "description": "",
            "_model_name": "HTMLModel",
            "placeholder": "​",
            "_view_module": "@jupyter-widgets/controls",
            "_model_module_version": "1.5.0",
            "value": "100% 4/4 [00:22&lt;00:00,  5.38s/it]",
            "_view_count": null,
            "_view_module_version": "1.5.0",
            "description_tooltip": null,
            "_model_module": "@jupyter-widgets/controls",
            "layout": "IPY_MODEL_00203a6645734cc1ab5c7e6a95a2fbd6"
          }
        },
        "8c28a95c5909498bacdaf381a5ea1170": {
          "model_module": "@jupyter-widgets/controls",
          "model_name": "ProgressStyleModel",
          "state": {
            "_view_name": "StyleView",
            "_model_name": "ProgressStyleModel",
            "description_width": "initial",
            "_view_module": "@jupyter-widgets/base",
            "_model_module_version": "1.5.0",
            "_view_count": null,
            "_view_module_version": "1.2.0",
            "bar_color": null,
            "_model_module": "@jupyter-widgets/controls"
          }
        },
        "b191c64c31644c2887f1ee35ec216e37": {
          "model_module": "@jupyter-widgets/base",
          "model_name": "LayoutModel",
          "state": {
            "_view_name": "LayoutView",
            "grid_template_rows": null,
            "right": null,
            "justify_content": null,
            "_view_module": "@jupyter-widgets/base",
            "overflow": null,
            "_model_module_version": "1.2.0",
            "_view_count": null,
            "flex_flow": null,
            "width": null,
            "min_width": null,
            "border": null,
            "align_items": null,
            "bottom": null,
            "_model_module": "@jupyter-widgets/base",
            "top": null,
            "grid_column": null,
            "overflow_y": null,
            "overflow_x": null,
            "grid_auto_flow": null,
            "grid_area": null,
            "grid_template_columns": null,
            "flex": null,
            "_model_name": "LayoutModel",
            "justify_items": null,
            "grid_row": null,
            "max_height": null,
            "align_content": null,
            "visibility": null,
            "align_self": null,
            "height": null,
            "min_height": null,
            "padding": null,
            "grid_auto_rows": null,
            "grid_gap": null,
            "max_width": null,
            "order": null,
            "_view_module_version": "1.2.0",
            "grid_template_areas": null,
            "object_position": null,
            "object_fit": null,
            "grid_auto_columns": null,
            "margin": null,
            "display": null,
            "left": null
          }
        },
        "0a1389d072794bd49e8e5be4c44733b8": {
          "model_module": "@jupyter-widgets/controls",
          "model_name": "DescriptionStyleModel",
          "state": {
            "_view_name": "StyleView",
            "_model_name": "DescriptionStyleModel",
            "description_width": "",
            "_view_module": "@jupyter-widgets/base",
            "_model_module_version": "1.5.0",
            "_view_count": null,
            "_view_module_version": "1.2.0",
            "_model_module": "@jupyter-widgets/controls"
          }
        },
        "00203a6645734cc1ab5c7e6a95a2fbd6": {
          "model_module": "@jupyter-widgets/base",
          "model_name": "LayoutModel",
          "state": {
            "_view_name": "LayoutView",
            "grid_template_rows": null,
            "right": null,
            "justify_content": null,
            "_view_module": "@jupyter-widgets/base",
            "overflow": null,
            "_model_module_version": "1.2.0",
            "_view_count": null,
            "flex_flow": null,
            "width": null,
            "min_width": null,
            "border": null,
            "align_items": null,
            "bottom": null,
            "_model_module": "@jupyter-widgets/base",
            "top": null,
            "grid_column": null,
            "overflow_y": null,
            "overflow_x": null,
            "grid_auto_flow": null,
            "grid_area": null,
            "grid_template_columns": null,
            "flex": null,
            "_model_name": "LayoutModel",
            "justify_items": null,
            "grid_row": null,
            "max_height": null,
            "align_content": null,
            "visibility": null,
            "align_self": null,
            "height": null,
            "min_height": null,
            "padding": null,
            "grid_auto_rows": null,
            "grid_gap": null,
            "max_width": null,
            "order": null,
            "_view_module_version": "1.2.0",
            "grid_template_areas": null,
            "object_position": null,
            "object_fit": null,
            "grid_auto_columns": null,
            "margin": null,
            "display": null,
            "left": null
          }
        },
        "09bd57d8af2d477bb779c3c1453f02b3": {
          "model_module": "@jupyter-widgets/controls",
          "model_name": "HBoxModel",
          "state": {
            "_view_name": "HBoxView",
            "_dom_classes": [],
            "_model_name": "HBoxModel",
            "_view_module": "@jupyter-widgets/controls",
            "_model_module_version": "1.5.0",
            "_view_count": null,
            "_view_module_version": "1.5.0",
            "box_style": "",
            "layout": "IPY_MODEL_6cfeaa2c9b15408a8fdf4ff1f1f13e94",
            "_model_module": "@jupyter-widgets/controls",
            "children": [
              "IPY_MODEL_eda33336c33b4cf6b5281123109a6944",
              "IPY_MODEL_9665ef5f28f8476ebf48244c9fcc4e8c"
            ]
          }
        },
        "6cfeaa2c9b15408a8fdf4ff1f1f13e94": {
          "model_module": "@jupyter-widgets/base",
          "model_name": "LayoutModel",
          "state": {
            "_view_name": "LayoutView",
            "grid_template_rows": null,
            "right": null,
            "justify_content": null,
            "_view_module": "@jupyter-widgets/base",
            "overflow": null,
            "_model_module_version": "1.2.0",
            "_view_count": null,
            "flex_flow": null,
            "width": null,
            "min_width": null,
            "border": null,
            "align_items": null,
            "bottom": null,
            "_model_module": "@jupyter-widgets/base",
            "top": null,
            "grid_column": null,
            "overflow_y": null,
            "overflow_x": null,
            "grid_auto_flow": null,
            "grid_area": null,
            "grid_template_columns": null,
            "flex": null,
            "_model_name": "LayoutModel",
            "justify_items": null,
            "grid_row": null,
            "max_height": null,
            "align_content": null,
            "visibility": null,
            "align_self": null,
            "height": null,
            "min_height": null,
            "padding": null,
            "grid_auto_rows": null,
            "grid_gap": null,
            "max_width": null,
            "order": null,
            "_view_module_version": "1.2.0",
            "grid_template_areas": null,
            "object_position": null,
            "object_fit": null,
            "grid_auto_columns": null,
            "margin": null,
            "display": null,
            "left": null
          }
        },
        "eda33336c33b4cf6b5281123109a6944": {
          "model_module": "@jupyter-widgets/controls",
          "model_name": "IntProgressModel",
          "state": {
            "_view_name": "ProgressView",
            "style": "IPY_MODEL_0c56da490712457c82341a3c786d7383",
            "_dom_classes": [],
            "description": "patents",
            "_model_name": "IntProgressModel",
            "bar_style": "success",
            "max": 20,
            "_view_module": "@jupyter-widgets/controls",
            "_model_module_version": "1.5.0",
            "value": 20,
            "_view_count": null,
            "_view_module_version": "1.5.0",
            "orientation": "horizontal",
            "min": 0,
            "description_tooltip": null,
            "_model_module": "@jupyter-widgets/controls",
            "layout": "IPY_MODEL_b5f74aec897a46f8bcd9551f503ebd3f"
          }
        },
        "9665ef5f28f8476ebf48244c9fcc4e8c": {
          "model_module": "@jupyter-widgets/controls",
          "model_name": "HTMLModel",
          "state": {
            "_view_name": "HTMLView",
            "style": "IPY_MODEL_a88bdb807f34428d9e7bbe53dcc217fe",
            "_dom_classes": [],
            "description": "",
            "_model_name": "HTMLModel",
            "placeholder": "​",
            "_view_module": "@jupyter-widgets/controls",
            "_model_module_version": "1.5.0",
            "value": "100% 20/20 [00:05&lt;00:00,  3.93it/s]",
            "_view_count": null,
            "_view_module_version": "1.5.0",
            "description_tooltip": null,
            "_model_module": "@jupyter-widgets/controls",
            "layout": "IPY_MODEL_d32cdd1aaaeb4327b2cfa9e0d3e543a6"
          }
        },
        "0c56da490712457c82341a3c786d7383": {
          "model_module": "@jupyter-widgets/controls",
          "model_name": "ProgressStyleModel",
          "state": {
            "_view_name": "StyleView",
            "_model_name": "ProgressStyleModel",
            "description_width": "initial",
            "_view_module": "@jupyter-widgets/base",
            "_model_module_version": "1.5.0",
            "_view_count": null,
            "_view_module_version": "1.2.0",
            "bar_color": null,
            "_model_module": "@jupyter-widgets/controls"
          }
        },
        "b5f74aec897a46f8bcd9551f503ebd3f": {
          "model_module": "@jupyter-widgets/base",
          "model_name": "LayoutModel",
          "state": {
            "_view_name": "LayoutView",
            "grid_template_rows": null,
            "right": null,
            "justify_content": null,
            "_view_module": "@jupyter-widgets/base",
            "overflow": null,
            "_model_module_version": "1.2.0",
            "_view_count": null,
            "flex_flow": null,
            "width": null,
            "min_width": null,
            "border": null,
            "align_items": null,
            "bottom": null,
            "_model_module": "@jupyter-widgets/base",
            "top": null,
            "grid_column": null,
            "overflow_y": null,
            "overflow_x": null,
            "grid_auto_flow": null,
            "grid_area": null,
            "grid_template_columns": null,
            "flex": null,
            "_model_name": "LayoutModel",
            "justify_items": null,
            "grid_row": null,
            "max_height": null,
            "align_content": null,
            "visibility": null,
            "align_self": null,
            "height": null,
            "min_height": null,
            "padding": null,
            "grid_auto_rows": null,
            "grid_gap": null,
            "max_width": null,
            "order": null,
            "_view_module_version": "1.2.0",
            "grid_template_areas": null,
            "object_position": null,
            "object_fit": null,
            "grid_auto_columns": null,
            "margin": null,
            "display": null,
            "left": null
          }
        },
        "a88bdb807f34428d9e7bbe53dcc217fe": {
          "model_module": "@jupyter-widgets/controls",
          "model_name": "DescriptionStyleModel",
          "state": {
            "_view_name": "StyleView",
            "_model_name": "DescriptionStyleModel",
            "description_width": "",
            "_view_module": "@jupyter-widgets/base",
            "_model_module_version": "1.5.0",
            "_view_count": null,
            "_view_module_version": "1.2.0",
            "_model_module": "@jupyter-widgets/controls"
          }
        },
        "d32cdd1aaaeb4327b2cfa9e0d3e543a6": {
          "model_module": "@jupyter-widgets/base",
          "model_name": "LayoutModel",
          "state": {
            "_view_name": "LayoutView",
            "grid_template_rows": null,
            "right": null,
            "justify_content": null,
            "_view_module": "@jupyter-widgets/base",
            "overflow": null,
            "_model_module_version": "1.2.0",
            "_view_count": null,
            "flex_flow": null,
            "width": null,
            "min_width": null,
            "border": null,
            "align_items": null,
            "bottom": null,
            "_model_module": "@jupyter-widgets/base",
            "top": null,
            "grid_column": null,
            "overflow_y": null,
            "overflow_x": null,
            "grid_auto_flow": null,
            "grid_area": null,
            "grid_template_columns": null,
            "flex": null,
            "_model_name": "LayoutModel",
            "justify_items": null,
            "grid_row": null,
            "max_height": null,
            "align_content": null,
            "visibility": null,
            "align_self": null,
            "height": null,
            "min_height": null,
            "padding": null,
            "grid_auto_rows": null,
            "grid_gap": null,
            "max_width": null,
            "order": null,
            "_view_module_version": "1.2.0",
            "grid_template_areas": null,
            "object_position": null,
            "object_fit": null,
            "grid_auto_columns": null,
            "margin": null,
            "display": null,
            "left": null
          }
        },
        "649623b86fde4dc9b57be89aeed88c61": {
          "model_module": "@jupyter-widgets/controls",
          "model_name": "HBoxModel",
          "state": {
            "_view_name": "HBoxView",
            "_dom_classes": [],
            "_model_name": "HBoxModel",
            "_view_module": "@jupyter-widgets/controls",
            "_model_module_version": "1.5.0",
            "_view_count": null,
            "_view_module_version": "1.5.0",
            "box_style": "",
            "layout": "IPY_MODEL_17a2780005ea49868a8a883f4c67ce92",
            "_model_module": "@jupyter-widgets/controls",
            "children": [
              "IPY_MODEL_62d93fbd2386412b8fbc419ae451c394",
              "IPY_MODEL_b9a0ee8ecc974fa9b55f57d51162ba52"
            ]
          }
        },
        "17a2780005ea49868a8a883f4c67ce92": {
          "model_module": "@jupyter-widgets/base",
          "model_name": "LayoutModel",
          "state": {
            "_view_name": "LayoutView",
            "grid_template_rows": null,
            "right": null,
            "justify_content": null,
            "_view_module": "@jupyter-widgets/base",
            "overflow": null,
            "_model_module_version": "1.2.0",
            "_view_count": null,
            "flex_flow": null,
            "width": null,
            "min_width": null,
            "border": null,
            "align_items": null,
            "bottom": null,
            "_model_module": "@jupyter-widgets/base",
            "top": null,
            "grid_column": null,
            "overflow_y": null,
            "overflow_x": null,
            "grid_auto_flow": null,
            "grid_area": null,
            "grid_template_columns": null,
            "flex": null,
            "_model_name": "LayoutModel",
            "justify_items": null,
            "grid_row": null,
            "max_height": null,
            "align_content": null,
            "visibility": null,
            "align_self": null,
            "height": null,
            "min_height": null,
            "padding": null,
            "grid_auto_rows": null,
            "grid_gap": null,
            "max_width": null,
            "order": null,
            "_view_module_version": "1.2.0",
            "grid_template_areas": null,
            "object_position": null,
            "object_fit": null,
            "grid_auto_columns": null,
            "margin": null,
            "display": null,
            "left": null
          }
        },
        "62d93fbd2386412b8fbc419ae451c394": {
          "model_module": "@jupyter-widgets/controls",
          "model_name": "IntProgressModel",
          "state": {
            "_view_name": "ProgressView",
            "style": "IPY_MODEL_f27fadcd6e0545eeb012edb635a4e097",
            "_dom_classes": [],
            "description": "patents",
            "_model_name": "IntProgressModel",
            "bar_style": "success",
            "max": 20,
            "_view_module": "@jupyter-widgets/controls",
            "_model_module_version": "1.5.0",
            "value": 20,
            "_view_count": null,
            "_view_module_version": "1.5.0",
            "orientation": "horizontal",
            "min": 0,
            "description_tooltip": null,
            "_model_module": "@jupyter-widgets/controls",
            "layout": "IPY_MODEL_12056c333f0a4c5c8a483218d8a4bcce"
          }
        },
        "b9a0ee8ecc974fa9b55f57d51162ba52": {
          "model_module": "@jupyter-widgets/controls",
          "model_name": "HTMLModel",
          "state": {
            "_view_name": "HTMLView",
            "style": "IPY_MODEL_87454f727b004fe4a12fd7af1914d65e",
            "_dom_classes": [],
            "description": "",
            "_model_name": "HTMLModel",
            "placeholder": "​",
            "_view_module": "@jupyter-widgets/controls",
            "_model_module_version": "1.5.0",
            "value": "100% 20/20 [00:07&lt;00:00,  2.50it/s]",
            "_view_count": null,
            "_view_module_version": "1.5.0",
            "description_tooltip": null,
            "_model_module": "@jupyter-widgets/controls",
            "layout": "IPY_MODEL_e7f09ef92cbb44ffb8d20ada43c75114"
          }
        },
        "f27fadcd6e0545eeb012edb635a4e097": {
          "model_module": "@jupyter-widgets/controls",
          "model_name": "ProgressStyleModel",
          "state": {
            "_view_name": "StyleView",
            "_model_name": "ProgressStyleModel",
            "description_width": "initial",
            "_view_module": "@jupyter-widgets/base",
            "_model_module_version": "1.5.0",
            "_view_count": null,
            "_view_module_version": "1.2.0",
            "bar_color": null,
            "_model_module": "@jupyter-widgets/controls"
          }
        },
        "12056c333f0a4c5c8a483218d8a4bcce": {
          "model_module": "@jupyter-widgets/base",
          "model_name": "LayoutModel",
          "state": {
            "_view_name": "LayoutView",
            "grid_template_rows": null,
            "right": null,
            "justify_content": null,
            "_view_module": "@jupyter-widgets/base",
            "overflow": null,
            "_model_module_version": "1.2.0",
            "_view_count": null,
            "flex_flow": null,
            "width": null,
            "min_width": null,
            "border": null,
            "align_items": null,
            "bottom": null,
            "_model_module": "@jupyter-widgets/base",
            "top": null,
            "grid_column": null,
            "overflow_y": null,
            "overflow_x": null,
            "grid_auto_flow": null,
            "grid_area": null,
            "grid_template_columns": null,
            "flex": null,
            "_model_name": "LayoutModel",
            "justify_items": null,
            "grid_row": null,
            "max_height": null,
            "align_content": null,
            "visibility": null,
            "align_self": null,
            "height": null,
            "min_height": null,
            "padding": null,
            "grid_auto_rows": null,
            "grid_gap": null,
            "max_width": null,
            "order": null,
            "_view_module_version": "1.2.0",
            "grid_template_areas": null,
            "object_position": null,
            "object_fit": null,
            "grid_auto_columns": null,
            "margin": null,
            "display": null,
            "left": null
          }
        },
        "87454f727b004fe4a12fd7af1914d65e": {
          "model_module": "@jupyter-widgets/controls",
          "model_name": "DescriptionStyleModel",
          "state": {
            "_view_name": "StyleView",
            "_model_name": "DescriptionStyleModel",
            "description_width": "",
            "_view_module": "@jupyter-widgets/base",
            "_model_module_version": "1.5.0",
            "_view_count": null,
            "_view_module_version": "1.2.0",
            "_model_module": "@jupyter-widgets/controls"
          }
        },
        "e7f09ef92cbb44ffb8d20ada43c75114": {
          "model_module": "@jupyter-widgets/base",
          "model_name": "LayoutModel",
          "state": {
            "_view_name": "LayoutView",
            "grid_template_rows": null,
            "right": null,
            "justify_content": null,
            "_view_module": "@jupyter-widgets/base",
            "overflow": null,
            "_model_module_version": "1.2.0",
            "_view_count": null,
            "flex_flow": null,
            "width": null,
            "min_width": null,
            "border": null,
            "align_items": null,
            "bottom": null,
            "_model_module": "@jupyter-widgets/base",
            "top": null,
            "grid_column": null,
            "overflow_y": null,
            "overflow_x": null,
            "grid_auto_flow": null,
            "grid_area": null,
            "grid_template_columns": null,
            "flex": null,
            "_model_name": "LayoutModel",
            "justify_items": null,
            "grid_row": null,
            "max_height": null,
            "align_content": null,
            "visibility": null,
            "align_self": null,
            "height": null,
            "min_height": null,
            "padding": null,
            "grid_auto_rows": null,
            "grid_gap": null,
            "max_width": null,
            "order": null,
            "_view_module_version": "1.2.0",
            "grid_template_areas": null,
            "object_position": null,
            "object_fit": null,
            "grid_auto_columns": null,
            "margin": null,
            "display": null,
            "left": null
          }
        },
        "0e15d457841d48b18c4ac1cfa04daa8b": {
          "model_module": "@jupyter-widgets/controls",
          "model_name": "HBoxModel",
          "state": {
            "_view_name": "HBoxView",
            "_dom_classes": [],
            "_model_name": "HBoxModel",
            "_view_module": "@jupyter-widgets/controls",
            "_model_module_version": "1.5.0",
            "_view_count": null,
            "_view_module_version": "1.5.0",
            "box_style": "",
            "layout": "IPY_MODEL_f2ab21af47324b80814faabbb8ab689a",
            "_model_module": "@jupyter-widgets/controls",
            "children": [
              "IPY_MODEL_ac2157abda68403387b73f2c6a81ecdd",
              "IPY_MODEL_6eee03a76b4d4f39a89f32ed537a1fb1"
            ]
          }
        },
        "f2ab21af47324b80814faabbb8ab689a": {
          "model_module": "@jupyter-widgets/base",
          "model_name": "LayoutModel",
          "state": {
            "_view_name": "LayoutView",
            "grid_template_rows": null,
            "right": null,
            "justify_content": null,
            "_view_module": "@jupyter-widgets/base",
            "overflow": null,
            "_model_module_version": "1.2.0",
            "_view_count": null,
            "flex_flow": null,
            "width": null,
            "min_width": null,
            "border": null,
            "align_items": null,
            "bottom": null,
            "_model_module": "@jupyter-widgets/base",
            "top": null,
            "grid_column": null,
            "overflow_y": null,
            "overflow_x": null,
            "grid_auto_flow": null,
            "grid_area": null,
            "grid_template_columns": null,
            "flex": null,
            "_model_name": "LayoutModel",
            "justify_items": null,
            "grid_row": null,
            "max_height": null,
            "align_content": null,
            "visibility": null,
            "align_self": null,
            "height": null,
            "min_height": null,
            "padding": null,
            "grid_auto_rows": null,
            "grid_gap": null,
            "max_width": null,
            "order": null,
            "_view_module_version": "1.2.0",
            "grid_template_areas": null,
            "object_position": null,
            "object_fit": null,
            "grid_auto_columns": null,
            "margin": null,
            "display": null,
            "left": null
          }
        },
        "ac2157abda68403387b73f2c6a81ecdd": {
          "model_module": "@jupyter-widgets/controls",
          "model_name": "IntProgressModel",
          "state": {
            "_view_name": "ProgressView",
            "style": "IPY_MODEL_9b00496dd44246d7a30b15e3978ff262",
            "_dom_classes": [],
            "description": "patents",
            "_model_name": "IntProgressModel",
            "bar_style": "success",
            "max": 20,
            "_view_module": "@jupyter-widgets/controls",
            "_model_module_version": "1.5.0",
            "value": 20,
            "_view_count": null,
            "_view_module_version": "1.5.0",
            "orientation": "horizontal",
            "min": 0,
            "description_tooltip": null,
            "_model_module": "@jupyter-widgets/controls",
            "layout": "IPY_MODEL_27743a6ca970427d8c0bd14c57763525"
          }
        },
        "6eee03a76b4d4f39a89f32ed537a1fb1": {
          "model_module": "@jupyter-widgets/controls",
          "model_name": "HTMLModel",
          "state": {
            "_view_name": "HTMLView",
            "style": "IPY_MODEL_8bf1d0ee2cc24787813878b9d8b96908",
            "_dom_classes": [],
            "description": "",
            "_model_name": "HTMLModel",
            "placeholder": "​",
            "_view_module": "@jupyter-widgets/controls",
            "_model_module_version": "1.5.0",
            "value": "100% 20/20 [00:04&lt;00:00,  3.44it/s]",
            "_view_count": null,
            "_view_module_version": "1.5.0",
            "description_tooltip": null,
            "_model_module": "@jupyter-widgets/controls",
            "layout": "IPY_MODEL_a21be184e13b478d9d7b47192ba00806"
          }
        },
        "9b00496dd44246d7a30b15e3978ff262": {
          "model_module": "@jupyter-widgets/controls",
          "model_name": "ProgressStyleModel",
          "state": {
            "_view_name": "StyleView",
            "_model_name": "ProgressStyleModel",
            "description_width": "initial",
            "_view_module": "@jupyter-widgets/base",
            "_model_module_version": "1.5.0",
            "_view_count": null,
            "_view_module_version": "1.2.0",
            "bar_color": null,
            "_model_module": "@jupyter-widgets/controls"
          }
        },
        "27743a6ca970427d8c0bd14c57763525": {
          "model_module": "@jupyter-widgets/base",
          "model_name": "LayoutModel",
          "state": {
            "_view_name": "LayoutView",
            "grid_template_rows": null,
            "right": null,
            "justify_content": null,
            "_view_module": "@jupyter-widgets/base",
            "overflow": null,
            "_model_module_version": "1.2.0",
            "_view_count": null,
            "flex_flow": null,
            "width": null,
            "min_width": null,
            "border": null,
            "align_items": null,
            "bottom": null,
            "_model_module": "@jupyter-widgets/base",
            "top": null,
            "grid_column": null,
            "overflow_y": null,
            "overflow_x": null,
            "grid_auto_flow": null,
            "grid_area": null,
            "grid_template_columns": null,
            "flex": null,
            "_model_name": "LayoutModel",
            "justify_items": null,
            "grid_row": null,
            "max_height": null,
            "align_content": null,
            "visibility": null,
            "align_self": null,
            "height": null,
            "min_height": null,
            "padding": null,
            "grid_auto_rows": null,
            "grid_gap": null,
            "max_width": null,
            "order": null,
            "_view_module_version": "1.2.0",
            "grid_template_areas": null,
            "object_position": null,
            "object_fit": null,
            "grid_auto_columns": null,
            "margin": null,
            "display": null,
            "left": null
          }
        },
        "8bf1d0ee2cc24787813878b9d8b96908": {
          "model_module": "@jupyter-widgets/controls",
          "model_name": "DescriptionStyleModel",
          "state": {
            "_view_name": "StyleView",
            "_model_name": "DescriptionStyleModel",
            "description_width": "",
            "_view_module": "@jupyter-widgets/base",
            "_model_module_version": "1.5.0",
            "_view_count": null,
            "_view_module_version": "1.2.0",
            "_model_module": "@jupyter-widgets/controls"
          }
        },
        "a21be184e13b478d9d7b47192ba00806": {
          "model_module": "@jupyter-widgets/base",
          "model_name": "LayoutModel",
          "state": {
            "_view_name": "LayoutView",
            "grid_template_rows": null,
            "right": null,
            "justify_content": null,
            "_view_module": "@jupyter-widgets/base",
            "overflow": null,
            "_model_module_version": "1.2.0",
            "_view_count": null,
            "flex_flow": null,
            "width": null,
            "min_width": null,
            "border": null,
            "align_items": null,
            "bottom": null,
            "_model_module": "@jupyter-widgets/base",
            "top": null,
            "grid_column": null,
            "overflow_y": null,
            "overflow_x": null,
            "grid_auto_flow": null,
            "grid_area": null,
            "grid_template_columns": null,
            "flex": null,
            "_model_name": "LayoutModel",
            "justify_items": null,
            "grid_row": null,
            "max_height": null,
            "align_content": null,
            "visibility": null,
            "align_self": null,
            "height": null,
            "min_height": null,
            "padding": null,
            "grid_auto_rows": null,
            "grid_gap": null,
            "max_width": null,
            "order": null,
            "_view_module_version": "1.2.0",
            "grid_template_areas": null,
            "object_position": null,
            "object_fit": null,
            "grid_auto_columns": null,
            "margin": null,
            "display": null,
            "left": null
          }
        },
        "37fd963e3b63447b966daeb0be786eff": {
          "model_module": "@jupyter-widgets/controls",
          "model_name": "HBoxModel",
          "state": {
            "_view_name": "HBoxView",
            "_dom_classes": [],
            "_model_name": "HBoxModel",
            "_view_module": "@jupyter-widgets/controls",
            "_model_module_version": "1.5.0",
            "_view_count": null,
            "_view_module_version": "1.5.0",
            "box_style": "",
            "layout": "IPY_MODEL_2350a51153314a00b098bee6e5f0f983",
            "_model_module": "@jupyter-widgets/controls",
            "children": [
              "IPY_MODEL_8bf17fa9d6754661b39b58f167627dda",
              "IPY_MODEL_ca971bb3273548cda1360a4d5db6fd75"
            ]
          }
        },
        "2350a51153314a00b098bee6e5f0f983": {
          "model_module": "@jupyter-widgets/base",
          "model_name": "LayoutModel",
          "state": {
            "_view_name": "LayoutView",
            "grid_template_rows": null,
            "right": null,
            "justify_content": null,
            "_view_module": "@jupyter-widgets/base",
            "overflow": null,
            "_model_module_version": "1.2.0",
            "_view_count": null,
            "flex_flow": null,
            "width": null,
            "min_width": null,
            "border": null,
            "align_items": null,
            "bottom": null,
            "_model_module": "@jupyter-widgets/base",
            "top": null,
            "grid_column": null,
            "overflow_y": null,
            "overflow_x": null,
            "grid_auto_flow": null,
            "grid_area": null,
            "grid_template_columns": null,
            "flex": null,
            "_model_name": "LayoutModel",
            "justify_items": null,
            "grid_row": null,
            "max_height": null,
            "align_content": null,
            "visibility": null,
            "align_self": null,
            "height": null,
            "min_height": null,
            "padding": null,
            "grid_auto_rows": null,
            "grid_gap": null,
            "max_width": null,
            "order": null,
            "_view_module_version": "1.2.0",
            "grid_template_areas": null,
            "object_position": null,
            "object_fit": null,
            "grid_auto_columns": null,
            "margin": null,
            "display": null,
            "left": null
          }
        },
        "8bf17fa9d6754661b39b58f167627dda": {
          "model_module": "@jupyter-widgets/controls",
          "model_name": "IntProgressModel",
          "state": {
            "_view_name": "ProgressView",
            "style": "IPY_MODEL_8b23b431055544ca847f3217c4ad734c",
            "_dom_classes": [],
            "description": "patents",
            "_model_name": "IntProgressModel",
            "bar_style": "success",
            "max": 20,
            "_view_module": "@jupyter-widgets/controls",
            "_model_module_version": "1.5.0",
            "value": 20,
            "_view_count": null,
            "_view_module_version": "1.5.0",
            "orientation": "horizontal",
            "min": 0,
            "description_tooltip": null,
            "_model_module": "@jupyter-widgets/controls",
            "layout": "IPY_MODEL_86b42f3797d442c7b5564a94703b3eac"
          }
        },
        "ca971bb3273548cda1360a4d5db6fd75": {
          "model_module": "@jupyter-widgets/controls",
          "model_name": "HTMLModel",
          "state": {
            "_view_name": "HTMLView",
            "style": "IPY_MODEL_fe51756a2140417e9a1c12d23dec88df",
            "_dom_classes": [],
            "description": "",
            "_model_name": "HTMLModel",
            "placeholder": "​",
            "_view_module": "@jupyter-widgets/controls",
            "_model_module_version": "1.5.0",
            "value": "100% 20/20 [00:04&lt;00:00,  4.89it/s]",
            "_view_count": null,
            "_view_module_version": "1.5.0",
            "description_tooltip": null,
            "_model_module": "@jupyter-widgets/controls",
            "layout": "IPY_MODEL_ef45b8c4076e4f509a4319ba4b53acc5"
          }
        },
        "8b23b431055544ca847f3217c4ad734c": {
          "model_module": "@jupyter-widgets/controls",
          "model_name": "ProgressStyleModel",
          "state": {
            "_view_name": "StyleView",
            "_model_name": "ProgressStyleModel",
            "description_width": "initial",
            "_view_module": "@jupyter-widgets/base",
            "_model_module_version": "1.5.0",
            "_view_count": null,
            "_view_module_version": "1.2.0",
            "bar_color": null,
            "_model_module": "@jupyter-widgets/controls"
          }
        },
        "86b42f3797d442c7b5564a94703b3eac": {
          "model_module": "@jupyter-widgets/base",
          "model_name": "LayoutModel",
          "state": {
            "_view_name": "LayoutView",
            "grid_template_rows": null,
            "right": null,
            "justify_content": null,
            "_view_module": "@jupyter-widgets/base",
            "overflow": null,
            "_model_module_version": "1.2.0",
            "_view_count": null,
            "flex_flow": null,
            "width": null,
            "min_width": null,
            "border": null,
            "align_items": null,
            "bottom": null,
            "_model_module": "@jupyter-widgets/base",
            "top": null,
            "grid_column": null,
            "overflow_y": null,
            "overflow_x": null,
            "grid_auto_flow": null,
            "grid_area": null,
            "grid_template_columns": null,
            "flex": null,
            "_model_name": "LayoutModel",
            "justify_items": null,
            "grid_row": null,
            "max_height": null,
            "align_content": null,
            "visibility": null,
            "align_self": null,
            "height": null,
            "min_height": null,
            "padding": null,
            "grid_auto_rows": null,
            "grid_gap": null,
            "max_width": null,
            "order": null,
            "_view_module_version": "1.2.0",
            "grid_template_areas": null,
            "object_position": null,
            "object_fit": null,
            "grid_auto_columns": null,
            "margin": null,
            "display": null,
            "left": null
          }
        },
        "fe51756a2140417e9a1c12d23dec88df": {
          "model_module": "@jupyter-widgets/controls",
          "model_name": "DescriptionStyleModel",
          "state": {
            "_view_name": "StyleView",
            "_model_name": "DescriptionStyleModel",
            "description_width": "",
            "_view_module": "@jupyter-widgets/base",
            "_model_module_version": "1.5.0",
            "_view_count": null,
            "_view_module_version": "1.2.0",
            "_model_module": "@jupyter-widgets/controls"
          }
        },
        "ef45b8c4076e4f509a4319ba4b53acc5": {
          "model_module": "@jupyter-widgets/base",
          "model_name": "LayoutModel",
          "state": {
            "_view_name": "LayoutView",
            "grid_template_rows": null,
            "right": null,
            "justify_content": null,
            "_view_module": "@jupyter-widgets/base",
            "overflow": null,
            "_model_module_version": "1.2.0",
            "_view_count": null,
            "flex_flow": null,
            "width": null,
            "min_width": null,
            "border": null,
            "align_items": null,
            "bottom": null,
            "_model_module": "@jupyter-widgets/base",
            "top": null,
            "grid_column": null,
            "overflow_y": null,
            "overflow_x": null,
            "grid_auto_flow": null,
            "grid_area": null,
            "grid_template_columns": null,
            "flex": null,
            "_model_name": "LayoutModel",
            "justify_items": null,
            "grid_row": null,
            "max_height": null,
            "align_content": null,
            "visibility": null,
            "align_self": null,
            "height": null,
            "min_height": null,
            "padding": null,
            "grid_auto_rows": null,
            "grid_gap": null,
            "max_width": null,
            "order": null,
            "_view_module_version": "1.2.0",
            "grid_template_areas": null,
            "object_position": null,
            "object_fit": null,
            "grid_auto_columns": null,
            "margin": null,
            "display": null,
            "left": null
          }
        }
      }
    }
  },
  "cells": [
    {
      "cell_type": "markdown",
      "metadata": {
        "id": "view-in-github",
        "colab_type": "text"
      },
      "source": [
        "<a href=\"https://colab.research.google.com/github/Nilanshrajput/AdvitiyaHackathon/blob/master/Scrapper_colab.ipynb\" target=\"_parent\"><img src=\"https://colab.research.google.com/assets/colab-badge.svg\" alt=\"Open In Colab\"/></a>"
      ]
    },
    {
      "cell_type": "code",
      "metadata": {
        "id": "53tGBiAEo9YO",
        "colab_type": "code",
        "outputId": "1edf9b74-6665-424c-8cc6-6c3f8dadc29a",
        "colab": {
          "base_uri": "https://localhost:8080/",
          "height": 145
        }
      },
      "source": [
        "!git clone https://Nilanshrajput:@github.com/Nilanshrajput/AdvitiyaHackathon.git"
      ],
      "execution_count": 0,
      "outputs": [
        {
          "output_type": "stream",
          "text": [
            "Cloning into 'AdvitiyaHackathon'...\n",
            "remote: Enumerating objects: 162, done.\u001b[K\n",
            "remote: Counting objects:   0% (1/162)\u001b[K\rremote: Counting objects:   1% (2/162)\u001b[K\rremote: Counting objects:   2% (4/162)\u001b[K\rremote: Counting objects:   3% (5/162)\u001b[K\rremote: Counting objects:   4% (7/162)\u001b[K\rremote: Counting objects:   5% (9/162)\u001b[K\rremote: Counting objects:   6% (10/162)\u001b[K\rremote: Counting objects:   7% (12/162)\u001b[K\rremote: Counting objects:   8% (13/162)\u001b[K\rremote: Counting objects:   9% (15/162)\u001b[K\rremote: Counting objects:  10% (17/162)\u001b[K\rremote: Counting objects:  11% (18/162)\u001b[K\rremote: Counting objects:  12% (20/162)\u001b[K\rremote: Counting objects:  13% (22/162)\u001b[K\rremote: Counting objects:  14% (23/162)\u001b[K\rremote: Counting objects:  15% (25/162)\u001b[K\rremote: Counting objects:  16% (26/162)\u001b[K\rremote: Counting objects:  17% (28/162)\u001b[K\rremote: Counting objects:  18% (30/162)\u001b[K\rremote: Counting objects:  19% (31/162)\u001b[K\rremote: Counting objects:  20% (33/162)\u001b[K\rremote: Counting objects:  21% (35/162)\u001b[K\rremote: Counting objects:  22% (36/162)\u001b[K\rremote: Counting objects:  23% (38/162)\u001b[K\rremote: Counting objects:  24% (39/162)\u001b[K\rremote: Counting objects:  25% (41/162)\u001b[K\rremote: Counting objects:  26% (43/162)\u001b[K\rremote: Counting objects:  27% (44/162)\u001b[K\rremote: Counting objects:  28% (46/162)\u001b[K\rremote: Counting objects:  29% (47/162)\u001b[K\rremote: Counting objects:  30% (49/162)\u001b[K\rremote: Counting objects:  31% (51/162)\u001b[K\rremote: Counting objects:  32% (52/162)\u001b[K\rremote: Counting objects:  33% (54/162)\u001b[K\rremote: Counting objects:  34% (56/162)\u001b[K\rremote: Counting objects:  35% (57/162)\u001b[K\rremote: Counting objects:  36% (59/162)\u001b[K\rremote: Counting objects:  37% (60/162)\u001b[K\rremote: Counting objects:  38% (62/162)\u001b[K\rremote: Counting objects:  39% (64/162)\u001b[K\rremote: Counting objects:  40% (65/162)\u001b[K\rremote: Counting objects:  41% (67/162)\u001b[K\rremote: Counting objects:  42% (69/162)\u001b[K\rremote: Counting objects:  43% (70/162)\u001b[K\rremote: Counting objects:  44% (72/162)\u001b[K\rremote: Counting objects:  45% (73/162)\u001b[K\rremote: Counting objects:  46% (75/162)\u001b[K\rremote: Counting objects:  47% (77/162)\u001b[K\rremote: Counting objects:  48% (78/162)\u001b[K\rremote: Counting objects:  49% (80/162)\u001b[K\rremote: Counting objects:  50% (81/162)\u001b[K\rremote: Counting objects:  51% (83/162)\u001b[K\rremote: Counting objects:  52% (85/162)\u001b[K\rremote: Counting objects:  53% (86/162)\u001b[K\rremote: Counting objects:  54% (88/162)\u001b[K\rremote: Counting objects:  55% (90/162)\u001b[K\rremote: Counting objects:  56% (91/162)\u001b[K\rremote: Counting objects:  57% (93/162)\u001b[K\rremote: Counting objects:  58% (94/162)\u001b[K\rremote: Counting objects:  59% (96/162)\u001b[K\rremote: Counting objects:  60% (98/162)\u001b[K\rremote: Counting objects:  61% (99/162)\u001b[K\rremote: Counting objects:  62% (101/162)\u001b[K\rremote: Counting objects:  63% (103/162)\u001b[K\rremote: Counting objects:  64% (104/162)\u001b[K\rremote: Counting objects:  65% (106/162)\u001b[K\rremote: Counting objects:  66% (107/162)\u001b[K\rremote: Counting objects:  67% (109/162)\u001b[K\rremote: Counting objects:  68% (111/162)\u001b[K\rremote: Counting objects:  69% (112/162)\u001b[K\rremote: Counting objects:  70% (114/162)\u001b[K\rremote: Counting objects:  71% (116/162)\u001b[K\rremote: Counting objects:  72% (117/162)\u001b[K\rremote: Counting objects:  73% (119/162)\u001b[K\rremote: Counting objects:  74% (120/162)\u001b[K\rremote: Counting objects:  75% (122/162)\u001b[K\rremote: Counting objects:  76% (124/162)\u001b[K\rremote: Counting objects:  77% (125/162)\u001b[K\rremote: Counting objects:  78% (127/162)\u001b[K\rremote: Counting objects:  79% (128/162)\u001b[K\rremote: Counting objects:  80% (130/162)\u001b[K\rremote: Counting objects:  81% (132/162)\u001b[K\rremote: Counting objects:  82% (133/162)\u001b[K\rremote: Counting objects:  83% (135/162)\u001b[K\rremote: Counting objects:  84% (137/162)\u001b[K\rremote: Counting objects:  85% (138/162)\u001b[K\rremote: Counting objects:  86% (140/162)\u001b[K\rremote: Counting objects:  87% (141/162)\u001b[K\rremote: Counting objects:  88% (143/162)\u001b[K\rremote: Counting objects:  89% (145/162)\u001b[K\rremote: Counting objects:  90% (146/162)\u001b[K\rremote: Counting objects:  91% (148/162)\u001b[K\rremote: Counting objects:  92% (150/162)\u001b[K\rremote: Counting objects:  93% (151/162)\u001b[K\rremote: Counting objects:  94% (153/162)\u001b[K\rremote: Counting objects:  95% (154/162)\u001b[K\rremote: Counting objects:  96% (156/162)\u001b[K\rremote: Counting objects:  97% (158/162)\u001b[K\rremote: Counting objects:  98% (159/162)\u001b[K\rremote: Counting objects:  99% (161/162)\u001b[K\rremote: Counting objects: 100% (162/162)\u001b[K\rremote: Counting objects: 100% (162/162), done.\u001b[K\n",
            "remote: Compressing objects: 100% (121/121), done.\u001b[K\n",
            "remote: Total 162 (delta 96), reused 93 (delta 39), pack-reused 0\u001b[K\n",
            "Receiving objects: 100% (162/162), 344.22 KiB | 5.06 MiB/s, done.\n",
            "Resolving deltas: 100% (96/96), done.\n"
          ],
          "name": "stdout"
        }
      ]
    },
    {
      "cell_type": "code",
      "metadata": {
        "id": "mm_6_Jc8bclR",
        "colab_type": "code",
        "colab": {}
      },
      "source": [
        "!rm -r /content/AdvitiyaHackathon"
      ],
      "execution_count": 0,
      "outputs": []
    },
    {
      "cell_type": "code",
      "metadata": {
        "id": "a2Ec1v5Oo9gH",
        "colab_type": "code",
        "outputId": "cd2e26d8-6030-4d6b-a86d-eba158f0e1cb",
        "colab": {
          "base_uri": "https://localhost:8080/",
          "height": 128
        }
      },
      "source": [
        "from google.colab import drive\n",
        "drive.mount('/content/drive')\n"
      ],
      "execution_count": 0,
      "outputs": [
        {
          "output_type": "stream",
          "text": [
            "Go to this URL in a browser: https://accounts.google.com/o/oauth2/auth?client_id=947318989803-6bn6qk8qdgf4n4g3pfee6491hc0brc4i.apps.googleusercontent.com&redirect_uri=urn%3aietf%3awg%3aoauth%3a2.0%3aoob&response_type=code&scope=email%20https%3a%2f%2fwww.googleapis.com%2fauth%2fdocs.test%20https%3a%2f%2fwww.googleapis.com%2fauth%2fdrive%20https%3a%2f%2fwww.googleapis.com%2fauth%2fdrive.photos.readonly%20https%3a%2f%2fwww.googleapis.com%2fauth%2fpeopleapi.readonly\n",
            "\n",
            "Enter your authorization code:\n",
            "··········\n",
            "Mounted at /content/drive\n"
          ],
          "name": "stdout"
        }
      ]
    },
    {
      "cell_type": "code",
      "metadata": {
        "id": "qWJqkXoGt7fn",
        "colab_type": "code",
        "outputId": "babdaef4-624e-43c5-cc78-48ad16d0368a",
        "colab": {
          "base_uri": "https://localhost:8080/",
          "height": 219
        }
      },
      "source": [
        "!pip install beautifulsoup4==4.8.2"
      ],
      "execution_count": 0,
      "outputs": [
        {
          "output_type": "stream",
          "text": [
            "Collecting beautifulsoup4==4.8.2\n",
            "\u001b[?25l  Downloading https://files.pythonhosted.org/packages/cb/a1/c698cf319e9cfed6b17376281bd0efc6bfc8465698f54170ef60a485ab5d/beautifulsoup4-4.8.2-py3-none-any.whl (106kB)\n",
            "\r\u001b[K     |███                             | 10kB 22.9MB/s eta 0:00:01\r\u001b[K     |██████▏                         | 20kB 27.3MB/s eta 0:00:01\r\u001b[K     |█████████▏                      | 30kB 32.9MB/s eta 0:00:01\r\u001b[K     |████████████▎                   | 40kB 37.2MB/s eta 0:00:01\r\u001b[K     |███████████████▎                | 51kB 26.5MB/s eta 0:00:01\r\u001b[K     |██████████████████▍             | 61kB 29.0MB/s eta 0:00:01\r\u001b[K     |█████████████████████▌          | 71kB 21.7MB/s eta 0:00:01\r\u001b[K     |████████████████████████▌       | 81kB 23.1MB/s eta 0:00:01\r\u001b[K     |███████████████████████████▋    | 92kB 24.7MB/s eta 0:00:01\r\u001b[K     |██████████████████████████████▋ | 102kB 23.0MB/s eta 0:00:01\r\u001b[K     |████████████████████████████████| 112kB 23.0MB/s \n",
            "\u001b[?25hCollecting soupsieve>=1.2\n",
            "  Downloading https://files.pythonhosted.org/packages/81/94/03c0f04471fc245d08d0a99f7946ac228ca98da4fa75796c507f61e688c2/soupsieve-1.9.5-py2.py3-none-any.whl\n",
            "Installing collected packages: soupsieve, beautifulsoup4\n",
            "  Found existing installation: beautifulsoup4 4.6.3\n",
            "    Uninstalling beautifulsoup4-4.6.3:\n",
            "      Successfully uninstalled beautifulsoup4-4.6.3\n",
            "Successfully installed beautifulsoup4-4.8.2 soupsieve-1.9.5\n"
          ],
          "name": "stdout"
        }
      ]
    },
    {
      "cell_type": "code",
      "metadata": {
        "id": "jh6OWVu-o7NR",
        "colab_type": "code",
        "outputId": "569d5447-d153-4f29-e914-cee925398756",
        "colab": {
          "base_uri": "https://localhost:8080/",
          "height": 72
        }
      },
      "source": [
        "import pandas as pd\n",
        "import re \n",
        "import matplotlib.pyplot as plt\n",
        "# ~ Import packages ~ #\n",
        "from AdvitiyaHackathon.google_patent_scrapper import scraper_class\n",
        "import json\n",
        "import os\n",
        "import spacy\n",
        "\n",
        "from nltk.corpus import stopwords\n",
        "import string\n",
        "import spacy #load spacy\n",
        "\n",
        "import nltk\n",
        "nltk.download('stopwords')\n",
        "\n"
      ],
      "execution_count": 0,
      "outputs": [
        {
          "output_type": "stream",
          "text": [
            "[nltk_data] Downloading package stopwords to /root/nltk_data...\n",
            "[nltk_data]   Unzipping corpora/stopwords.zip.\n"
          ],
          "name": "stdout"
        },
        {
          "output_type": "execute_result",
          "data": {
            "text/plain": [
              "True"
            ]
          },
          "metadata": {
            "tags": []
          },
          "execution_count": 10
        }
      ]
    },
    {
      "cell_type": "code",
      "metadata": {
        "id": "pqgnwxU9s1GM",
        "colab_type": "code",
        "colab": {}
      },
      "source": [
        "\n",
        "%%capture\n",
        "from tqdm import tnrange\n",
        "from tqdm import tqdm_notebook as tqdm\n",
        "\n",
        "\n"
      ],
      "execution_count": 0,
      "outputs": []
    },
    {
      "cell_type": "code",
      "metadata": {
        "id": "Wjcoci08s7wh",
        "colab_type": "code",
        "outputId": "9103e6a6-74d6-4ccd-8ec3-549ee26d1d0d",
        "colab": {
          "base_uri": "https://localhost:8080/",
          "height": 122,
          "referenced_widgets": [
            "6d695a3edb7c45ae97bc894b62ba597b",
            "693a106442be4b99af8e32ca49b790a7",
            "c45ab364591049e9ad07840f546540c1",
            "c8bce2b298fe4e13911f0a1d2c095b9d",
            "62bd499e246c433a9708ac609497cdc8",
            "86defd5dfa8e43aabf1df1672abc69eb",
            "75f159a255dd43a5b67e24148cbce198",
            "3e29499d724f425f8cd43bb368b7ecd5"
          ]
        }
      },
      "source": [
        "\n",
        "import time\n",
        "for i in tqdm([1,2,3],desc = \"wabalabadubdub\") :\n",
        "  print(i)\n",
        "  time.sleep(.1)"
      ],
      "execution_count": 0,
      "outputs": [
        {
          "output_type": "display_data",
          "data": {
            "application/vnd.jupyter.widget-view+json": {
              "model_id": "6d695a3edb7c45ae97bc894b62ba597b",
              "version_minor": 0,
              "version_major": 2
            },
            "text/plain": [
              "HBox(children=(IntProgress(value=0, description='wabalabadubdub', max=3, style=ProgressStyle(description_width…"
            ]
          },
          "metadata": {
            "tags": []
          }
        },
        {
          "output_type": "stream",
          "text": [
            "1\n",
            "2\n",
            "3\n",
            "\n"
          ],
          "name": "stdout"
        }
      ]
    },
    {
      "cell_type": "code",
      "metadata": {
        "id": "TYzFEsYCrd88",
        "colab_type": "code",
        "colab": {}
      },
      "source": [
        "drive_pt=\"/content/drive/My Drive/dl_projects/AdvitiyaHackathon/\"\n",
        "\n",
        "git_path = \"AdvitiyaHackathon/\"\n",
        "path = drive_pt+\"ScrappeData\""
      ],
      "execution_count": 0,
      "outputs": []
    },
    {
      "cell_type": "code",
      "metadata": {
        "id": "NUbSwTnQo7NY",
        "colab_type": "code",
        "colab": {}
      },
      "source": [
        "\n",
        "dataCsv = pd.read_csv(git_path+\"data.csv\", index_col=0)\n",
        "# ~ Initialize scraper class ~ #\n",
        "scraper=scraper_class()\n"
      ],
      "execution_count": 0,
      "outputs": []
    },
    {
      "cell_type": "code",
      "metadata": {
        "id": "Mt4fD149o7Nc",
        "colab_type": "code",
        "outputId": "af823e36-61b2-4a85-9797-759e12ac0a3a",
        "colab": {
          "base_uri": "https://localhost:8080/",
          "height": 146
        }
      },
      "source": [
        "\n",
        "\n",
        "patent_1 = 'CN104651159A'\n",
        "patent_2 = 'US266827A'\n",
        "scrapped_data = scraper.scrap_single_patent(patent_1)\n",
        "err_1, soup_1, url_1 = scraper.request_single_patent(patent_1)\n",
        "patent_1_parsed = scraper.get_scraped_data(soup_1,patent_1,url_1)\n",
        "\n",
        "with open(drive_pt+\"sample.json\", 'w') as file:\n",
        "    json.dump(scrapped_data, file)\n",
        "patent_1_parsed"
      ],
      "execution_count": 0,
      "outputs": [
        {
          "output_type": "execute_result",
          "data": {
            "text/plain": [
              "{'abstract': '\" The invention discloses a brewing process of a prickly pear fruit wine. The prickly pear fruit wine is brewed by taking fresh, ripe and plump prickly pears as main raw materials and through the steps of raw material pretreatment; pulping and soaking; compound enzyme treatment; matrix pretreatment; raw material mixing; fermenting; squeezing and filtering; mixing; ageing; and canning and sterilizing. According to the brewing process, the pulps and peels of the raw materials are separated, the pulps are pulped, and the peels are soaked in a white wine with a high alcohol degree, so that the utilization ratio of the raw materials is greatly increased; the fruit wine is clarified by using a compound clarifying gent, so that the transparency of a finished product of the wine is improved; and the prickly pear fruit wine has the health effects of tonifying the spleen and benefiting the stomach, promoting the production of body fluid to relieve thirst, astringing to stop bleeding, replenishing qi and enriching blood and the like.\"',\n",
              " 'claims': '\" 1. a making method for prickly-pear cactus fruit wine, is characterized in that: described making method adopts following steps: A, raw materials pretreatment: select fresh, ripe prickly-pear cactus, remove the impurity such as surface spikes, dust, earth, and clean with clear water, and peeled through peeling machine by prickly-pear cactus, obtain prickly-pear cactus pulp and prickly-pear cactus pericarp; B, making beating: in prickly-pear cactus pulp, add its weight 35-45% concentration is that the sodium ascorbate solution of 20-25% is pulled an oar, obtained prickly-pear cactus slurries; C, immersion: prickly-pear cactus pericarp being put into its weight 2-3 alcoholic strength is doubly that the white wine of 65-70% soaks 30-40 days, soak and terminate rear filtration and obtain soaking wine and prickly-pear cactus pericarp, be filtered dry by prickly-pear cactus pericarp and pulverize, obtain prickly-pear cactus fruit peel powder; D, prozyme process: in prickly-pear cactus slurries, add the polygalacturonase of its weight 0.3-0.4%, the cellulase of 0.2-0.3%, control temperature is 40-50 DEG C, the time is 4-6 hour; E, matrix pre-treatment: in Rhizoma Dioscoreae powder, add the prickly-pear cactus slurries after the enzymolysis of its weight 35-45%, rub into steamed bread of corn shape, place steamed bread of corn in steam cooker and cook to ripe and do not stick with paste, spread cooling, obtained matrix; F, raw material mix: the prickly-pear cactus fruit peel powder adding its weight 50-60% in matrix, stirs, and obtained compound, adds the wheat koji of 25-35%, the tap water of 130-150%, the distiller\\'s yeast of 5-8%, mix in compound, obtained wine unstrained spirits; G, fermentation: by the temperature control of wine unstrained spirits product at 25-35 DEG C, when in wine unstrained spirits, ethanol concn reaches 22-25% volume ratio, fermentation ends; H, squeeze and filter: wine unstrained spirits good for secondary fermentation is squeezed, obtained fermented wine, adds the tannin of its weight 0.3-0.4%, the diatomite of 0.02-0.03%, mixes in fermented wine, leaves standstill 8-12 days, carries out separation and obtain prickly-pear cactus pure mellow wine and wine mud; I, mixing: get the soaking wine 25-35 weight part in step c, prickly-pear cactus pure mellow wine 65-75 weight part in step h, stir, the obtained former wine of prickly-pear cactus; J, ageing: adopt microwave-assisted deepfreeze to accelerate pure mellow wine ageing, microwave frequency 900-1200MHz, deepfreeze time 50-60 days, temperature 4-6 DEG C; K, canned sterilization: carry out pasteurize after tinning, temperature 75-85 DEG C, time 15-20min, obtained prickly-pear cactus fruit wine.\"',\n",
              " 'classification': '\" CHEMISTRY; METALLURGY BIOCHEMISTRY; BEER; SPIRITS; WINE; VINEGAR; MICROBIOLOGY; ENZYMOLOGY; MUTATION OR GENETIC ENGINEERING WINE; OTHER ALCOHOLIC BEVERAGES; PREPARATION THEREOF Preparation of other alcoholic beverages Preparation of other alcoholic beverages by mixing, e.g. for preparation of liqueurs CHEMISTRY; METALLURGY BIOCHEMISTRY; BEER; SPIRITS; WINE; VINEGAR; MICROBIOLOGY; ENZYMOLOGY; MUTATION OR GENETIC ENGINEERING WINE; OTHER ALCOHOLIC BEVERAGES; PREPARATION THEREOF Preparation of other alcoholic beverages Preparation of other alcoholic beverages by fermentation CHEMISTRY; METALLURGY BIOCHEMISTRY; BEER; SPIRITS; WINE; VINEGAR; MICROBIOLOGY; ENZYMOLOGY; MUTATION OR GENETIC ENGINEERING PASTEURISATION, STERILISATION, PRESERVATION, PURIFICATION, CLARIFICATION OR AGEING OF ALCOHOLIC BEVERAGES; METHODS FOR ALTERING THE ALCOHOL CONTENT OF FERMENTED SOLUTIONS OR ALCOHOLIC BEVERAGES Pasteurisation, sterilisation, preservation, purification, clarification, or ageing of alcoholic beverages Pasteurisation, sterilisation, preservation, purification, clarification, or ageing of alcoholic beverages combined with removal of precipitate or added materials, e.g. adsorption material Pasteurisation, sterilisation, preservation, purification, clarification, or ageing of alcoholic beverages combined with removal of precipitate or added materials, e.g. adsorption material with the aid of ion-exchange material or inert clarification material, e.g. adsorption material Pasteurisation, sterilisation, preservation, purification, clarification, or ageing of alcoholic beverages combined with removal of precipitate or added materials, e.g. adsorption material with the aid of ion-exchange material or inert clarification material, e.g. adsorption material with the aid of inorganic added material CHEMISTRY; METALLURGY BIOCHEMISTRY; BEER; SPIRITS; WINE; VINEGAR; MICROBIOLOGY; ENZYMOLOGY; MUTATION OR GENETIC ENGINEERING PASTEURISATION, STERILISATION, PRESERVATION, PURIFICATION, CLARIFICATION OR AGEING OF ALCOHOLIC BEVERAGES; METHODS FOR ALTERING THE ALCOHOL CONTENT OF FERMENTED SOLUTIONS OR ALCOHOLIC BEVERAGES Pasteurisation, sterilisation, preservation, purification, clarification, or ageing of alcoholic beverages Pasteurisation, sterilisation, preservation, purification, clarification, or ageing of alcoholic beverages combined with removal of precipitate or added materials, e.g. adsorption material Pasteurisation, sterilisation, preservation, purification, clarification, or ageing of alcoholic beverages combined with removal of precipitate or added materials, e.g. adsorption material with the aid of ion-exchange material or inert clarification material, e.g. adsorption material Pasteurisation, sterilisation, preservation, purification, clarification, or ageing of alcoholic beverages combined with removal of precipitate or added materials, e.g. adsorption material with the aid of ion-exchange material or inert clarification material, e.g. adsorption material with the aid of organic added material\"',\n",
              " 'patent': 'CN104651159A',\n",
              " 'title': '\" - Brewing process of prickly pear fruit wine          - \"',\n",
              " 'url': 'https://patents.google.com/patent/CN104651159A/en?'}"
            ]
          },
          "metadata": {
            "tags": []
          },
          "execution_count": 5
        }
      ]
    },
    {
      "cell_type": "code",
      "metadata": {
        "id": "8v_YR-bro7Nh",
        "colab_type": "code",
        "colab": {}
      },
      "source": [
        "\"\"\"\n",
        "os.mkdir(drive_pt+\"ScrappeData\")\n",
        "os.mkdir(drive_pt+\"ScrappeData/non_alc\")\n",
        "os.mkdir(drive_pt+\"ScrappeData/alc\")\n",
        "os.mkdir(drive_pt+\"ScrappeData/non_auto\")\n",
        "os.mkdir(drive_pt+\"ScrappeData/auto\")\n",
        "\"\"\""
      ],
      "execution_count": 0,
      "outputs": []
    },
    {
      "cell_type": "code",
      "metadata": {
        "id": "tuwc3Ov4o7Nl",
        "colab_type": "code",
        "outputId": "b7a1868c-5996-426a-b547-b3b7a60ca0b3",
        "colab": {
          "base_uri": "https://localhost:8080/",
          "height": 225
        }
      },
      "source": [
        "# Make a separate list for each category\n",
        "non_alc = list(dataCsv.iloc[:,0])\n",
        "alc = list(dataCsv.iloc[:,2])\n",
        "non_auto = list(dataCsv.iloc[:,4])\n",
        "auto = list(dataCsv.iloc[:,6])"
      ],
      "execution_count": 0,
      "outputs": [
        {
          "output_type": "error",
          "ename": "NameError",
          "evalue": "ignored",
          "traceback": [
            "\u001b[0;31m---------------------------------------------------------------------------\u001b[0m",
            "\u001b[0;31mNameError\u001b[0m                                 Traceback (most recent call last)",
            "\u001b[0;32m<ipython-input-7-f98b0691c7c9>\u001b[0m in \u001b[0;36m<module>\u001b[0;34m()\u001b[0m\n\u001b[0;32m----> 1\u001b[0;31m \u001b[0mnon_alc\u001b[0m \u001b[0;34m=\u001b[0m \u001b[0mlist\u001b[0m\u001b[0;34m(\u001b[0m\u001b[0mdataCsv\u001b[0m\u001b[0;34m.\u001b[0m\u001b[0miloc\u001b[0m\u001b[0;34m[\u001b[0m\u001b[0;34m:\u001b[0m\u001b[0;34m,\u001b[0m\u001b[0;36m0\u001b[0m\u001b[0;34m]\u001b[0m\u001b[0;34m)\u001b[0m\u001b[0;34m\u001b[0m\u001b[0;34m\u001b[0m\u001b[0m\n\u001b[0m\u001b[1;32m      2\u001b[0m \u001b[0malc\u001b[0m \u001b[0;34m=\u001b[0m \u001b[0mlist\u001b[0m\u001b[0;34m(\u001b[0m\u001b[0mdataCsv\u001b[0m\u001b[0;34m.\u001b[0m\u001b[0miloc\u001b[0m\u001b[0;34m[\u001b[0m\u001b[0;34m:\u001b[0m\u001b[0;34m,\u001b[0m\u001b[0;36m2\u001b[0m\u001b[0;34m]\u001b[0m\u001b[0;34m)\u001b[0m\u001b[0;34m\u001b[0m\u001b[0;34m\u001b[0m\u001b[0m\n\u001b[1;32m      3\u001b[0m \u001b[0mnon_auto\u001b[0m \u001b[0;34m=\u001b[0m \u001b[0mlist\u001b[0m\u001b[0;34m(\u001b[0m\u001b[0mdataCsv\u001b[0m\u001b[0;34m.\u001b[0m\u001b[0miloc\u001b[0m\u001b[0;34m[\u001b[0m\u001b[0;34m:\u001b[0m\u001b[0;34m,\u001b[0m\u001b[0;36m4\u001b[0m\u001b[0;34m]\u001b[0m\u001b[0;34m)\u001b[0m\u001b[0;34m\u001b[0m\u001b[0;34m\u001b[0m\u001b[0m\n\u001b[1;32m      4\u001b[0m \u001b[0mauto\u001b[0m \u001b[0;34m=\u001b[0m \u001b[0mlist\u001b[0m\u001b[0;34m(\u001b[0m\u001b[0mdataCsv\u001b[0m\u001b[0;34m.\u001b[0m\u001b[0miloc\u001b[0m\u001b[0;34m[\u001b[0m\u001b[0;34m:\u001b[0m\u001b[0;34m,\u001b[0m\u001b[0;36m6\u001b[0m\u001b[0;34m]\u001b[0m\u001b[0;34m)\u001b[0m\u001b[0;34m\u001b[0m\u001b[0;34m\u001b[0m\u001b[0m\n",
            "\u001b[0;31mNameError\u001b[0m: name 'dataCsv' is not defined"
          ]
        }
      ]
    },
    {
      "cell_type": "code",
      "metadata": {
        "id": "FwpXV8dmo7No",
        "colab_type": "code",
        "colab": {}
      },
      "source": [
        "\n",
        "names = [\"non_alc\", \"alc\", \"non_auto\", \"auto\"]\n",
        "catwise_patent_lists = [non_alc, alc, non_auto, auto]\n",
        "\n",
        "\"\"\"\n",
        "for index in tnrange(4, desc = \"CatList\"):\n",
        "    patents = catwise_patent_lists[index]\n",
        "    cat_folder  = names[index]\n",
        "    cat_list = catwise_patent_lists[index]\n",
        "    for patent in tqdm(cat_list,desc  = \"patents\"):\n",
        "        scrappedJson = scraper.scrap_single_patent(patent)\n",
        "        filename = os.path.join(path,cat_folder,str(patent)+\".json\")\n",
        "        with open(filename, 'w') as file:\n",
        "            json.dump(scrappedJson, file)\n",
        "     \"\"\"    "
      ],
      "execution_count": 0,
      "outputs": []
    },
    {
      "cell_type": "code",
      "metadata": {
        "id": "CEO0oYKWo7Nz",
        "colab_type": "code",
        "outputId": "59e8a528-1ed4-4249-ca89-8473cda743af",
        "colab": {}
      },
      "source": [
        "print(([{'inventor_name':x.get_text()} for x in soup_1.select(\".title\",limit = 30)]))"
      ],
      "execution_count": 0,
      "outputs": [
        {
          "output_type": "stream",
          "text": [
            "[]\n"
          ],
          "name": "stdout"
        }
      ]
    },
    {
      "cell_type": "code",
      "metadata": {
        "id": "wAz5uozDo7N3",
        "colab_type": "code",
        "colab": {}
      },
      "source": [
        "print([{'inventor_name':x.get_text()} for x in soup_1.find('title')])"
      ],
      "execution_count": 0,
      "outputs": []
    },
    {
      "cell_type": "code",
      "metadata": {
        "id": "eWT_sl8Eo7N_",
        "colab_type": "code",
        "colab": {}
      },
      "source": [
        "*(soup_1.select(\".abstract\")).get_text()"
      ],
      "execution_count": 0,
      "outputs": []
    },
    {
      "cell_type": "code",
      "metadata": {
        "id": "m7Z95j3lo7OC",
        "colab_type": "code",
        "colab": {}
      },
      "source": [
        "print(soup_1.find('title').get_text())"
      ],
      "execution_count": 0,
      "outputs": []
    },
    {
      "cell_type": "code",
      "metadata": {
        "id": "-LWVGX2Jo7OF",
        "colab_type": "code",
        "colab": {}
      },
      "source": [
        ""
      ],
      "execution_count": 0,
      "outputs": []
    },
    {
      "cell_type": "markdown",
      "metadata": {
        "id": "qIBlEzBQkdqw",
        "colab_type": "text"
      },
      "source": [
        "**Data** **cleaning**"
      ]
    },
    {
      "cell_type": "code",
      "metadata": {
        "id": "0Y7B8JDBmZXx",
        "colab_type": "code",
        "colab": {}
      },
      "source": [
        "# Make a separate list for each category\n",
        "non_alc_json_pt = [os.path.join(path,names[0],p_num+\".json\") for p_num in catwise_patent_lists[0]]\n",
        "alc_json_pt = [os.path.join(path,names[1],p_num+\".json\") for p_num in catwise_patent_lists[1]]\n",
        "non_auto_json_pt = [os.path.join(path,names[2],p_num+\".json\") for p_num in catwise_patent_lists[2]]\n",
        "auto_json_pt = [os.path.join(path,names[3],p_num+\".json\") for p_num in catwise_patent_lists[3]]"
      ],
      "execution_count": 0,
      "outputs": []
    },
    {
      "cell_type": "code",
      "metadata": {
        "id": "ygQq8G_SnnCg",
        "colab_type": "code",
        "colab": {}
      },
      "source": [
        "non_alc_json_pt[1]"
      ],
      "execution_count": 0,
      "outputs": []
    },
    {
      "cell_type": "code",
      "metadata": {
        "id": "q4B8ETMxr48N",
        "colab_type": "code",
        "colab": {}
      },
      "source": [
        "\n",
        "for index in tnrange(4, desc = \"CatList\"):\n",
        "    patents = catwise_patent_lists[index]\n",
        "    cat_folder  = names[index]\n",
        "    cat_list = catwise_patent_lists[index]\n",
        "    for patent in tqdm(cat_list,desc  = \"patents\"):\n",
        "        scrappedJson = scraper.scrap_single_patent(patent)\n",
        "        filename = os.path.join(path,cat_folder,str(patent)+\".json\")\n",
        "        with open(filename ) as file:\n",
        "            data = json.load(file)"
      ],
      "execution_count": 0,
      "outputs": []
    },
    {
      "cell_type": "code",
      "metadata": {
        "id": "7XZsFxVwwlQH",
        "colab_type": "code",
        "colab": {}
      },
      "source": [
        "class data_wrangler:\n",
        "  def __init__(self, data_csv_pt, max_limit = 10000, classification = True, abstract =False, claims  = False, all = False,\n",
        "               path = \"/content/drive/My Drive/dl_projects/AdvitiyaHackathon/ScrappeData\",\n",
        "               val = False):\n",
        "    self.patent_info = \"\"\n",
        "    self.path = path\n",
        "    self.max_limit = max_limit\n",
        "    self.class_names = [\"non_alc\", \"alc\", \"non_auto\", \"auto\"]\n",
        "    self.info_classes = [\"title\", 'classification' ]\n",
        "    self.data_csv_pt = data_csv_pt\n",
        "    self.csv  = pd.read_csv(self.data_csv_pt,index_col= 0)\n",
        "\n",
        "    self.nlp = spacy.load(\"en\", disable=['parser', 'tagger', 'ner'])\n",
        "    self.nlp.max_length = 50000000000\n",
        "    self.stops = stopwords.words(\"english\")\n",
        "    self.punctuations = string.punctuation\n",
        "\n",
        "    self.cleaned_data  = pd.DataFrame(columns= [\"text\",\"cat\"])\n",
        "\n",
        "    if abstract :\n",
        "      self.info_classes.append(\"abstract\")\n",
        "    if claims :\n",
        "      self.info_classes.append(\"claims\")\n",
        "    if all :\n",
        "      self.info_classes = [\"title\", 'classification', \"abstract\", \"claims\"]\n",
        "\n",
        "\n",
        "\n",
        "    # Make a separate list for each category\n",
        "    self.non_alc = list(self.csv.iloc[:,0])\n",
        "    self.alc = list(self.csv.iloc[:,2])\n",
        "    self.non_auto = list(self.csv.iloc[:,4])\n",
        "    self.auto = list(self.csv.iloc[:,6])\n",
        "\n",
        "    self.catwise_patent_lists  = [self.non_alc, self.alc, self.non_auto, self.auto]\n",
        "\n",
        "    # Make a separate list for each category\n",
        "    self.non_alc_json_pt = [os.path.join(self.path,self.class_names[0],p_num+\".json\") for p_num in self.catwise_patent_lists[0]]\n",
        "    self.alc_json_pt = [os.path.join(self.path,self.class_names[1],p_num+\".json\") for p_num in self.catwise_patent_lists[1]]\n",
        "    self.non_auto_json_pt = [os.path.join(self.path,self.class_names[2],p_num+\".json\") for p_num in self.catwise_patent_lists[2]]\n",
        "    self.auto_json_pt = [os.path.join(self.path,self.class_names[3],p_num+\".json\") for p_num in self.catwise_patent_lists[3]]\n",
        "\n",
        "  \n",
        "    i = 0\n",
        "    for pt_list in tqdm([self.non_alc_json_pt,self.alc_json_pt,self.non_auto_json_pt, self.auto_json_pt], desc = \"CatList\"):\n",
        "    \n",
        "      try: \n",
        "      \n",
        "        for patent in tqdm(pt_list,desc  = \"patents\"):\n",
        "            with open(patent) as file:\n",
        "                data = json.load(file)\n",
        "            try:  \n",
        "              self.patent_info = \"\"\n",
        "              for info in self.info_classes:\n",
        "                self.patent_info += data[info]\n",
        "                if len(self.patent_info.split()) > self.max_limit:\n",
        "                  break\n",
        "            except Exception as e:\n",
        "              print(e)\n",
        "            self.patent_info = self.clean(self.patent_info)\n",
        "            self.cleaned_data = self.cleaned_data.append({\"text\":str(self.patent_info),\"cat\":i},ignore_index = True)\n",
        "        i += 1\n",
        "\n",
        "      except Exception as e:\n",
        "        print(e)\n",
        "    \n",
        "    if val:\n",
        "      self.cleaned_data.to_csv(\"final_val_clean.csv\")\n",
        "    else:\n",
        "      self.cleaned_data.to_csv(\"final_train_clean.csv\")\n",
        "\n",
        "    \n",
        "\n",
        "  def clean(self, comment, lowercase = True, remove_stopwords = True):\n",
        "    if lowercase:\n",
        "        comment = comment.lower()\n",
        "    comment = self.nlp(comment,disable = ['ner', 'parser', 'tagger'])\n",
        "    lemmatized = list()\n",
        "    for word in comment:\n",
        "        lemma = word.lemma_.strip()\n",
        "       \n",
        "        #len(re.findall('[^A-Za-z0-9]+',lemma))==0 for removing alphanumerals in b/w strings\n",
        "\n",
        "        if lemma:\n",
        "            if not remove_stopwords or (remove_stopwords and lemma not in self.stops and not (\"\\\\\" in r\"%r\" % lemma)  ):\n",
        "                lemma = re.sub(\"[^a-zA-Z]\",  # Search for all non-letters\n",
        "                          \" \",          # Replace all non-letters with spaces\n",
        "                          str(lemma))\n",
        "                lemmatized.append(lemma)\n",
        "    return \" \".join(lemmatized)\n"
      ],
      "execution_count": 0,
      "outputs": []
    },
    {
      "cell_type": "code",
      "metadata": {
        "id": "VZXBjmuih52i",
        "colab_type": "code",
        "outputId": "5b327094-bf38-47fa-d393-f1fc39a6aa17",
        "colab": {
          "base_uri": "https://localhost:8080/",
          "height": 214,
          "referenced_widgets": [
            "6a41d411669940cda730711ac15b6fab",
            "93c922df665a4e7d8940e9db6c2c82f2",
            "aa6b5ac0147b48b2bece7f6a6ad856b0",
            "c5d3c6eef7034f67a27d53992415e855",
            "8c28a95c5909498bacdaf381a5ea1170",
            "b191c64c31644c2887f1ee35ec216e37",
            "0a1389d072794bd49e8e5be4c44733b8",
            "00203a6645734cc1ab5c7e6a95a2fbd6",
            "09bd57d8af2d477bb779c3c1453f02b3",
            "6cfeaa2c9b15408a8fdf4ff1f1f13e94",
            "eda33336c33b4cf6b5281123109a6944",
            "9665ef5f28f8476ebf48244c9fcc4e8c",
            "0c56da490712457c82341a3c786d7383",
            "b5f74aec897a46f8bcd9551f503ebd3f",
            "a88bdb807f34428d9e7bbe53dcc217fe",
            "d32cdd1aaaeb4327b2cfa9e0d3e543a6",
            "649623b86fde4dc9b57be89aeed88c61",
            "17a2780005ea49868a8a883f4c67ce92",
            "62d93fbd2386412b8fbc419ae451c394",
            "b9a0ee8ecc974fa9b55f57d51162ba52",
            "f27fadcd6e0545eeb012edb635a4e097",
            "12056c333f0a4c5c8a483218d8a4bcce",
            "87454f727b004fe4a12fd7af1914d65e",
            "e7f09ef92cbb44ffb8d20ada43c75114",
            "0e15d457841d48b18c4ac1cfa04daa8b",
            "f2ab21af47324b80814faabbb8ab689a",
            "ac2157abda68403387b73f2c6a81ecdd",
            "6eee03a76b4d4f39a89f32ed537a1fb1",
            "9b00496dd44246d7a30b15e3978ff262",
            "27743a6ca970427d8c0bd14c57763525",
            "8bf1d0ee2cc24787813878b9d8b96908",
            "a21be184e13b478d9d7b47192ba00806",
            "37fd963e3b63447b966daeb0be786eff",
            "2350a51153314a00b098bee6e5f0f983",
            "8bf17fa9d6754661b39b58f167627dda",
            "ca971bb3273548cda1360a4d5db6fd75",
            "8b23b431055544ca847f3217c4ad734c",
            "86b42f3797d442c7b5564a94703b3eac",
            "fe51756a2140417e9a1c12d23dec88df",
            "ef45b8c4076e4f509a4319ba4b53acc5"
          ]
        }
      },
      "source": [
        "data_wrangler(git_path+\"val_split.csv\",val=True, abstract= True)"
      ],
      "execution_count": 0,
      "outputs": [
        {
          "output_type": "display_data",
          "data": {
            "application/vnd.jupyter.widget-view+json": {
              "model_id": "6a41d411669940cda730711ac15b6fab",
              "version_minor": 0,
              "version_major": 2
            },
            "text/plain": [
              "HBox(children=(IntProgress(value=0, description='CatList', max=4, style=ProgressStyle(description_width='initi…"
            ]
          },
          "metadata": {
            "tags": []
          }
        },
        {
          "output_type": "display_data",
          "data": {
            "application/vnd.jupyter.widget-view+json": {
              "model_id": "09bd57d8af2d477bb779c3c1453f02b3",
              "version_minor": 0,
              "version_major": 2
            },
            "text/plain": [
              "HBox(children=(IntProgress(value=0, description='patents', max=20, style=ProgressStyle(description_width='init…"
            ]
          },
          "metadata": {
            "tags": []
          }
        },
        {
          "output_type": "display_data",
          "data": {
            "application/vnd.jupyter.widget-view+json": {
              "model_id": "649623b86fde4dc9b57be89aeed88c61",
              "version_minor": 0,
              "version_major": 2
            },
            "text/plain": [
              "HBox(children=(IntProgress(value=0, description='patents', max=20, style=ProgressStyle(description_width='init…"
            ]
          },
          "metadata": {
            "tags": []
          }
        },
        {
          "output_type": "display_data",
          "data": {
            "application/vnd.jupyter.widget-view+json": {
              "model_id": "0e15d457841d48b18c4ac1cfa04daa8b",
              "version_minor": 0,
              "version_major": 2
            },
            "text/plain": [
              "HBox(children=(IntProgress(value=0, description='patents', max=20, style=ProgressStyle(description_width='init…"
            ]
          },
          "metadata": {
            "tags": []
          }
        },
        {
          "output_type": "display_data",
          "data": {
            "application/vnd.jupyter.widget-view+json": {
              "model_id": "37fd963e3b63447b966daeb0be786eff",
              "version_minor": 0,
              "version_major": 2
            },
            "text/plain": [
              "HBox(children=(IntProgress(value=0, description='patents', max=20, style=ProgressStyle(description_width='init…"
            ]
          },
          "metadata": {
            "tags": []
          }
        },
        {
          "output_type": "stream",
          "text": [
            "\n"
          ],
          "name": "stdout"
        },
        {
          "output_type": "execute_result",
          "data": {
            "text/plain": [
              "<__main__.data_wrangler at 0x7f5f2af22278>"
            ]
          },
          "metadata": {
            "tags": []
          },
          "execution_count": 13
        }
      ]
    },
    {
      "cell_type": "code",
      "metadata": {
        "id": "MpDl-Nanh5mV",
        "colab_type": "code",
        "colab": {}
      },
      "source": [
        "a = pd.read_csv(\"final_train_clean.csv\", index_col= 0)"
      ],
      "execution_count": 0,
      "outputs": []
    },
    {
      "cell_type": "code",
      "metadata": {
        "id": "gZn20kKj_MAn",
        "colab_type": "code",
        "outputId": "38167a59-292e-4fe5-fdcb-d550872c42d3",
        "colab": {
          "base_uri": "https://localhost:8080/",
          "height": 298
        }
      },
      "source": [
        "(a.iloc[0,:1]).value"
      ],
      "execution_count": 0,
      "outputs": [
        {
          "output_type": "error",
          "ename": "AttributeError",
          "evalue": "ignored",
          "traceback": [
            "\u001b[0;31m---------------------------------------------------------------------------\u001b[0m",
            "\u001b[0;31mAttributeError\u001b[0m                            Traceback (most recent call last)",
            "\u001b[0;32m<ipython-input-27-8bd32b1e5d30>\u001b[0m in \u001b[0;36m<module>\u001b[0;34m()\u001b[0m\n\u001b[0;32m----> 1\u001b[0;31m \u001b[0;34m(\u001b[0m\u001b[0ma\u001b[0m\u001b[0;34m.\u001b[0m\u001b[0miloc\u001b[0m\u001b[0;34m[\u001b[0m\u001b[0;36m0\u001b[0m\u001b[0;34m,\u001b[0m\u001b[0;34m:\u001b[0m\u001b[0;36m1\u001b[0m\u001b[0;34m]\u001b[0m\u001b[0;34m)\u001b[0m\u001b[0;34m.\u001b[0m\u001b[0mvalue\u001b[0m\u001b[0;34m\u001b[0m\u001b[0;34m\u001b[0m\u001b[0m\n\u001b[0m",
            "\u001b[0;32m/usr/local/lib/python3.6/dist-packages/pandas/core/generic.py\u001b[0m in \u001b[0;36m__getattr__\u001b[0;34m(self, name)\u001b[0m\n\u001b[1;32m   5177\u001b[0m             \u001b[0;32mif\u001b[0m \u001b[0mself\u001b[0m\u001b[0;34m.\u001b[0m\u001b[0m_info_axis\u001b[0m\u001b[0;34m.\u001b[0m\u001b[0m_can_hold_identifiers_and_holds_name\u001b[0m\u001b[0;34m(\u001b[0m\u001b[0mname\u001b[0m\u001b[0;34m)\u001b[0m\u001b[0;34m:\u001b[0m\u001b[0;34m\u001b[0m\u001b[0;34m\u001b[0m\u001b[0m\n\u001b[1;32m   5178\u001b[0m                 \u001b[0;32mreturn\u001b[0m \u001b[0mself\u001b[0m\u001b[0;34m[\u001b[0m\u001b[0mname\u001b[0m\u001b[0;34m]\u001b[0m\u001b[0;34m\u001b[0m\u001b[0;34m\u001b[0m\u001b[0m\n\u001b[0;32m-> 5179\u001b[0;31m             \u001b[0;32mreturn\u001b[0m \u001b[0mobject\u001b[0m\u001b[0;34m.\u001b[0m\u001b[0m__getattribute__\u001b[0m\u001b[0;34m(\u001b[0m\u001b[0mself\u001b[0m\u001b[0;34m,\u001b[0m \u001b[0mname\u001b[0m\u001b[0;34m)\u001b[0m\u001b[0;34m\u001b[0m\u001b[0;34m\u001b[0m\u001b[0m\n\u001b[0m\u001b[1;32m   5180\u001b[0m \u001b[0;34m\u001b[0m\u001b[0m\n\u001b[1;32m   5181\u001b[0m     \u001b[0;32mdef\u001b[0m \u001b[0m__setattr__\u001b[0m\u001b[0;34m(\u001b[0m\u001b[0mself\u001b[0m\u001b[0;34m,\u001b[0m \u001b[0mname\u001b[0m\u001b[0;34m,\u001b[0m \u001b[0mvalue\u001b[0m\u001b[0;34m)\u001b[0m\u001b[0;34m:\u001b[0m\u001b[0;34m\u001b[0m\u001b[0;34m\u001b[0m\u001b[0m\n",
            "\u001b[0;31mAttributeError\u001b[0m: 'Series' object has no attribute 'value'"
          ]
        }
      ]
    },
    {
      "cell_type": "code",
      "metadata": {
        "id": "jSim_cZNklDe",
        "colab_type": "code",
        "outputId": "a21b3b7a-b497-4f4d-f255-6003f9983918",
        "colab": {
          "base_uri": "https://localhost:8080/",
          "height": 146
        }
      },
      "source": [
        "\n",
        "with open(alc_json_pt[200]) as json_file:\n",
        "    data = json.load(json_file)\n",
        "data    "
      ],
      "execution_count": 0,
      "outputs": [
        {
          "output_type": "execute_result",
          "data": {
            "text/plain": [
              "{'abstract': '\" A system and method for generating wort utilizing steam injection heating and stratified flow. The system mixes a fine ground grain with water to form a slurry. The slurry is pumped through a steam injection heater to form a mash. The heated mash enters into a stratified vessel that creates a stratified temperature profile from a first end to a second end. The stratified heating vessel allows the mash to flow from the first end to the second end without internal mixing. After retention within the mash coil, the wort is directed to a mash filtration unit. After filtration, the wort enters into a boil kettle and is heated using a second steam injection heater. The boil kettle includes a spray head that directs brewing liquor onto the wort to reduce foam within the boil kettle. Finally, the wort passes through a scraped surface sieve that removes particles from the heated wort.\"',\n",
              " 'claims': '\"  1. A system for generating wort from a slurry of milled grain and water or use in the brewing process, the system comprising: an expansion chamber that receive the slurry; a pump operable to draw the slurry from the expansion chamber; and a steam injection heater positioned downstream from the pump to heat the slurry and create a mash.  an expansion chamber that receive the slurry; a pump operable to draw the slurry from the expansion chamber; and a steam injection heater positioned downstream from the pump to heat the slurry and create a mash.  2. The system of claim 1 further comprising a stratified storage vessel positioned to receive the mash from the steam injection heater, wherein the stratified storage vessel prevents mixture within the mash as the mash moves through the stratified storage vessel.  3. The system of claim 2 wherein the stratified storage vessel is a stacked coil of pipe extending from a first end to a second end.  4. The system of claim 3 wherein the pipe has a constant diameter from the first end to the second end.  5. The system of claim 3 wherein the stacked coil has a constant inner and outer diameter from the first end to the second end.  6. The system of claim 2 further comprising a filtration unit positioned to receive the mash from the stratified storage vessel, wherein the filtration unit removes coarse particles from the mash to create a wort.  7. The system of claim 6 further comprising a boil kettle having an open interior sized to receive the wort, wherein the boil kettle includes a outlet coupled to a second steam injection heater operable to heat the wort and return the wort to the open interior.  8. The system of claim 7 further comprising a spray head positioned within the boil kettle and operable to direct a spray of liquid onto the wort contained within the open interior of the boil kettle.  9. The system of claim 8 wherein the spray of liquid is brewing liquor.  10. The system of claim 9 wherein the volume of brewing liquor directed through the spray head is measured.  11. The system of claim 7 further comprising a scraped surface sieve positioned to receive the wort from the boil kettle and operable to remove any solids from the wort.  12. The system of claim 7 further comprising: a holding tank positioned to receive the heated wort from the boil kettle a flow control valve positioned between the outlet of the boil kettle and the holding tank; and a discharge pump operable to direct the wort from the holding tank.  a holding tank positioned to receive the heated wort from the boil kettle; a flow control valve positioned between the outlet of the boil kettle and the holding tank; and a discharge pump operable to direct the wort from the holding tank.  13. A method of creating wort for use in the brewing process, the method comprising the steps of: milling a supply of grain into fine particles; mixing the milled supply of grain with water to form a slurry; and directing the slurry through a steam injection heater to heat the slurry and create a mash.  milling a supply of grain into fine particles; mixing the milled supply of grain with water to form a slurry; and directing the slurry through a steam injection heater to heat the slurry and create a mash.  14. The method of claim 13 further comprising the steps of: receiving the mash at a first end of a stratified storage vessel; and retaining the mash within the stratified storage vessel.  receiving the mash at a first end of a stratified storage vessel; and retaining the mash within the stratified storage vessel.  15. The method of claim 14 further comprising the step of removing the mash from a second end of the stratified storage vessel and directing the mash to a filtration unit to remove coarse particles from the mash to create a liquid wort.  16. The method of claim 14 further comprising the steps of: receiving the wort within an open interior of a boil kettle removing the wort from the boil kettle and heating the wort with a second steam injection heater returning the heated wort to the open interior of the boil kettle; and directing the wort from the open interior of the boil kettle for use in the fermentation process of brewing.  receiving the wort within an open interior of a boil kettle; removing the wort from the boil kettle and heating the wort with a second steam injection heater; returning the heated wort to the open interior of the boil kettle; and directing the wort from the open interior of the boil kettle for use in the fermentation process of brewing.  17. The method of claim 14 wherein the stratified storage vessel is a stacked coil of pipe extending from the first end to the second end, wherein the stacked coil prevent the mixing of the mash within the stacked coil.  18. The method of claim 16 further comprising the step of directing a spray of a brewing liquor onto the wort within the open interior of the boil kettle to reduce foaming.  19. The method of claim 18 wherein the spray of brewing liquor is directed through a spray head positioned within the open interior of the boil kettle.  20. The method of claim 16 further comprising the step of directing the wort from the boil kettle to a scraped surface sieve, wherein the scraped surface sieve operated to remove solids from the wort.  21. A system for reducing foaming in a boil kettle, comprising: a spray head positioned near an upper end of the boil kettle; a supply of brewing liquor connected to the spray head; a flow control valve operable to allow the supply of brewing liquor to pass into the spray head; and at least one flow sensor operable to measure the amount of brewing liquor directed into the boil kettle through the spray head.  a spray head positioned near an upper end of the boil kettle; a supply of brewing liquor connected to the spray head; a flow control valve operable to allow the supply of brewing liquor to pass into the spray head; and at least one flow sensor operable to measure the amount of brewing liquor directed into the boil kettle through the spray head.  22. The system of claim 21 wherein the spray head includes a plurality of nozzles.\"',\n",
              " 'classification': '\" CHEMISTRY; METALLURGY BIOCHEMISTRY; BEER; SPIRITS; WINE; VINEGAR; MICROBIOLOGY; ENZYMOLOGY; MUTATION OR GENETIC ENGINEERING BREWING OF BEER Preparation of wort Preparation or treatment of the mash Mashing apparatus PERFORMING OPERATIONS; TRANSPORTING PHYSICAL OR CHEMICAL PROCESSES OR APPARATUS IN GENERAL SEPARATION Evaporating Evaporating by spraying CHEMISTRY; METALLURGY BIOCHEMISTRY; BEER; SPIRITS; WINE; VINEGAR; MICROBIOLOGY; ENZYMOLOGY; MUTATION OR GENETIC ENGINEERING BREWING OF BEER Brewing devices, not covered by a single group of C12C1/00\\\\u00a0-\\\\u00a0C12C12/04 Brew kettles Brew kettles heated with steam CHEMISTRY; METALLURGY BIOCHEMISTRY; BEER; SPIRITS; WINE; VINEGAR; MICROBIOLOGY; ENZYMOLOGY; MUTATION OR GENETIC ENGINEERING BREWING OF BEER Preparation of wort CHEMISTRY; METALLURGY BIOCHEMISTRY; BEER; SPIRITS; WINE; VINEGAR; MICROBIOLOGY; ENZYMOLOGY; MUTATION OR GENETIC ENGINEERING BREWING OF BEER Preparation of wort Boiling the beerwort CHEMISTRY; METALLURGY BIOCHEMISTRY; BEER; SPIRITS; WINE; VINEGAR; MICROBIOLOGY; ENZYMOLOGY; MUTATION OR GENETIC ENGINEERING BREWING OF BEER Preparation of wort Boiling the beerwort Boiling with hops Processes or apparatus specially adapted to save or recover energy PERFORMING OPERATIONS; TRANSPORTING PHYSICAL OR CHEMICAL PROCESSES OR APPARATUS IN GENERAL BOILING; BOILING APPARATUS ; EVAPORATION; EVAPORATION APPARATUS Boiling; Boiling apparatus for physical or chemical purposes ; Evaporation in general Preventing foaming CHEMISTRY; METALLURGY BIOCHEMISTRY; BEER; SPIRITS; WINE; VINEGAR; MICROBIOLOGY; ENZYMOLOGY; MUTATION OR GENETIC ENGINEERING BREWING OF BEER Preparation of wort After-treatment, e.g. sterilisation CHEMISTRY; METALLURGY BIOCHEMISTRY; BEER; SPIRITS; WINE; VINEGAR; MICROBIOLOGY; ENZYMOLOGY; MUTATION OR GENETIC ENGINEERING BREWING OF BEER Methods specially adapted for the making of beerwort Beerwort treatment; Boiling with hops; Hop extraction\"',\n",
              " 'patent': 'US20180094229A1',\n",
              " 'title': '\" - System and method for wort generation        - \"',\n",
              " 'url': 'https://patents.google.com/patent/US20180094229A1/en?'}"
            ]
          },
          "metadata": {
            "tags": []
          },
          "execution_count": 13
        }
      ]
    },
    {
      "cell_type": "code",
      "metadata": {
        "id": "DbMZFsWGZ08F",
        "colab_type": "code",
        "colab": {}
      },
      "source": [
        "cleaned_data  = pd.DataFrame(columns=[\"text\",\"cat\"])\n",
        "cleaned_data=cleaned_data.append({\"text\":'bleh',\"cat\":1},ignore_index= True)\n",
        "cleaned_data = cleaned_data.append({\"text\":'bldeh',\"cat\":2},ignore_index= True)"
      ],
      "execution_count": 0,
      "outputs": []
    },
    {
      "cell_type": "code",
      "metadata": {
        "id": "ET0bDnran546",
        "colab_type": "code",
        "outputId": "de789569-4bc6-4b6a-da84-c98a4e3e090b",
        "colab": {
          "base_uri": "https://localhost:8080/",
          "height": 108
        }
      },
      "source": [
        "cleaned_data"
      ],
      "execution_count": 0,
      "outputs": [
        {
          "output_type": "execute_result",
          "data": {
            "text/html": [
              "<div>\n",
              "<style scoped>\n",
              "    .dataframe tbody tr th:only-of-type {\n",
              "        vertical-align: middle;\n",
              "    }\n",
              "\n",
              "    .dataframe tbody tr th {\n",
              "        vertical-align: top;\n",
              "    }\n",
              "\n",
              "    .dataframe thead th {\n",
              "        text-align: right;\n",
              "    }\n",
              "</style>\n",
              "<table border=\"1\" class=\"dataframe\">\n",
              "  <thead>\n",
              "    <tr style=\"text-align: right;\">\n",
              "      <th></th>\n",
              "      <th>text</th>\n",
              "      <th>cat</th>\n",
              "    </tr>\n",
              "  </thead>\n",
              "  <tbody>\n",
              "    <tr>\n",
              "      <th>0</th>\n",
              "      <td>bleh</td>\n",
              "      <td>1</td>\n",
              "    </tr>\n",
              "    <tr>\n",
              "      <th>1</th>\n",
              "      <td>bldeh</td>\n",
              "      <td>2</td>\n",
              "    </tr>\n",
              "  </tbody>\n",
              "</table>\n",
              "</div>"
            ],
            "text/plain": [
              "    text cat\n",
              "0   bleh   1\n",
              "1  bldeh   2"
            ]
          },
          "metadata": {
            "tags": []
          },
          "execution_count": 29
        }
      ]
    },
    {
      "cell_type": "code",
      "metadata": {
        "id": "3XnnoqEsQcFM",
        "colab_type": "code",
        "outputId": "a8b5c50a-249c-4984-b70e-f1d5a7091ad7",
        "colab": {
          "base_uri": "https://localhost:8080/",
          "height": 72
        }
      },
      "source": [
        "import nltk\n",
        "nltk.download('stopwords')"
      ],
      "execution_count": 0,
      "outputs": [
        {
          "output_type": "stream",
          "text": [
            "[nltk_data] Downloading package stopwords to /root/nltk_data...\n",
            "[nltk_data]   Unzipping corpora/stopwords.zip.\n"
          ],
          "name": "stdout"
        },
        {
          "output_type": "execute_result",
          "data": {
            "text/plain": [
              "True"
            ]
          },
          "metadata": {
            "tags": []
          },
          "execution_count": 15
        }
      ]
    },
    {
      "cell_type": "code",
      "metadata": {
        "id": "je3WW3I8og9b",
        "colab_type": "code",
        "colab": {}
      },
      "source": [
        "!python -m nltk.downloader all"
      ],
      "execution_count": 0,
      "outputs": []
    },
    {
      "cell_type": "code",
      "metadata": {
        "id": "JO-NNof3o09r",
        "colab_type": "code",
        "outputId": "6d06d577-1338-4af0-dd1e-47788a66e138",
        "colab": {
          "base_uri": "https://localhost:8080/",
          "height": 55
        }
      },
      "source": [
        "from nltk.corpus import stopwords\n",
        "import string\n",
        "import spacy #load spacy\n",
        "nlp = spacy.load(\"en\", disable=['parser', 'tagger', 'ner'])\n",
        "stops = stopwords.words(\"english\")\n",
        "puncs = string.punctuation\n",
        "puncs.replace('.','/')\n",
        "\n",
        "def normalize(comment, lowercase = True, remove_stopwords = True):\n",
        "  if lowercase:\n",
        "      comment = comment.lower()\n",
        "  comment = nlp(comment)\n",
        "  lemmatized = list()\n",
        "  for word in comment:\n",
        "      lemma = word.lemma_.strip()\n",
        "      if lemma:\n",
        "          if not remove_stopwords or (remove_stopwords and lemma not in stops and not (\"\\\\\" in r\"%r\" % lemma)):\n",
        "              result = re.findall('[^A-Za-z0-9]+',lemma)\n",
        "              len(result)\n",
        "              lemmatized.append(lemma)\n",
        "  return \" \".join(lemmatized)\n",
        "normalize(data[\"claims\"])"
      ],
      "execution_count": 0,
      "outputs": [
        {
          "output_type": "execute_result",
          "data": {
            "text/plain": [
              "'\" 1 . system generate wort slurry mill grain water use brew process , system comprise : expansion chamber receive slurry ; pump operable draw slurry expansion chamber ; steam injection heater position downstream pump heat slurry create mash . expansion chamber receive slurry ; pump operable draw slurry expansion chamber ; steam injection heater position downstream pump heat slurry create mash . 2 . system claim 1 far comprise stratify storage vessel position receive mash steam injection heater , wherein stratify storage vessel prevent mixture within mash mash move stratify storage vessel . 3 . system claim 2 wherein stratify storage vessel stack coil pipe extend end 2 end . 4 . system claim 3 wherein pipe constant diameter end 2 end . 5 . system claim 3 wherein stack coil constant inner outer diameter end 2 end . 6 . system claim 2 far comprise filtration unit position receive mash stratify storage vessel , wherein filtration unit remove coarse particle mash create wort . 7 . system claim 6 far comprise boil kettle open interior size receive wort , wherein boil kettle include outlet couple 2 steam injection heater operable heat wort return wort open interior . 8 . system claim 7 far comprise spray head position within boil kettle operable direct spray liquid onto wort contain within open interior boil kettle . 9 . system claim 8 wherein spray liquid brew liquor . 10 . system claim 9 wherein volume brew liquor direct spray head measure . 11 . system claim 7 far comprise scrape surface sieve position receive wort boil kettle operable remove solid wort . 12 . system claim 7 far comprise : hold tank position receive heat wort boil kettle flow control valve position outlet boil kettle hold tank ; discharge pump operable direct wort hold tank . hold tank position receive heat wort boil kettle ; flow control valve position outlet boil kettle hold tank ; discharge pump operable direct wort hold tank . 13 . method create wort use brew process , method comprise step : mill supply grain fine particle ; mix mill supply grain water form slurry ; direct slurry steam injection heater heat slurry create mash . mill supply grain fine particle ; mix mill supply grain water form slurry ; direct slurry steam injection heater heat slurry create mash . 14 . method claim 13 far comprise step : receive mash end stratify storage vessel ; retain mash within stratify storage vessel . receive mash end stratify storage vessel ; retain mash within stratify storage vessel . 15 . method claim 14 far comprise step remove mash 2 end stratify storage vessel direct mash filtration unit remove coarse particle mash create liquid wort . 16 . method claim 14 far comprise step : receive wort within open interior boil kettle remove wort boil kettle heat wort 2 steam injection heater return heat wort open interior boil kettle ; direct wort open interior boil kettle use fermentation process brew . receive wort within open interior boil kettle ; remove wort boil kettle heat wort 2 steam injection heater ; return heat wort open interior boil kettle ; direct wort open interior boil kettle use fermentation process brew . 17 . method claim 14 wherein stratify storage vessel stack coil pipe extend end 2 end , wherein stack coil prevent mix mash within stack coil . 18 . method claim 16 far comprise step direct spray brew liquor onto wort within open interior boil kettle reduce foam . 19 . method claim 18 wherein spray brew liquor direct spray head position within open interior boil kettle . 20 . method claim 16 far comprise step direct wort boil kettle scrape surface sieve , wherein scrape surface sieve operate remove solid wort . 21 . system reduce foam boil kettle , comprise : spray head position near upper end boil kettle ; supply brew liquor connect spray head ; flow control valve operable allow supply brew liquor pass spray head ; little one flow sensor operable measure amount brew liquor direct boil kettle spray head . spray head position near upper end boil kettle ; supply brew liquor connect spray head ; flow control valve operable allow supply brew liquor pass spray head ; little one flow sensor operable measure amount brew liquor direct boil kettle spray head . 22 . system claim 21 wherein spray head include plurality nozzle . \"'"
            ]
          },
          "metadata": {
            "tags": []
          },
          "execution_count": 154
        }
      ]
    },
    {
      "cell_type": "code",
      "metadata": {
        "id": "Goy28R-fpJOF",
        "colab_type": "code",
        "outputId": "d80523fb-d4ce-41d6-9595-939ec8859c06",
        "colab": {
          "base_uri": "https://localhost:8080/",
          "height": 135
        }
      },
      "source": [
        "a= \"\\ufeff1\"\n",
        "\\\\u03b4\n",
        "str = \"a23b\\\\u00a0-\\\\u 00a0a23j \"\n",
        "\"c12c1/00\\\\u00a0-\\\\u00a0c12c12/04\n",
        "a.encode(\"utf-\")"
      ],
      "execution_count": 0,
      "outputs": [
        {
          "output_type": "error",
          "ename": "SyntaxError",
          "evalue": "ignored",
          "traceback": [
            "\u001b[0;36m  File \u001b[0;32m\"<ipython-input-43-101081d5b97b>\"\u001b[0;36m, line \u001b[0;32m2\u001b[0m\n\u001b[0;31m    \\\\u03b4\u001b[0m\n\u001b[0m           ^\u001b[0m\n\u001b[0;31mSyntaxError\u001b[0m\u001b[0;31m:\u001b[0m unexpected character after line continuation character\n"
          ]
        }
      ]
    },
    {
      "cell_type": "code",
      "metadata": {
        "id": "lni_S6LynIKn",
        "colab_type": "code",
        "outputId": "91b202fe-6a8f-4317-bf32-cd1006555e71",
        "colab": {
          "base_uri": "https://localhost:8080/",
          "height": 35
        }
      },
      "source": [
        "import re\n",
        "str1 = \"a23b\\u00a0 ' \\\\u00a0a23j\"\n",
        "str = \"Ilovedlockinglovers\"\n",
        "result = re.findall('[^A-Za-z0-9]+',str1)\n",
        "(result)"
      ],
      "execution_count": 0,
      "outputs": [
        {
          "output_type": "execute_result",
          "data": {
            "text/plain": [
              "[\"\\xa0 ' \\\\\"]"
            ]
          },
          "metadata": {
            "tags": []
          },
          "execution_count": 151
        }
      ]
    },
    {
      "cell_type": "code",
      "metadata": {
        "id": "7EH_7zOar8V0",
        "colab_type": "code",
        "outputId": "ec0ad7d2-eb8c-4ea3-a067-d329831bb2ea",
        "colab": {
          "base_uri": "https://localhost:8080/",
          "height": 35
        }
      },
      "source": [
        "\"\\\\\" in r\"%r\" % str1"
      ],
      "execution_count": 0,
      "outputs": [
        {
          "output_type": "execute_result",
          "data": {
            "text/plain": [
              "True"
            ]
          },
          "metadata": {
            "tags": []
          },
          "execution_count": 150
        }
      ]
    },
    {
      "cell_type": "code",
      "metadata": {
        "id": "3pCdH6qtvoPk",
        "colab_type": "code",
        "colab": {}
      },
      "source": [
        "s = r\"u\""
      ],
      "execution_count": 0,
      "outputs": []
    },
    {
      "cell_type": "code",
      "metadata": {
        "id": "zGDtkcvqmLD-",
        "colab_type": "code",
        "outputId": "9655a7cb-e299-4b0a-954f-a42111bc10de",
        "colab": {
          "base_uri": "https://localhost:8080/",
          "height": 35
        }
      },
      "source": [
        "s"
      ],
      "execution_count": 0,
      "outputs": [
        {
          "output_type": "execute_result",
          "data": {
            "text/plain": [
              "'u'"
            ]
          },
          "metadata": {
            "tags": []
          },
          "execution_count": 149
        }
      ]
    },
    {
      "cell_type": "code",
      "metadata": {
        "id": "AfhCOr0Ynja_",
        "colab_type": "code",
        "colab": {}
      },
      "source": [
        ""
      ],
      "execution_count": 0,
      "outputs": []
    }
  ]
}