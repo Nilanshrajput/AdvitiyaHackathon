{
  "nbformat": 4,
  "nbformat_minor": 0,
  "metadata": {
    "kernelspec": {
      "name": "python3",
      "display_name": "Python 3"
    },
    "language_info": {
      "codemirror_mode": {
        "name": "ipython",
        "version": 3
      },
      "file_extension": ".py",
      "mimetype": "text/x-python",
      "name": "python",
      "nbconvert_exporter": "python",
      "pygments_lexer": "ipython3",
      "version": "3.6.9"
    },
    "colab": {
      "name": "Scrapper.ipynb",
      "provenance": [],
      "include_colab_link": true
    },
    "accelerator": "GPU",
    "widgets": {
      "application/vnd.jupyter.widget-state+json": {
        "a6147ad18ab841a1955993b93aaf2d25": {
          "model_module": "@jupyter-widgets/controls",
          "model_name": "HBoxModel",
          "state": {
            "_view_name": "HBoxView",
            "_dom_classes": [],
            "_model_name": "HBoxModel",
            "_view_module": "@jupyter-widgets/controls",
            "_model_module_version": "1.5.0",
            "_view_count": null,
            "_view_module_version": "1.5.0",
            "box_style": "",
            "layout": "IPY_MODEL_1b45067f040b4631a852ef98fbd0c45a",
            "_model_module": "@jupyter-widgets/controls",
            "children": [
              "IPY_MODEL_cd96a6f3ce4c4c9087cd73d1a4d6d631",
              "IPY_MODEL_bc35e25fff174e7dbfcd17a22bb86dbd"
            ]
          }
        },
        "1b45067f040b4631a852ef98fbd0c45a": {
          "model_module": "@jupyter-widgets/base",
          "model_name": "LayoutModel",
          "state": {
            "_view_name": "LayoutView",
            "grid_template_rows": null,
            "right": null,
            "justify_content": null,
            "_view_module": "@jupyter-widgets/base",
            "overflow": null,
            "_model_module_version": "1.2.0",
            "_view_count": null,
            "flex_flow": null,
            "width": null,
            "min_width": null,
            "border": null,
            "align_items": null,
            "bottom": null,
            "_model_module": "@jupyter-widgets/base",
            "top": null,
            "grid_column": null,
            "overflow_y": null,
            "overflow_x": null,
            "grid_auto_flow": null,
            "grid_area": null,
            "grid_template_columns": null,
            "flex": null,
            "_model_name": "LayoutModel",
            "justify_items": null,
            "grid_row": null,
            "max_height": null,
            "align_content": null,
            "visibility": null,
            "align_self": null,
            "height": null,
            "min_height": null,
            "padding": null,
            "grid_auto_rows": null,
            "grid_gap": null,
            "max_width": null,
            "order": null,
            "_view_module_version": "1.2.0",
            "grid_template_areas": null,
            "object_position": null,
            "object_fit": null,
            "grid_auto_columns": null,
            "margin": null,
            "display": null,
            "left": null
          }
        },
        "cd96a6f3ce4c4c9087cd73d1a4d6d631": {
          "model_module": "@jupyter-widgets/controls",
          "model_name": "IntProgressModel",
          "state": {
            "_view_name": "ProgressView",
            "style": "IPY_MODEL_421fc4d6064e4aafb61fb78eef5eba3d",
            "_dom_classes": [],
            "description": "wabalabadubdub",
            "_model_name": "IntProgressModel",
            "bar_style": "success",
            "max": 3,
            "_view_module": "@jupyter-widgets/controls",
            "_model_module_version": "1.5.0",
            "value": 3,
            "_view_count": null,
            "_view_module_version": "1.5.0",
            "orientation": "horizontal",
            "min": 0,
            "description_tooltip": null,
            "_model_module": "@jupyter-widgets/controls",
            "layout": "IPY_MODEL_8aeab968ee99409fabe86a833e052f1c"
          }
        },
        "bc35e25fff174e7dbfcd17a22bb86dbd": {
          "model_module": "@jupyter-widgets/controls",
          "model_name": "HTMLModel",
          "state": {
            "_view_name": "HTMLView",
            "style": "IPY_MODEL_9ac62592d7704bdc8370e517c251932b",
            "_dom_classes": [],
            "description": "",
            "_model_name": "HTMLModel",
            "placeholder": "​",
            "_view_module": "@jupyter-widgets/controls",
            "_model_module_version": "1.5.0",
            "value": "100% 3/3 [00:00&lt;00:00,  8.61it/s]",
            "_view_count": null,
            "_view_module_version": "1.5.0",
            "description_tooltip": null,
            "_model_module": "@jupyter-widgets/controls",
            "layout": "IPY_MODEL_3233786988f84680a1e8ebfd26ebe423"
          }
        },
        "421fc4d6064e4aafb61fb78eef5eba3d": {
          "model_module": "@jupyter-widgets/controls",
          "model_name": "ProgressStyleModel",
          "state": {
            "_view_name": "StyleView",
            "_model_name": "ProgressStyleModel",
            "description_width": "initial",
            "_view_module": "@jupyter-widgets/base",
            "_model_module_version": "1.5.0",
            "_view_count": null,
            "_view_module_version": "1.2.0",
            "bar_color": null,
            "_model_module": "@jupyter-widgets/controls"
          }
        },
        "8aeab968ee99409fabe86a833e052f1c": {
          "model_module": "@jupyter-widgets/base",
          "model_name": "LayoutModel",
          "state": {
            "_view_name": "LayoutView",
            "grid_template_rows": null,
            "right": null,
            "justify_content": null,
            "_view_module": "@jupyter-widgets/base",
            "overflow": null,
            "_model_module_version": "1.2.0",
            "_view_count": null,
            "flex_flow": null,
            "width": null,
            "min_width": null,
            "border": null,
            "align_items": null,
            "bottom": null,
            "_model_module": "@jupyter-widgets/base",
            "top": null,
            "grid_column": null,
            "overflow_y": null,
            "overflow_x": null,
            "grid_auto_flow": null,
            "grid_area": null,
            "grid_template_columns": null,
            "flex": null,
            "_model_name": "LayoutModel",
            "justify_items": null,
            "grid_row": null,
            "max_height": null,
            "align_content": null,
            "visibility": null,
            "align_self": null,
            "height": null,
            "min_height": null,
            "padding": null,
            "grid_auto_rows": null,
            "grid_gap": null,
            "max_width": null,
            "order": null,
            "_view_module_version": "1.2.0",
            "grid_template_areas": null,
            "object_position": null,
            "object_fit": null,
            "grid_auto_columns": null,
            "margin": null,
            "display": null,
            "left": null
          }
        },
        "9ac62592d7704bdc8370e517c251932b": {
          "model_module": "@jupyter-widgets/controls",
          "model_name": "DescriptionStyleModel",
          "state": {
            "_view_name": "StyleView",
            "_model_name": "DescriptionStyleModel",
            "description_width": "",
            "_view_module": "@jupyter-widgets/base",
            "_model_module_version": "1.5.0",
            "_view_count": null,
            "_view_module_version": "1.2.0",
            "_model_module": "@jupyter-widgets/controls"
          }
        },
        "3233786988f84680a1e8ebfd26ebe423": {
          "model_module": "@jupyter-widgets/base",
          "model_name": "LayoutModel",
          "state": {
            "_view_name": "LayoutView",
            "grid_template_rows": null,
            "right": null,
            "justify_content": null,
            "_view_module": "@jupyter-widgets/base",
            "overflow": null,
            "_model_module_version": "1.2.0",
            "_view_count": null,
            "flex_flow": null,
            "width": null,
            "min_width": null,
            "border": null,
            "align_items": null,
            "bottom": null,
            "_model_module": "@jupyter-widgets/base",
            "top": null,
            "grid_column": null,
            "overflow_y": null,
            "overflow_x": null,
            "grid_auto_flow": null,
            "grid_area": null,
            "grid_template_columns": null,
            "flex": null,
            "_model_name": "LayoutModel",
            "justify_items": null,
            "grid_row": null,
            "max_height": null,
            "align_content": null,
            "visibility": null,
            "align_self": null,
            "height": null,
            "min_height": null,
            "padding": null,
            "grid_auto_rows": null,
            "grid_gap": null,
            "max_width": null,
            "order": null,
            "_view_module_version": "1.2.0",
            "grid_template_areas": null,
            "object_position": null,
            "object_fit": null,
            "grid_auto_columns": null,
            "margin": null,
            "display": null,
            "left": null
          }
        },
        "7a968d430e3a44a5bd6855229121a541": {
          "model_module": "@jupyter-widgets/controls",
          "model_name": "HBoxModel",
          "state": {
            "_view_name": "HBoxView",
            "_dom_classes": [],
            "_model_name": "HBoxModel",
            "_view_module": "@jupyter-widgets/controls",
            "_model_module_version": "1.5.0",
            "_view_count": null,
            "_view_module_version": "1.5.0",
            "box_style": "",
            "layout": "IPY_MODEL_26178149141d4d178d4699c1ee15c366",
            "_model_module": "@jupyter-widgets/controls",
            "children": [
              "IPY_MODEL_b5483803e2614e419e23a9f1f8d64064",
              "IPY_MODEL_b18133bae63047c8b1b9070f4f0c0236"
            ]
          }
        },
        "26178149141d4d178d4699c1ee15c366": {
          "model_module": "@jupyter-widgets/base",
          "model_name": "LayoutModel",
          "state": {
            "_view_name": "LayoutView",
            "grid_template_rows": null,
            "right": null,
            "justify_content": null,
            "_view_module": "@jupyter-widgets/base",
            "overflow": null,
            "_model_module_version": "1.2.0",
            "_view_count": null,
            "flex_flow": null,
            "width": null,
            "min_width": null,
            "border": null,
            "align_items": null,
            "bottom": null,
            "_model_module": "@jupyter-widgets/base",
            "top": null,
            "grid_column": null,
            "overflow_y": null,
            "overflow_x": null,
            "grid_auto_flow": null,
            "grid_area": null,
            "grid_template_columns": null,
            "flex": null,
            "_model_name": "LayoutModel",
            "justify_items": null,
            "grid_row": null,
            "max_height": null,
            "align_content": null,
            "visibility": null,
            "align_self": null,
            "height": null,
            "min_height": null,
            "padding": null,
            "grid_auto_rows": null,
            "grid_gap": null,
            "max_width": null,
            "order": null,
            "_view_module_version": "1.2.0",
            "grid_template_areas": null,
            "object_position": null,
            "object_fit": null,
            "grid_auto_columns": null,
            "margin": null,
            "display": null,
            "left": null
          }
        },
        "b5483803e2614e419e23a9f1f8d64064": {
          "model_module": "@jupyter-widgets/controls",
          "model_name": "IntProgressModel",
          "state": {
            "_view_name": "ProgressView",
            "style": "IPY_MODEL_f352e18b1cfc41deb1ea16fb508a2276",
            "_dom_classes": [],
            "description": "CatList",
            "_model_name": "IntProgressModel",
            "bar_style": "success",
            "max": 4,
            "_view_module": "@jupyter-widgets/controls",
            "_model_module_version": "1.5.0",
            "value": 4,
            "_view_count": null,
            "_view_module_version": "1.5.0",
            "orientation": "horizontal",
            "min": 0,
            "description_tooltip": null,
            "_model_module": "@jupyter-widgets/controls",
            "layout": "IPY_MODEL_3ce8b705ebc641afb365d905db208120"
          }
        },
        "b18133bae63047c8b1b9070f4f0c0236": {
          "model_module": "@jupyter-widgets/controls",
          "model_name": "HTMLModel",
          "state": {
            "_view_name": "HTMLView",
            "style": "IPY_MODEL_0ae56e41357a4b9292be8098877cb1fd",
            "_dom_classes": [],
            "description": "",
            "_model_name": "HTMLModel",
            "placeholder": "​",
            "_view_module": "@jupyter-widgets/controls",
            "_model_module_version": "1.5.0",
            "value": "100% 4/4 [00:40&lt;00:00, 10.44s/it]",
            "_view_count": null,
            "_view_module_version": "1.5.0",
            "description_tooltip": null,
            "_model_module": "@jupyter-widgets/controls",
            "layout": "IPY_MODEL_e318b388cc7e42b483b5b29361094e89"
          }
        },
        "f352e18b1cfc41deb1ea16fb508a2276": {
          "model_module": "@jupyter-widgets/controls",
          "model_name": "ProgressStyleModel",
          "state": {
            "_view_name": "StyleView",
            "_model_name": "ProgressStyleModel",
            "description_width": "initial",
            "_view_module": "@jupyter-widgets/base",
            "_model_module_version": "1.5.0",
            "_view_count": null,
            "_view_module_version": "1.2.0",
            "bar_color": null,
            "_model_module": "@jupyter-widgets/controls"
          }
        },
        "3ce8b705ebc641afb365d905db208120": {
          "model_module": "@jupyter-widgets/base",
          "model_name": "LayoutModel",
          "state": {
            "_view_name": "LayoutView",
            "grid_template_rows": null,
            "right": null,
            "justify_content": null,
            "_view_module": "@jupyter-widgets/base",
            "overflow": null,
            "_model_module_version": "1.2.0",
            "_view_count": null,
            "flex_flow": null,
            "width": null,
            "min_width": null,
            "border": null,
            "align_items": null,
            "bottom": null,
            "_model_module": "@jupyter-widgets/base",
            "top": null,
            "grid_column": null,
            "overflow_y": null,
            "overflow_x": null,
            "grid_auto_flow": null,
            "grid_area": null,
            "grid_template_columns": null,
            "flex": null,
            "_model_name": "LayoutModel",
            "justify_items": null,
            "grid_row": null,
            "max_height": null,
            "align_content": null,
            "visibility": null,
            "align_self": null,
            "height": null,
            "min_height": null,
            "padding": null,
            "grid_auto_rows": null,
            "grid_gap": null,
            "max_width": null,
            "order": null,
            "_view_module_version": "1.2.0",
            "grid_template_areas": null,
            "object_position": null,
            "object_fit": null,
            "grid_auto_columns": null,
            "margin": null,
            "display": null,
            "left": null
          }
        },
        "0ae56e41357a4b9292be8098877cb1fd": {
          "model_module": "@jupyter-widgets/controls",
          "model_name": "DescriptionStyleModel",
          "state": {
            "_view_name": "StyleView",
            "_model_name": "DescriptionStyleModel",
            "description_width": "",
            "_view_module": "@jupyter-widgets/base",
            "_model_module_version": "1.5.0",
            "_view_count": null,
            "_view_module_version": "1.2.0",
            "_model_module": "@jupyter-widgets/controls"
          }
        },
        "e318b388cc7e42b483b5b29361094e89": {
          "model_module": "@jupyter-widgets/base",
          "model_name": "LayoutModel",
          "state": {
            "_view_name": "LayoutView",
            "grid_template_rows": null,
            "right": null,
            "justify_content": null,
            "_view_module": "@jupyter-widgets/base",
            "overflow": null,
            "_model_module_version": "1.2.0",
            "_view_count": null,
            "flex_flow": null,
            "width": null,
            "min_width": null,
            "border": null,
            "align_items": null,
            "bottom": null,
            "_model_module": "@jupyter-widgets/base",
            "top": null,
            "grid_column": null,
            "overflow_y": null,
            "overflow_x": null,
            "grid_auto_flow": null,
            "grid_area": null,
            "grid_template_columns": null,
            "flex": null,
            "_model_name": "LayoutModel",
            "justify_items": null,
            "grid_row": null,
            "max_height": null,
            "align_content": null,
            "visibility": null,
            "align_self": null,
            "height": null,
            "min_height": null,
            "padding": null,
            "grid_auto_rows": null,
            "grid_gap": null,
            "max_width": null,
            "order": null,
            "_view_module_version": "1.2.0",
            "grid_template_areas": null,
            "object_position": null,
            "object_fit": null,
            "grid_auto_columns": null,
            "margin": null,
            "display": null,
            "left": null
          }
        },
        "15e6070763ac45a1b62e852b022ba9bf": {
          "model_module": "@jupyter-widgets/controls",
          "model_name": "HBoxModel",
          "state": {
            "_view_name": "HBoxView",
            "_dom_classes": [],
            "_model_name": "HBoxModel",
            "_view_module": "@jupyter-widgets/controls",
            "_model_module_version": "1.5.0",
            "_view_count": null,
            "_view_module_version": "1.5.0",
            "box_style": "",
            "layout": "IPY_MODEL_4a1d9000c4f941489a091eae8881fb2c",
            "_model_module": "@jupyter-widgets/controls",
            "children": [
              "IPY_MODEL_fca48dcd99654b27b2372b0dc2d044f8",
              "IPY_MODEL_1bdd6c67508940aea57c7fd1ceeb182e"
            ]
          }
        },
        "4a1d9000c4f941489a091eae8881fb2c": {
          "model_module": "@jupyter-widgets/base",
          "model_name": "LayoutModel",
          "state": {
            "_view_name": "LayoutView",
            "grid_template_rows": null,
            "right": null,
            "justify_content": null,
            "_view_module": "@jupyter-widgets/base",
            "overflow": null,
            "_model_module_version": "1.2.0",
            "_view_count": null,
            "flex_flow": null,
            "width": null,
            "min_width": null,
            "border": null,
            "align_items": null,
            "bottom": null,
            "_model_module": "@jupyter-widgets/base",
            "top": null,
            "grid_column": null,
            "overflow_y": null,
            "overflow_x": null,
            "grid_auto_flow": null,
            "grid_area": null,
            "grid_template_columns": null,
            "flex": null,
            "_model_name": "LayoutModel",
            "justify_items": null,
            "grid_row": null,
            "max_height": null,
            "align_content": null,
            "visibility": null,
            "align_self": null,
            "height": null,
            "min_height": null,
            "padding": null,
            "grid_auto_rows": null,
            "grid_gap": null,
            "max_width": null,
            "order": null,
            "_view_module_version": "1.2.0",
            "grid_template_areas": null,
            "object_position": null,
            "object_fit": null,
            "grid_auto_columns": null,
            "margin": null,
            "display": null,
            "left": null
          }
        },
        "fca48dcd99654b27b2372b0dc2d044f8": {
          "model_module": "@jupyter-widgets/controls",
          "model_name": "IntProgressModel",
          "state": {
            "_view_name": "ProgressView",
            "style": "IPY_MODEL_723d83a25336425fa5c78dcd5675166c",
            "_dom_classes": [],
            "description": "patents",
            "_model_name": "IntProgressModel",
            "bar_style": "success",
            "max": 20,
            "_view_module": "@jupyter-widgets/controls",
            "_model_module_version": "1.5.0",
            "value": 20,
            "_view_count": null,
            "_view_module_version": "1.5.0",
            "orientation": "horizontal",
            "min": 0,
            "description_tooltip": null,
            "_model_module": "@jupyter-widgets/controls",
            "layout": "IPY_MODEL_b01bce8fbe7a458fae42f81de877f8db"
          }
        },
        "1bdd6c67508940aea57c7fd1ceeb182e": {
          "model_module": "@jupyter-widgets/controls",
          "model_name": "HTMLModel",
          "state": {
            "_view_name": "HTMLView",
            "style": "IPY_MODEL_8862acc243884748a095b177c911459e",
            "_dom_classes": [],
            "description": "",
            "_model_name": "HTMLModel",
            "placeholder": "​",
            "_view_module": "@jupyter-widgets/controls",
            "_model_module_version": "1.5.0",
            "value": "100% 20/20 [00:11&lt;00:00,  3.85it/s]",
            "_view_count": null,
            "_view_module_version": "1.5.0",
            "description_tooltip": null,
            "_model_module": "@jupyter-widgets/controls",
            "layout": "IPY_MODEL_970417e51bf74bd2abfa11577b195176"
          }
        },
        "723d83a25336425fa5c78dcd5675166c": {
          "model_module": "@jupyter-widgets/controls",
          "model_name": "ProgressStyleModel",
          "state": {
            "_view_name": "StyleView",
            "_model_name": "ProgressStyleModel",
            "description_width": "initial",
            "_view_module": "@jupyter-widgets/base",
            "_model_module_version": "1.5.0",
            "_view_count": null,
            "_view_module_version": "1.2.0",
            "bar_color": null,
            "_model_module": "@jupyter-widgets/controls"
          }
        },
        "b01bce8fbe7a458fae42f81de877f8db": {
          "model_module": "@jupyter-widgets/base",
          "model_name": "LayoutModel",
          "state": {
            "_view_name": "LayoutView",
            "grid_template_rows": null,
            "right": null,
            "justify_content": null,
            "_view_module": "@jupyter-widgets/base",
            "overflow": null,
            "_model_module_version": "1.2.0",
            "_view_count": null,
            "flex_flow": null,
            "width": null,
            "min_width": null,
            "border": null,
            "align_items": null,
            "bottom": null,
            "_model_module": "@jupyter-widgets/base",
            "top": null,
            "grid_column": null,
            "overflow_y": null,
            "overflow_x": null,
            "grid_auto_flow": null,
            "grid_area": null,
            "grid_template_columns": null,
            "flex": null,
            "_model_name": "LayoutModel",
            "justify_items": null,
            "grid_row": null,
            "max_height": null,
            "align_content": null,
            "visibility": null,
            "align_self": null,
            "height": null,
            "min_height": null,
            "padding": null,
            "grid_auto_rows": null,
            "grid_gap": null,
            "max_width": null,
            "order": null,
            "_view_module_version": "1.2.0",
            "grid_template_areas": null,
            "object_position": null,
            "object_fit": null,
            "grid_auto_columns": null,
            "margin": null,
            "display": null,
            "left": null
          }
        },
        "8862acc243884748a095b177c911459e": {
          "model_module": "@jupyter-widgets/controls",
          "model_name": "DescriptionStyleModel",
          "state": {
            "_view_name": "StyleView",
            "_model_name": "DescriptionStyleModel",
            "description_width": "",
            "_view_module": "@jupyter-widgets/base",
            "_model_module_version": "1.5.0",
            "_view_count": null,
            "_view_module_version": "1.2.0",
            "_model_module": "@jupyter-widgets/controls"
          }
        },
        "970417e51bf74bd2abfa11577b195176": {
          "model_module": "@jupyter-widgets/base",
          "model_name": "LayoutModel",
          "state": {
            "_view_name": "LayoutView",
            "grid_template_rows": null,
            "right": null,
            "justify_content": null,
            "_view_module": "@jupyter-widgets/base",
            "overflow": null,
            "_model_module_version": "1.2.0",
            "_view_count": null,
            "flex_flow": null,
            "width": null,
            "min_width": null,
            "border": null,
            "align_items": null,
            "bottom": null,
            "_model_module": "@jupyter-widgets/base",
            "top": null,
            "grid_column": null,
            "overflow_y": null,
            "overflow_x": null,
            "grid_auto_flow": null,
            "grid_area": null,
            "grid_template_columns": null,
            "flex": null,
            "_model_name": "LayoutModel",
            "justify_items": null,
            "grid_row": null,
            "max_height": null,
            "align_content": null,
            "visibility": null,
            "align_self": null,
            "height": null,
            "min_height": null,
            "padding": null,
            "grid_auto_rows": null,
            "grid_gap": null,
            "max_width": null,
            "order": null,
            "_view_module_version": "1.2.0",
            "grid_template_areas": null,
            "object_position": null,
            "object_fit": null,
            "grid_auto_columns": null,
            "margin": null,
            "display": null,
            "left": null
          }
        },
        "faa5521fd4c841299854a33b575b5797": {
          "model_module": "@jupyter-widgets/controls",
          "model_name": "HBoxModel",
          "state": {
            "_view_name": "HBoxView",
            "_dom_classes": [],
            "_model_name": "HBoxModel",
            "_view_module": "@jupyter-widgets/controls",
            "_model_module_version": "1.5.0",
            "_view_count": null,
            "_view_module_version": "1.5.0",
            "box_style": "",
            "layout": "IPY_MODEL_3ee06d1d544940c6999e41541c462fbb",
            "_model_module": "@jupyter-widgets/controls",
            "children": [
              "IPY_MODEL_81a65d39618e4668b62147f16f437c7f",
              "IPY_MODEL_f23e28bd16114757894798d903a803df"
            ]
          }
        },
        "3ee06d1d544940c6999e41541c462fbb": {
          "model_module": "@jupyter-widgets/base",
          "model_name": "LayoutModel",
          "state": {
            "_view_name": "LayoutView",
            "grid_template_rows": null,
            "right": null,
            "justify_content": null,
            "_view_module": "@jupyter-widgets/base",
            "overflow": null,
            "_model_module_version": "1.2.0",
            "_view_count": null,
            "flex_flow": null,
            "width": null,
            "min_width": null,
            "border": null,
            "align_items": null,
            "bottom": null,
            "_model_module": "@jupyter-widgets/base",
            "top": null,
            "grid_column": null,
            "overflow_y": null,
            "overflow_x": null,
            "grid_auto_flow": null,
            "grid_area": null,
            "grid_template_columns": null,
            "flex": null,
            "_model_name": "LayoutModel",
            "justify_items": null,
            "grid_row": null,
            "max_height": null,
            "align_content": null,
            "visibility": null,
            "align_self": null,
            "height": null,
            "min_height": null,
            "padding": null,
            "grid_auto_rows": null,
            "grid_gap": null,
            "max_width": null,
            "order": null,
            "_view_module_version": "1.2.0",
            "grid_template_areas": null,
            "object_position": null,
            "object_fit": null,
            "grid_auto_columns": null,
            "margin": null,
            "display": null,
            "left": null
          }
        },
        "81a65d39618e4668b62147f16f437c7f": {
          "model_module": "@jupyter-widgets/controls",
          "model_name": "IntProgressModel",
          "state": {
            "_view_name": "ProgressView",
            "style": "IPY_MODEL_ae01157c67964f97bc8a9ae28774ad24",
            "_dom_classes": [],
            "description": "patents",
            "_model_name": "IntProgressModel",
            "bar_style": "success",
            "max": 20,
            "_view_module": "@jupyter-widgets/controls",
            "_model_module_version": "1.5.0",
            "value": 20,
            "_view_count": null,
            "_view_module_version": "1.5.0",
            "orientation": "horizontal",
            "min": 0,
            "description_tooltip": null,
            "_model_module": "@jupyter-widgets/controls",
            "layout": "IPY_MODEL_aca02f08bd4f4bbea2e70b2e4a7eb36f"
          }
        },
        "f23e28bd16114757894798d903a803df": {
          "model_module": "@jupyter-widgets/controls",
          "model_name": "HTMLModel",
          "state": {
            "_view_name": "HTMLView",
            "style": "IPY_MODEL_928b0fb52860412e9838f366c8af6609",
            "_dom_classes": [],
            "description": "",
            "_model_name": "HTMLModel",
            "placeholder": "​",
            "_view_module": "@jupyter-widgets/controls",
            "_model_module_version": "1.5.0",
            "value": "100% 20/20 [00:08&lt;00:00,  3.53it/s]",
            "_view_count": null,
            "_view_module_version": "1.5.0",
            "description_tooltip": null,
            "_model_module": "@jupyter-widgets/controls",
            "layout": "IPY_MODEL_1c8f84cea9f7445b9ddf666053c27eef"
          }
        },
        "ae01157c67964f97bc8a9ae28774ad24": {
          "model_module": "@jupyter-widgets/controls",
          "model_name": "ProgressStyleModel",
          "state": {
            "_view_name": "StyleView",
            "_model_name": "ProgressStyleModel",
            "description_width": "initial",
            "_view_module": "@jupyter-widgets/base",
            "_model_module_version": "1.5.0",
            "_view_count": null,
            "_view_module_version": "1.2.0",
            "bar_color": null,
            "_model_module": "@jupyter-widgets/controls"
          }
        },
        "aca02f08bd4f4bbea2e70b2e4a7eb36f": {
          "model_module": "@jupyter-widgets/base",
          "model_name": "LayoutModel",
          "state": {
            "_view_name": "LayoutView",
            "grid_template_rows": null,
            "right": null,
            "justify_content": null,
            "_view_module": "@jupyter-widgets/base",
            "overflow": null,
            "_model_module_version": "1.2.0",
            "_view_count": null,
            "flex_flow": null,
            "width": null,
            "min_width": null,
            "border": null,
            "align_items": null,
            "bottom": null,
            "_model_module": "@jupyter-widgets/base",
            "top": null,
            "grid_column": null,
            "overflow_y": null,
            "overflow_x": null,
            "grid_auto_flow": null,
            "grid_area": null,
            "grid_template_columns": null,
            "flex": null,
            "_model_name": "LayoutModel",
            "justify_items": null,
            "grid_row": null,
            "max_height": null,
            "align_content": null,
            "visibility": null,
            "align_self": null,
            "height": null,
            "min_height": null,
            "padding": null,
            "grid_auto_rows": null,
            "grid_gap": null,
            "max_width": null,
            "order": null,
            "_view_module_version": "1.2.0",
            "grid_template_areas": null,
            "object_position": null,
            "object_fit": null,
            "grid_auto_columns": null,
            "margin": null,
            "display": null,
            "left": null
          }
        },
        "928b0fb52860412e9838f366c8af6609": {
          "model_module": "@jupyter-widgets/controls",
          "model_name": "DescriptionStyleModel",
          "state": {
            "_view_name": "StyleView",
            "_model_name": "DescriptionStyleModel",
            "description_width": "",
            "_view_module": "@jupyter-widgets/base",
            "_model_module_version": "1.5.0",
            "_view_count": null,
            "_view_module_version": "1.2.0",
            "_model_module": "@jupyter-widgets/controls"
          }
        },
        "1c8f84cea9f7445b9ddf666053c27eef": {
          "model_module": "@jupyter-widgets/base",
          "model_name": "LayoutModel",
          "state": {
            "_view_name": "LayoutView",
            "grid_template_rows": null,
            "right": null,
            "justify_content": null,
            "_view_module": "@jupyter-widgets/base",
            "overflow": null,
            "_model_module_version": "1.2.0",
            "_view_count": null,
            "flex_flow": null,
            "width": null,
            "min_width": null,
            "border": null,
            "align_items": null,
            "bottom": null,
            "_model_module": "@jupyter-widgets/base",
            "top": null,
            "grid_column": null,
            "overflow_y": null,
            "overflow_x": null,
            "grid_auto_flow": null,
            "grid_area": null,
            "grid_template_columns": null,
            "flex": null,
            "_model_name": "LayoutModel",
            "justify_items": null,
            "grid_row": null,
            "max_height": null,
            "align_content": null,
            "visibility": null,
            "align_self": null,
            "height": null,
            "min_height": null,
            "padding": null,
            "grid_auto_rows": null,
            "grid_gap": null,
            "max_width": null,
            "order": null,
            "_view_module_version": "1.2.0",
            "grid_template_areas": null,
            "object_position": null,
            "object_fit": null,
            "grid_auto_columns": null,
            "margin": null,
            "display": null,
            "left": null
          }
        },
        "4b8c89cc0f254aa08d4423265552a819": {
          "model_module": "@jupyter-widgets/controls",
          "model_name": "HBoxModel",
          "state": {
            "_view_name": "HBoxView",
            "_dom_classes": [],
            "_model_name": "HBoxModel",
            "_view_module": "@jupyter-widgets/controls",
            "_model_module_version": "1.5.0",
            "_view_count": null,
            "_view_module_version": "1.5.0",
            "box_style": "",
            "layout": "IPY_MODEL_aaff3ee141974f0b8152927ee3e44bca",
            "_model_module": "@jupyter-widgets/controls",
            "children": [
              "IPY_MODEL_13a4ac494a994a10ad3f9e2c0c5fd1a4",
              "IPY_MODEL_b52017e01648423c9aad7aeded4ed1ad"
            ]
          }
        },
        "aaff3ee141974f0b8152927ee3e44bca": {
          "model_module": "@jupyter-widgets/base",
          "model_name": "LayoutModel",
          "state": {
            "_view_name": "LayoutView",
            "grid_template_rows": null,
            "right": null,
            "justify_content": null,
            "_view_module": "@jupyter-widgets/base",
            "overflow": null,
            "_model_module_version": "1.2.0",
            "_view_count": null,
            "flex_flow": null,
            "width": null,
            "min_width": null,
            "border": null,
            "align_items": null,
            "bottom": null,
            "_model_module": "@jupyter-widgets/base",
            "top": null,
            "grid_column": null,
            "overflow_y": null,
            "overflow_x": null,
            "grid_auto_flow": null,
            "grid_area": null,
            "grid_template_columns": null,
            "flex": null,
            "_model_name": "LayoutModel",
            "justify_items": null,
            "grid_row": null,
            "max_height": null,
            "align_content": null,
            "visibility": null,
            "align_self": null,
            "height": null,
            "min_height": null,
            "padding": null,
            "grid_auto_rows": null,
            "grid_gap": null,
            "max_width": null,
            "order": null,
            "_view_module_version": "1.2.0",
            "grid_template_areas": null,
            "object_position": null,
            "object_fit": null,
            "grid_auto_columns": null,
            "margin": null,
            "display": null,
            "left": null
          }
        },
        "13a4ac494a994a10ad3f9e2c0c5fd1a4": {
          "model_module": "@jupyter-widgets/controls",
          "model_name": "IntProgressModel",
          "state": {
            "_view_name": "ProgressView",
            "style": "IPY_MODEL_04c9a9fb6f2f4a78836114a5e6c163e0",
            "_dom_classes": [],
            "description": "patents",
            "_model_name": "IntProgressModel",
            "bar_style": "success",
            "max": 20,
            "_view_module": "@jupyter-widgets/controls",
            "_model_module_version": "1.5.0",
            "value": 20,
            "_view_count": null,
            "_view_module_version": "1.5.0",
            "orientation": "horizontal",
            "min": 0,
            "description_tooltip": null,
            "_model_module": "@jupyter-widgets/controls",
            "layout": "IPY_MODEL_921943ac6628410ba49e401b71a06255"
          }
        },
        "b52017e01648423c9aad7aeded4ed1ad": {
          "model_module": "@jupyter-widgets/controls",
          "model_name": "HTMLModel",
          "state": {
            "_view_name": "HTMLView",
            "style": "IPY_MODEL_a2bbb8601a3f49b7a2da3c0fc565e9ca",
            "_dom_classes": [],
            "description": "",
            "_model_name": "HTMLModel",
            "placeholder": "​",
            "_view_module": "@jupyter-widgets/controls",
            "_model_module_version": "1.5.0",
            "value": "100% 20/20 [00:11&lt;00:00,  3.65it/s]",
            "_view_count": null,
            "_view_module_version": "1.5.0",
            "description_tooltip": null,
            "_model_module": "@jupyter-widgets/controls",
            "layout": "IPY_MODEL_b883d9aa4d234bd0a3650f1a4ffecec8"
          }
        },
        "04c9a9fb6f2f4a78836114a5e6c163e0": {
          "model_module": "@jupyter-widgets/controls",
          "model_name": "ProgressStyleModel",
          "state": {
            "_view_name": "StyleView",
            "_model_name": "ProgressStyleModel",
            "description_width": "initial",
            "_view_module": "@jupyter-widgets/base",
            "_model_module_version": "1.5.0",
            "_view_count": null,
            "_view_module_version": "1.2.0",
            "bar_color": null,
            "_model_module": "@jupyter-widgets/controls"
          }
        },
        "921943ac6628410ba49e401b71a06255": {
          "model_module": "@jupyter-widgets/base",
          "model_name": "LayoutModel",
          "state": {
            "_view_name": "LayoutView",
            "grid_template_rows": null,
            "right": null,
            "justify_content": null,
            "_view_module": "@jupyter-widgets/base",
            "overflow": null,
            "_model_module_version": "1.2.0",
            "_view_count": null,
            "flex_flow": null,
            "width": null,
            "min_width": null,
            "border": null,
            "align_items": null,
            "bottom": null,
            "_model_module": "@jupyter-widgets/base",
            "top": null,
            "grid_column": null,
            "overflow_y": null,
            "overflow_x": null,
            "grid_auto_flow": null,
            "grid_area": null,
            "grid_template_columns": null,
            "flex": null,
            "_model_name": "LayoutModel",
            "justify_items": null,
            "grid_row": null,
            "max_height": null,
            "align_content": null,
            "visibility": null,
            "align_self": null,
            "height": null,
            "min_height": null,
            "padding": null,
            "grid_auto_rows": null,
            "grid_gap": null,
            "max_width": null,
            "order": null,
            "_view_module_version": "1.2.0",
            "grid_template_areas": null,
            "object_position": null,
            "object_fit": null,
            "grid_auto_columns": null,
            "margin": null,
            "display": null,
            "left": null
          }
        },
        "a2bbb8601a3f49b7a2da3c0fc565e9ca": {
          "model_module": "@jupyter-widgets/controls",
          "model_name": "DescriptionStyleModel",
          "state": {
            "_view_name": "StyleView",
            "_model_name": "DescriptionStyleModel",
            "description_width": "",
            "_view_module": "@jupyter-widgets/base",
            "_model_module_version": "1.5.0",
            "_view_count": null,
            "_view_module_version": "1.2.0",
            "_model_module": "@jupyter-widgets/controls"
          }
        },
        "b883d9aa4d234bd0a3650f1a4ffecec8": {
          "model_module": "@jupyter-widgets/base",
          "model_name": "LayoutModel",
          "state": {
            "_view_name": "LayoutView",
            "grid_template_rows": null,
            "right": null,
            "justify_content": null,
            "_view_module": "@jupyter-widgets/base",
            "overflow": null,
            "_model_module_version": "1.2.0",
            "_view_count": null,
            "flex_flow": null,
            "width": null,
            "min_width": null,
            "border": null,
            "align_items": null,
            "bottom": null,
            "_model_module": "@jupyter-widgets/base",
            "top": null,
            "grid_column": null,
            "overflow_y": null,
            "overflow_x": null,
            "grid_auto_flow": null,
            "grid_area": null,
            "grid_template_columns": null,
            "flex": null,
            "_model_name": "LayoutModel",
            "justify_items": null,
            "grid_row": null,
            "max_height": null,
            "align_content": null,
            "visibility": null,
            "align_self": null,
            "height": null,
            "min_height": null,
            "padding": null,
            "grid_auto_rows": null,
            "grid_gap": null,
            "max_width": null,
            "order": null,
            "_view_module_version": "1.2.0",
            "grid_template_areas": null,
            "object_position": null,
            "object_fit": null,
            "grid_auto_columns": null,
            "margin": null,
            "display": null,
            "left": null
          }
        },
        "9f7f5844dc374423bd0e7d8e609f0250": {
          "model_module": "@jupyter-widgets/controls",
          "model_name": "HBoxModel",
          "state": {
            "_view_name": "HBoxView",
            "_dom_classes": [],
            "_model_name": "HBoxModel",
            "_view_module": "@jupyter-widgets/controls",
            "_model_module_version": "1.5.0",
            "_view_count": null,
            "_view_module_version": "1.5.0",
            "box_style": "",
            "layout": "IPY_MODEL_337bb8868f5541569d8fa376ccddbe5f",
            "_model_module": "@jupyter-widgets/controls",
            "children": [
              "IPY_MODEL_e4029ff6dba64d2aaa1ac00e36927d5f",
              "IPY_MODEL_cfd6b8744f064d308e1802dfe23076ff"
            ]
          }
        },
        "337bb8868f5541569d8fa376ccddbe5f": {
          "model_module": "@jupyter-widgets/base",
          "model_name": "LayoutModel",
          "state": {
            "_view_name": "LayoutView",
            "grid_template_rows": null,
            "right": null,
            "justify_content": null,
            "_view_module": "@jupyter-widgets/base",
            "overflow": null,
            "_model_module_version": "1.2.0",
            "_view_count": null,
            "flex_flow": null,
            "width": null,
            "min_width": null,
            "border": null,
            "align_items": null,
            "bottom": null,
            "_model_module": "@jupyter-widgets/base",
            "top": null,
            "grid_column": null,
            "overflow_y": null,
            "overflow_x": null,
            "grid_auto_flow": null,
            "grid_area": null,
            "grid_template_columns": null,
            "flex": null,
            "_model_name": "LayoutModel",
            "justify_items": null,
            "grid_row": null,
            "max_height": null,
            "align_content": null,
            "visibility": null,
            "align_self": null,
            "height": null,
            "min_height": null,
            "padding": null,
            "grid_auto_rows": null,
            "grid_gap": null,
            "max_width": null,
            "order": null,
            "_view_module_version": "1.2.0",
            "grid_template_areas": null,
            "object_position": null,
            "object_fit": null,
            "grid_auto_columns": null,
            "margin": null,
            "display": null,
            "left": null
          }
        },
        "e4029ff6dba64d2aaa1ac00e36927d5f": {
          "model_module": "@jupyter-widgets/controls",
          "model_name": "IntProgressModel",
          "state": {
            "_view_name": "ProgressView",
            "style": "IPY_MODEL_01fd42e121c94de99b35879a5ee3ee37",
            "_dom_classes": [],
            "description": "patents",
            "_model_name": "IntProgressModel",
            "bar_style": "success",
            "max": 20,
            "_view_module": "@jupyter-widgets/controls",
            "_model_module_version": "1.5.0",
            "value": 20,
            "_view_count": null,
            "_view_module_version": "1.5.0",
            "orientation": "horizontal",
            "min": 0,
            "description_tooltip": null,
            "_model_module": "@jupyter-widgets/controls",
            "layout": "IPY_MODEL_de87b6032dfa409383b05099818f65a3"
          }
        },
        "cfd6b8744f064d308e1802dfe23076ff": {
          "model_module": "@jupyter-widgets/controls",
          "model_name": "HTMLModel",
          "state": {
            "_view_name": "HTMLView",
            "style": "IPY_MODEL_897cba4808b34987b7c8628e8e5a4841",
            "_dom_classes": [],
            "description": "",
            "_model_name": "HTMLModel",
            "placeholder": "​",
            "_view_module": "@jupyter-widgets/controls",
            "_model_module_version": "1.5.0",
            "value": "100% 20/20 [00:09&lt;00:00,  3.88it/s]",
            "_view_count": null,
            "_view_module_version": "1.5.0",
            "description_tooltip": null,
            "_model_module": "@jupyter-widgets/controls",
            "layout": "IPY_MODEL_9a12a9fd9f7a4ca28958bdb87d5001ba"
          }
        },
        "01fd42e121c94de99b35879a5ee3ee37": {
          "model_module": "@jupyter-widgets/controls",
          "model_name": "ProgressStyleModel",
          "state": {
            "_view_name": "StyleView",
            "_model_name": "ProgressStyleModel",
            "description_width": "initial",
            "_view_module": "@jupyter-widgets/base",
            "_model_module_version": "1.5.0",
            "_view_count": null,
            "_view_module_version": "1.2.0",
            "bar_color": null,
            "_model_module": "@jupyter-widgets/controls"
          }
        },
        "de87b6032dfa409383b05099818f65a3": {
          "model_module": "@jupyter-widgets/base",
          "model_name": "LayoutModel",
          "state": {
            "_view_name": "LayoutView",
            "grid_template_rows": null,
            "right": null,
            "justify_content": null,
            "_view_module": "@jupyter-widgets/base",
            "overflow": null,
            "_model_module_version": "1.2.0",
            "_view_count": null,
            "flex_flow": null,
            "width": null,
            "min_width": null,
            "border": null,
            "align_items": null,
            "bottom": null,
            "_model_module": "@jupyter-widgets/base",
            "top": null,
            "grid_column": null,
            "overflow_y": null,
            "overflow_x": null,
            "grid_auto_flow": null,
            "grid_area": null,
            "grid_template_columns": null,
            "flex": null,
            "_model_name": "LayoutModel",
            "justify_items": null,
            "grid_row": null,
            "max_height": null,
            "align_content": null,
            "visibility": null,
            "align_self": null,
            "height": null,
            "min_height": null,
            "padding": null,
            "grid_auto_rows": null,
            "grid_gap": null,
            "max_width": null,
            "order": null,
            "_view_module_version": "1.2.0",
            "grid_template_areas": null,
            "object_position": null,
            "object_fit": null,
            "grid_auto_columns": null,
            "margin": null,
            "display": null,
            "left": null
          }
        },
        "897cba4808b34987b7c8628e8e5a4841": {
          "model_module": "@jupyter-widgets/controls",
          "model_name": "DescriptionStyleModel",
          "state": {
            "_view_name": "StyleView",
            "_model_name": "DescriptionStyleModel",
            "description_width": "",
            "_view_module": "@jupyter-widgets/base",
            "_model_module_version": "1.5.0",
            "_view_count": null,
            "_view_module_version": "1.2.0",
            "_model_module": "@jupyter-widgets/controls"
          }
        },
        "9a12a9fd9f7a4ca28958bdb87d5001ba": {
          "model_module": "@jupyter-widgets/base",
          "model_name": "LayoutModel",
          "state": {
            "_view_name": "LayoutView",
            "grid_template_rows": null,
            "right": null,
            "justify_content": null,
            "_view_module": "@jupyter-widgets/base",
            "overflow": null,
            "_model_module_version": "1.2.0",
            "_view_count": null,
            "flex_flow": null,
            "width": null,
            "min_width": null,
            "border": null,
            "align_items": null,
            "bottom": null,
            "_model_module": "@jupyter-widgets/base",
            "top": null,
            "grid_column": null,
            "overflow_y": null,
            "overflow_x": null,
            "grid_auto_flow": null,
            "grid_area": null,
            "grid_template_columns": null,
            "flex": null,
            "_model_name": "LayoutModel",
            "justify_items": null,
            "grid_row": null,
            "max_height": null,
            "align_content": null,
            "visibility": null,
            "align_self": null,
            "height": null,
            "min_height": null,
            "padding": null,
            "grid_auto_rows": null,
            "grid_gap": null,
            "max_width": null,
            "order": null,
            "_view_module_version": "1.2.0",
            "grid_template_areas": null,
            "object_position": null,
            "object_fit": null,
            "grid_auto_columns": null,
            "margin": null,
            "display": null,
            "left": null
          }
        },
        "ac3b1f77f82e48569d599ce778460e64": {
          "model_module": "@jupyter-widgets/controls",
          "model_name": "HBoxModel",
          "state": {
            "_view_name": "HBoxView",
            "_dom_classes": [],
            "_model_name": "HBoxModel",
            "_view_module": "@jupyter-widgets/controls",
            "_model_module_version": "1.5.0",
            "_view_count": null,
            "_view_module_version": "1.5.0",
            "box_style": "",
            "layout": "IPY_MODEL_788ff8f24c7746f7aef5ab5c16b85fc2",
            "_model_module": "@jupyter-widgets/controls",
            "children": [
              "IPY_MODEL_51e861200f5d43979483d6deb4899898",
              "IPY_MODEL_c3399738d7954c0bba8864b431a9e2da"
            ]
          }
        },
        "788ff8f24c7746f7aef5ab5c16b85fc2": {
          "model_module": "@jupyter-widgets/base",
          "model_name": "LayoutModel",
          "state": {
            "_view_name": "LayoutView",
            "grid_template_rows": null,
            "right": null,
            "justify_content": null,
            "_view_module": "@jupyter-widgets/base",
            "overflow": null,
            "_model_module_version": "1.2.0",
            "_view_count": null,
            "flex_flow": null,
            "width": null,
            "min_width": null,
            "border": null,
            "align_items": null,
            "bottom": null,
            "_model_module": "@jupyter-widgets/base",
            "top": null,
            "grid_column": null,
            "overflow_y": null,
            "overflow_x": null,
            "grid_auto_flow": null,
            "grid_area": null,
            "grid_template_columns": null,
            "flex": null,
            "_model_name": "LayoutModel",
            "justify_items": null,
            "grid_row": null,
            "max_height": null,
            "align_content": null,
            "visibility": null,
            "align_self": null,
            "height": null,
            "min_height": null,
            "padding": null,
            "grid_auto_rows": null,
            "grid_gap": null,
            "max_width": null,
            "order": null,
            "_view_module_version": "1.2.0",
            "grid_template_areas": null,
            "object_position": null,
            "object_fit": null,
            "grid_auto_columns": null,
            "margin": null,
            "display": null,
            "left": null
          }
        },
        "51e861200f5d43979483d6deb4899898": {
          "model_module": "@jupyter-widgets/controls",
          "model_name": "IntProgressModel",
          "state": {
            "_view_name": "ProgressView",
            "style": "IPY_MODEL_be16a63a181746f78681a699b318b227",
            "_dom_classes": [],
            "description": "CatList",
            "_model_name": "IntProgressModel",
            "bar_style": "",
            "max": 4,
            "_view_module": "@jupyter-widgets/controls",
            "_model_module_version": "1.5.0",
            "value": 3,
            "_view_count": null,
            "_view_module_version": "1.5.0",
            "orientation": "horizontal",
            "min": 0,
            "description_tooltip": null,
            "_model_module": "@jupyter-widgets/controls",
            "layout": "IPY_MODEL_e501edbd776e4fc0a78d56249215aa27"
          }
        },
        "c3399738d7954c0bba8864b431a9e2da": {
          "model_module": "@jupyter-widgets/controls",
          "model_name": "HTMLModel",
          "state": {
            "_view_name": "HTMLView",
            "style": "IPY_MODEL_7b4cfd045e1148709f15f576f5cbecb6",
            "_dom_classes": [],
            "description": "",
            "_model_name": "HTMLModel",
            "placeholder": "​",
            "_view_module": "@jupyter-widgets/controls",
            "_model_module_version": "1.5.0",
            "value": " 75% 3/4 [03:46&lt;01:15, 75.47s/it]",
            "_view_count": null,
            "_view_module_version": "1.5.0",
            "description_tooltip": null,
            "_model_module": "@jupyter-widgets/controls",
            "layout": "IPY_MODEL_ae7929231228454c80f378edfdf9bef1"
          }
        },
        "be16a63a181746f78681a699b318b227": {
          "model_module": "@jupyter-widgets/controls",
          "model_name": "ProgressStyleModel",
          "state": {
            "_view_name": "StyleView",
            "_model_name": "ProgressStyleModel",
            "description_width": "initial",
            "_view_module": "@jupyter-widgets/base",
            "_model_module_version": "1.5.0",
            "_view_count": null,
            "_view_module_version": "1.2.0",
            "bar_color": null,
            "_model_module": "@jupyter-widgets/controls"
          }
        },
        "e501edbd776e4fc0a78d56249215aa27": {
          "model_module": "@jupyter-widgets/base",
          "model_name": "LayoutModel",
          "state": {
            "_view_name": "LayoutView",
            "grid_template_rows": null,
            "right": null,
            "justify_content": null,
            "_view_module": "@jupyter-widgets/base",
            "overflow": null,
            "_model_module_version": "1.2.0",
            "_view_count": null,
            "flex_flow": null,
            "width": null,
            "min_width": null,
            "border": null,
            "align_items": null,
            "bottom": null,
            "_model_module": "@jupyter-widgets/base",
            "top": null,
            "grid_column": null,
            "overflow_y": null,
            "overflow_x": null,
            "grid_auto_flow": null,
            "grid_area": null,
            "grid_template_columns": null,
            "flex": null,
            "_model_name": "LayoutModel",
            "justify_items": null,
            "grid_row": null,
            "max_height": null,
            "align_content": null,
            "visibility": null,
            "align_self": null,
            "height": null,
            "min_height": null,
            "padding": null,
            "grid_auto_rows": null,
            "grid_gap": null,
            "max_width": null,
            "order": null,
            "_view_module_version": "1.2.0",
            "grid_template_areas": null,
            "object_position": null,
            "object_fit": null,
            "grid_auto_columns": null,
            "margin": null,
            "display": null,
            "left": null
          }
        },
        "7b4cfd045e1148709f15f576f5cbecb6": {
          "model_module": "@jupyter-widgets/controls",
          "model_name": "DescriptionStyleModel",
          "state": {
            "_view_name": "StyleView",
            "_model_name": "DescriptionStyleModel",
            "description_width": "",
            "_view_module": "@jupyter-widgets/base",
            "_model_module_version": "1.5.0",
            "_view_count": null,
            "_view_module_version": "1.2.0",
            "_model_module": "@jupyter-widgets/controls"
          }
        },
        "ae7929231228454c80f378edfdf9bef1": {
          "model_module": "@jupyter-widgets/base",
          "model_name": "LayoutModel",
          "state": {
            "_view_name": "LayoutView",
            "grid_template_rows": null,
            "right": null,
            "justify_content": null,
            "_view_module": "@jupyter-widgets/base",
            "overflow": null,
            "_model_module_version": "1.2.0",
            "_view_count": null,
            "flex_flow": null,
            "width": null,
            "min_width": null,
            "border": null,
            "align_items": null,
            "bottom": null,
            "_model_module": "@jupyter-widgets/base",
            "top": null,
            "grid_column": null,
            "overflow_y": null,
            "overflow_x": null,
            "grid_auto_flow": null,
            "grid_area": null,
            "grid_template_columns": null,
            "flex": null,
            "_model_name": "LayoutModel",
            "justify_items": null,
            "grid_row": null,
            "max_height": null,
            "align_content": null,
            "visibility": null,
            "align_self": null,
            "height": null,
            "min_height": null,
            "padding": null,
            "grid_auto_rows": null,
            "grid_gap": null,
            "max_width": null,
            "order": null,
            "_view_module_version": "1.2.0",
            "grid_template_areas": null,
            "object_position": null,
            "object_fit": null,
            "grid_auto_columns": null,
            "margin": null,
            "display": null,
            "left": null
          }
        },
        "cc95295e3e3d4180bd8aa851e647f11e": {
          "model_module": "@jupyter-widgets/controls",
          "model_name": "HBoxModel",
          "state": {
            "_view_name": "HBoxView",
            "_dom_classes": [],
            "_model_name": "HBoxModel",
            "_view_module": "@jupyter-widgets/controls",
            "_model_module_version": "1.5.0",
            "_view_count": null,
            "_view_module_version": "1.5.0",
            "box_style": "",
            "layout": "IPY_MODEL_d28bb0ac750a432c8489af19e0c41dc9",
            "_model_module": "@jupyter-widgets/controls",
            "children": [
              "IPY_MODEL_28d9d9b8bc4c450b9a9db5a3e1b9a5a0",
              "IPY_MODEL_64bf60fc5c3d45e1b6e79a5777d272a5"
            ]
          }
        },
        "d28bb0ac750a432c8489af19e0c41dc9": {
          "model_module": "@jupyter-widgets/base",
          "model_name": "LayoutModel",
          "state": {
            "_view_name": "LayoutView",
            "grid_template_rows": null,
            "right": null,
            "justify_content": null,
            "_view_module": "@jupyter-widgets/base",
            "overflow": null,
            "_model_module_version": "1.2.0",
            "_view_count": null,
            "flex_flow": null,
            "width": null,
            "min_width": null,
            "border": null,
            "align_items": null,
            "bottom": null,
            "_model_module": "@jupyter-widgets/base",
            "top": null,
            "grid_column": null,
            "overflow_y": null,
            "overflow_x": null,
            "grid_auto_flow": null,
            "grid_area": null,
            "grid_template_columns": null,
            "flex": null,
            "_model_name": "LayoutModel",
            "justify_items": null,
            "grid_row": null,
            "max_height": null,
            "align_content": null,
            "visibility": null,
            "align_self": null,
            "height": null,
            "min_height": null,
            "padding": null,
            "grid_auto_rows": null,
            "grid_gap": null,
            "max_width": null,
            "order": null,
            "_view_module_version": "1.2.0",
            "grid_template_areas": null,
            "object_position": null,
            "object_fit": null,
            "grid_auto_columns": null,
            "margin": null,
            "display": null,
            "left": null
          }
        },
        "28d9d9b8bc4c450b9a9db5a3e1b9a5a0": {
          "model_module": "@jupyter-widgets/controls",
          "model_name": "IntProgressModel",
          "state": {
            "_view_name": "ProgressView",
            "style": "IPY_MODEL_453c0c584f8e41b6b49372335a039267",
            "_dom_classes": [],
            "description": "patents",
            "_model_name": "IntProgressModel",
            "bar_style": "success",
            "max": 280,
            "_view_module": "@jupyter-widgets/controls",
            "_model_module_version": "1.5.0",
            "value": 280,
            "_view_count": null,
            "_view_module_version": "1.5.0",
            "orientation": "horizontal",
            "min": 0,
            "description_tooltip": null,
            "_model_module": "@jupyter-widgets/controls",
            "layout": "IPY_MODEL_6159defc943e4b118d41c941399c7d22"
          }
        },
        "64bf60fc5c3d45e1b6e79a5777d272a5": {
          "model_module": "@jupyter-widgets/controls",
          "model_name": "HTMLModel",
          "state": {
            "_view_name": "HTMLView",
            "style": "IPY_MODEL_b2027adce08d43bb99b2f470469879ac",
            "_dom_classes": [],
            "description": "",
            "_model_name": "HTMLModel",
            "placeholder": "​",
            "_view_module": "@jupyter-widgets/controls",
            "_model_module_version": "1.5.0",
            "value": "100% 280/280 [01:15&lt;00:00,  4.32it/s]",
            "_view_count": null,
            "_view_module_version": "1.5.0",
            "description_tooltip": null,
            "_model_module": "@jupyter-widgets/controls",
            "layout": "IPY_MODEL_30c0f8a44cb54132a60d2c04e357c9b1"
          }
        },
        "453c0c584f8e41b6b49372335a039267": {
          "model_module": "@jupyter-widgets/controls",
          "model_name": "ProgressStyleModel",
          "state": {
            "_view_name": "StyleView",
            "_model_name": "ProgressStyleModel",
            "description_width": "initial",
            "_view_module": "@jupyter-widgets/base",
            "_model_module_version": "1.5.0",
            "_view_count": null,
            "_view_module_version": "1.2.0",
            "bar_color": null,
            "_model_module": "@jupyter-widgets/controls"
          }
        },
        "6159defc943e4b118d41c941399c7d22": {
          "model_module": "@jupyter-widgets/base",
          "model_name": "LayoutModel",
          "state": {
            "_view_name": "LayoutView",
            "grid_template_rows": null,
            "right": null,
            "justify_content": null,
            "_view_module": "@jupyter-widgets/base",
            "overflow": null,
            "_model_module_version": "1.2.0",
            "_view_count": null,
            "flex_flow": null,
            "width": null,
            "min_width": null,
            "border": null,
            "align_items": null,
            "bottom": null,
            "_model_module": "@jupyter-widgets/base",
            "top": null,
            "grid_column": null,
            "overflow_y": null,
            "overflow_x": null,
            "grid_auto_flow": null,
            "grid_area": null,
            "grid_template_columns": null,
            "flex": null,
            "_model_name": "LayoutModel",
            "justify_items": null,
            "grid_row": null,
            "max_height": null,
            "align_content": null,
            "visibility": null,
            "align_self": null,
            "height": null,
            "min_height": null,
            "padding": null,
            "grid_auto_rows": null,
            "grid_gap": null,
            "max_width": null,
            "order": null,
            "_view_module_version": "1.2.0",
            "grid_template_areas": null,
            "object_position": null,
            "object_fit": null,
            "grid_auto_columns": null,
            "margin": null,
            "display": null,
            "left": null
          }
        },
        "b2027adce08d43bb99b2f470469879ac": {
          "model_module": "@jupyter-widgets/controls",
          "model_name": "DescriptionStyleModel",
          "state": {
            "_view_name": "StyleView",
            "_model_name": "DescriptionStyleModel",
            "description_width": "",
            "_view_module": "@jupyter-widgets/base",
            "_model_module_version": "1.5.0",
            "_view_count": null,
            "_view_module_version": "1.2.0",
            "_model_module": "@jupyter-widgets/controls"
          }
        },
        "30c0f8a44cb54132a60d2c04e357c9b1": {
          "model_module": "@jupyter-widgets/base",
          "model_name": "LayoutModel",
          "state": {
            "_view_name": "LayoutView",
            "grid_template_rows": null,
            "right": null,
            "justify_content": null,
            "_view_module": "@jupyter-widgets/base",
            "overflow": null,
            "_model_module_version": "1.2.0",
            "_view_count": null,
            "flex_flow": null,
            "width": null,
            "min_width": null,
            "border": null,
            "align_items": null,
            "bottom": null,
            "_model_module": "@jupyter-widgets/base",
            "top": null,
            "grid_column": null,
            "overflow_y": null,
            "overflow_x": null,
            "grid_auto_flow": null,
            "grid_area": null,
            "grid_template_columns": null,
            "flex": null,
            "_model_name": "LayoutModel",
            "justify_items": null,
            "grid_row": null,
            "max_height": null,
            "align_content": null,
            "visibility": null,
            "align_self": null,
            "height": null,
            "min_height": null,
            "padding": null,
            "grid_auto_rows": null,
            "grid_gap": null,
            "max_width": null,
            "order": null,
            "_view_module_version": "1.2.0",
            "grid_template_areas": null,
            "object_position": null,
            "object_fit": null,
            "grid_auto_columns": null,
            "margin": null,
            "display": null,
            "left": null
          }
        },
        "111d912b48b54929861c31a157bdbfed": {
          "model_module": "@jupyter-widgets/controls",
          "model_name": "HBoxModel",
          "state": {
            "_view_name": "HBoxView",
            "_dom_classes": [],
            "_model_name": "HBoxModel",
            "_view_module": "@jupyter-widgets/controls",
            "_model_module_version": "1.5.0",
            "_view_count": null,
            "_view_module_version": "1.5.0",
            "box_style": "",
            "layout": "IPY_MODEL_9a854b915ef74d0a8c21eb64c22629b1",
            "_model_module": "@jupyter-widgets/controls",
            "children": [
              "IPY_MODEL_454194e7052f4f4ba7119df5fcae81e4",
              "IPY_MODEL_9d8c9a33879b4a75a947200c15d56728"
            ]
          }
        },
        "9a854b915ef74d0a8c21eb64c22629b1": {
          "model_module": "@jupyter-widgets/base",
          "model_name": "LayoutModel",
          "state": {
            "_view_name": "LayoutView",
            "grid_template_rows": null,
            "right": null,
            "justify_content": null,
            "_view_module": "@jupyter-widgets/base",
            "overflow": null,
            "_model_module_version": "1.2.0",
            "_view_count": null,
            "flex_flow": null,
            "width": null,
            "min_width": null,
            "border": null,
            "align_items": null,
            "bottom": null,
            "_model_module": "@jupyter-widgets/base",
            "top": null,
            "grid_column": null,
            "overflow_y": null,
            "overflow_x": null,
            "grid_auto_flow": null,
            "grid_area": null,
            "grid_template_columns": null,
            "flex": null,
            "_model_name": "LayoutModel",
            "justify_items": null,
            "grid_row": null,
            "max_height": null,
            "align_content": null,
            "visibility": null,
            "align_self": null,
            "height": null,
            "min_height": null,
            "padding": null,
            "grid_auto_rows": null,
            "grid_gap": null,
            "max_width": null,
            "order": null,
            "_view_module_version": "1.2.0",
            "grid_template_areas": null,
            "object_position": null,
            "object_fit": null,
            "grid_auto_columns": null,
            "margin": null,
            "display": null,
            "left": null
          }
        },
        "454194e7052f4f4ba7119df5fcae81e4": {
          "model_module": "@jupyter-widgets/controls",
          "model_name": "IntProgressModel",
          "state": {
            "_view_name": "ProgressView",
            "style": "IPY_MODEL_954710394e754f1eb00b4f6d2a0db0d8",
            "_dom_classes": [],
            "description": "patents",
            "_model_name": "IntProgressModel",
            "bar_style": "success",
            "max": 280,
            "_view_module": "@jupyter-widgets/controls",
            "_model_module_version": "1.5.0",
            "value": 280,
            "_view_count": null,
            "_view_module_version": "1.5.0",
            "orientation": "horizontal",
            "min": 0,
            "description_tooltip": null,
            "_model_module": "@jupyter-widgets/controls",
            "layout": "IPY_MODEL_ae0e155c7f9f452aaab5cd0319d78b85"
          }
        },
        "9d8c9a33879b4a75a947200c15d56728": {
          "model_module": "@jupyter-widgets/controls",
          "model_name": "HTMLModel",
          "state": {
            "_view_name": "HTMLView",
            "style": "IPY_MODEL_3b40b1bea7f14f7aa430a6d557b01144",
            "_dom_classes": [],
            "description": "",
            "_model_name": "HTMLModel",
            "placeholder": "​",
            "_view_module": "@jupyter-widgets/controls",
            "_model_module_version": "1.5.0",
            "value": "100% 280/280 [01:14&lt;00:00,  3.26it/s]",
            "_view_count": null,
            "_view_module_version": "1.5.0",
            "description_tooltip": null,
            "_model_module": "@jupyter-widgets/controls",
            "layout": "IPY_MODEL_8d56acbdc8dd49fdb33f82bdf36e73c0"
          }
        },
        "954710394e754f1eb00b4f6d2a0db0d8": {
          "model_module": "@jupyter-widgets/controls",
          "model_name": "ProgressStyleModel",
          "state": {
            "_view_name": "StyleView",
            "_model_name": "ProgressStyleModel",
            "description_width": "initial",
            "_view_module": "@jupyter-widgets/base",
            "_model_module_version": "1.5.0",
            "_view_count": null,
            "_view_module_version": "1.2.0",
            "bar_color": null,
            "_model_module": "@jupyter-widgets/controls"
          }
        },
        "ae0e155c7f9f452aaab5cd0319d78b85": {
          "model_module": "@jupyter-widgets/base",
          "model_name": "LayoutModel",
          "state": {
            "_view_name": "LayoutView",
            "grid_template_rows": null,
            "right": null,
            "justify_content": null,
            "_view_module": "@jupyter-widgets/base",
            "overflow": null,
            "_model_module_version": "1.2.0",
            "_view_count": null,
            "flex_flow": null,
            "width": null,
            "min_width": null,
            "border": null,
            "align_items": null,
            "bottom": null,
            "_model_module": "@jupyter-widgets/base",
            "top": null,
            "grid_column": null,
            "overflow_y": null,
            "overflow_x": null,
            "grid_auto_flow": null,
            "grid_area": null,
            "grid_template_columns": null,
            "flex": null,
            "_model_name": "LayoutModel",
            "justify_items": null,
            "grid_row": null,
            "max_height": null,
            "align_content": null,
            "visibility": null,
            "align_self": null,
            "height": null,
            "min_height": null,
            "padding": null,
            "grid_auto_rows": null,
            "grid_gap": null,
            "max_width": null,
            "order": null,
            "_view_module_version": "1.2.0",
            "grid_template_areas": null,
            "object_position": null,
            "object_fit": null,
            "grid_auto_columns": null,
            "margin": null,
            "display": null,
            "left": null
          }
        },
        "3b40b1bea7f14f7aa430a6d557b01144": {
          "model_module": "@jupyter-widgets/controls",
          "model_name": "DescriptionStyleModel",
          "state": {
            "_view_name": "StyleView",
            "_model_name": "DescriptionStyleModel",
            "description_width": "",
            "_view_module": "@jupyter-widgets/base",
            "_model_module_version": "1.5.0",
            "_view_count": null,
            "_view_module_version": "1.2.0",
            "_model_module": "@jupyter-widgets/controls"
          }
        },
        "8d56acbdc8dd49fdb33f82bdf36e73c0": {
          "model_module": "@jupyter-widgets/base",
          "model_name": "LayoutModel",
          "state": {
            "_view_name": "LayoutView",
            "grid_template_rows": null,
            "right": null,
            "justify_content": null,
            "_view_module": "@jupyter-widgets/base",
            "overflow": null,
            "_model_module_version": "1.2.0",
            "_view_count": null,
            "flex_flow": null,
            "width": null,
            "min_width": null,
            "border": null,
            "align_items": null,
            "bottom": null,
            "_model_module": "@jupyter-widgets/base",
            "top": null,
            "grid_column": null,
            "overflow_y": null,
            "overflow_x": null,
            "grid_auto_flow": null,
            "grid_area": null,
            "grid_template_columns": null,
            "flex": null,
            "_model_name": "LayoutModel",
            "justify_items": null,
            "grid_row": null,
            "max_height": null,
            "align_content": null,
            "visibility": null,
            "align_self": null,
            "height": null,
            "min_height": null,
            "padding": null,
            "grid_auto_rows": null,
            "grid_gap": null,
            "max_width": null,
            "order": null,
            "_view_module_version": "1.2.0",
            "grid_template_areas": null,
            "object_position": null,
            "object_fit": null,
            "grid_auto_columns": null,
            "margin": null,
            "display": null,
            "left": null
          }
        },
        "ef1ed614a5934414b030d6f7d35a062a": {
          "model_module": "@jupyter-widgets/controls",
          "model_name": "HBoxModel",
          "state": {
            "_view_name": "HBoxView",
            "_dom_classes": [],
            "_model_name": "HBoxModel",
            "_view_module": "@jupyter-widgets/controls",
            "_model_module_version": "1.5.0",
            "_view_count": null,
            "_view_module_version": "1.5.0",
            "box_style": "",
            "layout": "IPY_MODEL_bd46ed34c6bd4b39a753391872dcfcf7",
            "_model_module": "@jupyter-widgets/controls",
            "children": [
              "IPY_MODEL_6a31527d4feb4f1496ca37e0726a8dc4",
              "IPY_MODEL_4fc03d81e1e94de7878875728debde32"
            ]
          }
        },
        "bd46ed34c6bd4b39a753391872dcfcf7": {
          "model_module": "@jupyter-widgets/base",
          "model_name": "LayoutModel",
          "state": {
            "_view_name": "LayoutView",
            "grid_template_rows": null,
            "right": null,
            "justify_content": null,
            "_view_module": "@jupyter-widgets/base",
            "overflow": null,
            "_model_module_version": "1.2.0",
            "_view_count": null,
            "flex_flow": null,
            "width": null,
            "min_width": null,
            "border": null,
            "align_items": null,
            "bottom": null,
            "_model_module": "@jupyter-widgets/base",
            "top": null,
            "grid_column": null,
            "overflow_y": null,
            "overflow_x": null,
            "grid_auto_flow": null,
            "grid_area": null,
            "grid_template_columns": null,
            "flex": null,
            "_model_name": "LayoutModel",
            "justify_items": null,
            "grid_row": null,
            "max_height": null,
            "align_content": null,
            "visibility": null,
            "align_self": null,
            "height": null,
            "min_height": null,
            "padding": null,
            "grid_auto_rows": null,
            "grid_gap": null,
            "max_width": null,
            "order": null,
            "_view_module_version": "1.2.0",
            "grid_template_areas": null,
            "object_position": null,
            "object_fit": null,
            "grid_auto_columns": null,
            "margin": null,
            "display": null,
            "left": null
          }
        },
        "6a31527d4feb4f1496ca37e0726a8dc4": {
          "model_module": "@jupyter-widgets/controls",
          "model_name": "IntProgressModel",
          "state": {
            "_view_name": "ProgressView",
            "style": "IPY_MODEL_d34a80486b7b4d368052f2d258d9d4b7",
            "_dom_classes": [],
            "description": "patents",
            "_model_name": "IntProgressModel",
            "bar_style": "success",
            "max": 280,
            "_view_module": "@jupyter-widgets/controls",
            "_model_module_version": "1.5.0",
            "value": 280,
            "_view_count": null,
            "_view_module_version": "1.5.0",
            "orientation": "horizontal",
            "min": 0,
            "description_tooltip": null,
            "_model_module": "@jupyter-widgets/controls",
            "layout": "IPY_MODEL_64e0f194875a40f1b77f4491dda5d874"
          }
        },
        "4fc03d81e1e94de7878875728debde32": {
          "model_module": "@jupyter-widgets/controls",
          "model_name": "HTMLModel",
          "state": {
            "_view_name": "HTMLView",
            "style": "IPY_MODEL_04d8c742ba7a4a759502cb0c9feb86bc",
            "_dom_classes": [],
            "description": "",
            "_model_name": "HTMLModel",
            "placeholder": "​",
            "_view_module": "@jupyter-widgets/controls",
            "_model_module_version": "1.5.0",
            "value": "100% 280/280 [01:15&lt;00:00,  4.03it/s]",
            "_view_count": null,
            "_view_module_version": "1.5.0",
            "description_tooltip": null,
            "_model_module": "@jupyter-widgets/controls",
            "layout": "IPY_MODEL_0c0368b24c1f42488e0ff27734b4dc82"
          }
        },
        "d34a80486b7b4d368052f2d258d9d4b7": {
          "model_module": "@jupyter-widgets/controls",
          "model_name": "ProgressStyleModel",
          "state": {
            "_view_name": "StyleView",
            "_model_name": "ProgressStyleModel",
            "description_width": "initial",
            "_view_module": "@jupyter-widgets/base",
            "_model_module_version": "1.5.0",
            "_view_count": null,
            "_view_module_version": "1.2.0",
            "bar_color": null,
            "_model_module": "@jupyter-widgets/controls"
          }
        },
        "64e0f194875a40f1b77f4491dda5d874": {
          "model_module": "@jupyter-widgets/base",
          "model_name": "LayoutModel",
          "state": {
            "_view_name": "LayoutView",
            "grid_template_rows": null,
            "right": null,
            "justify_content": null,
            "_view_module": "@jupyter-widgets/base",
            "overflow": null,
            "_model_module_version": "1.2.0",
            "_view_count": null,
            "flex_flow": null,
            "width": null,
            "min_width": null,
            "border": null,
            "align_items": null,
            "bottom": null,
            "_model_module": "@jupyter-widgets/base",
            "top": null,
            "grid_column": null,
            "overflow_y": null,
            "overflow_x": null,
            "grid_auto_flow": null,
            "grid_area": null,
            "grid_template_columns": null,
            "flex": null,
            "_model_name": "LayoutModel",
            "justify_items": null,
            "grid_row": null,
            "max_height": null,
            "align_content": null,
            "visibility": null,
            "align_self": null,
            "height": null,
            "min_height": null,
            "padding": null,
            "grid_auto_rows": null,
            "grid_gap": null,
            "max_width": null,
            "order": null,
            "_view_module_version": "1.2.0",
            "grid_template_areas": null,
            "object_position": null,
            "object_fit": null,
            "grid_auto_columns": null,
            "margin": null,
            "display": null,
            "left": null
          }
        },
        "04d8c742ba7a4a759502cb0c9feb86bc": {
          "model_module": "@jupyter-widgets/controls",
          "model_name": "DescriptionStyleModel",
          "state": {
            "_view_name": "StyleView",
            "_model_name": "DescriptionStyleModel",
            "description_width": "",
            "_view_module": "@jupyter-widgets/base",
            "_model_module_version": "1.5.0",
            "_view_count": null,
            "_view_module_version": "1.2.0",
            "_model_module": "@jupyter-widgets/controls"
          }
        },
        "0c0368b24c1f42488e0ff27734b4dc82": {
          "model_module": "@jupyter-widgets/base",
          "model_name": "LayoutModel",
          "state": {
            "_view_name": "LayoutView",
            "grid_template_rows": null,
            "right": null,
            "justify_content": null,
            "_view_module": "@jupyter-widgets/base",
            "overflow": null,
            "_model_module_version": "1.2.0",
            "_view_count": null,
            "flex_flow": null,
            "width": null,
            "min_width": null,
            "border": null,
            "align_items": null,
            "bottom": null,
            "_model_module": "@jupyter-widgets/base",
            "top": null,
            "grid_column": null,
            "overflow_y": null,
            "overflow_x": null,
            "grid_auto_flow": null,
            "grid_area": null,
            "grid_template_columns": null,
            "flex": null,
            "_model_name": "LayoutModel",
            "justify_items": null,
            "grid_row": null,
            "max_height": null,
            "align_content": null,
            "visibility": null,
            "align_self": null,
            "height": null,
            "min_height": null,
            "padding": null,
            "grid_auto_rows": null,
            "grid_gap": null,
            "max_width": null,
            "order": null,
            "_view_module_version": "1.2.0",
            "grid_template_areas": null,
            "object_position": null,
            "object_fit": null,
            "grid_auto_columns": null,
            "margin": null,
            "display": null,
            "left": null
          }
        },
        "e62cca08b62743c9babe61e4e16d2762": {
          "model_module": "@jupyter-widgets/controls",
          "model_name": "HBoxModel",
          "state": {
            "_view_name": "HBoxView",
            "_dom_classes": [],
            "_model_name": "HBoxModel",
            "_view_module": "@jupyter-widgets/controls",
            "_model_module_version": "1.5.0",
            "_view_count": null,
            "_view_module_version": "1.5.0",
            "box_style": "",
            "layout": "IPY_MODEL_905f900273ff47aaac732b59c83f0b3a",
            "_model_module": "@jupyter-widgets/controls",
            "children": [
              "IPY_MODEL_d9e59863cf7047ca8c9e74e62cf62cfb",
              "IPY_MODEL_8feeac4895f6429c8a86635e254e15ab"
            ]
          }
        },
        "905f900273ff47aaac732b59c83f0b3a": {
          "model_module": "@jupyter-widgets/base",
          "model_name": "LayoutModel",
          "state": {
            "_view_name": "LayoutView",
            "grid_template_rows": null,
            "right": null,
            "justify_content": null,
            "_view_module": "@jupyter-widgets/base",
            "overflow": null,
            "_model_module_version": "1.2.0",
            "_view_count": null,
            "flex_flow": null,
            "width": null,
            "min_width": null,
            "border": null,
            "align_items": null,
            "bottom": null,
            "_model_module": "@jupyter-widgets/base",
            "top": null,
            "grid_column": null,
            "overflow_y": null,
            "overflow_x": null,
            "grid_auto_flow": null,
            "grid_area": null,
            "grid_template_columns": null,
            "flex": null,
            "_model_name": "LayoutModel",
            "justify_items": null,
            "grid_row": null,
            "max_height": null,
            "align_content": null,
            "visibility": null,
            "align_self": null,
            "height": null,
            "min_height": null,
            "padding": null,
            "grid_auto_rows": null,
            "grid_gap": null,
            "max_width": null,
            "order": null,
            "_view_module_version": "1.2.0",
            "grid_template_areas": null,
            "object_position": null,
            "object_fit": null,
            "grid_auto_columns": null,
            "margin": null,
            "display": null,
            "left": null
          }
        },
        "d9e59863cf7047ca8c9e74e62cf62cfb": {
          "model_module": "@jupyter-widgets/controls",
          "model_name": "IntProgressModel",
          "state": {
            "_view_name": "ProgressView",
            "style": "IPY_MODEL_12ecb86cab1b4da99330a656bda655e1",
            "_dom_classes": [],
            "description": "patents",
            "_model_name": "IntProgressModel",
            "bar_style": "",
            "max": 280,
            "_view_module": "@jupyter-widgets/controls",
            "_model_module_version": "1.5.0",
            "value": 51,
            "_view_count": null,
            "_view_module_version": "1.5.0",
            "orientation": "horizontal",
            "min": 0,
            "description_tooltip": null,
            "_model_module": "@jupyter-widgets/controls",
            "layout": "IPY_MODEL_cf37dda488d54b4683a7338be32b2929"
          }
        },
        "8feeac4895f6429c8a86635e254e15ab": {
          "model_module": "@jupyter-widgets/controls",
          "model_name": "HTMLModel",
          "state": {
            "_view_name": "HTMLView",
            "style": "IPY_MODEL_3f504921379f43a088b8cc529167a968",
            "_dom_classes": [],
            "description": "",
            "_model_name": "HTMLModel",
            "placeholder": "​",
            "_view_module": "@jupyter-widgets/controls",
            "_model_module_version": "1.5.0",
            "value": " 18% 51/280 [00:13&lt;01:13,  3.13it/s]",
            "_view_count": null,
            "_view_module_version": "1.5.0",
            "description_tooltip": null,
            "_model_module": "@jupyter-widgets/controls",
            "layout": "IPY_MODEL_9ea90c9d371140cd99c911f58d0c48cc"
          }
        },
        "12ecb86cab1b4da99330a656bda655e1": {
          "model_module": "@jupyter-widgets/controls",
          "model_name": "ProgressStyleModel",
          "state": {
            "_view_name": "StyleView",
            "_model_name": "ProgressStyleModel",
            "description_width": "initial",
            "_view_module": "@jupyter-widgets/base",
            "_model_module_version": "1.5.0",
            "_view_count": null,
            "_view_module_version": "1.2.0",
            "bar_color": null,
            "_model_module": "@jupyter-widgets/controls"
          }
        },
        "cf37dda488d54b4683a7338be32b2929": {
          "model_module": "@jupyter-widgets/base",
          "model_name": "LayoutModel",
          "state": {
            "_view_name": "LayoutView",
            "grid_template_rows": null,
            "right": null,
            "justify_content": null,
            "_view_module": "@jupyter-widgets/base",
            "overflow": null,
            "_model_module_version": "1.2.0",
            "_view_count": null,
            "flex_flow": null,
            "width": null,
            "min_width": null,
            "border": null,
            "align_items": null,
            "bottom": null,
            "_model_module": "@jupyter-widgets/base",
            "top": null,
            "grid_column": null,
            "overflow_y": null,
            "overflow_x": null,
            "grid_auto_flow": null,
            "grid_area": null,
            "grid_template_columns": null,
            "flex": null,
            "_model_name": "LayoutModel",
            "justify_items": null,
            "grid_row": null,
            "max_height": null,
            "align_content": null,
            "visibility": null,
            "align_self": null,
            "height": null,
            "min_height": null,
            "padding": null,
            "grid_auto_rows": null,
            "grid_gap": null,
            "max_width": null,
            "order": null,
            "_view_module_version": "1.2.0",
            "grid_template_areas": null,
            "object_position": null,
            "object_fit": null,
            "grid_auto_columns": null,
            "margin": null,
            "display": null,
            "left": null
          }
        },
        "3f504921379f43a088b8cc529167a968": {
          "model_module": "@jupyter-widgets/controls",
          "model_name": "DescriptionStyleModel",
          "state": {
            "_view_name": "StyleView",
            "_model_name": "DescriptionStyleModel",
            "description_width": "",
            "_view_module": "@jupyter-widgets/base",
            "_model_module_version": "1.5.0",
            "_view_count": null,
            "_view_module_version": "1.2.0",
            "_model_module": "@jupyter-widgets/controls"
          }
        },
        "9ea90c9d371140cd99c911f58d0c48cc": {
          "model_module": "@jupyter-widgets/base",
          "model_name": "LayoutModel",
          "state": {
            "_view_name": "LayoutView",
            "grid_template_rows": null,
            "right": null,
            "justify_content": null,
            "_view_module": "@jupyter-widgets/base",
            "overflow": null,
            "_model_module_version": "1.2.0",
            "_view_count": null,
            "flex_flow": null,
            "width": null,
            "min_width": null,
            "border": null,
            "align_items": null,
            "bottom": null,
            "_model_module": "@jupyter-widgets/base",
            "top": null,
            "grid_column": null,
            "overflow_y": null,
            "overflow_x": null,
            "grid_auto_flow": null,
            "grid_area": null,
            "grid_template_columns": null,
            "flex": null,
            "_model_name": "LayoutModel",
            "justify_items": null,
            "grid_row": null,
            "max_height": null,
            "align_content": null,
            "visibility": null,
            "align_self": null,
            "height": null,
            "min_height": null,
            "padding": null,
            "grid_auto_rows": null,
            "grid_gap": null,
            "max_width": null,
            "order": null,
            "_view_module_version": "1.2.0",
            "grid_template_areas": null,
            "object_position": null,
            "object_fit": null,
            "grid_auto_columns": null,
            "margin": null,
            "display": null,
            "left": null
          }
        }
      }
    }
  },
  "cells": [
    {
      "cell_type": "markdown",
      "metadata": {
        "id": "view-in-github",
        "colab_type": "text"
      },
      "source": [
        "<a href=\"https://colab.research.google.com/github/Nilanshrajput/AdvitiyaHackathon/blob/master/Scrapper_colab.ipynb\" target=\"_parent\"><img src=\"https://colab.research.google.com/assets/colab-badge.svg\" alt=\"Open In Colab\"/></a>"
      ]
    },
    {
      "cell_type": "code",
      "metadata": {
        "id": "53tGBiAEo9YO",
        "colab_type": "code",
        "outputId": "f4791998-3ca9-402b-e9d9-cde981fe5e52",
        "colab": {
          "base_uri": "https://localhost:8080/",
          "height": 145
        }
      },
      "source": [
        "!git clone https://Nilanshrajput:@github.com/Nilanshrajput/AdvitiyaHackathon.git"
      ],
      "execution_count": 1,
      "outputs": [
        {
          "output_type": "stream",
          "text": [
            "Cloning into 'AdvitiyaHackathon'...\n",
            "remote: Enumerating objects: 194, done.\u001b[K\n",
            "remote: Counting objects:   0% (1/194)\u001b[K\rremote: Counting objects:   1% (2/194)\u001b[K\rremote: Counting objects:   2% (4/194)\u001b[K\rremote: Counting objects:   3% (6/194)\u001b[K\rremote: Counting objects:   4% (8/194)\u001b[K\rremote: Counting objects:   5% (10/194)\u001b[K\rremote: Counting objects:   6% (12/194)\u001b[K\rremote: Counting objects:   7% (14/194)\u001b[K\rremote: Counting objects:   8% (16/194)\u001b[K\rremote: Counting objects:   9% (18/194)\u001b[K\rremote: Counting objects:  10% (20/194)\u001b[K\rremote: Counting objects:  11% (22/194)\u001b[K\rremote: Counting objects:  12% (24/194)\u001b[K\rremote: Counting objects:  13% (26/194)\u001b[K\rremote: Counting objects:  14% (28/194)\u001b[K\rremote: Counting objects:  15% (30/194)\u001b[K\rremote: Counting objects:  16% (32/194)\u001b[K\rremote: Counting objects:  17% (33/194)\u001b[K\rremote: Counting objects:  18% (35/194)\u001b[K\rremote: Counting objects:  19% (37/194)\u001b[K\rremote: Counting objects:  20% (39/194)\u001b[K\rremote: Counting objects:  21% (41/194)\u001b[K\rremote: Counting objects:  22% (43/194)\u001b[K\rremote: Counting objects:  23% (45/194)\u001b[K\rremote: Counting objects:  24% (47/194)\u001b[K\rremote: Counting objects:  25% (49/194)\u001b[K\rremote: Counting objects:  26% (51/194)\u001b[K\rremote: Counting objects:  27% (53/194)\u001b[K\rremote: Counting objects:  28% (55/194)\u001b[K\rremote: Counting objects:  29% (57/194)\u001b[K\rremote: Counting objects:  30% (59/194)\u001b[K\rremote: Counting objects:  31% (61/194)\u001b[K\rremote: Counting objects:  32% (63/194)\u001b[K\rremote: Counting objects:  33% (65/194)\u001b[K\rremote: Counting objects:  34% (66/194)\u001b[K\rremote: Counting objects:  35% (68/194)\u001b[K\rremote: Counting objects:  36% (70/194)\u001b[K\rremote: Counting objects:  37% (72/194)\u001b[K\rremote: Counting objects:  38% (74/194)\u001b[K\rremote: Counting objects:  39% (76/194)\u001b[K\rremote: Counting objects:  40% (78/194)\u001b[K\rremote: Counting objects:  41% (80/194)\u001b[K\rremote: Counting objects:  42% (82/194)\u001b[K\rremote: Counting objects:  43% (84/194)\u001b[K\rremote: Counting objects:  44% (86/194)\u001b[K\rremote: Counting objects:  45% (88/194)\u001b[K\rremote: Counting objects:  46% (90/194)\u001b[K\rremote: Counting objects:  47% (92/194)\u001b[K\rremote: Counting objects:  48% (94/194)\u001b[K\rremote: Counting objects:  49% (96/194)\u001b[K\rremote: Counting objects:  50% (97/194)\u001b[K\rremote: Counting objects:  51% (99/194)\u001b[K\rremote: Counting objects:  52% (101/194)\u001b[K\rremote: Counting objects:  53% (103/194)\u001b[K\rremote: Counting objects:  54% (105/194)\u001b[K\rremote: Counting objects:  55% (107/194)\u001b[K\rremote: Counting objects:  56% (109/194)\u001b[K\rremote: Counting objects:  57% (111/194)\u001b[K\rremote: Counting objects:  58% (113/194)\u001b[K\rremote: Counting objects:  59% (115/194)\u001b[K\rremote: Counting objects:  60% (117/194)\u001b[K\rremote: Counting objects:  61% (119/194)\u001b[K\rremote: Counting objects:  62% (121/194)\u001b[K\rremote: Counting objects:  63% (123/194)\u001b[K\rremote: Counting objects:  64% (125/194)\u001b[K\rremote: Counting objects:  65% (127/194)\u001b[K\rremote: Counting objects:  66% (129/194)\u001b[K\rremote: Counting objects:  67% (130/194)\u001b[K\rremote: Counting objects:  68% (132/194)\u001b[K\rremote: Counting objects:  69% (134/194)\u001b[K\rremote: Counting objects:  70% (136/194)\u001b[K\rremote: Counting objects:  71% (138/194)\u001b[K\rremote: Counting objects:  72% (140/194)\u001b[K\rremote: Counting objects:  73% (142/194)\u001b[K\rremote: Counting objects:  74% (144/194)\u001b[K\rremote: Counting objects:  75% (146/194)\u001b[K\rremote: Counting objects:  76% (148/194)\u001b[K\rremote: Counting objects:  77% (150/194)\u001b[K\rremote: Counting objects:  78% (152/194)\u001b[K\rremote: Counting objects:  79% (154/194)\u001b[K\rremote: Counting objects:  80% (156/194)\u001b[K\rremote: Counting objects:  81% (158/194)\u001b[K\rremote: Counting objects:  82% (160/194)\u001b[K\rremote: Counting objects:  83% (162/194)\u001b[K\rremote: Counting objects:  84% (163/194)\u001b[K\rremote: Counting objects:  85% (165/194)\u001b[K\rremote: Counting objects:  86% (167/194)\u001b[K\rremote: Counting objects:  87% (169/194)\u001b[K\rremote: Counting objects:  88% (171/194)\u001b[K\rremote: Counting objects:  89% (173/194)\u001b[K\rremote: Counting objects:  90% (175/194)\u001b[K\rremote: Counting objects:  91% (177/194)\u001b[K\rremote: Counting objects:  92% (179/194)\u001b[K\rremote: Counting objects:  93% (181/194)\u001b[K\rremote: Counting objects:  94% (183/194)\u001b[K\rremote: Counting objects:  95% (185/194)\u001b[K\rremote: Counting objects:  96% (187/194)\u001b[K\rremote: Counting objects:  97% (189/194)\u001b[K\rremote: Counting objects:  98% (191/194)\u001b[K\rremote: Counting objects:  99% (193/194)\u001b[K\rremote: Counting objects: 100% (194/194)\u001b[K\rremote: Counting objects: 100% (194/194), done.\u001b[K\n",
            "remote: Compressing objects:   0% (1/147)\u001b[K\rremote: Compressing objects:   1% (2/147)\u001b[K\rremote: Compressing objects:   2% (3/147)\u001b[K\rremote: Compressing objects:   3% (5/147)\u001b[K\rremote: Compressing objects:   4% (6/147)\u001b[K\rremote: Compressing objects:   5% (8/147)\u001b[K\rremote: Compressing objects:   6% (9/147)\u001b[K\rremote: Compressing objects:   7% (11/147)\u001b[K\rremote: Compressing objects:   8% (12/147)\u001b[K\rremote: Compressing objects:   9% (14/147)\u001b[K\rremote: Compressing objects:  10% (15/147)\u001b[K\rremote: Compressing objects:  11% (17/147)\u001b[K\rremote: Compressing objects:  12% (18/147)\u001b[K\rremote: Compressing objects:  13% (20/147)\u001b[K\rremote: Compressing objects:  14% (21/147)\u001b[K\rremote: Compressing objects:  15% (23/147)\u001b[K\rremote: Compressing objects:  16% (24/147)\u001b[K\rremote: Compressing objects:  17% (25/147)\u001b[K\rremote: Compressing objects:  18% (27/147)\u001b[K\rremote: Compressing objects:  19% (28/147)\u001b[K\rremote: Compressing objects:  20% (30/147)\u001b[K\rremote: Compressing objects:  21% (31/147)\u001b[K\rremote: Compressing objects:  22% (33/147)\u001b[K\rremote: Compressing objects:  23% (34/147)\u001b[K\rremote: Compressing objects:  24% (36/147)\u001b[K\rremote: Compressing objects:  25% (37/147)\u001b[K\rremote: Compressing objects:  26% (39/147)\u001b[K\rremote: Compressing objects:  27% (40/147)\u001b[K\rremote: Compressing objects:  28% (42/147)\u001b[K\rremote: Compressing objects:  29% (43/147)\u001b[K\rremote: Compressing objects:  30% (45/147)\u001b[K\rremote: Compressing objects:  31% (46/147)\u001b[K\rremote: Compressing objects:  32% (48/147)\u001b[K\rremote: Compressing objects:  33% (49/147)\u001b[K\rremote: Compressing objects:  34% (50/147)\u001b[K\rremote: Compressing objects:  35% (52/147)\u001b[K\rremote: Compressing objects:  36% (53/147)\u001b[K\rremote: Compressing objects:  37% (55/147)\u001b[K\rremote: Compressing objects:  38% (56/147)\u001b[K\rremote: Compressing objects:  39% (58/147)\u001b[K\rremote: Compressing objects:  40% (59/147)\u001b[K\rremote: Compressing objects:  41% (61/147)\u001b[K\rremote: Compressing objects:  42% (62/147)\u001b[K\rremote: Compressing objects:  43% (64/147)\u001b[K\rremote: Compressing objects:  44% (65/147)\u001b[K\rremote: Compressing objects:  45% (67/147)\u001b[K\rremote: Compressing objects:  46% (68/147)\u001b[K\rremote: Compressing objects:  47% (70/147)\u001b[K\rremote: Compressing objects:  48% (71/147)\u001b[K\rremote: Compressing objects:  49% (73/147)\u001b[K\rremote: Compressing objects:  50% (74/147)\u001b[K\rremote: Compressing objects:  51% (75/147)\u001b[K\rremote: Compressing objects:  52% (77/147)\u001b[K\rremote: Compressing objects:  53% (78/147)\u001b[K\rremote: Compressing objects:  54% (80/147)\u001b[K\rremote: Compressing objects:  55% (81/147)\u001b[K\rremote: Compressing objects:  56% (83/147)\u001b[K\rremote: Compressing objects:  57% (84/147)\u001b[K\rremote: Compressing objects:  58% (86/147)\u001b[K\rremote: Compressing objects:  59% (87/147)\u001b[K\rremote: Compressing objects:  60% (89/147)\u001b[K\rremote: Compressing objects:  61% (90/147)\u001b[K\rremote: Compressing objects:  62% (92/147)\u001b[K\rremote: Compressing objects:  63% (93/147)\u001b[K\rremote: Compressing objects:  64% (95/147)\u001b[K\rremote: Compressing objects:  65% (96/147)\u001b[K\rremote: Compressing objects:  66% (98/147)\u001b[K\rremote: Compressing objects:  67% (99/147)\u001b[K\rremote: Compressing objects:  68% (100/147)\u001b[K\rremote: Compressing objects:  69% (102/147)\u001b[K\rremote: Compressing objects:  70% (103/147)\u001b[K\rremote: Compressing objects:  71% (105/147)\u001b[K\rremote: Compressing objects:  72% (106/147)\u001b[K\rremote: Compressing objects:  73% (108/147)\u001b[K\rremote: Compressing objects:  74% (109/147)\u001b[K\rremote: Compressing objects:  75% (111/147)\u001b[K\rremote: Compressing objects:  76% (112/147)\u001b[K\rremote: Compressing objects:  77% (114/147)\u001b[K\rremote: Compressing objects:  78% (115/147)\u001b[K\rremote: Compressing objects:  79% (117/147)\u001b[K\rremote: Compressing objects:  80% (118/147)\u001b[K\rremote: Compressing objects:  81% (120/147)\u001b[K\rremote: Compressing objects:  82% (121/147)\u001b[K\rremote: Compressing objects:  83% (123/147)\u001b[K\rremote: Compressing objects:  84% (124/147)\u001b[K\rremote: Compressing objects:  85% (125/147)\u001b[K\rremote: Compressing objects:  86% (127/147)\u001b[K\rremote: Compressing objects:  87% (128/147)\u001b[K\rremote: Compressing objects:  88% (130/147)\u001b[K\rremote: Compressing objects:  89% (131/147)\u001b[K\rremote: Compressing objects:  90% (133/147)\u001b[K\rremote: Compressing objects:  91% (134/147)\u001b[K\rremote: Compressing objects:  92% (136/147)\u001b[K\rremote: Compressing objects:  93% (137/147)\u001b[K\rremote: Compressing objects:  94% (139/147)\u001b[K\rremote: Compressing objects:  95% (140/147)\u001b[K\rremote: Compressing objects:  96% (142/147)\u001b[K\rremote: Compressing objects:  97% (143/147)\u001b[K\rremote: Compressing objects:  98% (145/147)\u001b[K\rremote: Compressing objects:  99% (146/147)\u001b[K\rremote: Compressing objects: 100% (147/147)\u001b[K\rremote: Compressing objects: 100% (147/147), done.\u001b[K\n",
            "Receiving objects:   0% (1/194)   \rReceiving objects:   1% (2/194)   \rReceiving objects:   2% (4/194)   \rReceiving objects:   3% (6/194)   \rReceiving objects:   4% (8/194)   \rReceiving objects:   5% (10/194)   \rReceiving objects:   6% (12/194)   \rReceiving objects:   7% (14/194)   \rReceiving objects:   8% (16/194)   \rReceiving objects:   9% (18/194)   \rReceiving objects:  10% (20/194)   \rReceiving objects:  11% (22/194)   \rReceiving objects:  12% (24/194)   \rReceiving objects:  13% (26/194)   \rReceiving objects:  14% (28/194)   \rReceiving objects:  15% (30/194)   \rReceiving objects:  16% (32/194)   \rReceiving objects:  17% (33/194)   \rReceiving objects:  18% (35/194)   \rReceiving objects:  19% (37/194)   \rReceiving objects:  20% (39/194)   \rReceiving objects:  21% (41/194)   \rReceiving objects:  22% (43/194)   \rReceiving objects:  23% (45/194)   \rReceiving objects:  24% (47/194)   \rReceiving objects:  25% (49/194)   \rReceiving objects:  26% (51/194)   \rReceiving objects:  27% (53/194)   \rReceiving objects:  28% (55/194)   \rReceiving objects:  29% (57/194)   \rReceiving objects:  30% (59/194)   \rReceiving objects:  31% (61/194)   \rReceiving objects:  32% (63/194)   \rReceiving objects:  33% (65/194)   \rReceiving objects:  34% (66/194)   \rReceiving objects:  35% (68/194)   \rReceiving objects:  36% (70/194)   \rReceiving objects:  37% (72/194)   \rReceiving objects:  38% (74/194)   \rReceiving objects:  39% (76/194)   \rReceiving objects:  40% (78/194)   \rReceiving objects:  41% (80/194)   \rReceiving objects:  42% (82/194)   \rReceiving objects:  43% (84/194)   \rReceiving objects:  44% (86/194)   \rReceiving objects:  45% (88/194)   \rReceiving objects:  46% (90/194)   \rReceiving objects:  47% (92/194)   \rReceiving objects:  48% (94/194)   \rReceiving objects:  49% (96/194)   \rReceiving objects:  50% (97/194)   \rReceiving objects:  51% (99/194)   \rReceiving objects:  52% (101/194)   \rReceiving objects:  53% (103/194)   \rReceiving objects:  54% (105/194)   \rReceiving objects:  55% (107/194)   \rReceiving objects:  56% (109/194)   \rReceiving objects:  57% (111/194)   \rReceiving objects:  58% (113/194)   \rReceiving objects:  59% (115/194)   \rReceiving objects:  60% (117/194)   \rReceiving objects:  61% (119/194)   \rReceiving objects:  62% (121/194)   \rReceiving objects:  63% (123/194)   \rReceiving objects:  64% (125/194)   \rReceiving objects:  65% (127/194)   \rReceiving objects:  66% (129/194)   \rReceiving objects:  67% (130/194)   \rReceiving objects:  68% (132/194)   \rReceiving objects:  69% (134/194)   \rReceiving objects:  70% (136/194)   \rReceiving objects:  71% (138/194)   \rReceiving objects:  72% (140/194)   \rReceiving objects:  73% (142/194)   \rReceiving objects:  74% (144/194)   \rReceiving objects:  75% (146/194)   \rReceiving objects:  76% (148/194)   \rReceiving objects:  77% (150/194)   \rReceiving objects:  78% (152/194)   \rReceiving objects:  79% (154/194)   \rReceiving objects:  80% (156/194)   \rReceiving objects:  81% (158/194)   \rReceiving objects:  82% (160/194)   \rReceiving objects:  83% (162/194)   \rReceiving objects:  84% (163/194)   \rReceiving objects:  85% (165/194)   \rReceiving objects:  86% (167/194)   \rReceiving objects:  87% (169/194)   \rReceiving objects:  88% (171/194)   \rReceiving objects:  89% (173/194)   \rReceiving objects:  90% (175/194)   \rReceiving objects:  91% (177/194)   \rReceiving objects:  92% (179/194)   \rReceiving objects:  93% (181/194)   \rReceiving objects:  94% (183/194)   \rReceiving objects:  95% (185/194)   \rReceiving objects:  96% (187/194)   \rremote: Total 194 (delta 112), reused 108 (delta 45), pack-reused 0\u001b[K\n",
            "Receiving objects:  97% (189/194)   \rReceiving objects:  98% (191/194)   \rReceiving objects:  99% (193/194)   \rReceiving objects: 100% (194/194)   \rReceiving objects: 100% (194/194), 1.35 MiB | 12.21 MiB/s, done.\n",
            "Resolving deltas:   0% (0/112)   \rResolving deltas:  23% (26/112)   \rResolving deltas:  45% (51/112)   \rResolving deltas:  48% (54/112)   \rResolving deltas:  55% (62/112)   \rResolving deltas:  56% (63/112)   \rResolving deltas:  57% (64/112)   \rResolving deltas:  70% (79/112)   \rResolving deltas:  75% (85/112)   \rResolving deltas:  76% (86/112)   \rResolving deltas:  82% (92/112)   \rResolving deltas:  84% (95/112)   \rResolving deltas:  89% (100/112)   \rResolving deltas:  92% (104/112)   \rResolving deltas:  93% (105/112)   \rResolving deltas:  94% (106/112)   \rResolving deltas:  95% (107/112)   \rResolving deltas:  96% (108/112)   \rResolving deltas:  97% (109/112)   \rResolving deltas: 100% (112/112)   \rResolving deltas: 100% (112/112), done.\n"
          ],
          "name": "stdout"
        }
      ]
    },
    {
      "cell_type": "code",
      "metadata": {
        "id": "mm_6_Jc8bclR",
        "colab_type": "code",
        "colab": {}
      },
      "source": [
        "!rm -r /content/AdvitiyaHackathon"
      ],
      "execution_count": 0,
      "outputs": []
    },
    {
      "cell_type": "code",
      "metadata": {
        "id": "a2Ec1v5Oo9gH",
        "colab_type": "code",
        "outputId": "68076500-324a-4452-92ea-72af47955d8c",
        "colab": {
          "base_uri": "https://localhost:8080/",
          "height": 128
        }
      },
      "source": [
        "from google.colab import drive\n",
        "drive.mount('/content/drive')\n"
      ],
      "execution_count": 2,
      "outputs": [
        {
          "output_type": "stream",
          "text": [
            "Go to this URL in a browser: https://accounts.google.com/o/oauth2/auth?client_id=947318989803-6bn6qk8qdgf4n4g3pfee6491hc0brc4i.apps.googleusercontent.com&redirect_uri=urn%3aietf%3awg%3aoauth%3a2.0%3aoob&response_type=code&scope=email%20https%3a%2f%2fwww.googleapis.com%2fauth%2fdocs.test%20https%3a%2f%2fwww.googleapis.com%2fauth%2fdrive%20https%3a%2f%2fwww.googleapis.com%2fauth%2fdrive.photos.readonly%20https%3a%2f%2fwww.googleapis.com%2fauth%2fpeopleapi.readonly\n",
            "\n",
            "Enter your authorization code:\n",
            "··········\n",
            "Mounted at /content/drive\n"
          ],
          "name": "stdout"
        }
      ]
    },
    {
      "cell_type": "code",
      "metadata": {
        "id": "qWJqkXoGt7fn",
        "colab_type": "code",
        "outputId": "babdaef4-624e-43c5-cc78-48ad16d0368a",
        "colab": {
          "base_uri": "https://localhost:8080/",
          "height": 219
        }
      },
      "source": [
        "!pip install beautifulsoup4==4.8.2"
      ],
      "execution_count": 0,
      "outputs": [
        {
          "output_type": "stream",
          "text": [
            "Collecting beautifulsoup4==4.8.2\n",
            "\u001b[?25l  Downloading https://files.pythonhosted.org/packages/cb/a1/c698cf319e9cfed6b17376281bd0efc6bfc8465698f54170ef60a485ab5d/beautifulsoup4-4.8.2-py3-none-any.whl (106kB)\n",
            "\r\u001b[K     |███                             | 10kB 22.9MB/s eta 0:00:01\r\u001b[K     |██████▏                         | 20kB 27.3MB/s eta 0:00:01\r\u001b[K     |█████████▏                      | 30kB 32.9MB/s eta 0:00:01\r\u001b[K     |████████████▎                   | 40kB 37.2MB/s eta 0:00:01\r\u001b[K     |███████████████▎                | 51kB 26.5MB/s eta 0:00:01\r\u001b[K     |██████████████████▍             | 61kB 29.0MB/s eta 0:00:01\r\u001b[K     |█████████████████████▌          | 71kB 21.7MB/s eta 0:00:01\r\u001b[K     |████████████████████████▌       | 81kB 23.1MB/s eta 0:00:01\r\u001b[K     |███████████████████████████▋    | 92kB 24.7MB/s eta 0:00:01\r\u001b[K     |██████████████████████████████▋ | 102kB 23.0MB/s eta 0:00:01\r\u001b[K     |████████████████████████████████| 112kB 23.0MB/s \n",
            "\u001b[?25hCollecting soupsieve>=1.2\n",
            "  Downloading https://files.pythonhosted.org/packages/81/94/03c0f04471fc245d08d0a99f7946ac228ca98da4fa75796c507f61e688c2/soupsieve-1.9.5-py2.py3-none-any.whl\n",
            "Installing collected packages: soupsieve, beautifulsoup4\n",
            "  Found existing installation: beautifulsoup4 4.6.3\n",
            "    Uninstalling beautifulsoup4-4.6.3:\n",
            "      Successfully uninstalled beautifulsoup4-4.6.3\n",
            "Successfully installed beautifulsoup4-4.8.2 soupsieve-1.9.5\n"
          ],
          "name": "stdout"
        }
      ]
    },
    {
      "cell_type": "code",
      "metadata": {
        "id": "jh6OWVu-o7NR",
        "colab_type": "code",
        "outputId": "b1a5f80b-5fcc-439d-ca53-eb2206d7b3ec",
        "colab": {
          "base_uri": "https://localhost:8080/",
          "height": 72
        }
      },
      "source": [
        "import pandas as pd\n",
        "import re \n",
        "import matplotlib.pyplot as plt\n",
        "# ~ Import packages ~ #\n",
        "from AdvitiyaHackathon.google_patent_scrapper import scraper_class\n",
        "import json\n",
        "import os\n",
        "import spacy\n",
        "\n",
        "from nltk.corpus import stopwords\n",
        "import string\n",
        "import spacy #load spacy\n",
        "\n",
        "import nltk\n",
        "nltk.download('stopwords')\n",
        "\n"
      ],
      "execution_count": 3,
      "outputs": [
        {
          "output_type": "stream",
          "text": [
            "[nltk_data] Downloading package stopwords to /root/nltk_data...\n",
            "[nltk_data]   Unzipping corpora/stopwords.zip.\n"
          ],
          "name": "stdout"
        },
        {
          "output_type": "execute_result",
          "data": {
            "text/plain": [
              "True"
            ]
          },
          "metadata": {
            "tags": []
          },
          "execution_count": 3
        }
      ]
    },
    {
      "cell_type": "code",
      "metadata": {
        "id": "pqgnwxU9s1GM",
        "colab_type": "code",
        "colab": {}
      },
      "source": [
        "\n",
        "%%capture\n",
        "from tqdm import tnrange\n",
        "from tqdm import tqdm_notebook as tqdm\n",
        "\n",
        "\n"
      ],
      "execution_count": 0,
      "outputs": []
    },
    {
      "cell_type": "code",
      "metadata": {
        "id": "Wjcoci08s7wh",
        "colab_type": "code",
        "outputId": "535f5722-5d2d-4c70-f7fb-c01927398082",
        "colab": {
          "base_uri": "https://localhost:8080/",
          "height": 122,
          "referenced_widgets": [
            "a6147ad18ab841a1955993b93aaf2d25",
            "1b45067f040b4631a852ef98fbd0c45a",
            "cd96a6f3ce4c4c9087cd73d1a4d6d631",
            "bc35e25fff174e7dbfcd17a22bb86dbd",
            "421fc4d6064e4aafb61fb78eef5eba3d",
            "8aeab968ee99409fabe86a833e052f1c",
            "9ac62592d7704bdc8370e517c251932b",
            "3233786988f84680a1e8ebfd26ebe423"
          ]
        }
      },
      "source": [
        "\n",
        "import time\n",
        "for i in tqdm([1,2,3],desc = \"wabalabadubdub\") :\n",
        "  print(i)\n",
        "  time.sleep(.1)"
      ],
      "execution_count": 5,
      "outputs": [
        {
          "output_type": "display_data",
          "data": {
            "application/vnd.jupyter.widget-view+json": {
              "model_id": "a6147ad18ab841a1955993b93aaf2d25",
              "version_minor": 0,
              "version_major": 2
            },
            "text/plain": [
              "HBox(children=(IntProgress(value=0, description='wabalabadubdub', max=3, style=ProgressStyle(description_width…"
            ]
          },
          "metadata": {
            "tags": []
          }
        },
        {
          "output_type": "stream",
          "text": [
            "1\n",
            "2\n",
            "3\n",
            "\n"
          ],
          "name": "stdout"
        }
      ]
    },
    {
      "cell_type": "code",
      "metadata": {
        "id": "TYzFEsYCrd88",
        "colab_type": "code",
        "colab": {}
      },
      "source": [
        "drive_pt=\"/content/drive/My Drive/dl_projects/AdvitiyaHackathon/\"\n",
        "\n",
        "git_path = \"AdvitiyaHackathon/\"\n",
        "path = drive_pt+\"ScrappeData\""
      ],
      "execution_count": 0,
      "outputs": []
    },
    {
      "cell_type": "code",
      "metadata": {
        "id": "NUbSwTnQo7NY",
        "colab_type": "code",
        "colab": {}
      },
      "source": [
        "\n",
        "dataCsv = pd.read_csv(git_path+\"data.csv\", index_col=0)\n",
        "# ~ Initialize scraper class ~ #\n",
        "scraper=scraper_class()\n"
      ],
      "execution_count": 0,
      "outputs": []
    },
    {
      "cell_type": "code",
      "metadata": {
        "id": "Mt4fD149o7Nc",
        "colab_type": "code",
        "outputId": "af823e36-61b2-4a85-9797-759e12ac0a3a",
        "colab": {
          "base_uri": "https://localhost:8080/",
          "height": 146
        }
      },
      "source": [
        "\n",
        "\n",
        "patent_1 = 'CN104651159A'\n",
        "patent_2 = 'US266827A'\n",
        "scrapped_data = scraper.scrap_single_patent(patent_1)\n",
        "err_1, soup_1, url_1 = scraper.request_single_patent(patent_1)\n",
        "patent_1_parsed = scraper.get_scraped_data(soup_1,patent_1,url_1)\n",
        "\n",
        "with open(drive_pt+\"sample.json\", 'w') as file:\n",
        "    json.dump(scrapped_data, file)\n",
        "patent_1_parsed"
      ],
      "execution_count": 0,
      "outputs": [
        {
          "output_type": "execute_result",
          "data": {
            "text/plain": [
              "{'abstract': '\" The invention discloses a brewing process of a prickly pear fruit wine. The prickly pear fruit wine is brewed by taking fresh, ripe and plump prickly pears as main raw materials and through the steps of raw material pretreatment; pulping and soaking; compound enzyme treatment; matrix pretreatment; raw material mixing; fermenting; squeezing and filtering; mixing; ageing; and canning and sterilizing. According to the brewing process, the pulps and peels of the raw materials are separated, the pulps are pulped, and the peels are soaked in a white wine with a high alcohol degree, so that the utilization ratio of the raw materials is greatly increased; the fruit wine is clarified by using a compound clarifying gent, so that the transparency of a finished product of the wine is improved; and the prickly pear fruit wine has the health effects of tonifying the spleen and benefiting the stomach, promoting the production of body fluid to relieve thirst, astringing to stop bleeding, replenishing qi and enriching blood and the like.\"',\n",
              " 'claims': '\" 1. a making method for prickly-pear cactus fruit wine, is characterized in that: described making method adopts following steps: A, raw materials pretreatment: select fresh, ripe prickly-pear cactus, remove the impurity such as surface spikes, dust, earth, and clean with clear water, and peeled through peeling machine by prickly-pear cactus, obtain prickly-pear cactus pulp and prickly-pear cactus pericarp; B, making beating: in prickly-pear cactus pulp, add its weight 35-45% concentration is that the sodium ascorbate solution of 20-25% is pulled an oar, obtained prickly-pear cactus slurries; C, immersion: prickly-pear cactus pericarp being put into its weight 2-3 alcoholic strength is doubly that the white wine of 65-70% soaks 30-40 days, soak and terminate rear filtration and obtain soaking wine and prickly-pear cactus pericarp, be filtered dry by prickly-pear cactus pericarp and pulverize, obtain prickly-pear cactus fruit peel powder; D, prozyme process: in prickly-pear cactus slurries, add the polygalacturonase of its weight 0.3-0.4%, the cellulase of 0.2-0.3%, control temperature is 40-50 DEG C, the time is 4-6 hour; E, matrix pre-treatment: in Rhizoma Dioscoreae powder, add the prickly-pear cactus slurries after the enzymolysis of its weight 35-45%, rub into steamed bread of corn shape, place steamed bread of corn in steam cooker and cook to ripe and do not stick with paste, spread cooling, obtained matrix; F, raw material mix: the prickly-pear cactus fruit peel powder adding its weight 50-60% in matrix, stirs, and obtained compound, adds the wheat koji of 25-35%, the tap water of 130-150%, the distiller\\'s yeast of 5-8%, mix in compound, obtained wine unstrained spirits; G, fermentation: by the temperature control of wine unstrained spirits product at 25-35 DEG C, when in wine unstrained spirits, ethanol concn reaches 22-25% volume ratio, fermentation ends; H, squeeze and filter: wine unstrained spirits good for secondary fermentation is squeezed, obtained fermented wine, adds the tannin of its weight 0.3-0.4%, the diatomite of 0.02-0.03%, mixes in fermented wine, leaves standstill 8-12 days, carries out separation and obtain prickly-pear cactus pure mellow wine and wine mud; I, mixing: get the soaking wine 25-35 weight part in step c, prickly-pear cactus pure mellow wine 65-75 weight part in step h, stir, the obtained former wine of prickly-pear cactus; J, ageing: adopt microwave-assisted deepfreeze to accelerate pure mellow wine ageing, microwave frequency 900-1200MHz, deepfreeze time 50-60 days, temperature 4-6 DEG C; K, canned sterilization: carry out pasteurize after tinning, temperature 75-85 DEG C, time 15-20min, obtained prickly-pear cactus fruit wine.\"',\n",
              " 'classification': '\" CHEMISTRY; METALLURGY BIOCHEMISTRY; BEER; SPIRITS; WINE; VINEGAR; MICROBIOLOGY; ENZYMOLOGY; MUTATION OR GENETIC ENGINEERING WINE; OTHER ALCOHOLIC BEVERAGES; PREPARATION THEREOF Preparation of other alcoholic beverages Preparation of other alcoholic beverages by mixing, e.g. for preparation of liqueurs CHEMISTRY; METALLURGY BIOCHEMISTRY; BEER; SPIRITS; WINE; VINEGAR; MICROBIOLOGY; ENZYMOLOGY; MUTATION OR GENETIC ENGINEERING WINE; OTHER ALCOHOLIC BEVERAGES; PREPARATION THEREOF Preparation of other alcoholic beverages Preparation of other alcoholic beverages by fermentation CHEMISTRY; METALLURGY BIOCHEMISTRY; BEER; SPIRITS; WINE; VINEGAR; MICROBIOLOGY; ENZYMOLOGY; MUTATION OR GENETIC ENGINEERING PASTEURISATION, STERILISATION, PRESERVATION, PURIFICATION, CLARIFICATION OR AGEING OF ALCOHOLIC BEVERAGES; METHODS FOR ALTERING THE ALCOHOL CONTENT OF FERMENTED SOLUTIONS OR ALCOHOLIC BEVERAGES Pasteurisation, sterilisation, preservation, purification, clarification, or ageing of alcoholic beverages Pasteurisation, sterilisation, preservation, purification, clarification, or ageing of alcoholic beverages combined with removal of precipitate or added materials, e.g. adsorption material Pasteurisation, sterilisation, preservation, purification, clarification, or ageing of alcoholic beverages combined with removal of precipitate or added materials, e.g. adsorption material with the aid of ion-exchange material or inert clarification material, e.g. adsorption material Pasteurisation, sterilisation, preservation, purification, clarification, or ageing of alcoholic beverages combined with removal of precipitate or added materials, e.g. adsorption material with the aid of ion-exchange material or inert clarification material, e.g. adsorption material with the aid of inorganic added material CHEMISTRY; METALLURGY BIOCHEMISTRY; BEER; SPIRITS; WINE; VINEGAR; MICROBIOLOGY; ENZYMOLOGY; MUTATION OR GENETIC ENGINEERING PASTEURISATION, STERILISATION, PRESERVATION, PURIFICATION, CLARIFICATION OR AGEING OF ALCOHOLIC BEVERAGES; METHODS FOR ALTERING THE ALCOHOL CONTENT OF FERMENTED SOLUTIONS OR ALCOHOLIC BEVERAGES Pasteurisation, sterilisation, preservation, purification, clarification, or ageing of alcoholic beverages Pasteurisation, sterilisation, preservation, purification, clarification, or ageing of alcoholic beverages combined with removal of precipitate or added materials, e.g. adsorption material Pasteurisation, sterilisation, preservation, purification, clarification, or ageing of alcoholic beverages combined with removal of precipitate or added materials, e.g. adsorption material with the aid of ion-exchange material or inert clarification material, e.g. adsorption material Pasteurisation, sterilisation, preservation, purification, clarification, or ageing of alcoholic beverages combined with removal of precipitate or added materials, e.g. adsorption material with the aid of ion-exchange material or inert clarification material, e.g. adsorption material with the aid of organic added material\"',\n",
              " 'patent': 'CN104651159A',\n",
              " 'title': '\" - Brewing process of prickly pear fruit wine          - \"',\n",
              " 'url': 'https://patents.google.com/patent/CN104651159A/en?'}"
            ]
          },
          "metadata": {
            "tags": []
          },
          "execution_count": 5
        }
      ]
    },
    {
      "cell_type": "code",
      "metadata": {
        "id": "8v_YR-bro7Nh",
        "colab_type": "code",
        "colab": {}
      },
      "source": [
        "\"\"\"\n",
        "os.mkdir(drive_pt+\"ScrappeData\")\n",
        "os.mkdir(drive_pt+\"ScrappeData/non_alc\")\n",
        "os.mkdir(drive_pt+\"ScrappeData/alc\")\n",
        "os.mkdir(drive_pt+\"ScrappeData/non_auto\")\n",
        "os.mkdir(drive_pt+\"ScrappeData/auto\")\n",
        "\"\"\""
      ],
      "execution_count": 0,
      "outputs": []
    },
    {
      "cell_type": "code",
      "metadata": {
        "id": "tuwc3Ov4o7Nl",
        "colab_type": "code",
        "colab": {}
      },
      "source": [
        "# Make a separate list for each category\n",
        "non_alc = list(dataCsv.iloc[:,0])\n",
        "alc = list(dataCsv.iloc[:,2])\n",
        "non_auto = list(dataCsv.iloc[:,4])\n",
        "auto = list(dataCsv.iloc[:,6])"
      ],
      "execution_count": 0,
      "outputs": []
    },
    {
      "cell_type": "code",
      "metadata": {
        "id": "FwpXV8dmo7No",
        "colab_type": "code",
        "colab": {
          "base_uri": "https://localhost:8080/",
          "height": 55
        },
        "outputId": "58f2f784-5833-4107-d7da-9931c215368d"
      },
      "source": [
        "\n",
        "names = [\"non_alc\", \"alc\", \"non_auto\", \"auto\"]\n",
        "catwise_patent_lists = [non_alc, alc, non_auto, auto]\n",
        "\n",
        "\"\"\"\n",
        "for index in tnrange(4, desc = \"CatList\"):\n",
        "    patents = catwise_patent_lists[index]\n",
        "    cat_folder  = names[index]\n",
        "    cat_list = catwise_patent_lists[index]\n",
        "    for patent in tqdm(cat_list,desc  = \"patents\"):\n",
        "        scrappedJson = scraper.scrap_single_patent(patent)\n",
        "        filename = os.path.join(path,cat_folder,str(patent)+\".json\")\n",
        "        with open(filename, 'w') as file:\n",
        "            json.dump(scrappedJson, file)\n",
        "     \"\"\"    "
      ],
      "execution_count": 9,
      "outputs": [
        {
          "output_type": "execute_result",
          "data": {
            "text/plain": [
              "'\\nfor index in tnrange(4, desc = \"CatList\"):\\n    patents = catwise_patent_lists[index]\\n    cat_folder  = names[index]\\n    cat_list = catwise_patent_lists[index]\\n    for patent in tqdm(cat_list,desc  = \"patents\"):\\n        scrappedJson = scraper.scrap_single_patent(patent)\\n        filename = os.path.join(path,cat_folder,str(patent)+\".json\")\\n        with open(filename, \\'w\\') as file:\\n            json.dump(scrappedJson, file)\\n     '"
            ]
          },
          "metadata": {
            "tags": []
          },
          "execution_count": 9
        }
      ]
    },
    {
      "cell_type": "code",
      "metadata": {
        "id": "CEO0oYKWo7Nz",
        "colab_type": "code",
        "outputId": "59e8a528-1ed4-4249-ca89-8473cda743af",
        "colab": {}
      },
      "source": [
        "print(([{'inventor_name':x.get_text()} for x in soup_1.select(\".title\",limit = 30)]))"
      ],
      "execution_count": 0,
      "outputs": [
        {
          "output_type": "stream",
          "text": [
            "[]\n"
          ],
          "name": "stdout"
        }
      ]
    },
    {
      "cell_type": "code",
      "metadata": {
        "id": "wAz5uozDo7N3",
        "colab_type": "code",
        "colab": {}
      },
      "source": [
        "print([{'inventor_name':x.get_text()} for x in soup_1.find('title')])"
      ],
      "execution_count": 0,
      "outputs": []
    },
    {
      "cell_type": "code",
      "metadata": {
        "id": "eWT_sl8Eo7N_",
        "colab_type": "code",
        "colab": {}
      },
      "source": [
        "*(soup_1.select(\".abstract\")).get_text()"
      ],
      "execution_count": 0,
      "outputs": []
    },
    {
      "cell_type": "code",
      "metadata": {
        "id": "m7Z95j3lo7OC",
        "colab_type": "code",
        "colab": {}
      },
      "source": [
        "print(soup_1.find('title').get_text())"
      ],
      "execution_count": 0,
      "outputs": []
    },
    {
      "cell_type": "code",
      "metadata": {
        "id": "-LWVGX2Jo7OF",
        "colab_type": "code",
        "colab": {}
      },
      "source": [
        ""
      ],
      "execution_count": 0,
      "outputs": []
    },
    {
      "cell_type": "markdown",
      "metadata": {
        "id": "qIBlEzBQkdqw",
        "colab_type": "text"
      },
      "source": [
        "**Data** **cleaning**"
      ]
    },
    {
      "cell_type": "code",
      "metadata": {
        "id": "0Y7B8JDBmZXx",
        "colab_type": "code",
        "colab": {}
      },
      "source": [
        "# Make a separate list for each category\n",
        "non_alc_json_pt = [os.path.join(path,names[0],p_num+\".json\") for p_num in catwise_patent_lists[0]]\n",
        "alc_json_pt = [os.path.join(path,names[1],p_num+\".json\") for p_num in catwise_patent_lists[1]]\n",
        "non_auto_json_pt = [os.path.join(path,names[2],p_num+\".json\") for p_num in catwise_patent_lists[2]]\n",
        "auto_json_pt = [os.path.join(path,names[3],p_num+\".json\") for p_num in catwise_patent_lists[3]]"
      ],
      "execution_count": 0,
      "outputs": []
    },
    {
      "cell_type": "code",
      "metadata": {
        "id": "ygQq8G_SnnCg",
        "colab_type": "code",
        "colab": {
          "base_uri": "https://localhost:8080/",
          "height": 35
        },
        "outputId": "9a6911a8-5585-4191-bb48-323d74734de3"
      },
      "source": [
        "non_alc_json_pt[1]"
      ],
      "execution_count": 10,
      "outputs": [
        {
          "output_type": "execute_result",
          "data": {
            "text/plain": [
              "'/content/drive/My Drive/dl_projects/AdvitiyaHackathon/ScrappeData/non_alc/US9040109B2.json'"
            ]
          },
          "metadata": {
            "tags": []
          },
          "execution_count": 10
        }
      ]
    },
    {
      "cell_type": "code",
      "metadata": {
        "id": "q4B8ETMxr48N",
        "colab_type": "code",
        "colab": {}
      },
      "source": [
        "\n",
        "for index in tnrange(4, desc = \"CatList\"):\n",
        "    patents = catwise_patent_lists[index]\n",
        "    cat_folder  = names[index]\n",
        "    cat_list = catwise_patent_lists[index]\n",
        "    for patent in tqdm(cat_list,desc  = \"patents\"):\n",
        "        scrappedJson = scraper.scrap_single_patent(patent)\n",
        "        filename = os.path.join(path,cat_folder,str(patent)+\".json\")\n",
        "        with open(filename ) as file:\n",
        "            data = json.load(file)"
      ],
      "execution_count": 0,
      "outputs": []
    },
    {
      "cell_type": "code",
      "metadata": {
        "id": "7XZsFxVwwlQH",
        "colab_type": "code",
        "colab": {}
      },
      "source": [
        "class data_wrangler:\n",
        "  def __init__(self, data_csv_pt, max_limit = 10000, classification = True, abstract =False, claims  = False, all = False,\n",
        "               path = \"/content/drive/My Drive/dl_projects/AdvitiyaHackathon/ScrappeData\",\n",
        "               val = False):\n",
        "    self.patent_info = \"\"\n",
        "    self.path = path\n",
        "    self.max_limit = max_limit\n",
        "    self.class_names = [\"non_alc\", \"alc\", \"non_auto\", \"auto\"]\n",
        "    self.info_classes = [\"title\", 'classification' ]\n",
        "    self.data_csv_pt = data_csv_pt\n",
        "    self.csv  = pd.read_csv(self.data_csv_pt,index_col= 0)\n",
        "\n",
        "    self.nlp = spacy.load(\"en\", disable=['parser', 'tagger', 'ner'])\n",
        "    self.nlp.max_length = 50000000000\n",
        "    self.stops = stopwords.words(\"english\")\n",
        "    self.punctuations = string.punctuation\n",
        "\n",
        "    self.cleaned_data  = pd.DataFrame(columns= [\"text\",\"cat\"])\n",
        "\n",
        "    if abstract :\n",
        "      self.info_classes.append(\"abstract\")\n",
        "    if claims :\n",
        "      self.info_classes.append(\"claims\")\n",
        "    if all :\n",
        "      self.info_classes = [\"title\", \"claims\", 'classification', \"abstract\" ]\n",
        "\n",
        "\n",
        "\n",
        "    # Make a separate list for each category\n",
        "    self.non_alc = list(self.csv.iloc[:,0])\n",
        "    self.alc = list(self.csv.iloc[:,2])\n",
        "    self.non_auto = list(self.csv.iloc[:,4])\n",
        "    self.auto = list(self.csv.iloc[:,6])\n",
        "\n",
        "    self.catwise_patent_lists  = [self.non_alc, self.alc, self.non_auto, self.auto]\n",
        "\n",
        "    # Make a separate list for each category\n",
        "    self.non_alc_json_pt = [os.path.join(self.path,self.class_names[0],p_num+\".json\") for p_num in self.catwise_patent_lists[0]]\n",
        "    self.alc_json_pt = [os.path.join(self.path,self.class_names[1],p_num+\".json\") for p_num in self.catwise_patent_lists[1]]\n",
        "    self.non_auto_json_pt = [os.path.join(self.path,self.class_names[2],p_num+\".json\") for p_num in self.catwise_patent_lists[2]]\n",
        "    self.auto_json_pt = [os.path.join(self.path,self.class_names[3],p_num+\".json\") for p_num in self.catwise_patent_lists[3]]\n",
        "\n",
        "  \n",
        "    i = 0\n",
        "    for pt_list in tqdm([self.non_alc_json_pt,self.alc_json_pt,self.non_auto_json_pt, self.auto_json_pt], desc = \"CatList\"):\n",
        "    \n",
        "      try: \n",
        "      \n",
        "        for patent in tqdm(pt_list,desc  = \"patents\"):\n",
        "            with open(patent) as file:\n",
        "                data = json.load(file)\n",
        "            try:  \n",
        "              self.patent_info = \"\"\n",
        "              for info in self.info_classes:\n",
        "                self.patent_info += data[info]\n",
        "                if len(self.patent_info.split()) > self.max_limit:\n",
        "                  break\n",
        "            except Exception as e:\n",
        "              print(e)\n",
        "            self.patent_info = self.clean(self.patent_info)\n",
        "            self.cleaned_data = self.cleaned_data.append({\"text\":str(self.patent_info),\"cat\":i},ignore_index = True)\n",
        "        i += 1\n",
        "\n",
        "      except Exception as e:\n",
        "        print(e)\n",
        "    \n",
        "    if val:\n",
        "      self.cleaned_data.to_csv(\"final_val_clean.csv\")\n",
        "    else:\n",
        "      self.cleaned_data.to_csv(\"final_train_clean.csv\")\n",
        "\n",
        "    \n",
        "\n",
        "  def clean(self, comment, lowercase = True, remove_stopwords = True):\n",
        "    if lowercase:\n",
        "        comment = comment.lower()\n",
        "    comment = self.nlp(comment,disable = ['ner', 'parser', 'tagger'])\n",
        "    lemmatized = list()\n",
        "    for word in comment:\n",
        "        lemma = word.lemma_.strip()\n",
        "       \n",
        "        #len(re.findall('[^A-Za-z0-9]+',lemma))==0 for removing alphanumerals in b/w strings\n",
        "\n",
        "        if lemma:\n",
        "            if not remove_stopwords or (remove_stopwords and lemma not in self.stops and not (\"\\\\\" in r\"%r\" % lemma)  ):\n",
        "                lemma = re.sub(\"[^a-zA-Z]\",  # Search for all non-letters\n",
        "                          \" \",          # Replace all non-letters with spaces\n",
        "                          str(lemma))\n",
        "                lemmatized.append(lemma)\n",
        "    return \" \".join(lemmatized)\n"
      ],
      "execution_count": 0,
      "outputs": []
    },
    {
      "cell_type": "code",
      "metadata": {
        "id": "VZXBjmuih52i",
        "colab_type": "code",
        "outputId": "f1921eb5-bcd0-4ced-b47f-e69a66a01cac",
        "colab": {
          "base_uri": "https://localhost:8080/",
          "height": 214,
          "referenced_widgets": [
            "7a968d430e3a44a5bd6855229121a541",
            "26178149141d4d178d4699c1ee15c366",
            "b5483803e2614e419e23a9f1f8d64064",
            "b18133bae63047c8b1b9070f4f0c0236",
            "f352e18b1cfc41deb1ea16fb508a2276",
            "3ce8b705ebc641afb365d905db208120",
            "0ae56e41357a4b9292be8098877cb1fd",
            "e318b388cc7e42b483b5b29361094e89",
            "15e6070763ac45a1b62e852b022ba9bf",
            "4a1d9000c4f941489a091eae8881fb2c",
            "fca48dcd99654b27b2372b0dc2d044f8",
            "1bdd6c67508940aea57c7fd1ceeb182e",
            "723d83a25336425fa5c78dcd5675166c",
            "b01bce8fbe7a458fae42f81de877f8db",
            "8862acc243884748a095b177c911459e",
            "970417e51bf74bd2abfa11577b195176",
            "faa5521fd4c841299854a33b575b5797",
            "3ee06d1d544940c6999e41541c462fbb",
            "81a65d39618e4668b62147f16f437c7f",
            "f23e28bd16114757894798d903a803df",
            "ae01157c67964f97bc8a9ae28774ad24",
            "aca02f08bd4f4bbea2e70b2e4a7eb36f",
            "928b0fb52860412e9838f366c8af6609",
            "1c8f84cea9f7445b9ddf666053c27eef",
            "4b8c89cc0f254aa08d4423265552a819",
            "aaff3ee141974f0b8152927ee3e44bca",
            "13a4ac494a994a10ad3f9e2c0c5fd1a4",
            "b52017e01648423c9aad7aeded4ed1ad",
            "04c9a9fb6f2f4a78836114a5e6c163e0",
            "921943ac6628410ba49e401b71a06255",
            "a2bbb8601a3f49b7a2da3c0fc565e9ca",
            "b883d9aa4d234bd0a3650f1a4ffecec8",
            "9f7f5844dc374423bd0e7d8e609f0250",
            "337bb8868f5541569d8fa376ccddbe5f",
            "e4029ff6dba64d2aaa1ac00e36927d5f",
            "cfd6b8744f064d308e1802dfe23076ff",
            "01fd42e121c94de99b35879a5ee3ee37",
            "de87b6032dfa409383b05099818f65a3",
            "897cba4808b34987b7c8628e8e5a4841",
            "9a12a9fd9f7a4ca28958bdb87d5001ba"
          ]
        }
      },
      "source": [
        "data_wrangler(git_path+\"val_split.csv\",val=True, all = True, abstract= True)"
      ],
      "execution_count": 12,
      "outputs": [
        {
          "output_type": "display_data",
          "data": {
            "application/vnd.jupyter.widget-view+json": {
              "model_id": "7a968d430e3a44a5bd6855229121a541",
              "version_minor": 0,
              "version_major": 2
            },
            "text/plain": [
              "HBox(children=(IntProgress(value=0, description='CatList', max=4, style=ProgressStyle(description_width='initi…"
            ]
          },
          "metadata": {
            "tags": []
          }
        },
        {
          "output_type": "display_data",
          "data": {
            "application/vnd.jupyter.widget-view+json": {
              "model_id": "15e6070763ac45a1b62e852b022ba9bf",
              "version_minor": 0,
              "version_major": 2
            },
            "text/plain": [
              "HBox(children=(IntProgress(value=0, description='patents', max=20, style=ProgressStyle(description_width='init…"
            ]
          },
          "metadata": {
            "tags": []
          }
        },
        {
          "output_type": "display_data",
          "data": {
            "application/vnd.jupyter.widget-view+json": {
              "model_id": "faa5521fd4c841299854a33b575b5797",
              "version_minor": 0,
              "version_major": 2
            },
            "text/plain": [
              "HBox(children=(IntProgress(value=0, description='patents', max=20, style=ProgressStyle(description_width='init…"
            ]
          },
          "metadata": {
            "tags": []
          }
        },
        {
          "output_type": "display_data",
          "data": {
            "application/vnd.jupyter.widget-view+json": {
              "model_id": "4b8c89cc0f254aa08d4423265552a819",
              "version_minor": 0,
              "version_major": 2
            },
            "text/plain": [
              "HBox(children=(IntProgress(value=0, description='patents', max=20, style=ProgressStyle(description_width='init…"
            ]
          },
          "metadata": {
            "tags": []
          }
        },
        {
          "output_type": "display_data",
          "data": {
            "application/vnd.jupyter.widget-view+json": {
              "model_id": "9f7f5844dc374423bd0e7d8e609f0250",
              "version_minor": 0,
              "version_major": 2
            },
            "text/plain": [
              "HBox(children=(IntProgress(value=0, description='patents', max=20, style=ProgressStyle(description_width='init…"
            ]
          },
          "metadata": {
            "tags": []
          }
        },
        {
          "output_type": "stream",
          "text": [
            "\n"
          ],
          "name": "stdout"
        },
        {
          "output_type": "execute_result",
          "data": {
            "text/plain": [
              "<__main__.data_wrangler at 0x7f494f18d908>"
            ]
          },
          "metadata": {
            "tags": []
          },
          "execution_count": 12
        }
      ]
    },
    {
      "cell_type": "code",
      "metadata": {
        "id": "cwgF3hjnBSBN",
        "colab_type": "code",
        "colab": {
          "base_uri": "https://localhost:8080/",
          "height": 195,
          "referenced_widgets": [
            "ac3b1f77f82e48569d599ce778460e64",
            "788ff8f24c7746f7aef5ab5c16b85fc2",
            "51e861200f5d43979483d6deb4899898",
            "c3399738d7954c0bba8864b431a9e2da",
            "be16a63a181746f78681a699b318b227",
            "e501edbd776e4fc0a78d56249215aa27",
            "7b4cfd045e1148709f15f576f5cbecb6",
            "ae7929231228454c80f378edfdf9bef1",
            "cc95295e3e3d4180bd8aa851e647f11e",
            "d28bb0ac750a432c8489af19e0c41dc9",
            "28d9d9b8bc4c450b9a9db5a3e1b9a5a0",
            "64bf60fc5c3d45e1b6e79a5777d272a5",
            "453c0c584f8e41b6b49372335a039267",
            "6159defc943e4b118d41c941399c7d22",
            "b2027adce08d43bb99b2f470469879ac",
            "30c0f8a44cb54132a60d2c04e357c9b1",
            "111d912b48b54929861c31a157bdbfed",
            "9a854b915ef74d0a8c21eb64c22629b1",
            "454194e7052f4f4ba7119df5fcae81e4",
            "9d8c9a33879b4a75a947200c15d56728",
            "954710394e754f1eb00b4f6d2a0db0d8",
            "ae0e155c7f9f452aaab5cd0319d78b85",
            "3b40b1bea7f14f7aa430a6d557b01144",
            "8d56acbdc8dd49fdb33f82bdf36e73c0",
            "ef1ed614a5934414b030d6f7d35a062a",
            "bd46ed34c6bd4b39a753391872dcfcf7",
            "6a31527d4feb4f1496ca37e0726a8dc4",
            "4fc03d81e1e94de7878875728debde32",
            "d34a80486b7b4d368052f2d258d9d4b7",
            "64e0f194875a40f1b77f4491dda5d874",
            "04d8c742ba7a4a759502cb0c9feb86bc",
            "0c0368b24c1f42488e0ff27734b4dc82",
            "e62cca08b62743c9babe61e4e16d2762",
            "905f900273ff47aaac732b59c83f0b3a",
            "d9e59863cf7047ca8c9e74e62cf62cfb",
            "8feeac4895f6429c8a86635e254e15ab",
            "12ecb86cab1b4da99330a656bda655e1",
            "cf37dda488d54b4683a7338be32b2929",
            "3f504921379f43a088b8cc529167a968",
            "9ea90c9d371140cd99c911f58d0c48cc"
          ]
        },
        "outputId": "80588315-73d7-4084-e8a4-3ad9ff70cedf"
      },
      "source": [
        "data_wrangler(git_path+\"train_split.csv\", all = True, abstract= True)"
      ],
      "execution_count": 0,
      "outputs": [
        {
          "output_type": "display_data",
          "data": {
            "application/vnd.jupyter.widget-view+json": {
              "model_id": "ac3b1f77f82e48569d599ce778460e64",
              "version_minor": 0,
              "version_major": 2
            },
            "text/plain": [
              "HBox(children=(IntProgress(value=0, description='CatList', max=4, style=ProgressStyle(description_width='initi…"
            ]
          },
          "metadata": {
            "tags": []
          }
        },
        {
          "output_type": "display_data",
          "data": {
            "application/vnd.jupyter.widget-view+json": {
              "model_id": "cc95295e3e3d4180bd8aa851e647f11e",
              "version_minor": 0,
              "version_major": 2
            },
            "text/plain": [
              "HBox(children=(IntProgress(value=0, description='patents', max=280, style=ProgressStyle(description_width='ini…"
            ]
          },
          "metadata": {
            "tags": []
          }
        },
        {
          "output_type": "stream",
          "text": [
            "'NoneType' object is not subscriptable\n"
          ],
          "name": "stdout"
        },
        {
          "output_type": "display_data",
          "data": {
            "application/vnd.jupyter.widget-view+json": {
              "model_id": "111d912b48b54929861c31a157bdbfed",
              "version_minor": 0,
              "version_major": 2
            },
            "text/plain": [
              "HBox(children=(IntProgress(value=0, description='patents', max=280, style=ProgressStyle(description_width='ini…"
            ]
          },
          "metadata": {
            "tags": []
          }
        },
        {
          "output_type": "display_data",
          "data": {
            "application/vnd.jupyter.widget-view+json": {
              "model_id": "ef1ed614a5934414b030d6f7d35a062a",
              "version_minor": 0,
              "version_major": 2
            },
            "text/plain": [
              "HBox(children=(IntProgress(value=0, description='patents', max=280, style=ProgressStyle(description_width='ini…"
            ]
          },
          "metadata": {
            "tags": []
          }
        },
        {
          "output_type": "display_data",
          "data": {
            "application/vnd.jupyter.widget-view+json": {
              "model_id": "e62cca08b62743c9babe61e4e16d2762",
              "version_minor": 0,
              "version_major": 2
            },
            "text/plain": [
              "HBox(children=(IntProgress(value=0, description='patents', max=280, style=ProgressStyle(description_width='ini…"
            ]
          },
          "metadata": {
            "tags": []
          }
        }
      ]
    },
    {
      "cell_type": "code",
      "metadata": {
        "id": "MpDl-Nanh5mV",
        "colab_type": "code",
        "colab": {}
      },
      "source": [
        "df1 = pd.read_csv(\"final_train_clean.csv\")\n",
        "df2 = pd.read_csv(\"final_val_clean.csv\")"
      ],
      "execution_count": 0,
      "outputs": []
    },
    {
      "cell_type": "code",
      "metadata": {
        "id": "99J64-a6BbYZ",
        "colab_type": "code",
        "colab": {}
      },
      "source": [
        "df1 = df1.sample(frac=1).reset_index(drop=True).dropna()\n",
        "df2 = df2.sample(frac=1).reset_index(drop=True).dropna()\n"
      ],
      "execution_count": 0,
      "outputs": []
    },
    {
      "cell_type": "code",
      "metadata": {
        "id": "5zWoMLm9BbU6",
        "colab_type": "code",
        "colab": {}
      },
      "source": [
        "df1.to_csv(drive_pt+\"claims_final_train_clean.csv\")\n",
        "df2.to_csv(drive_pt+\"claims_final_val_clean.csv\")"
      ],
      "execution_count": 0,
      "outputs": []
    },
    {
      "cell_type": "code",
      "metadata": {
        "id": "gZn20kKj_MAn",
        "colab_type": "code",
        "outputId": "38167a59-292e-4fe5-fdcb-d550872c42d3",
        "colab": {
          "base_uri": "https://localhost:8080/",
          "height": 298
        }
      },
      "source": [
        "(a.iloc[0,:1]).value"
      ],
      "execution_count": 0,
      "outputs": [
        {
          "output_type": "error",
          "ename": "AttributeError",
          "evalue": "ignored",
          "traceback": [
            "\u001b[0;31m---------------------------------------------------------------------------\u001b[0m",
            "\u001b[0;31mAttributeError\u001b[0m                            Traceback (most recent call last)",
            "\u001b[0;32m<ipython-input-27-8bd32b1e5d30>\u001b[0m in \u001b[0;36m<module>\u001b[0;34m()\u001b[0m\n\u001b[0;32m----> 1\u001b[0;31m \u001b[0;34m(\u001b[0m\u001b[0ma\u001b[0m\u001b[0;34m.\u001b[0m\u001b[0miloc\u001b[0m\u001b[0;34m[\u001b[0m\u001b[0;36m0\u001b[0m\u001b[0;34m,\u001b[0m\u001b[0;34m:\u001b[0m\u001b[0;36m1\u001b[0m\u001b[0;34m]\u001b[0m\u001b[0;34m)\u001b[0m\u001b[0;34m.\u001b[0m\u001b[0mvalue\u001b[0m\u001b[0;34m\u001b[0m\u001b[0;34m\u001b[0m\u001b[0m\n\u001b[0m",
            "\u001b[0;32m/usr/local/lib/python3.6/dist-packages/pandas/core/generic.py\u001b[0m in \u001b[0;36m__getattr__\u001b[0;34m(self, name)\u001b[0m\n\u001b[1;32m   5177\u001b[0m             \u001b[0;32mif\u001b[0m \u001b[0mself\u001b[0m\u001b[0;34m.\u001b[0m\u001b[0m_info_axis\u001b[0m\u001b[0;34m.\u001b[0m\u001b[0m_can_hold_identifiers_and_holds_name\u001b[0m\u001b[0;34m(\u001b[0m\u001b[0mname\u001b[0m\u001b[0;34m)\u001b[0m\u001b[0;34m:\u001b[0m\u001b[0;34m\u001b[0m\u001b[0;34m\u001b[0m\u001b[0m\n\u001b[1;32m   5178\u001b[0m                 \u001b[0;32mreturn\u001b[0m \u001b[0mself\u001b[0m\u001b[0;34m[\u001b[0m\u001b[0mname\u001b[0m\u001b[0;34m]\u001b[0m\u001b[0;34m\u001b[0m\u001b[0;34m\u001b[0m\u001b[0m\n\u001b[0;32m-> 5179\u001b[0;31m             \u001b[0;32mreturn\u001b[0m \u001b[0mobject\u001b[0m\u001b[0;34m.\u001b[0m\u001b[0m__getattribute__\u001b[0m\u001b[0;34m(\u001b[0m\u001b[0mself\u001b[0m\u001b[0;34m,\u001b[0m \u001b[0mname\u001b[0m\u001b[0;34m)\u001b[0m\u001b[0;34m\u001b[0m\u001b[0;34m\u001b[0m\u001b[0m\n\u001b[0m\u001b[1;32m   5180\u001b[0m \u001b[0;34m\u001b[0m\u001b[0m\n\u001b[1;32m   5181\u001b[0m     \u001b[0;32mdef\u001b[0m \u001b[0m__setattr__\u001b[0m\u001b[0;34m(\u001b[0m\u001b[0mself\u001b[0m\u001b[0;34m,\u001b[0m \u001b[0mname\u001b[0m\u001b[0;34m,\u001b[0m \u001b[0mvalue\u001b[0m\u001b[0;34m)\u001b[0m\u001b[0;34m:\u001b[0m\u001b[0;34m\u001b[0m\u001b[0;34m\u001b[0m\u001b[0m\n",
            "\u001b[0;31mAttributeError\u001b[0m: 'Series' object has no attribute 'value'"
          ]
        }
      ]
    },
    {
      "cell_type": "code",
      "metadata": {
        "id": "jSim_cZNklDe",
        "colab_type": "code",
        "outputId": "a21b3b7a-b497-4f4d-f255-6003f9983918",
        "colab": {
          "base_uri": "https://localhost:8080/",
          "height": 146
        }
      },
      "source": [
        "\n",
        "with open(alc_json_pt[200]) as json_file:\n",
        "    data = json.load(json_file)\n",
        "data    "
      ],
      "execution_count": 0,
      "outputs": [
        {
          "output_type": "execute_result",
          "data": {
            "text/plain": [
              "{'abstract': '\" A system and method for generating wort utilizing steam injection heating and stratified flow. The system mixes a fine ground grain with water to form a slurry. The slurry is pumped through a steam injection heater to form a mash. The heated mash enters into a stratified vessel that creates a stratified temperature profile from a first end to a second end. The stratified heating vessel allows the mash to flow from the first end to the second end without internal mixing. After retention within the mash coil, the wort is directed to a mash filtration unit. After filtration, the wort enters into a boil kettle and is heated using a second steam injection heater. The boil kettle includes a spray head that directs brewing liquor onto the wort to reduce foam within the boil kettle. Finally, the wort passes through a scraped surface sieve that removes particles from the heated wort.\"',\n",
              " 'claims': '\"  1. A system for generating wort from a slurry of milled grain and water or use in the brewing process, the system comprising: an expansion chamber that receive the slurry; a pump operable to draw the slurry from the expansion chamber; and a steam injection heater positioned downstream from the pump to heat the slurry and create a mash.  an expansion chamber that receive the slurry; a pump operable to draw the slurry from the expansion chamber; and a steam injection heater positioned downstream from the pump to heat the slurry and create a mash.  2. The system of claim 1 further comprising a stratified storage vessel positioned to receive the mash from the steam injection heater, wherein the stratified storage vessel prevents mixture within the mash as the mash moves through the stratified storage vessel.  3. The system of claim 2 wherein the stratified storage vessel is a stacked coil of pipe extending from a first end to a second end.  4. The system of claim 3 wherein the pipe has a constant diameter from the first end to the second end.  5. The system of claim 3 wherein the stacked coil has a constant inner and outer diameter from the first end to the second end.  6. The system of claim 2 further comprising a filtration unit positioned to receive the mash from the stratified storage vessel, wherein the filtration unit removes coarse particles from the mash to create a wort.  7. The system of claim 6 further comprising a boil kettle having an open interior sized to receive the wort, wherein the boil kettle includes a outlet coupled to a second steam injection heater operable to heat the wort and return the wort to the open interior.  8. The system of claim 7 further comprising a spray head positioned within the boil kettle and operable to direct a spray of liquid onto the wort contained within the open interior of the boil kettle.  9. The system of claim 8 wherein the spray of liquid is brewing liquor.  10. The system of claim 9 wherein the volume of brewing liquor directed through the spray head is measured.  11. The system of claim 7 further comprising a scraped surface sieve positioned to receive the wort from the boil kettle and operable to remove any solids from the wort.  12. The system of claim 7 further comprising: a holding tank positioned to receive the heated wort from the boil kettle a flow control valve positioned between the outlet of the boil kettle and the holding tank; and a discharge pump operable to direct the wort from the holding tank.  a holding tank positioned to receive the heated wort from the boil kettle; a flow control valve positioned between the outlet of the boil kettle and the holding tank; and a discharge pump operable to direct the wort from the holding tank.  13. A method of creating wort for use in the brewing process, the method comprising the steps of: milling a supply of grain into fine particles; mixing the milled supply of grain with water to form a slurry; and directing the slurry through a steam injection heater to heat the slurry and create a mash.  milling a supply of grain into fine particles; mixing the milled supply of grain with water to form a slurry; and directing the slurry through a steam injection heater to heat the slurry and create a mash.  14. The method of claim 13 further comprising the steps of: receiving the mash at a first end of a stratified storage vessel; and retaining the mash within the stratified storage vessel.  receiving the mash at a first end of a stratified storage vessel; and retaining the mash within the stratified storage vessel.  15. The method of claim 14 further comprising the step of removing the mash from a second end of the stratified storage vessel and directing the mash to a filtration unit to remove coarse particles from the mash to create a liquid wort.  16. The method of claim 14 further comprising the steps of: receiving the wort within an open interior of a boil kettle removing the wort from the boil kettle and heating the wort with a second steam injection heater returning the heated wort to the open interior of the boil kettle; and directing the wort from the open interior of the boil kettle for use in the fermentation process of brewing.  receiving the wort within an open interior of a boil kettle; removing the wort from the boil kettle and heating the wort with a second steam injection heater; returning the heated wort to the open interior of the boil kettle; and directing the wort from the open interior of the boil kettle for use in the fermentation process of brewing.  17. The method of claim 14 wherein the stratified storage vessel is a stacked coil of pipe extending from the first end to the second end, wherein the stacked coil prevent the mixing of the mash within the stacked coil.  18. The method of claim 16 further comprising the step of directing a spray of a brewing liquor onto the wort within the open interior of the boil kettle to reduce foaming.  19. The method of claim 18 wherein the spray of brewing liquor is directed through a spray head positioned within the open interior of the boil kettle.  20. The method of claim 16 further comprising the step of directing the wort from the boil kettle to a scraped surface sieve, wherein the scraped surface sieve operated to remove solids from the wort.  21. A system for reducing foaming in a boil kettle, comprising: a spray head positioned near an upper end of the boil kettle; a supply of brewing liquor connected to the spray head; a flow control valve operable to allow the supply of brewing liquor to pass into the spray head; and at least one flow sensor operable to measure the amount of brewing liquor directed into the boil kettle through the spray head.  a spray head positioned near an upper end of the boil kettle; a supply of brewing liquor connected to the spray head; a flow control valve operable to allow the supply of brewing liquor to pass into the spray head; and at least one flow sensor operable to measure the amount of brewing liquor directed into the boil kettle through the spray head.  22. The system of claim 21 wherein the spray head includes a plurality of nozzles.\"',\n",
              " 'classification': '\" CHEMISTRY; METALLURGY BIOCHEMISTRY; BEER; SPIRITS; WINE; VINEGAR; MICROBIOLOGY; ENZYMOLOGY; MUTATION OR GENETIC ENGINEERING BREWING OF BEER Preparation of wort Preparation or treatment of the mash Mashing apparatus PERFORMING OPERATIONS; TRANSPORTING PHYSICAL OR CHEMICAL PROCESSES OR APPARATUS IN GENERAL SEPARATION Evaporating Evaporating by spraying CHEMISTRY; METALLURGY BIOCHEMISTRY; BEER; SPIRITS; WINE; VINEGAR; MICROBIOLOGY; ENZYMOLOGY; MUTATION OR GENETIC ENGINEERING BREWING OF BEER Brewing devices, not covered by a single group of C12C1/00\\\\u00a0-\\\\u00a0C12C12/04 Brew kettles Brew kettles heated with steam CHEMISTRY; METALLURGY BIOCHEMISTRY; BEER; SPIRITS; WINE; VINEGAR; MICROBIOLOGY; ENZYMOLOGY; MUTATION OR GENETIC ENGINEERING BREWING OF BEER Preparation of wort CHEMISTRY; METALLURGY BIOCHEMISTRY; BEER; SPIRITS; WINE; VINEGAR; MICROBIOLOGY; ENZYMOLOGY; MUTATION OR GENETIC ENGINEERING BREWING OF BEER Preparation of wort Boiling the beerwort CHEMISTRY; METALLURGY BIOCHEMISTRY; BEER; SPIRITS; WINE; VINEGAR; MICROBIOLOGY; ENZYMOLOGY; MUTATION OR GENETIC ENGINEERING BREWING OF BEER Preparation of wort Boiling the beerwort Boiling with hops Processes or apparatus specially adapted to save or recover energy PERFORMING OPERATIONS; TRANSPORTING PHYSICAL OR CHEMICAL PROCESSES OR APPARATUS IN GENERAL BOILING; BOILING APPARATUS ; EVAPORATION; EVAPORATION APPARATUS Boiling; Boiling apparatus for physical or chemical purposes ; Evaporation in general Preventing foaming CHEMISTRY; METALLURGY BIOCHEMISTRY; BEER; SPIRITS; WINE; VINEGAR; MICROBIOLOGY; ENZYMOLOGY; MUTATION OR GENETIC ENGINEERING BREWING OF BEER Preparation of wort After-treatment, e.g. sterilisation CHEMISTRY; METALLURGY BIOCHEMISTRY; BEER; SPIRITS; WINE; VINEGAR; MICROBIOLOGY; ENZYMOLOGY; MUTATION OR GENETIC ENGINEERING BREWING OF BEER Methods specially adapted for the making of beerwort Beerwort treatment; Boiling with hops; Hop extraction\"',\n",
              " 'patent': 'US20180094229A1',\n",
              " 'title': '\" - System and method for wort generation        - \"',\n",
              " 'url': 'https://patents.google.com/patent/US20180094229A1/en?'}"
            ]
          },
          "metadata": {
            "tags": []
          },
          "execution_count": 13
        }
      ]
    },
    {
      "cell_type": "code",
      "metadata": {
        "id": "DbMZFsWGZ08F",
        "colab_type": "code",
        "colab": {}
      },
      "source": [
        "cleaned_data  = pd.DataFrame(columns=[\"text\",\"cat\"])\n",
        "cleaned_data=cleaned_data.append({\"text\":'bleh',\"cat\":1},ignore_index= True)\n",
        "cleaned_data = cleaned_data.append({\"text\":'bldeh',\"cat\":2},ignore_index= True)"
      ],
      "execution_count": 0,
      "outputs": []
    },
    {
      "cell_type": "code",
      "metadata": {
        "id": "ET0bDnran546",
        "colab_type": "code",
        "outputId": "de789569-4bc6-4b6a-da84-c98a4e3e090b",
        "colab": {
          "base_uri": "https://localhost:8080/",
          "height": 108
        }
      },
      "source": [
        "cleaned_data"
      ],
      "execution_count": 0,
      "outputs": [
        {
          "output_type": "execute_result",
          "data": {
            "text/html": [
              "<div>\n",
              "<style scoped>\n",
              "    .dataframe tbody tr th:only-of-type {\n",
              "        vertical-align: middle;\n",
              "    }\n",
              "\n",
              "    .dataframe tbody tr th {\n",
              "        vertical-align: top;\n",
              "    }\n",
              "\n",
              "    .dataframe thead th {\n",
              "        text-align: right;\n",
              "    }\n",
              "</style>\n",
              "<table border=\"1\" class=\"dataframe\">\n",
              "  <thead>\n",
              "    <tr style=\"text-align: right;\">\n",
              "      <th></th>\n",
              "      <th>text</th>\n",
              "      <th>cat</th>\n",
              "    </tr>\n",
              "  </thead>\n",
              "  <tbody>\n",
              "    <tr>\n",
              "      <th>0</th>\n",
              "      <td>bleh</td>\n",
              "      <td>1</td>\n",
              "    </tr>\n",
              "    <tr>\n",
              "      <th>1</th>\n",
              "      <td>bldeh</td>\n",
              "      <td>2</td>\n",
              "    </tr>\n",
              "  </tbody>\n",
              "</table>\n",
              "</div>"
            ],
            "text/plain": [
              "    text cat\n",
              "0   bleh   1\n",
              "1  bldeh   2"
            ]
          },
          "metadata": {
            "tags": []
          },
          "execution_count": 29
        }
      ]
    },
    {
      "cell_type": "code",
      "metadata": {
        "id": "3XnnoqEsQcFM",
        "colab_type": "code",
        "outputId": "a8b5c50a-249c-4984-b70e-f1d5a7091ad7",
        "colab": {
          "base_uri": "https://localhost:8080/",
          "height": 72
        }
      },
      "source": [
        "import nltk\n",
        "nltk.download('stopwords')"
      ],
      "execution_count": 0,
      "outputs": [
        {
          "output_type": "stream",
          "text": [
            "[nltk_data] Downloading package stopwords to /root/nltk_data...\n",
            "[nltk_data]   Unzipping corpora/stopwords.zip.\n"
          ],
          "name": "stdout"
        },
        {
          "output_type": "execute_result",
          "data": {
            "text/plain": [
              "True"
            ]
          },
          "metadata": {
            "tags": []
          },
          "execution_count": 15
        }
      ]
    },
    {
      "cell_type": "code",
      "metadata": {
        "id": "je3WW3I8og9b",
        "colab_type": "code",
        "colab": {}
      },
      "source": [
        "!python -m nltk.downloader all"
      ],
      "execution_count": 0,
      "outputs": []
    },
    {
      "cell_type": "code",
      "metadata": {
        "id": "JO-NNof3o09r",
        "colab_type": "code",
        "outputId": "6d06d577-1338-4af0-dd1e-47788a66e138",
        "colab": {
          "base_uri": "https://localhost:8080/",
          "height": 55
        }
      },
      "source": [
        "from nltk.corpus import stopwords\n",
        "import string\n",
        "import spacy #load spacy\n",
        "nlp = spacy.load(\"en\", disable=['parser', 'tagger', 'ner'])\n",
        "stops = stopwords.words(\"english\")\n",
        "puncs = string.punctuation\n",
        "puncs.replace('.','/')\n",
        "\n",
        "def normalize(comment, lowercase = True, remove_stopwords = True):\n",
        "  if lowercase:\n",
        "      comment = comment.lower()\n",
        "  comment = nlp(comment)\n",
        "  lemmatized = list()\n",
        "  for word in comment:\n",
        "      lemma = word.lemma_.strip()\n",
        "      if lemma:\n",
        "          if not remove_stopwords or (remove_stopwords and lemma not in stops and not (\"\\\\\" in r\"%r\" % lemma)):\n",
        "              result = re.findall('[^A-Za-z0-9]+',lemma)\n",
        "              len(result)\n",
        "              lemmatized.append(lemma)\n",
        "  return \" \".join(lemmatized)\n",
        "normalize(data[\"claims\"])"
      ],
      "execution_count": 0,
      "outputs": [
        {
          "output_type": "execute_result",
          "data": {
            "text/plain": [
              "'\" 1 . system generate wort slurry mill grain water use brew process , system comprise : expansion chamber receive slurry ; pump operable draw slurry expansion chamber ; steam injection heater position downstream pump heat slurry create mash . expansion chamber receive slurry ; pump operable draw slurry expansion chamber ; steam injection heater position downstream pump heat slurry create mash . 2 . system claim 1 far comprise stratify storage vessel position receive mash steam injection heater , wherein stratify storage vessel prevent mixture within mash mash move stratify storage vessel . 3 . system claim 2 wherein stratify storage vessel stack coil pipe extend end 2 end . 4 . system claim 3 wherein pipe constant diameter end 2 end . 5 . system claim 3 wherein stack coil constant inner outer diameter end 2 end . 6 . system claim 2 far comprise filtration unit position receive mash stratify storage vessel , wherein filtration unit remove coarse particle mash create wort . 7 . system claim 6 far comprise boil kettle open interior size receive wort , wherein boil kettle include outlet couple 2 steam injection heater operable heat wort return wort open interior . 8 . system claim 7 far comprise spray head position within boil kettle operable direct spray liquid onto wort contain within open interior boil kettle . 9 . system claim 8 wherein spray liquid brew liquor . 10 . system claim 9 wherein volume brew liquor direct spray head measure . 11 . system claim 7 far comprise scrape surface sieve position receive wort boil kettle operable remove solid wort . 12 . system claim 7 far comprise : hold tank position receive heat wort boil kettle flow control valve position outlet boil kettle hold tank ; discharge pump operable direct wort hold tank . hold tank position receive heat wort boil kettle ; flow control valve position outlet boil kettle hold tank ; discharge pump operable direct wort hold tank . 13 . method create wort use brew process , method comprise step : mill supply grain fine particle ; mix mill supply grain water form slurry ; direct slurry steam injection heater heat slurry create mash . mill supply grain fine particle ; mix mill supply grain water form slurry ; direct slurry steam injection heater heat slurry create mash . 14 . method claim 13 far comprise step : receive mash end stratify storage vessel ; retain mash within stratify storage vessel . receive mash end stratify storage vessel ; retain mash within stratify storage vessel . 15 . method claim 14 far comprise step remove mash 2 end stratify storage vessel direct mash filtration unit remove coarse particle mash create liquid wort . 16 . method claim 14 far comprise step : receive wort within open interior boil kettle remove wort boil kettle heat wort 2 steam injection heater return heat wort open interior boil kettle ; direct wort open interior boil kettle use fermentation process brew . receive wort within open interior boil kettle ; remove wort boil kettle heat wort 2 steam injection heater ; return heat wort open interior boil kettle ; direct wort open interior boil kettle use fermentation process brew . 17 . method claim 14 wherein stratify storage vessel stack coil pipe extend end 2 end , wherein stack coil prevent mix mash within stack coil . 18 . method claim 16 far comprise step direct spray brew liquor onto wort within open interior boil kettle reduce foam . 19 . method claim 18 wherein spray brew liquor direct spray head position within open interior boil kettle . 20 . method claim 16 far comprise step direct wort boil kettle scrape surface sieve , wherein scrape surface sieve operate remove solid wort . 21 . system reduce foam boil kettle , comprise : spray head position near upper end boil kettle ; supply brew liquor connect spray head ; flow control valve operable allow supply brew liquor pass spray head ; little one flow sensor operable measure amount brew liquor direct boil kettle spray head . spray head position near upper end boil kettle ; supply brew liquor connect spray head ; flow control valve operable allow supply brew liquor pass spray head ; little one flow sensor operable measure amount brew liquor direct boil kettle spray head . 22 . system claim 21 wherein spray head include plurality nozzle . \"'"
            ]
          },
          "metadata": {
            "tags": []
          },
          "execution_count": 154
        }
      ]
    },
    {
      "cell_type": "code",
      "metadata": {
        "id": "Goy28R-fpJOF",
        "colab_type": "code",
        "outputId": "d80523fb-d4ce-41d6-9595-939ec8859c06",
        "colab": {
          "base_uri": "https://localhost:8080/",
          "height": 135
        }
      },
      "source": [
        "a= \"\\ufeff1\"\n",
        "\\\\u03b4\n",
        "str = \"a23b\\\\u00a0-\\\\u 00a0a23j \"\n",
        "\"c12c1/00\\\\u00a0-\\\\u00a0c12c12/04\n",
        "a.encode(\"utf-\")"
      ],
      "execution_count": 0,
      "outputs": [
        {
          "output_type": "error",
          "ename": "SyntaxError",
          "evalue": "ignored",
          "traceback": [
            "\u001b[0;36m  File \u001b[0;32m\"<ipython-input-43-101081d5b97b>\"\u001b[0;36m, line \u001b[0;32m2\u001b[0m\n\u001b[0;31m    \\\\u03b4\u001b[0m\n\u001b[0m           ^\u001b[0m\n\u001b[0;31mSyntaxError\u001b[0m\u001b[0;31m:\u001b[0m unexpected character after line continuation character\n"
          ]
        }
      ]
    },
    {
      "cell_type": "code",
      "metadata": {
        "id": "lni_S6LynIKn",
        "colab_type": "code",
        "outputId": "91b202fe-6a8f-4317-bf32-cd1006555e71",
        "colab": {
          "base_uri": "https://localhost:8080/",
          "height": 35
        }
      },
      "source": [
        "import re\n",
        "str1 = \"a23b\\u00a0 ' \\\\u00a0a23j\"\n",
        "str = \"Ilovedlockinglovers\"\n",
        "result = re.findall('[^A-Za-z0-9]+',str1)\n",
        "(result)"
      ],
      "execution_count": 0,
      "outputs": [
        {
          "output_type": "execute_result",
          "data": {
            "text/plain": [
              "[\"\\xa0 ' \\\\\"]"
            ]
          },
          "metadata": {
            "tags": []
          },
          "execution_count": 151
        }
      ]
    },
    {
      "cell_type": "code",
      "metadata": {
        "id": "7EH_7zOar8V0",
        "colab_type": "code",
        "outputId": "ec0ad7d2-eb8c-4ea3-a067-d329831bb2ea",
        "colab": {
          "base_uri": "https://localhost:8080/",
          "height": 35
        }
      },
      "source": [
        "\"\\\\\" in r\"%r\" % str1"
      ],
      "execution_count": 0,
      "outputs": [
        {
          "output_type": "execute_result",
          "data": {
            "text/plain": [
              "True"
            ]
          },
          "metadata": {
            "tags": []
          },
          "execution_count": 150
        }
      ]
    },
    {
      "cell_type": "code",
      "metadata": {
        "id": "3pCdH6qtvoPk",
        "colab_type": "code",
        "colab": {}
      },
      "source": [
        "s = r\"u\""
      ],
      "execution_count": 0,
      "outputs": []
    },
    {
      "cell_type": "code",
      "metadata": {
        "id": "zGDtkcvqmLD-",
        "colab_type": "code",
        "outputId": "9655a7cb-e299-4b0a-954f-a42111bc10de",
        "colab": {
          "base_uri": "https://localhost:8080/",
          "height": 35
        }
      },
      "source": [
        "s"
      ],
      "execution_count": 0,
      "outputs": [
        {
          "output_type": "execute_result",
          "data": {
            "text/plain": [
              "'u'"
            ]
          },
          "metadata": {
            "tags": []
          },
          "execution_count": 149
        }
      ]
    },
    {
      "cell_type": "code",
      "metadata": {
        "id": "AfhCOr0Ynja_",
        "colab_type": "code",
        "colab": {}
      },
      "source": [
        ""
      ],
      "execution_count": 0,
      "outputs": []
    }
  ]
}