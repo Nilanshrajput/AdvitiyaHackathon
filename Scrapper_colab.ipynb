{
  "nbformat": 4,
  "nbformat_minor": 0,
  "metadata": {
    "kernelspec": {
      "name": "python3",
      "display_name": "Python 3"
    },
    "language_info": {
      "codemirror_mode": {
        "name": "ipython",
        "version": 3
      },
      "file_extension": ".py",
      "mimetype": "text/x-python",
      "name": "python",
      "nbconvert_exporter": "python",
      "pygments_lexer": "ipython3",
      "version": "3.6.9"
    },
    "colab": {
      "name": "Scrapper.ipynb",
      "provenance": [],
      "include_colab_link": true
    },
    "accelerator": "GPU",
    "widgets": {
      "application/vnd.jupyter.widget-state+json": {
        "c27b7eb6b67b4724bf1fc8e0d084d0d2": {
          "model_module": "@jupyter-widgets/controls",
          "model_name": "HBoxModel",
          "state": {
            "_view_name": "HBoxView",
            "_dom_classes": [],
            "_model_name": "HBoxModel",
            "_view_module": "@jupyter-widgets/controls",
            "_model_module_version": "1.5.0",
            "_view_count": null,
            "_view_module_version": "1.5.0",
            "box_style": "",
            "layout": "IPY_MODEL_e9a987da44f549fc90ff1eb593ce783a",
            "_model_module": "@jupyter-widgets/controls",
            "children": [
              "IPY_MODEL_53afad9ccb99465c9771a16ca03604d2",
              "IPY_MODEL_292abee668c645af9ec525523198b7b4"
            ]
          }
        },
        "e9a987da44f549fc90ff1eb593ce783a": {
          "model_module": "@jupyter-widgets/base",
          "model_name": "LayoutModel",
          "state": {
            "_view_name": "LayoutView",
            "grid_template_rows": null,
            "right": null,
            "justify_content": null,
            "_view_module": "@jupyter-widgets/base",
            "overflow": null,
            "_model_module_version": "1.2.0",
            "_view_count": null,
            "flex_flow": null,
            "width": null,
            "min_width": null,
            "border": null,
            "align_items": null,
            "bottom": null,
            "_model_module": "@jupyter-widgets/base",
            "top": null,
            "grid_column": null,
            "overflow_y": null,
            "overflow_x": null,
            "grid_auto_flow": null,
            "grid_area": null,
            "grid_template_columns": null,
            "flex": null,
            "_model_name": "LayoutModel",
            "justify_items": null,
            "grid_row": null,
            "max_height": null,
            "align_content": null,
            "visibility": null,
            "align_self": null,
            "height": null,
            "min_height": null,
            "padding": null,
            "grid_auto_rows": null,
            "grid_gap": null,
            "max_width": null,
            "order": null,
            "_view_module_version": "1.2.0",
            "grid_template_areas": null,
            "object_position": null,
            "object_fit": null,
            "grid_auto_columns": null,
            "margin": null,
            "display": null,
            "left": null
          }
        },
        "53afad9ccb99465c9771a16ca03604d2": {
          "model_module": "@jupyter-widgets/controls",
          "model_name": "IntProgressModel",
          "state": {
            "_view_name": "ProgressView",
            "style": "IPY_MODEL_f815193c3e6448caa50c45f7e81182b9",
            "_dom_classes": [],
            "description": "wabalabadubdub",
            "_model_name": "IntProgressModel",
            "bar_style": "success",
            "max": 4,
            "_view_module": "@jupyter-widgets/controls",
            "_model_module_version": "1.5.0",
            "value": 4,
            "_view_count": null,
            "_view_module_version": "1.5.0",
            "orientation": "horizontal",
            "min": 0,
            "description_tooltip": null,
            "_model_module": "@jupyter-widgets/controls",
            "layout": "IPY_MODEL_4358f55c9dca431c97c20a91421a5747"
          }
        },
        "292abee668c645af9ec525523198b7b4": {
          "model_module": "@jupyter-widgets/controls",
          "model_name": "HTMLModel",
          "state": {
            "_view_name": "HTMLView",
            "style": "IPY_MODEL_d051296d4f37452c9e5ad7755a8504e7",
            "_dom_classes": [],
            "description": "",
            "_model_name": "HTMLModel",
            "placeholder": "​",
            "_view_module": "@jupyter-widgets/controls",
            "_model_module_version": "1.5.0",
            "value": "100% 4/4 [00:00&lt;00:00,  8.81it/s]",
            "_view_count": null,
            "_view_module_version": "1.5.0",
            "description_tooltip": null,
            "_model_module": "@jupyter-widgets/controls",
            "layout": "IPY_MODEL_3deac46e9aef4b47be8d593788f41eee"
          }
        },
        "f815193c3e6448caa50c45f7e81182b9": {
          "model_module": "@jupyter-widgets/controls",
          "model_name": "ProgressStyleModel",
          "state": {
            "_view_name": "StyleView",
            "_model_name": "ProgressStyleModel",
            "description_width": "initial",
            "_view_module": "@jupyter-widgets/base",
            "_model_module_version": "1.5.0",
            "_view_count": null,
            "_view_module_version": "1.2.0",
            "bar_color": null,
            "_model_module": "@jupyter-widgets/controls"
          }
        },
        "4358f55c9dca431c97c20a91421a5747": {
          "model_module": "@jupyter-widgets/base",
          "model_name": "LayoutModel",
          "state": {
            "_view_name": "LayoutView",
            "grid_template_rows": null,
            "right": null,
            "justify_content": null,
            "_view_module": "@jupyter-widgets/base",
            "overflow": null,
            "_model_module_version": "1.2.0",
            "_view_count": null,
            "flex_flow": null,
            "width": null,
            "min_width": null,
            "border": null,
            "align_items": null,
            "bottom": null,
            "_model_module": "@jupyter-widgets/base",
            "top": null,
            "grid_column": null,
            "overflow_y": null,
            "overflow_x": null,
            "grid_auto_flow": null,
            "grid_area": null,
            "grid_template_columns": null,
            "flex": null,
            "_model_name": "LayoutModel",
            "justify_items": null,
            "grid_row": null,
            "max_height": null,
            "align_content": null,
            "visibility": null,
            "align_self": null,
            "height": null,
            "min_height": null,
            "padding": null,
            "grid_auto_rows": null,
            "grid_gap": null,
            "max_width": null,
            "order": null,
            "_view_module_version": "1.2.0",
            "grid_template_areas": null,
            "object_position": null,
            "object_fit": null,
            "grid_auto_columns": null,
            "margin": null,
            "display": null,
            "left": null
          }
        },
        "d051296d4f37452c9e5ad7755a8504e7": {
          "model_module": "@jupyter-widgets/controls",
          "model_name": "DescriptionStyleModel",
          "state": {
            "_view_name": "StyleView",
            "_model_name": "DescriptionStyleModel",
            "description_width": "",
            "_view_module": "@jupyter-widgets/base",
            "_model_module_version": "1.5.0",
            "_view_count": null,
            "_view_module_version": "1.2.0",
            "_model_module": "@jupyter-widgets/controls"
          }
        },
        "3deac46e9aef4b47be8d593788f41eee": {
          "model_module": "@jupyter-widgets/base",
          "model_name": "LayoutModel",
          "state": {
            "_view_name": "LayoutView",
            "grid_template_rows": null,
            "right": null,
            "justify_content": null,
            "_view_module": "@jupyter-widgets/base",
            "overflow": null,
            "_model_module_version": "1.2.0",
            "_view_count": null,
            "flex_flow": null,
            "width": null,
            "min_width": null,
            "border": null,
            "align_items": null,
            "bottom": null,
            "_model_module": "@jupyter-widgets/base",
            "top": null,
            "grid_column": null,
            "overflow_y": null,
            "overflow_x": null,
            "grid_auto_flow": null,
            "grid_area": null,
            "grid_template_columns": null,
            "flex": null,
            "_model_name": "LayoutModel",
            "justify_items": null,
            "grid_row": null,
            "max_height": null,
            "align_content": null,
            "visibility": null,
            "align_self": null,
            "height": null,
            "min_height": null,
            "padding": null,
            "grid_auto_rows": null,
            "grid_gap": null,
            "max_width": null,
            "order": null,
            "_view_module_version": "1.2.0",
            "grid_template_areas": null,
            "object_position": null,
            "object_fit": null,
            "grid_auto_columns": null,
            "margin": null,
            "display": null,
            "left": null
          }
        },
        "677c40fad6d54211826b6e07eb90fd8e": {
          "model_module": "@jupyter-widgets/controls",
          "model_name": "HBoxModel",
          "state": {
            "_view_name": "HBoxView",
            "_dom_classes": [],
            "_model_name": "HBoxModel",
            "_view_module": "@jupyter-widgets/controls",
            "_model_module_version": "1.5.0",
            "_view_count": null,
            "_view_module_version": "1.5.0",
            "box_style": "",
            "layout": "IPY_MODEL_a8e93c7f6eb346fc9c4c4130476bdc55",
            "_model_module": "@jupyter-widgets/controls",
            "children": [
              "IPY_MODEL_6e53ba4d160948f6839495c7c190bb7a",
              "IPY_MODEL_414b56554c204cdd9f26e3f5643d115b"
            ]
          }
        },
        "a8e93c7f6eb346fc9c4c4130476bdc55": {
          "model_module": "@jupyter-widgets/base",
          "model_name": "LayoutModel",
          "state": {
            "_view_name": "LayoutView",
            "grid_template_rows": null,
            "right": null,
            "justify_content": null,
            "_view_module": "@jupyter-widgets/base",
            "overflow": null,
            "_model_module_version": "1.2.0",
            "_view_count": null,
            "flex_flow": null,
            "width": null,
            "min_width": null,
            "border": null,
            "align_items": null,
            "bottom": null,
            "_model_module": "@jupyter-widgets/base",
            "top": null,
            "grid_column": null,
            "overflow_y": null,
            "overflow_x": null,
            "grid_auto_flow": null,
            "grid_area": null,
            "grid_template_columns": null,
            "flex": null,
            "_model_name": "LayoutModel",
            "justify_items": null,
            "grid_row": null,
            "max_height": null,
            "align_content": null,
            "visibility": null,
            "align_self": null,
            "height": null,
            "min_height": null,
            "padding": null,
            "grid_auto_rows": null,
            "grid_gap": null,
            "max_width": null,
            "order": null,
            "_view_module_version": "1.2.0",
            "grid_template_areas": null,
            "object_position": null,
            "object_fit": null,
            "grid_auto_columns": null,
            "margin": null,
            "display": null,
            "left": null
          }
        },
        "6e53ba4d160948f6839495c7c190bb7a": {
          "model_module": "@jupyter-widgets/controls",
          "model_name": "IntProgressModel",
          "state": {
            "_view_name": "ProgressView",
            "style": "IPY_MODEL_69e1b47a724941fd9e8d94982bdea944",
            "_dom_classes": [],
            "description": "CatList",
            "_model_name": "IntProgressModel",
            "bar_style": "",
            "max": 4,
            "_view_module": "@jupyter-widgets/controls",
            "_model_module_version": "1.5.0",
            "value": 0,
            "_view_count": null,
            "_view_module_version": "1.5.0",
            "orientation": "horizontal",
            "min": 0,
            "description_tooltip": null,
            "_model_module": "@jupyter-widgets/controls",
            "layout": "IPY_MODEL_8cf0fb9ea5f1464d96ab6e35d0abc31c"
          }
        },
        "414b56554c204cdd9f26e3f5643d115b": {
          "model_module": "@jupyter-widgets/controls",
          "model_name": "HTMLModel",
          "state": {
            "_view_name": "HTMLView",
            "style": "IPY_MODEL_aba55ccc329048849701fae1b16a7821",
            "_dom_classes": [],
            "description": "",
            "_model_name": "HTMLModel",
            "placeholder": "​",
            "_view_module": "@jupyter-widgets/controls",
            "_model_module_version": "1.5.0",
            "value": "  0% 0/4 [00:00&lt;?, ?it/s]",
            "_view_count": null,
            "_view_module_version": "1.5.0",
            "description_tooltip": null,
            "_model_module": "@jupyter-widgets/controls",
            "layout": "IPY_MODEL_855e1c7a7f284ae19eb64baf5d0aa267"
          }
        },
        "69e1b47a724941fd9e8d94982bdea944": {
          "model_module": "@jupyter-widgets/controls",
          "model_name": "ProgressStyleModel",
          "state": {
            "_view_name": "StyleView",
            "_model_name": "ProgressStyleModel",
            "description_width": "initial",
            "_view_module": "@jupyter-widgets/base",
            "_model_module_version": "1.5.0",
            "_view_count": null,
            "_view_module_version": "1.2.0",
            "bar_color": null,
            "_model_module": "@jupyter-widgets/controls"
          }
        },
        "8cf0fb9ea5f1464d96ab6e35d0abc31c": {
          "model_module": "@jupyter-widgets/base",
          "model_name": "LayoutModel",
          "state": {
            "_view_name": "LayoutView",
            "grid_template_rows": null,
            "right": null,
            "justify_content": null,
            "_view_module": "@jupyter-widgets/base",
            "overflow": null,
            "_model_module_version": "1.2.0",
            "_view_count": null,
            "flex_flow": null,
            "width": null,
            "min_width": null,
            "border": null,
            "align_items": null,
            "bottom": null,
            "_model_module": "@jupyter-widgets/base",
            "top": null,
            "grid_column": null,
            "overflow_y": null,
            "overflow_x": null,
            "grid_auto_flow": null,
            "grid_area": null,
            "grid_template_columns": null,
            "flex": null,
            "_model_name": "LayoutModel",
            "justify_items": null,
            "grid_row": null,
            "max_height": null,
            "align_content": null,
            "visibility": null,
            "align_self": null,
            "height": null,
            "min_height": null,
            "padding": null,
            "grid_auto_rows": null,
            "grid_gap": null,
            "max_width": null,
            "order": null,
            "_view_module_version": "1.2.0",
            "grid_template_areas": null,
            "object_position": null,
            "object_fit": null,
            "grid_auto_columns": null,
            "margin": null,
            "display": null,
            "left": null
          }
        },
        "aba55ccc329048849701fae1b16a7821": {
          "model_module": "@jupyter-widgets/controls",
          "model_name": "DescriptionStyleModel",
          "state": {
            "_view_name": "StyleView",
            "_model_name": "DescriptionStyleModel",
            "description_width": "",
            "_view_module": "@jupyter-widgets/base",
            "_model_module_version": "1.5.0",
            "_view_count": null,
            "_view_module_version": "1.2.0",
            "_model_module": "@jupyter-widgets/controls"
          }
        },
        "855e1c7a7f284ae19eb64baf5d0aa267": {
          "model_module": "@jupyter-widgets/base",
          "model_name": "LayoutModel",
          "state": {
            "_view_name": "LayoutView",
            "grid_template_rows": null,
            "right": null,
            "justify_content": null,
            "_view_module": "@jupyter-widgets/base",
            "overflow": null,
            "_model_module_version": "1.2.0",
            "_view_count": null,
            "flex_flow": null,
            "width": null,
            "min_width": null,
            "border": null,
            "align_items": null,
            "bottom": null,
            "_model_module": "@jupyter-widgets/base",
            "top": null,
            "grid_column": null,
            "overflow_y": null,
            "overflow_x": null,
            "grid_auto_flow": null,
            "grid_area": null,
            "grid_template_columns": null,
            "flex": null,
            "_model_name": "LayoutModel",
            "justify_items": null,
            "grid_row": null,
            "max_height": null,
            "align_content": null,
            "visibility": null,
            "align_self": null,
            "height": null,
            "min_height": null,
            "padding": null,
            "grid_auto_rows": null,
            "grid_gap": null,
            "max_width": null,
            "order": null,
            "_view_module_version": "1.2.0",
            "grid_template_areas": null,
            "object_position": null,
            "object_fit": null,
            "grid_auto_columns": null,
            "margin": null,
            "display": null,
            "left": null
          }
        },
        "f74ab732b7a549f5b2450702d9dadd79": {
          "model_module": "@jupyter-widgets/controls",
          "model_name": "HBoxModel",
          "state": {
            "_view_name": "HBoxView",
            "_dom_classes": [],
            "_model_name": "HBoxModel",
            "_view_module": "@jupyter-widgets/controls",
            "_model_module_version": "1.5.0",
            "_view_count": null,
            "_view_module_version": "1.5.0",
            "box_style": "",
            "layout": "IPY_MODEL_3a593f0b36624f69998d1195ec6fc52b",
            "_model_module": "@jupyter-widgets/controls",
            "children": [
              "IPY_MODEL_8604c6fc11cc438ab4256ab3e5a5e395",
              "IPY_MODEL_3d08ba71b5e14994889aff704bb52214"
            ]
          }
        },
        "3a593f0b36624f69998d1195ec6fc52b": {
          "model_module": "@jupyter-widgets/base",
          "model_name": "LayoutModel",
          "state": {
            "_view_name": "LayoutView",
            "grid_template_rows": null,
            "right": null,
            "justify_content": null,
            "_view_module": "@jupyter-widgets/base",
            "overflow": null,
            "_model_module_version": "1.2.0",
            "_view_count": null,
            "flex_flow": null,
            "width": null,
            "min_width": null,
            "border": null,
            "align_items": null,
            "bottom": null,
            "_model_module": "@jupyter-widgets/base",
            "top": null,
            "grid_column": null,
            "overflow_y": null,
            "overflow_x": null,
            "grid_auto_flow": null,
            "grid_area": null,
            "grid_template_columns": null,
            "flex": null,
            "_model_name": "LayoutModel",
            "justify_items": null,
            "grid_row": null,
            "max_height": null,
            "align_content": null,
            "visibility": null,
            "align_self": null,
            "height": null,
            "min_height": null,
            "padding": null,
            "grid_auto_rows": null,
            "grid_gap": null,
            "max_width": null,
            "order": null,
            "_view_module_version": "1.2.0",
            "grid_template_areas": null,
            "object_position": null,
            "object_fit": null,
            "grid_auto_columns": null,
            "margin": null,
            "display": null,
            "left": null
          }
        },
        "8604c6fc11cc438ab4256ab3e5a5e395": {
          "model_module": "@jupyter-widgets/controls",
          "model_name": "IntProgressModel",
          "state": {
            "_view_name": "ProgressView",
            "style": "IPY_MODEL_3782571ff9f1482bb8793a9fcc5de24c",
            "_dom_classes": [],
            "description": "patents",
            "_model_name": "IntProgressModel",
            "bar_style": "",
            "max": 300,
            "_view_module": "@jupyter-widgets/controls",
            "_model_module_version": "1.5.0",
            "value": 96,
            "_view_count": null,
            "_view_module_version": "1.5.0",
            "orientation": "horizontal",
            "min": 0,
            "description_tooltip": null,
            "_model_module": "@jupyter-widgets/controls",
            "layout": "IPY_MODEL_729e60bbd1614d4499b5a81ed034bb1e"
          }
        },
        "3d08ba71b5e14994889aff704bb52214": {
          "model_module": "@jupyter-widgets/controls",
          "model_name": "HTMLModel",
          "state": {
            "_view_name": "HTMLView",
            "style": "IPY_MODEL_b4ac9974f7bf4eca898d7ca17cc73747",
            "_dom_classes": [],
            "description": "",
            "_model_name": "HTMLModel",
            "placeholder": "​",
            "_view_module": "@jupyter-widgets/controls",
            "_model_module_version": "1.5.0",
            "value": " 32% 96/300 [01:25&lt;02:34,  1.32it/s]",
            "_view_count": null,
            "_view_module_version": "1.5.0",
            "description_tooltip": null,
            "_model_module": "@jupyter-widgets/controls",
            "layout": "IPY_MODEL_d86e74c4164b47d889c1922bbb7666c5"
          }
        },
        "3782571ff9f1482bb8793a9fcc5de24c": {
          "model_module": "@jupyter-widgets/controls",
          "model_name": "ProgressStyleModel",
          "state": {
            "_view_name": "StyleView",
            "_model_name": "ProgressStyleModel",
            "description_width": "initial",
            "_view_module": "@jupyter-widgets/base",
            "_model_module_version": "1.5.0",
            "_view_count": null,
            "_view_module_version": "1.2.0",
            "bar_color": null,
            "_model_module": "@jupyter-widgets/controls"
          }
        },
        "729e60bbd1614d4499b5a81ed034bb1e": {
          "model_module": "@jupyter-widgets/base",
          "model_name": "LayoutModel",
          "state": {
            "_view_name": "LayoutView",
            "grid_template_rows": null,
            "right": null,
            "justify_content": null,
            "_view_module": "@jupyter-widgets/base",
            "overflow": null,
            "_model_module_version": "1.2.0",
            "_view_count": null,
            "flex_flow": null,
            "width": null,
            "min_width": null,
            "border": null,
            "align_items": null,
            "bottom": null,
            "_model_module": "@jupyter-widgets/base",
            "top": null,
            "grid_column": null,
            "overflow_y": null,
            "overflow_x": null,
            "grid_auto_flow": null,
            "grid_area": null,
            "grid_template_columns": null,
            "flex": null,
            "_model_name": "LayoutModel",
            "justify_items": null,
            "grid_row": null,
            "max_height": null,
            "align_content": null,
            "visibility": null,
            "align_self": null,
            "height": null,
            "min_height": null,
            "padding": null,
            "grid_auto_rows": null,
            "grid_gap": null,
            "max_width": null,
            "order": null,
            "_view_module_version": "1.2.0",
            "grid_template_areas": null,
            "object_position": null,
            "object_fit": null,
            "grid_auto_columns": null,
            "margin": null,
            "display": null,
            "left": null
          }
        },
        "b4ac9974f7bf4eca898d7ca17cc73747": {
          "model_module": "@jupyter-widgets/controls",
          "model_name": "DescriptionStyleModel",
          "state": {
            "_view_name": "StyleView",
            "_model_name": "DescriptionStyleModel",
            "description_width": "",
            "_view_module": "@jupyter-widgets/base",
            "_model_module_version": "1.5.0",
            "_view_count": null,
            "_view_module_version": "1.2.0",
            "_model_module": "@jupyter-widgets/controls"
          }
        },
        "d86e74c4164b47d889c1922bbb7666c5": {
          "model_module": "@jupyter-widgets/base",
          "model_name": "LayoutModel",
          "state": {
            "_view_name": "LayoutView",
            "grid_template_rows": null,
            "right": null,
            "justify_content": null,
            "_view_module": "@jupyter-widgets/base",
            "overflow": null,
            "_model_module_version": "1.2.0",
            "_view_count": null,
            "flex_flow": null,
            "width": null,
            "min_width": null,
            "border": null,
            "align_items": null,
            "bottom": null,
            "_model_module": "@jupyter-widgets/base",
            "top": null,
            "grid_column": null,
            "overflow_y": null,
            "overflow_x": null,
            "grid_auto_flow": null,
            "grid_area": null,
            "grid_template_columns": null,
            "flex": null,
            "_model_name": "LayoutModel",
            "justify_items": null,
            "grid_row": null,
            "max_height": null,
            "align_content": null,
            "visibility": null,
            "align_self": null,
            "height": null,
            "min_height": null,
            "padding": null,
            "grid_auto_rows": null,
            "grid_gap": null,
            "max_width": null,
            "order": null,
            "_view_module_version": "1.2.0",
            "grid_template_areas": null,
            "object_position": null,
            "object_fit": null,
            "grid_auto_columns": null,
            "margin": null,
            "display": null,
            "left": null
          }
        }
      }
    }
  },
  "cells": [
    {
      "cell_type": "markdown",
      "metadata": {
        "id": "view-in-github",
        "colab_type": "text"
      },
      "source": [
        "<a href=\"https://colab.research.google.com/github/Nilanshrajput/AdvitiyaHackathon/blob/master/Scrapper_colab.ipynb\" target=\"_parent\"><img src=\"https://colab.research.google.com/assets/colab-badge.svg\" alt=\"Open In Colab\"/></a>"
      ]
    },
    {
      "cell_type": "code",
      "metadata": {
        "id": "53tGBiAEo9YO",
        "colab_type": "code",
        "outputId": "9439328f-40f8-45a2-9894-3c4b86e317fb",
        "colab": {
          "base_uri": "https://localhost:8080/",
          "height": 145
        }
      },
      "source": [
        "!git clone https://Nilanshrajput:@github.com/Nilanshrajput/AdvitiyaHackathon.git"
      ],
      "execution_count": 2,
      "outputs": [
        {
          "output_type": "stream",
          "text": [
            "Cloning into 'AdvitiyaHackathon'...\n",
            "remote: Enumerating objects: 118, done.\u001b[K\n",
            "remote: Counting objects:   0% (1/118)\u001b[K\rremote: Counting objects:   1% (2/118)\u001b[K\rremote: Counting objects:   2% (3/118)\u001b[K\rremote: Counting objects:   3% (4/118)\u001b[K\rremote: Counting objects:   4% (5/118)\u001b[K\rremote: Counting objects:   5% (6/118)\u001b[K\rremote: Counting objects:   6% (8/118)\u001b[K\rremote: Counting objects:   7% (9/118)\u001b[K\rremote: Counting objects:   8% (10/118)\u001b[K\rremote: Counting objects:   9% (11/118)\u001b[K\rremote: Counting objects:  10% (12/118)\u001b[K\rremote: Counting objects:  11% (13/118)\u001b[K\rremote: Counting objects:  12% (15/118)\u001b[K\rremote: Counting objects:  13% (16/118)\u001b[K\rremote: Counting objects:  14% (17/118)\u001b[K\rremote: Counting objects:  15% (18/118)\u001b[K\rremote: Counting objects:  16% (19/118)\u001b[K\rremote: Counting objects:  17% (21/118)\u001b[K\rremote: Counting objects:  18% (22/118)\u001b[K\rremote: Counting objects:  19% (23/118)\u001b[K\rremote: Counting objects:  20% (24/118)\u001b[K\rremote: Counting objects:  21% (25/118)\u001b[K\rremote: Counting objects:  22% (26/118)\u001b[K\rremote: Counting objects:  23% (28/118)\u001b[K\rremote: Counting objects:  24% (29/118)\u001b[K\rremote: Counting objects:  25% (30/118)\u001b[K\rremote: Counting objects:  26% (31/118)\u001b[K\rremote: Counting objects:  27% (32/118)\u001b[K\rremote: Counting objects:  28% (34/118)\u001b[K\rremote: Counting objects:  29% (35/118)\u001b[K\rremote: Counting objects:  30% (36/118)\u001b[K\rremote: Counting objects:  31% (37/118)\u001b[K\rremote: Counting objects:  32% (38/118)\u001b[K\rremote: Counting objects:  33% (39/118)\u001b[K\rremote: Counting objects:  34% (41/118)\u001b[K\rremote: Counting objects:  35% (42/118)\u001b[K\rremote: Counting objects:  36% (43/118)\u001b[K\rremote: Counting objects:  37% (44/118)\u001b[K\rremote: Counting objects:  38% (45/118)\u001b[K\rremote: Counting objects:  39% (47/118)\u001b[K\rremote: Counting objects:  40% (48/118)\u001b[K\rremote: Counting objects:  41% (49/118)\u001b[K\rremote: Counting objects:  42% (50/118)\u001b[K\rremote: Counting objects:  43% (51/118)\u001b[K\rremote: Counting objects:  44% (52/118)\u001b[K\rremote: Counting objects:  45% (54/118)\u001b[K\rremote: Counting objects:  46% (55/118)\u001b[K\rremote: Counting objects:  47% (56/118)\u001b[K\rremote: Counting objects:  48% (57/118)\u001b[K\rremote: Counting objects:  49% (58/118)\u001b[K\rremote: Counting objects:  50% (59/118)\u001b[K\rremote: Counting objects:  51% (61/118)\u001b[K\rremote: Counting objects:  52% (62/118)\u001b[K\rremote: Counting objects:  53% (63/118)\u001b[K\rremote: Counting objects:  54% (64/118)\u001b[K\rremote: Counting objects:  55% (65/118)\u001b[K\rremote: Counting objects:  56% (67/118)\u001b[K\rremote: Counting objects:  57% (68/118)\u001b[K\rremote: Counting objects:  58% (69/118)\u001b[K\rremote: Counting objects:  59% (70/118)\u001b[K\rremote: Counting objects:  60% (71/118)\u001b[K\rremote: Counting objects:  61% (72/118)\u001b[K\rremote: Counting objects:  62% (74/118)\u001b[K\rremote: Counting objects:  63% (75/118)\u001b[K\rremote: Counting objects:  64% (76/118)\u001b[K\rremote: Counting objects:  65% (77/118)\u001b[K\rremote: Counting objects:  66% (78/118)\u001b[K\rremote: Counting objects:  67% (80/118)\u001b[K\rremote: Counting objects:  68% (81/118)\u001b[K\rremote: Counting objects:  69% (82/118)\u001b[K\rremote: Counting objects:  70% (83/118)\u001b[K\rremote: Counting objects:  71% (84/118)\u001b[K\rremote: Counting objects:  72% (85/118)\u001b[K\rremote: Counting objects:  73% (87/118)\u001b[K\rremote: Counting objects:  74% (88/118)\u001b[K\rremote: Counting objects:  75% (89/118)\u001b[K\rremote: Counting objects:  76% (90/118)\u001b[K\rremote: Counting objects:  77% (91/118)\u001b[K\rremote: Counting objects:  78% (93/118)\u001b[K\rremote: Counting objects:  79% (94/118)\u001b[K\rremote: Counting objects:  80% (95/118)\u001b[K\rremote: Counting objects:  81% (96/118)\u001b[K\rremote: Counting objects:  82% (97/118)\u001b[K\rremote: Counting objects:  83% (98/118)\u001b[K\rremote: Counting objects:  84% (100/118)\u001b[K\rremote: Counting objects:  85% (101/118)\u001b[K\rremote: Counting objects:  86% (102/118)\u001b[K\rremote: Counting objects:  87% (103/118)\u001b[K\rremote: Counting objects:  88% (104/118)\u001b[K\rremote: Counting objects:  89% (106/118)\u001b[K\rremote: Counting objects:  90% (107/118)\u001b[K\rremote: Counting objects:  91% (108/118)\u001b[K\rremote: Counting objects:  92% (109/118)\u001b[K\rremote: Counting objects:  93% (110/118)\u001b[K\rremote: Counting objects:  94% (111/118)\u001b[K\rremote: Counting objects:  95% (113/118)\u001b[K\rremote: Counting objects:  96% (114/118)\u001b[K\rremote: Counting objects:  97% (115/118)\u001b[K\rremote: Counting objects:  98% (116/118)\u001b[K\rremote: Counting objects:  99% (117/118)\u001b[K\rremote: Counting objects: 100% (118/118)\u001b[K\rremote: Counting objects: 100% (118/118), done.\u001b[K\n",
            "remote: Compressing objects:   1% (1/86)\u001b[K\rremote: Compressing objects:   2% (2/86)\u001b[K\rremote: Compressing objects:   3% (3/86)\u001b[K\rremote: Compressing objects:   4% (4/86)\u001b[K\rremote: Compressing objects:   5% (5/86)\u001b[K\rremote: Compressing objects:   6% (6/86)\u001b[K\rremote: Compressing objects:   8% (7/86)\u001b[K\rremote: Compressing objects:   9% (8/86)\u001b[K\rremote: Compressing objects:  10% (9/86)\u001b[K\rremote: Compressing objects:  11% (10/86)\u001b[K\rremote: Compressing objects:  12% (11/86)\u001b[K\rremote: Compressing objects:  13% (12/86)\u001b[K\rremote: Compressing objects:  15% (13/86)\u001b[K\rremote: Compressing objects:  16% (14/86)\u001b[K\rremote: Compressing objects:  17% (15/86)\u001b[K\rremote: Compressing objects:  18% (16/86)\u001b[K\rremote: Compressing objects:  19% (17/86)\u001b[K\rremote: Compressing objects:  20% (18/86)\u001b[K\rremote: Compressing objects:  22% (19/86)\u001b[K\rremote: Compressing objects:  23% (20/86)\u001b[K\rremote: Compressing objects:  24% (21/86)\u001b[K\rremote: Compressing objects:  25% (22/86)\u001b[K\rremote: Compressing objects:  26% (23/86)\u001b[K\rremote: Compressing objects:  27% (24/86)\u001b[K\rremote: Compressing objects:  29% (25/86)\u001b[K\rremote: Compressing objects:  30% (26/86)\u001b[K\rremote: Compressing objects:  31% (27/86)\u001b[K\rremote: Compressing objects:  32% (28/86)\u001b[K\rremote: Compressing objects:  33% (29/86)\u001b[K\rremote: Compressing objects:  34% (30/86)\u001b[K\rremote: Compressing objects:  36% (31/86)\u001b[K\rremote: Compressing objects:  37% (32/86)\u001b[K\rremote: Compressing objects:  38% (33/86)\u001b[K\rremote: Compressing objects:  39% (34/86)\u001b[K\rremote: Compressing objects:  40% (35/86)\u001b[K\rremote: Compressing objects:  41% (36/86)\u001b[K\rremote: Compressing objects:  43% (37/86)\u001b[K\rremote: Compressing objects:  44% (38/86)\u001b[K\rremote: Compressing objects:  45% (39/86)\u001b[K\rremote: Compressing objects:  46% (40/86)\u001b[K\rremote: Compressing objects:  47% (41/86)\u001b[K\rremote: Compressing objects:  48% (42/86)\u001b[K\rremote: Compressing objects:  50% (43/86)\u001b[K\rremote: Compressing objects:  51% (44/86)\u001b[K\rremote: Compressing objects:  52% (45/86)\u001b[K\rremote: Compressing objects:  53% (46/86)\u001b[K\rremote: Compressing objects:  54% (47/86)\u001b[K\rremote: Compressing objects:  55% (48/86)\u001b[K\rremote: Compressing objects:  56% (49/86)\u001b[K\rremote: Compressing objects:  58% (50/86)\u001b[K\rremote: Compressing objects:  59% (51/86)\u001b[K\rremote: Compressing objects:  60% (52/86)\u001b[K\rremote: Compressing objects:  61% (53/86)\u001b[K\rremote: Compressing objects:  62% (54/86)\u001b[K\rremote: Compressing objects:  63% (55/86)\u001b[K\rremote: Compressing objects:  65% (56/86)\u001b[K\rremote: Compressing objects:  66% (57/86)\u001b[K\rremote: Compressing objects:  67% (58/86)\u001b[K\rremote: Compressing objects:  68% (59/86)\u001b[K\rremote: Compressing objects:  69% (60/86)\u001b[K\rremote: Compressing objects:  70% (61/86)\u001b[K\rremote: Compressing objects:  72% (62/86)\u001b[K\rremote: Compressing objects:  73% (63/86)\u001b[K\rremote: Compressing objects:  74% (64/86)\u001b[K\rremote: Compressing objects:  75% (65/86)\u001b[K\rremote: Compressing objects:  76% (66/86)\u001b[K\rremote: Compressing objects:  77% (67/86)\u001b[K\rremote: Compressing objects:  79% (68/86)\u001b[K\rremote: Compressing objects:  80% (69/86)\u001b[K\rremote: Compressing objects:  81% (70/86)\u001b[K\rremote: Compressing objects:  82% (71/86)\u001b[K\rremote: Compressing objects:  83% (72/86)\u001b[K\rremote: Compressing objects:  84% (73/86)\u001b[K\rremote: Compressing objects:  86% (74/86)\u001b[K\rremote: Compressing objects:  87% (75/86)\u001b[K\rremote: Compressing objects:  88% (76/86)\u001b[K\rremote: Compressing objects:  89% (77/86)\u001b[K\rremote: Compressing objects:  90% (78/86)\u001b[K\rremote: Compressing objects:  91% (79/86)\u001b[K\rremote: Compressing objects:  93% (80/86)\u001b[K\rremote: Compressing objects:  94% (81/86)\u001b[K\rremote: Compressing objects:  95% (82/86)\u001b[K\rremote: Compressing objects:  96% (83/86)\u001b[K\rremote: Compressing objects:  97% (84/86)\u001b[K\rremote: Compressing objects:  98% (85/86)\u001b[K\rremote: Compressing objects: 100% (86/86)\u001b[K\rremote: Compressing objects: 100% (86/86), done.\u001b[K\n",
            "remote: Total 118 (delta 66), reused 76 (delta 30), pack-reused 0\u001b[K\n",
            "Receiving objects: 100% (118/118), 297.96 KiB | 5.52 MiB/s, done.\n",
            "Resolving deltas: 100% (66/66), done.\n"
          ],
          "name": "stdout"
        }
      ]
    },
    {
      "cell_type": "code",
      "metadata": {
        "id": "a2Ec1v5Oo9gH",
        "colab_type": "code",
        "outputId": "f71e47fe-012e-4a29-fa46-8db5adbae264",
        "colab": {
          "base_uri": "https://localhost:8080/",
          "height": 128
        }
      },
      "source": [
        "from google.colab import drive\n",
        "drive.mount('/content/drive')\n"
      ],
      "execution_count": 3,
      "outputs": [
        {
          "output_type": "stream",
          "text": [
            "Go to this URL in a browser: https://accounts.google.com/o/oauth2/auth?client_id=947318989803-6bn6qk8qdgf4n4g3pfee6491hc0brc4i.apps.googleusercontent.com&redirect_uri=urn%3aietf%3awg%3aoauth%3a2.0%3aoob&response_type=code&scope=email%20https%3a%2f%2fwww.googleapis.com%2fauth%2fdocs.test%20https%3a%2f%2fwww.googleapis.com%2fauth%2fdrive%20https%3a%2f%2fwww.googleapis.com%2fauth%2fdrive.photos.readonly%20https%3a%2f%2fwww.googleapis.com%2fauth%2fpeopleapi.readonly\n",
            "\n",
            "Enter your authorization code:\n",
            "··········\n",
            "Mounted at /content/drive\n"
          ],
          "name": "stdout"
        }
      ]
    },
    {
      "cell_type": "code",
      "metadata": {
        "id": "qWJqkXoGt7fn",
        "colab_type": "code",
        "colab": {
          "base_uri": "https://localhost:8080/",
          "height": 288
        },
        "outputId": "2aa76f9e-c1ee-4d67-c7bc-ff46890adab1"
      },
      "source": [
        "!pip install beautifulsoup4==4.8.2"
      ],
      "execution_count": 12,
      "outputs": [
        {
          "output_type": "stream",
          "text": [
            "Collecting beautifulsoup4==4.8.2\n",
            "\u001b[?25l  Downloading https://files.pythonhosted.org/packages/cb/a1/c698cf319e9cfed6b17376281bd0efc6bfc8465698f54170ef60a485ab5d/beautifulsoup4-4.8.2-py3-none-any.whl (106kB)\n",
            "\r\u001b[K     |███                             | 10kB 21.2MB/s eta 0:00:01\r\u001b[K     |██████▏                         | 20kB 2.1MB/s eta 0:00:01\r\u001b[K     |█████████▏                      | 30kB 3.1MB/s eta 0:00:01\r\u001b[K     |████████████▎                   | 40kB 2.0MB/s eta 0:00:01\r\u001b[K     |███████████████▎                | 51kB 2.5MB/s eta 0:00:01\r\u001b[K     |██████████████████▍             | 61kB 3.0MB/s eta 0:00:01\r\u001b[K     |█████████████████████▌          | 71kB 3.4MB/s eta 0:00:01\r\u001b[K     |████████████████████████▌       | 81kB 3.9MB/s eta 0:00:01\r\u001b[K     |███████████████████████████▋    | 92kB 4.4MB/s eta 0:00:01\r\u001b[K     |██████████████████████████████▋ | 102kB 3.3MB/s eta 0:00:01\r\u001b[K     |████████████████████████████████| 112kB 3.3MB/s \n",
            "\u001b[?25hCollecting soupsieve>=1.2\n",
            "  Downloading https://files.pythonhosted.org/packages/81/94/03c0f04471fc245d08d0a99f7946ac228ca98da4fa75796c507f61e688c2/soupsieve-1.9.5-py2.py3-none-any.whl\n",
            "Installing collected packages: soupsieve, beautifulsoup4\n",
            "  Found existing installation: beautifulsoup4 4.6.3\n",
            "    Uninstalling beautifulsoup4-4.6.3:\n",
            "      Successfully uninstalled beautifulsoup4-4.6.3\n",
            "Successfully installed beautifulsoup4-4.8.2 soupsieve-1.9.5\n"
          ],
          "name": "stdout"
        },
        {
          "output_type": "display_data",
          "data": {
            "application/vnd.colab-display-data+json": {
              "pip_warning": {
                "packages": [
                  "bs4"
                ]
              }
            }
          },
          "metadata": {
            "tags": []
          }
        }
      ]
    },
    {
      "cell_type": "code",
      "metadata": {
        "id": "jh6OWVu-o7NR",
        "colab_type": "code",
        "colab": {}
      },
      "source": [
        "import pandas as pd\n",
        "import re \n",
        "import matplotlib.pyplot as plt\n",
        "# ~ Import packages ~ #\n",
        "from AdvitiyaHackathon.google_patent_scrapper import scraper_class\n",
        "import json\n",
        "import os\n"
      ],
      "execution_count": 0,
      "outputs": []
    },
    {
      "cell_type": "code",
      "metadata": {
        "id": "pqgnwxU9s1GM",
        "colab_type": "code",
        "colab": {}
      },
      "source": [
        "%%capture\n",
        "from tqdm import tnrange\n",
        "from tqdm import tqdm_notebook as tqdm\n",
        "\n"
      ],
      "execution_count": 0,
      "outputs": []
    },
    {
      "cell_type": "code",
      "metadata": {
        "id": "Wjcoci08s7wh",
        "colab_type": "code",
        "outputId": "9330008e-b778-4a71-eeaa-f7bde03dd6f7",
        "colab": {
          "base_uri": "https://localhost:8080/",
          "height": 134,
          "referenced_widgets": [
            "c27b7eb6b67b4724bf1fc8e0d084d0d2",
            "e9a987da44f549fc90ff1eb593ce783a",
            "53afad9ccb99465c9771a16ca03604d2",
            "292abee668c645af9ec525523198b7b4",
            "f815193c3e6448caa50c45f7e81182b9",
            "4358f55c9dca431c97c20a91421a5747",
            "d051296d4f37452c9e5ad7755a8504e7",
            "3deac46e9aef4b47be8d593788f41eee"
          ]
        }
      },
      "source": [
        "\"\"\"\n",
        "import time\n",
        "for i in tnrange(4,desc = \"wabalabadubdub\") :\n",
        "  print(i)\n",
        "  time.sleep(.1)\n",
        "\"\"\""
      ],
      "execution_count": 0,
      "outputs": [
        {
          "output_type": "display_data",
          "data": {
            "application/vnd.jupyter.widget-view+json": {
              "model_id": "c27b7eb6b67b4724bf1fc8e0d084d0d2",
              "version_minor": 0,
              "version_major": 2
            },
            "text/plain": [
              "HBox(children=(IntProgress(value=0, description='wabalabadubdub', max=4, style=ProgressStyle(description_width…"
            ]
          },
          "metadata": {
            "tags": []
          }
        },
        {
          "output_type": "stream",
          "text": [
            "0\n",
            "1\n",
            "2\n",
            "3\n",
            "\n"
          ],
          "name": "stdout"
        }
      ]
    },
    {
      "cell_type": "code",
      "metadata": {
        "id": "TYzFEsYCrd88",
        "colab_type": "code",
        "colab": {}
      },
      "source": [
        "drive_pt=\"/content/drive/My Drive/dl_projects/AdvitiyaHackathon/\"\n",
        "\n",
        "git_path = \"AdvitiyaHackathon/\"\n",
        "path = drive_pt+\"ScrappeData\""
      ],
      "execution_count": 0,
      "outputs": []
    },
    {
      "cell_type": "code",
      "metadata": {
        "id": "NUbSwTnQo7NY",
        "colab_type": "code",
        "colab": {}
      },
      "source": [
        "\n",
        "dataCsv = pd.read_csv(git_path+\"data.csv\", index_col=0)\n",
        "# ~ Initialize scraper class ~ #\n",
        "scraper=scraper_class()\n"
      ],
      "execution_count": 0,
      "outputs": []
    },
    {
      "cell_type": "code",
      "metadata": {
        "id": "Mt4fD149o7Nc",
        "colab_type": "code",
        "outputId": "543d00b8-a5f8-4227-a9fe-77c15b9bf845",
        "colab": {
          "base_uri": "https://localhost:8080/",
          "height": 146
        }
      },
      "source": [
        "\n",
        "\n",
        "patent_1 = 'US9038991B2'\n",
        "patent_2 = 'US266827A'\n",
        "scrapped_data = scraper.scrap_single_patent(patent_1)\n",
        "err_1, soup_1, url_1 = scraper.request_single_patent(patent_1)\n",
        "patent_1_parsed = scraper.get_scraped_data(soup_1,patent_1,url_1)\n",
        "\n",
        "with open(drive_pt+\"sample.json\", 'w') as file:\n",
        "    json.dump(scrapped_data, file)\n",
        "patent_1_parsed"
      ],
      "execution_count": 5,
      "outputs": [
        {
          "output_type": "execute_result",
          "data": {
            "text/plain": [
              "{'abstract': '[{\"abstract\": \"A carbonator tank assembly is disclosed for use in a beverage machine wherein the beverage dispensed therefrom is a carbonated beverage. The carbonator tank includes walls defining a carbonator tank interior. A probe assembly is provided for coupling in a gaseous and fluid-type manner to the walls of the carbonator tank. The probe assembly has no floats but includes elongated probes having removed ends configured to extend into the interior of the carbonator tank and near ends exposed exteriorly. An electronics module is adapt to fluidly enclose an electronics assembly therein. The electronics module includes walls adapted to receive an electrical cable carrying electrical energy from a remote source.\"}]',\n",
              " 'claims': '[{\"claims\": \"1. A carbonator tank assembly comprising:\\\\na carbonator tank including walls defining a carbonator tank interior and a mounting plate;\\\\na probe assembly configured for removable gaseous and fluid-tight coupling using elastomeric members, to the mounting plate of the carbonator tank, the probe assembly without float elements, but including a multiplicity of elongated probes, each having a near end and a removed end, each probe having a different length, and a base, the multiplicity of probes fixedly and fluid sealingly engaging the base such that most of the probes length extends into the interior of the carbonator tank to different points when the probe assembly is engaged with the carbonator tank;\\\\nan electronics module adapted to receive electricity from a remote source through an electrical cable, the electronics module having an interior, the electrical cable engaging the walls of the electronics module in fluid sealing relation;\\\\nan electronics assembly configured to fit within the interior of the electronics module for receiving electrical energy from the cable and generating signals responsive to an immersed/exposed condition of the removed ends of the probes;\\\\nmultiple electrodes for engaging the walls of the electronics module in fluid sealing relation and for engaging the electronics assembly, the multiple electrodes having removed ends adapted to form electrical engagement with the multiple near ends of the probes when the electronics module engages the probe assembly;\\\\nwherein the electronics module and probe assembly include coupling members to electronically and removably couple and uncouple the probe assembly to the electronics module, without affecting the gaseous and fluid tight coupling of the probe assembly with the tank.\\\\n\\\\n\"}, {\"claims\": \"a carbonator tank including walls defining a carbonator tank interior and a mounting plate;\"}, {\"claims\": \"a probe assembly configured for removable gaseous and fluid-tight coupling using elastomeric members, to the mounting plate of the carbonator tank, the probe assembly without float elements, but including a multiplicity of elongated probes, each having a near end and a removed end, each probe having a different length, and a base, the multiplicity of probes fixedly and fluid sealingly engaging the base such that most of the probes length extends into the interior of the carbonator tank to different points when the probe assembly is engaged with the carbonator tank;\"}, {\"claims\": \"an electronics module adapted to receive electricity from a remote source through an electrical cable, the electronics module having an interior, the electrical cable engaging the walls of the electronics module in fluid sealing relation;\"}, {\"claims\": \"an electronics assembly configured to fit within the interior of the electronics module for receiving electrical energy from the cable and generating signals responsive to an immersed/exposed condition of the removed ends of the probes;\"}, {\"claims\": \"multiple electrodes for engaging the walls of the electronics module in fluid sealing relation and for engaging the electronics assembly, the multiple electrodes having removed ends adapted to form electrical engagement with the multiple near ends of the probes when the electronics module engages the probe assembly;\\\\nwherein the electronics module and probe assembly include coupling members to electronically and removably couple and uncouple the probe assembly to the electronics module, without affecting the gaseous and fluid tight coupling of the probe assembly with the tank.\\\\n\"}, {\"claims\": \"wherein the electronics module and probe assembly include coupling members to electronically and removably couple and uncouple the probe assembly to the electronics module, without affecting the gaseous and fluid tight coupling of the probe assembly with the tank.\"}, {\"claims\": \"2. The invention of claim 1, wherein the coupling members of the probe assembly and the electronics module include walls adapted to receive fasteners for removably fastening the probe assembly to the electronics module while leaving the probe assembly in removable, gaseous and fluid tight couple with the carbonator tank.\"}, {\"claims\": \"3. The invention of claim 1 wherein the electronics module includes a housing and a base, the housing removably coupled to the base in fluid sealing relation with fasteners.\"}, {\"claims\": \"4. The invention of claim 3 wherein the coupling members of the probe assembly and the electronics module include plug and socket members, which plug and socket members locate the removed ends of the electrodes.\"}, {\"claims\": \"5. The invention of claim 4 wherein the plug and socket members include an O-ring for fluidly sealing the plug to the socket.\"}, {\"claims\": \"6. The invention of claim 3 wherein the base and housing of the electronics module include walls to removably attach the base to the housing with fasteners and walls to removably attach the electronics module to the base of the probe assembly.\"}, {\"claims\": \"7. The invention of claim 3 wherein the base and housing of the electronics module are configured to receive sealing members to fluidly seal the surfaces therebetween and to fluidly seal the electronical cable where it enters joins the electronics module.\"}, {\"claims\": \"8. The invention of claim 1 wherein the probe assembly and the electronics module include walls adapted to align the two in a specific one-way alignment when they are engaged to one another.\"}, {\"claims\": \"9. The invention of claim 1 wherein the electronics assembly is configured to reduce voltage supplied thereto from the remote source, the reduced voltage for energizing the probes.\"}, {\"claims\": \"10. The invention of claim 9 wherein the remote source provides A/C to the electronics assembly.\"}, {\"claims\": \"11. The invention of claim 1 wherein the probe assembly includes a base, each with fastener walls configured to releasably engage one to the other with fasteners.\"}, {\"claims\": \"12. The invention of claim 11 wherein the mounting plate and base include walls configured to align one with the other in a specific one-way only position when they are engaged one to the other.\"}, {\"claims\": \"13. A carbonator tank assembly comprising:\\\\na carbonator tank including walls defining a carbonator tank interior and a mounting plate;\\\\na probe assembly configured for removable, gaseous and fluid-tight coupling using elastomeric members to the mounting plate of the carbonator tank, the probe assembly without float elements, but including a multiplicity of elongated probes, each having a near end and a removed end, each having a different length, and a base, the multiplicity of probes fixedly and fluid sealingly engaging the base such that most of the probes length extends into the interior of the carbonator tank to different points when the probe assembly is engaged with the carbonator tank and the near ends project through the base;\\\\nan electronics module adapted to receive electricity from a remote source through an electrical cable, the electronics module having an interior, the electrical cable engaging the walls in fluid sealing relation;\\\\nan electronics assembly configured to fit within the interior of the electronics module for receiving electrical energy from the cable and generating signals responsive to an immersed/exposed condition of the removed ends of the probes;\\\\nmultiple electrodes for engaging the walls of the electronics module in fluid sealing relation and for engaging the electronics assembly, the multiple electrodes having removed ends adapted to form electrical engagement with the multiple near ends of the probes when the electronics module engages the probe assembly;\\\\nwherein the electronics module and probe assembly include coupling members to electronically and removably couple the probe assembly to the electronics module, without affecting the gaseous and fluid tight coupling of the probe assembly with the tank;\\\\nwherein the coupling members of the probe assembly and the electronics module include walls adapted to receive fasteners for removably fastening the probe assembly to the electronics module while leaving the probe assembly in removable, gaseous and fluid tight couple with the carbonator tank;\\\\nwherein the electronics module includes a housing and a base, the housing removably coupled to the base in fluid sealing relation with fasteners;\\\\nwherein the base and housing of the electronics module include walls to removably attach the base to the housing with fasteners and walls to removably attach the electronics module to the base of the probe assembly; and\\\\nwherein the base and housing of the electronics module are configured to receive sealing members to fluidly seal the surfaces therebetween and to fluidly seal the electronical cable where it enters the electronics module.\\\\n\\\\n\"}, {\"claims\": \"a carbonator tank including walls defining a carbonator tank interior and a mounting plate;\"}, {\"claims\": \"a probe assembly configured for removable, gaseous and fluid-tight coupling using elastomeric members to the mounting plate of the carbonator tank, the probe assembly without float elements, but including a multiplicity of elongated probes, each having a near end and a removed end, each having a different length, and a base, the multiplicity of probes fixedly and fluid sealingly engaging the base such that most of the probes length extends into the interior of the carbonator tank to different points when the probe assembly is engaged with the carbonator tank and the near ends project through the base;\"}, {\"claims\": \"an electronics module adapted to receive electricity from a remote source through an electrical cable, the electronics module having an interior, the electrical cable engaging the walls in fluid sealing relation;\"}, {\"claims\": \"an electronics assembly configured to fit within the interior of the electronics module for receiving electrical energy from the cable and generating signals responsive to an immersed/exposed condition of the removed ends of the probes;\"}, {\"claims\": \"multiple electrodes for engaging the walls of the electronics module in fluid sealing relation and for engaging the electronics assembly, the multiple electrodes having removed ends adapted to form electrical engagement with the multiple near ends of the probes when the electronics module engages the probe assembly;\\\\nwherein the electronics module and probe assembly include coupling members to electronically and removably couple the probe assembly to the electronics module, without affecting the gaseous and fluid tight coupling of the probe assembly with the tank;\\\\nwherein the coupling members of the probe assembly and the electronics module include walls adapted to receive fasteners for removably fastening the probe assembly to the electronics module while leaving the probe assembly in removable, gaseous and fluid tight couple with the carbonator tank;\\\\nwherein the electronics module includes a housing and a base, the housing removably coupled to the base in fluid sealing relation with fasteners;\\\\nwherein the base and housing of the electronics module include walls to removably attach the base to the housing with fasteners and walls to removably attach the electronics module to the base of the probe assembly; and\\\\nwherein the base and housing of the electronics module are configured to receive sealing members to fluidly seal the surfaces therebetween and to fluidly seal the electronical cable where it enters the electronics module.\\\\n\"}, {\"claims\": \"wherein the electronics module and probe assembly include coupling members to electronically and removably couple the probe assembly to the electronics module, without affecting the gaseous and fluid tight coupling of the probe assembly with the tank;\"}, {\"claims\": \"wherein the coupling members of the probe assembly and the electronics module include walls adapted to receive fasteners for removably fastening the probe assembly to the electronics module while leaving the probe assembly in removable, gaseous and fluid tight couple with the carbonator tank;\"}, {\"claims\": \"wherein the electronics module includes a housing and a base, the housing removably coupled to the base in fluid sealing relation with fasteners;\"}, {\"claims\": \"wherein the base and housing of the electronics module include walls to removably attach the base to the housing with fasteners and walls to removably attach the electronics module to the base of the probe assembly; and\"}, {\"claims\": \"wherein the base and housing of the electronics module are configured to receive sealing members to fluidly seal the surfaces therebetween and to fluidly seal the electronical cable where it enters the electronics module.\"}, {\"claims\": \"14. A beverage dispensing apparatus comprising:\\\\na water source;\\\\na pump engaging the water source;\\\\na source of high pressure CO2 gas;\\\\na dispensing head;\\\\na source of beverage concentrate;\\\\na carbonator tank assembly comprising:\\\\na carbonator tank including walls defining a carbonator tank interior and a mounting plate;\\\\na probe assembly configured for removable, gaseous and fluid-tight coupling using elastomeric members to the mounting plate of the carbonator tank, the probe assembly without float elements, but including a multiplicity of elongated probes, each having a near end and a removed end, each having a different length, and a base, the multiplicity of probes fixedly and fluid sealingly engaging the base such that most of the probes length extends into the interior of the carbonator tank to different points when the probe assembly is engaged with the carbonator tank and the near ends project through the base;\\\\nan electronics module adapted to receive electricity from a remote source through an electrical cable, the electronics module having an interior, the electrical cable engaging the walls in fluid sealing relation;\\\\nan electronics assembly configured to fit within the interior of the electronics module for receiving electrical energy from the cable and generating signals responsive to an immersed/exposed condition of the removed ends of the probes;\\\\nmultiple electrodes for engaging the walls of the electronics module in fluid sealing relation and for engaging the electronics assembly, the multiple electrodes having removed ends adapted to form electrical engagement with the multiple near ends of the probes when the electronics module engages the probe assembly;\\\\nwherein the electronics module and probe assembly include coupling members to electronically and removably couple the probe assembly to the electronics module, without affecting the gaseous and fluid tight coupling of the probe assembly with the tank;\\\\n\\\\nwherein the pump provides water to the carbonator tank responsive to signals from the electronics assembly; and\\\\nwherein the source of high pressure CO2 gas maintain pressure in the carbonator tank and wherein an outline from the carbonator tank to the dispensing head and lines from the beverage concentrate allows a carbonate of beverage to be dispensed therefrom.\\\\n\"}, {\"claims\": \"a water source;\"}, {\"claims\": \"a pump engaging the water source;\"}, {\"claims\": \"a source of high pressure CO2 gas;\"}, {\"claims\": \"a dispensing head;\"}, {\"claims\": \"a source of beverage concentrate;\"}, {\"claims\": \"a carbonator tank assembly comprising:\"}, {\"claims\": \"a carbonator tank including walls defining a carbonator tank interior and a mounting plate;\"}, {\"claims\": \"a probe assembly configured for removable, gaseous and fluid-tight coupling using elastomeric members to the mounting plate of the carbonator tank, the probe assembly without float elements, but including a multiplicity of elongated probes, each having a near end and a removed end, each having a different length, and a base, the multiplicity of probes fixedly and fluid sealingly engaging the base such that most of the probes length extends into the interior of the carbonator tank to different points when the probe assembly is engaged with the carbonator tank and the near ends project through the base;\"}, {\"claims\": \"an electronics module adapted to receive electricity from a remote source through an electrical cable, the electronics module having an interior, the electrical cable engaging the walls in fluid sealing relation;\"}, {\"claims\": \"an electronics assembly configured to fit within the interior of the electronics module for receiving electrical energy from the cable and generating signals responsive to an immersed/exposed condition of the removed ends of the probes;\"}, {\"claims\": \"multiple electrodes for engaging the walls of the electronics module in fluid sealing relation and for engaging the electronics assembly, the multiple electrodes having removed ends adapted to form electrical engagement with the multiple near ends of the probes when the electronics module engages the probe assembly;\\\\nwherein the electronics module and probe assembly include coupling members to electronically and removably couple the probe assembly to the electronics module, without affecting the gaseous and fluid tight coupling of the probe assembly with the tank;\\\\n\"}, {\"claims\": \"wherein the electronics module and probe assembly include coupling members to electronically and removably couple the probe assembly to the electronics module, without affecting the gaseous and fluid tight coupling of the probe assembly with the tank;\"}, {\"claims\": \"wherein the pump provides water to the carbonator tank responsive to signals from the electronics assembly; and\"}, {\"claims\": \"wherein the source of high pressure CO2 gas maintain pressure in the carbonator tank and wherein an outline from the carbonator tank to the dispensing head and lines from the beverage concentrate allows a carbonate of beverage to be dispensed therefrom.\"}, {\"claims\": \"15. The carbonator tank assembly of claim 2, wherein the electronics assembly provides low voltage DC to at least one of the probes.\"}, {\"claims\": \"16. The beverage dispensing apparatus of claim 14, wherein the electronics assembly provides low voltage DC to at least some of the probes.\"}, {\"claims\": \"17. The beverage dispensing apparatus of claim 14, wherein the coupling members of the probe assembly and the electronics module include walls adapted to receive fasteners for removably fastening the probe assembly to the electronics module while leaving the probe assembly in removable, gaseous and fluid tight couple with the carbonator tank.\"}, {\"claims\": \"18. The beverage dispensing apparatus of claim 14, wherein the probe assembly and the electronics module include walls adapted to align the two in a specific one-way alignment when they are engaged to one another. \"}]',\n",
              " 'classification': '[{\"classifaiction\": \"PERFORMING OPERATIONS; TRANSPORTING\"}, {\"classifaiction\": \"PHYSICAL OR CHEMICAL PROCESSES OR APPARATUS IN GENERAL\"}, {\"classifaiction\": \"MIXING, e.g. DISSOLVING, EMULSIFYING, DISPERSING\"}, {\"classifaiction\": \"Mixing, e.g. dispersing, emulsifying, according to the phases to be mixed\"}, {\"classifaiction\": \"Mixing, e.g. dispersing, emulsifying, according to the phases to be mixed gases or vapours with liquids\"}, {\"classifaiction\": \"Introducing a gas or vapour into a liquid medium, e.g. producing aerated liquids\"}, {\"classifaiction\": \"Apparatus for aerating or carbonating beverages\"}, {\"classifaiction\": \"Apparatus for aerating or carbonating beverages for aerating or carbonating within receptables or tanks, e.g. distribution machines\"}, {\"classifaiction\": \"PERFORMING OPERATIONS; TRANSPORTING\"}, {\"classifaiction\": \"PHYSICAL OR CHEMICAL PROCESSES OR APPARATUS IN GENERAL\"}, {\"classifaiction\": \"MIXING, e.g. DISSOLVING, EMULSIFYING, DISPERSING\"}, {\"classifaiction\": \"Accessories for mixers ; Auxiliary operations or auxiliary devices; Parts or details of general application\"}, {\"classifaiction\": \"Controlling; Testing; Measuring\"}, {\"classifaiction\": \"Measuring operational parameters\"}, {\"classifaiction\": \"Measuring the level of material in a container or the position or shape of the upper surface of the material\"}, {\"classifaiction\": \"PERFORMING OPERATIONS; TRANSPORTING\"}, {\"classifaiction\": \"OPENING, CLOSING OR CLEANING BOTTLES, JARS OR SIMILAR CONTAINERS; LIQUID HANDLING\"}, {\"classifaiction\": \"DISPENSING, DELIVERING OR TRANSFERRING LIQUIDS, NOT OTHERWISE PROVIDED FOR\"}, {\"classifaiction\": \"Apparatus or devices for dispensing beverages on draught\"}, {\"classifaiction\": \"Details of specific parts of the dispensers\"}, {\"classifaiction\": \"Carbonators\"}, {\"classifaiction\": \"PERFORMING OPERATIONS; TRANSPORTING\"}, {\"classifaiction\": \"OPENING, CLOSING OR CLEANING BOTTLES, JARS OR SIMILAR CONTAINERS; LIQUID HANDLING\"}, {\"classifaiction\": \"DISPENSING, DELIVERING OR TRANSFERRING LIQUIDS, NOT OTHERWISE PROVIDED FOR\"}, {\"classifaiction\": \"Apparatus or devices for dispensing beverages on draught\"}, {\"classifaiction\": \"Details\"}, {\"classifaiction\": \"Level gauges for beverage storage containers\"}, {\"classifaiction\": \"PHYSICS\"}, {\"classifaiction\": \"MEASURING; TESTING\"}, {\"classifaiction\": \"MEASURING VOLUME, VOLUME FLOW, MASS FLOW OR LIQUID LEVEL; METERING BY VOLUME\"}, {\"classifaiction\": \"Indicating or measuring liquid level, or level of fluent solid material, e.g. indicating in terms of volume, indicating by means of an alarm\"}, {\"classifaiction\": \"Indicating or measuring liquid level, or level of fluent solid material, e.g. indicating in terms of volume, indicating by means of an alarm by measurement of physical variables, other than linear dimensions, pressure or weight, dependent on the level to be measured, e.g. by difference of heat transfer of steam or water\"}, {\"classifaiction\": \"Indicating or measuring liquid level, or level of fluent solid material, e.g. indicating in terms of volume, indicating by means of an alarm by measurement of physical variables, other than linear dimensions, pressure or weight, dependent on the level to be measured, e.g. by difference of heat transfer of steam or water by measuring variations of resistance of resistors due to contact with conductor fluid\"}, {\"classifaiction\": \"Indicating or measuring liquid level, or level of fluent solid material, e.g. indicating in terms of volume, indicating by means of an alarm by measurement of physical variables, other than linear dimensions, pressure or weight, dependent on the level to be measured, e.g. by difference of heat transfer of steam or water by measuring variations of resistance of resistors due to contact with conductor fluid for discrete levels\"}, {\"classifaiction\": \"Mounting arrangements for electrodes\"}, {\"classifaiction\": \"PHYSICS\"}, {\"classifaiction\": \"CONTROLLING; REGULATING\"}, {\"classifaiction\": \"SYSTEMS FOR CONTROLLING OR REGULATING NON-ELECTRIC VARIABLES\"}, {\"classifaiction\": \"Level control, e.g. controlling quantity of material stored in vessel\"}, {\"classifaiction\": \"Level control, e.g. controlling quantity of material stored in vessel characterised by the use of electric means\"}, {\"classifaiction\": \"PERFORMING OPERATIONS; TRANSPORTING\"}, {\"classifaiction\": \"PHYSICAL OR CHEMICAL PROCESSES OR APPARATUS IN GENERAL\"}, {\"classifaiction\": \"MIXING, e.g. DISSOLVING, EMULSIFYING, DISPERSING\"}, {\"classifaiction\": \"Auxiliary or complementary information in relation with mixing\"}, {\"classifaiction\": \"Field of application of the mixing device\"}, {\"classifaiction\": \"Mixing beverage ingredients for non-alcoholic beverages; Dissolving sugar in water\"}, {\"classifaiction\": \"PERFORMING OPERATIONS; TRANSPORTING\"}, {\"classifaiction\": \"OPENING, CLOSING OR CLEANING BOTTLES, JARS OR SIMILAR CONTAINERS; LIQUID HANDLING\"}, {\"classifaiction\": \"DISPENSING, DELIVERING OR TRANSFERRING LIQUIDS, NOT OTHERWISE PROVIDED FOR\"}, {\"classifaiction\": \"Indexing scheme relating to aspects and details of apparatus or devices for dispensing beverages on draught or for controlling flow of liquids under gravity from storage containers for dispensing purposes\"}, {\"classifaiction\": \"Component storage means\"}, {\"classifaiction\": \"Fixed containers to be filled in situ\"}, {\"classifaiction\": \"Automatically\"}, {\"classifaiction\": \"Level detected electrically by contact with sensors\"}]',\n",
              " 'patent': 'US9038991B2',\n",
              " 'title': '\"US9038991B2 - Modular electronic carbonator fluid level control mechanism \\\\n        - Google Patents\"',\n",
              " 'url': 'https://patents.google.com/patent/US9038991B2'}"
            ]
          },
          "metadata": {
            "tags": []
          },
          "execution_count": 5
        }
      ]
    },
    {
      "cell_type": "code",
      "metadata": {
        "id": "8v_YR-bro7Nh",
        "colab_type": "code",
        "colab": {}
      },
      "source": [
        "\n",
        "os.mkdir(drive_pt+\"ScrappeData\")\n",
        "os.mkdir(drive_pt+\"ScrappeData/non_alc\")\n",
        "os.mkdir(drive_pt+\"ScrappeData/alc\")\n",
        "os.mkdir(drive_pt+\"ScrappeData/non_auto\")\n",
        "os.mkdir(drive_pt+\"ScrappeData/auto\")\n",
        "\n"
      ],
      "execution_count": 0,
      "outputs": []
    },
    {
      "cell_type": "code",
      "metadata": {
        "id": "tuwc3Ov4o7Nl",
        "colab_type": "code",
        "colab": {}
      },
      "source": [
        "# Make a separate list for each category\n",
        "non_alc = list(dataCsv.iloc[:,0])\n",
        "alc = list(dataCsv.iloc[:,2])\n",
        "non_auto = list(dataCsv.iloc[:,4])\n",
        "auto = list(dataCsv.iloc[:,6])"
      ],
      "execution_count": 0,
      "outputs": []
    },
    {
      "cell_type": "code",
      "metadata": {
        "id": "FwpXV8dmo7No",
        "colab_type": "code",
        "colab": {
          "base_uri": "https://localhost:8080/",
          "height": 81,
          "referenced_widgets": [
            "677c40fad6d54211826b6e07eb90fd8e",
            "a8e93c7f6eb346fc9c4c4130476bdc55",
            "6e53ba4d160948f6839495c7c190bb7a",
            "414b56554c204cdd9f26e3f5643d115b",
            "69e1b47a724941fd9e8d94982bdea944",
            "8cf0fb9ea5f1464d96ab6e35d0abc31c",
            "aba55ccc329048849701fae1b16a7821",
            "855e1c7a7f284ae19eb64baf5d0aa267",
            "f74ab732b7a549f5b2450702d9dadd79",
            "3a593f0b36624f69998d1195ec6fc52b",
            "8604c6fc11cc438ab4256ab3e5a5e395",
            "3d08ba71b5e14994889aff704bb52214",
            "3782571ff9f1482bb8793a9fcc5de24c",
            "729e60bbd1614d4499b5a81ed034bb1e",
            "b4ac9974f7bf4eca898d7ca17cc73747",
            "d86e74c4164b47d889c1922bbb7666c5"
          ]
        },
        "outputId": "cb8140c1-49bf-450b-8187-414f6bd50307"
      },
      "source": [
        "\n",
        "names = [\"non_alc\", \"alc\", \"non_auto\", \"auto\"]\n",
        "catwise_patent_lists = [non_alc, alc, non_auto, auto]\n",
        "\n",
        "\n",
        "for index in tnrange(4, desc = \"CatList\"):\n",
        "    patents = catwise_patent_lists[index]\n",
        "    cat_folder  = names[index]\n",
        "    cat_list = catwise_patent_lists[index]\n",
        "    for patent in tqdm(cat_list,desc  = \"patents\"):\n",
        "        scrappedJson = scraper.scrap_single_patent(patent)\n",
        "        filename = os.path.join(path,cat_folder,str(patent)+\".json\")\n",
        "        with open(filename, 'w') as file:\n",
        "            json.dump(scrappedJson, file)\n",
        "         "
      ],
      "execution_count": 0,
      "outputs": [
        {
          "output_type": "display_data",
          "data": {
            "application/vnd.jupyter.widget-view+json": {
              "model_id": "677c40fad6d54211826b6e07eb90fd8e",
              "version_minor": 0,
              "version_major": 2
            },
            "text/plain": [
              "HBox(children=(IntProgress(value=0, description='CatList', max=4, style=ProgressStyle(description_width='initi…"
            ]
          },
          "metadata": {
            "tags": []
          }
        },
        {
          "output_type": "display_data",
          "data": {
            "application/vnd.jupyter.widget-view+json": {
              "model_id": "f74ab732b7a549f5b2450702d9dadd79",
              "version_minor": 0,
              "version_major": 2
            },
            "text/plain": [
              "HBox(children=(IntProgress(value=0, description='patents', max=300, style=ProgressStyle(description_width='ini…"
            ]
          },
          "metadata": {
            "tags": []
          }
        }
      ]
    },
    {
      "cell_type": "code",
      "metadata": {
        "id": "CEO0oYKWo7Nz",
        "colab_type": "code",
        "outputId": "59e8a528-1ed4-4249-ca89-8473cda743af",
        "colab": {}
      },
      "source": [
        "print(([{'inventor_name':x.get_text()} for x in soup_1.select(\".title\",limit = 30)]))"
      ],
      "execution_count": 0,
      "outputs": [
        {
          "output_type": "stream",
          "text": [
            "[]\n"
          ],
          "name": "stdout"
        }
      ]
    },
    {
      "cell_type": "code",
      "metadata": {
        "id": "wAz5uozDo7N3",
        "colab_type": "code",
        "colab": {}
      },
      "source": [
        "print([{'inventor_name':x.get_text()} for x in soup_1.find('title')])"
      ],
      "execution_count": 0,
      "outputs": []
    },
    {
      "cell_type": "code",
      "metadata": {
        "id": "eWT_sl8Eo7N_",
        "colab_type": "code",
        "colab": {}
      },
      "source": [
        "*(soup_1.select(\".abstract\")).get_text()"
      ],
      "execution_count": 0,
      "outputs": []
    },
    {
      "cell_type": "code",
      "metadata": {
        "id": "m7Z95j3lo7OC",
        "colab_type": "code",
        "colab": {}
      },
      "source": [
        "print(soup_1.find('title').get_text())"
      ],
      "execution_count": 0,
      "outputs": []
    },
    {
      "cell_type": "code",
      "metadata": {
        "id": "-LWVGX2Jo7OF",
        "colab_type": "code",
        "colab": {}
      },
      "source": [
        ""
      ],
      "execution_count": 0,
      "outputs": []
    },
    {
      "cell_type": "markdown",
      "metadata": {
        "id": "qIBlEzBQkdqw",
        "colab_type": "text"
      },
      "source": [
        "**Data** **cleaning**"
      ]
    },
    {
      "cell_type": "code",
      "metadata": {
        "id": "0Y7B8JDBmZXx",
        "colab_type": "code",
        "colab": {}
      },
      "source": [
        "# Make a separate list for each category\n",
        "non_alc_json_pt = [os.path.join(path,names[0],p_num+\".json\") for p_num in catwise_patent_lists[0]]\n",
        "alc_json_pt = [os.path.join(path,names[1],p_num+\".json\") for p_num in catwise_patent_lists[1]]\n",
        "non_auto_json_pt = [os.path.join(path,names[2],p_num+\".json\") for p_num in catwise_patent_lists[2]]\n",
        "auto_json_pt = [os.path.join(path,names[3],p_num+\".json\") for p_num in catwise_patent_lists[3]]"
      ],
      "execution_count": 0,
      "outputs": []
    },
    {
      "cell_type": "code",
      "metadata": {
        "id": "ygQq8G_SnnCg",
        "colab_type": "code",
        "colab": {
          "base_uri": "https://localhost:8080/",
          "height": 35
        },
        "outputId": "7c337123-3b07-4855-e687-502a4b40a80c"
      },
      "source": [
        "non_alc_json_pt[1]"
      ],
      "execution_count": 13,
      "outputs": [
        {
          "output_type": "execute_result",
          "data": {
            "text/plain": [
              "'/content/drive/My Drive/dl_projects/AdvitiyaHackathon/ScrappeData/non_alc/US9040109B2.json'"
            ]
          },
          "metadata": {
            "tags": []
          },
          "execution_count": 13
        }
      ]
    },
    {
      "cell_type": "code",
      "metadata": {
        "id": "jSim_cZNklDe",
        "colab_type": "code",
        "colab": {
          "base_uri": "https://localhost:8080/",
          "height": 146
        },
        "outputId": "be3485df-9c94-44d1-d02d-27c469cc8942"
      },
      "source": [
        "\n",
        "with open(non_alc_json_pt[4]) as json_file:\n",
        "    data = json.load(json_file)\n",
        "data    "
      ],
      "execution_count": 16,
      "outputs": [
        {
          "output_type": "execute_result",
          "data": {
            "text/plain": [
              "{'abstract': '[]',\n",
              " 'claims': '[{\"claims\": \"1. A carbonator tank assembly comprising:\\\\na carbonator tank including walls defining a carbonator tank interior and a mounting plate;\\\\na probe assembly configured for removable gaseous and fluid-tight coupling using elastomeric members, to the mounting plate of the carbonator tank, the probe assembly without float elements, but including a multiplicity of elongated probes, each having a near end and a removed end, each probe having a different length, and a base, the multiplicity of probes fixedly and fluid sealingly engaging the base such that most of the probes length extends into the interior of the carbonator tank to different points when the probe assembly is engaged with the carbonator tank;\\\\nan electronics module adapted to receive electricity from a remote source through an electrical cable, the electronics module having an interior, the electrical cable engaging the walls of the electronics module in fluid sealing relation;\\\\nan electronics assembly configured to fit within the interior of the electronics module for receiving electrical energy from the cable and generating signals responsive to an immersed/exposed condition of the removed ends of the probes;\\\\nmultiple electrodes for engaging the walls of the electronics module in fluid sealing relation and for engaging the electronics assembly, the multiple electrodes having removed ends adapted to form electrical engagement with the multiple near ends of the probes when the electronics module engages the probe assembly;\\\\nwherein the electronics module and probe assembly include coupling members to electronically and removably couple and uncouple the probe assembly to the electronics module, without affecting the gaseous and fluid tight coupling of the probe assembly with the tank.\\\\n\\\\n\"}, {\"claims\": \"a carbonator tank including walls defining a carbonator tank interior and a mounting plate;\"}, {\"claims\": \"a probe assembly configured for removable gaseous and fluid-tight coupling using elastomeric members, to the mounting plate of the carbonator tank, the probe assembly without float elements, but including a multiplicity of elongated probes, each having a near end and a removed end, each probe having a different length, and a base, the multiplicity of probes fixedly and fluid sealingly engaging the base such that most of the probes length extends into the interior of the carbonator tank to different points when the probe assembly is engaged with the carbonator tank;\"}, {\"claims\": \"an electronics module adapted to receive electricity from a remote source through an electrical cable, the electronics module having an interior, the electrical cable engaging the walls of the electronics module in fluid sealing relation;\"}, {\"claims\": \"an electronics assembly configured to fit within the interior of the electronics module for receiving electrical energy from the cable and generating signals responsive to an immersed/exposed condition of the removed ends of the probes;\"}, {\"claims\": \"multiple electrodes for engaging the walls of the electronics module in fluid sealing relation and for engaging the electronics assembly, the multiple electrodes having removed ends adapted to form electrical engagement with the multiple near ends of the probes when the electronics module engages the probe assembly;\\\\nwherein the electronics module and probe assembly include coupling members to electronically and removably couple and uncouple the probe assembly to the electronics module, without affecting the gaseous and fluid tight coupling of the probe assembly with the tank.\\\\n\"}, {\"claims\": \"wherein the electronics module and probe assembly include coupling members to electronically and removably couple and uncouple the probe assembly to the electronics module, without affecting the gaseous and fluid tight coupling of the probe assembly with the tank.\"}, {\"claims\": \"2. The invention of claim 1, wherein the coupling members of the probe assembly and the electronics module include walls adapted to receive fasteners for removably fastening the probe assembly to the electronics module while leaving the probe assembly in removable, gaseous and fluid tight couple with the carbonator tank.\"}, {\"claims\": \"3. The invention of claim 1 wherein the electronics module includes a housing and a base, the housing removably coupled to the base in fluid sealing relation with fasteners.\"}, {\"claims\": \"4. The invention of claim 3 wherein the coupling members of the probe assembly and the electronics module include plug and socket members, which plug and socket members locate the removed ends of the electrodes.\"}, {\"claims\": \"5. The invention of claim 4 wherein the plug and socket members include an O-ring for fluidly sealing the plug to the socket.\"}, {\"claims\": \"6. The invention of claim 3 wherein the base and housing of the electronics module include walls to removably attach the base to the housing with fasteners and walls to removably attach the electronics module to the base of the probe assembly.\"}, {\"claims\": \"7. The invention of claim 3 wherein the base and housing of the electronics module are configured to receive sealing members to fluidly seal the surfaces therebetween and to fluidly seal the electronical cable where it enters joins the electronics module.\"}, {\"claims\": \"8. The invention of claim 1 wherein the probe assembly and the electronics module include walls adapted to align the two in a specific one-way alignment when they are engaged to one another.\"}, {\"claims\": \"9. The invention of claim 1 wherein the electronics assembly is configured to reduce voltage supplied thereto from the remote source, the reduced voltage for energizing the probes.\"}, {\"claims\": \"10. The invention of claim 9 wherein the remote source provides A/C to the electronics assembly.\"}, {\"claims\": \"11. The invention of claim 1 wherein the probe assembly includes a base, each with fastener walls configured to releasably engage one to the other with fasteners.\"}, {\"claims\": \"12. The invention of claim 11 wherein the mounting plate and base include walls configured to align one with the other in a specific one-way only position when they are engaged one to the other.\"}, {\"claims\": \"13. A carbonator tank assembly comprising:\\\\na carbonator tank including walls defining a carbonator tank interior and a mounting plate;\\\\na probe assembly configured for removable, gaseous and fluid-tight coupling using elastomeric members to the mounting plate of the carbonator tank, the probe assembly without float elements, but including a multiplicity of elongated probes, each having a near end and a removed end, each having a different length, and a base, the multiplicity of probes fixedly and fluid sealingly engaging the base such that most of the probes length extends into the interior of the carbonator tank to different points when the probe assembly is engaged with the carbonator tank and the near ends project through the base;\\\\nan electronics module adapted to receive electricity from a remote source through an electrical cable, the electronics module having an interior, the electrical cable engaging the walls in fluid sealing relation;\\\\nan electronics assembly configured to fit within the interior of the electronics module for receiving electrical energy from the cable and generating signals responsive to an immersed/exposed condition of the removed ends of the probes;\\\\nmultiple electrodes for engaging the walls of the electronics module in fluid sealing relation and for engaging the electronics assembly, the multiple electrodes having removed ends adapted to form electrical engagement with the multiple near ends of the probes when the electronics module engages the probe assembly;\\\\nwherein the electronics module and probe assembly include coupling members to electronically and removably couple the probe assembly to the electronics module, without affecting the gaseous and fluid tight coupling of the probe assembly with the tank;\\\\nwherein the coupling members of the probe assembly and the electronics module include walls adapted to receive fasteners for removably fastening the probe assembly to the electronics module while leaving the probe assembly in removable, gaseous and fluid tight couple with the carbonator tank;\\\\nwherein the electronics module includes a housing and a base, the housing removably coupled to the base in fluid sealing relation with fasteners;\\\\nwherein the base and housing of the electronics module include walls to removably attach the base to the housing with fasteners and walls to removably attach the electronics module to the base of the probe assembly; and\\\\nwherein the base and housing of the electronics module are configured to receive sealing members to fluidly seal the surfaces therebetween and to fluidly seal the electronical cable where it enters the electronics module.\\\\n\\\\n\"}, {\"claims\": \"a carbonator tank including walls defining a carbonator tank interior and a mounting plate;\"}, {\"claims\": \"a probe assembly configured for removable, gaseous and fluid-tight coupling using elastomeric members to the mounting plate of the carbonator tank, the probe assembly without float elements, but including a multiplicity of elongated probes, each having a near end and a removed end, each having a different length, and a base, the multiplicity of probes fixedly and fluid sealingly engaging the base such that most of the probes length extends into the interior of the carbonator tank to different points when the probe assembly is engaged with the carbonator tank and the near ends project through the base;\"}, {\"claims\": \"an electronics module adapted to receive electricity from a remote source through an electrical cable, the electronics module having an interior, the electrical cable engaging the walls in fluid sealing relation;\"}, {\"claims\": \"an electronics assembly configured to fit within the interior of the electronics module for receiving electrical energy from the cable and generating signals responsive to an immersed/exposed condition of the removed ends of the probes;\"}, {\"claims\": \"multiple electrodes for engaging the walls of the electronics module in fluid sealing relation and for engaging the electronics assembly, the multiple electrodes having removed ends adapted to form electrical engagement with the multiple near ends of the probes when the electronics module engages the probe assembly;\\\\nwherein the electronics module and probe assembly include coupling members to electronically and removably couple the probe assembly to the electronics module, without affecting the gaseous and fluid tight coupling of the probe assembly with the tank;\\\\nwherein the coupling members of the probe assembly and the electronics module include walls adapted to receive fasteners for removably fastening the probe assembly to the electronics module while leaving the probe assembly in removable, gaseous and fluid tight couple with the carbonator tank;\\\\nwherein the electronics module includes a housing and a base, the housing removably coupled to the base in fluid sealing relation with fasteners;\\\\nwherein the base and housing of the electronics module include walls to removably attach the base to the housing with fasteners and walls to removably attach the electronics module to the base of the probe assembly; and\\\\nwherein the base and housing of the electronics module are configured to receive sealing members to fluidly seal the surfaces therebetween and to fluidly seal the electronical cable where it enters the electronics module.\\\\n\"}, {\"claims\": \"wherein the electronics module and probe assembly include coupling members to electronically and removably couple the probe assembly to the electronics module, without affecting the gaseous and fluid tight coupling of the probe assembly with the tank;\"}, {\"claims\": \"wherein the coupling members of the probe assembly and the electronics module include walls adapted to receive fasteners for removably fastening the probe assembly to the electronics module while leaving the probe assembly in removable, gaseous and fluid tight couple with the carbonator tank;\"}, {\"claims\": \"wherein the electronics module includes a housing and a base, the housing removably coupled to the base in fluid sealing relation with fasteners;\"}, {\"claims\": \"wherein the base and housing of the electronics module include walls to removably attach the base to the housing with fasteners and walls to removably attach the electronics module to the base of the probe assembly; and\"}, {\"claims\": \"wherein the base and housing of the electronics module are configured to receive sealing members to fluidly seal the surfaces therebetween and to fluidly seal the electronical cable where it enters the electronics module.\"}, {\"claims\": \"14. A beverage dispensing apparatus comprising:\\\\na water source;\\\\na pump engaging the water source;\\\\na source of high pressure CO2 gas;\\\\na dispensing head;\\\\na source of beverage concentrate;\\\\na carbonator tank assembly comprising:\\\\na carbonator tank including walls defining a carbonator tank interior and a mounting plate;\\\\na probe assembly configured for removable, gaseous and fluid-tight coupling using elastomeric members to the mounting plate of the carbonator tank, the probe assembly without float elements, but including a multiplicity of elongated probes, each having a near end and a removed end, each having a different length, and a base, the multiplicity of probes fixedly and fluid sealingly engaging the base such that most of the probes length extends into the interior of the carbonator tank to different points when the probe assembly is engaged with the carbonator tank and the near ends project through the base;\\\\nan electronics module adapted to receive electricity from a remote source through an electrical cable, the electronics module having an interior, the electrical cable engaging the walls in fluid sealing relation;\\\\nan electronics assembly configured to fit within the interior of the electronics module for receiving electrical energy from the cable and generating signals responsive to an immersed/exposed condition of the removed ends of the probes;\\\\nmultiple electrodes for engaging the walls of the electronics module in fluid sealing relation and for engaging the electronics assembly, the multiple electrodes having removed ends adapted to form electrical engagement with the multiple near ends of the probes when the electronics module engages the probe assembly;\\\\nwherein the electronics module and probe assembly include coupling members to electronically and removably couple the probe assembly to the electronics module, without affecting the gaseous and fluid tight coupling of the probe assembly with the tank;\\\\n\\\\nwherein the pump provides water to the carbonator tank responsive to signals from the electronics assembly; and\\\\nwherein the source of high pressure CO2 gas maintain pressure in the carbonator tank and wherein an outline from the carbonator tank to the dispensing head and lines from the beverage concentrate allows a carbonate of beverage to be dispensed therefrom.\\\\n\"}, {\"claims\": \"a water source;\"}, {\"claims\": \"a pump engaging the water source;\"}, {\"claims\": \"a source of high pressure CO2 gas;\"}, {\"claims\": \"a dispensing head;\"}, {\"claims\": \"a source of beverage concentrate;\"}, {\"claims\": \"a carbonator tank assembly comprising:\"}, {\"claims\": \"a carbonator tank including walls defining a carbonator tank interior and a mounting plate;\"}, {\"claims\": \"a probe assembly configured for removable, gaseous and fluid-tight coupling using elastomeric members to the mounting plate of the carbonator tank, the probe assembly without float elements, but including a multiplicity of elongated probes, each having a near end and a removed end, each having a different length, and a base, the multiplicity of probes fixedly and fluid sealingly engaging the base such that most of the probes length extends into the interior of the carbonator tank to different points when the probe assembly is engaged with the carbonator tank and the near ends project through the base;\"}, {\"claims\": \"an electronics module adapted to receive electricity from a remote source through an electrical cable, the electronics module having an interior, the electrical cable engaging the walls in fluid sealing relation;\"}, {\"claims\": \"an electronics assembly configured to fit within the interior of the electronics module for receiving electrical energy from the cable and generating signals responsive to an immersed/exposed condition of the removed ends of the probes;\"}, {\"claims\": \"multiple electrodes for engaging the walls of the electronics module in fluid sealing relation and for engaging the electronics assembly, the multiple electrodes having removed ends adapted to form electrical engagement with the multiple near ends of the probes when the electronics module engages the probe assembly;\\\\nwherein the electronics module and probe assembly include coupling members to electronically and removably couple the probe assembly to the electronics module, without affecting the gaseous and fluid tight coupling of the probe assembly with the tank;\\\\n\"}, {\"claims\": \"wherein the electronics module and probe assembly include coupling members to electronically and removably couple the probe assembly to the electronics module, without affecting the gaseous and fluid tight coupling of the probe assembly with the tank;\"}, {\"claims\": \"wherein the pump provides water to the carbonator tank responsive to signals from the electronics assembly; and\"}, {\"claims\": \"wherein the source of high pressure CO2 gas maintain pressure in the carbonator tank and wherein an outline from the carbonator tank to the dispensing head and lines from the beverage concentrate allows a carbonate of beverage to be dispensed therefrom.\"}, {\"claims\": \"15. The carbonator tank assembly of claim 2, wherein the electronics assembly provides low voltage DC to at least one of the probes.\"}, {\"claims\": \"16. The beverage dispensing apparatus of claim 14, wherein the electronics assembly provides low voltage DC to at least some of the probes.\"}, {\"claims\": \"17. The beverage dispensing apparatus of claim 14, wherein the coupling members of the probe assembly and the electronics module include walls adapted to receive fasteners for removably fastening the probe assembly to the electronics module while leaving the probe assembly in removable, gaseous and fluid tight couple with the carbonator tank.\"}, {\"claims\": \"18. The beverage dispensing apparatus of claim 14, wherein the probe assembly and the electronics module include walls adapted to align the two in a specific one-way alignment when they are engaged to one another. \"}]',\n",
              " 'classification': '[{\"classifaiction\": \"PERFORMING OPERATIONS; TRANSPORTING\"}, {\"classifaiction\": \"PHYSICAL OR CHEMICAL PROCESSES OR APPARATUS IN GENERAL\"}, {\"classifaiction\": \"MIXING, e.g. DISSOLVING, EMULSIFYING, DISPERSING\"}, {\"classifaiction\": \"Mixing, e.g. dispersing, emulsifying, according to the phases to be mixed\"}, {\"classifaiction\": \"Mixing, e.g. dispersing, emulsifying, according to the phases to be mixed gases or vapours with liquids\"}, {\"classifaiction\": \"Introducing a gas or vapour into a liquid medium, e.g. producing aerated liquids\"}, {\"classifaiction\": \"Apparatus for aerating or carbonating beverages\"}, {\"classifaiction\": \"Apparatus for aerating or carbonating beverages for aerating or carbonating within receptables or tanks, e.g. distribution machines\"}, {\"classifaiction\": \"PERFORMING OPERATIONS; TRANSPORTING\"}, {\"classifaiction\": \"PHYSICAL OR CHEMICAL PROCESSES OR APPARATUS IN GENERAL\"}, {\"classifaiction\": \"MIXING, e.g. DISSOLVING, EMULSIFYING, DISPERSING\"}, {\"classifaiction\": \"Accessories for mixers ; Auxiliary operations or auxiliary devices; Parts or details of general application\"}, {\"classifaiction\": \"Controlling; Testing; Measuring\"}, {\"classifaiction\": \"Measuring operational parameters\"}, {\"classifaiction\": \"Measuring the level of material in a container or the position or shape of the upper surface of the material\"}, {\"classifaiction\": \"PERFORMING OPERATIONS; TRANSPORTING\"}, {\"classifaiction\": \"OPENING, CLOSING OR CLEANING BOTTLES, JARS OR SIMILAR CONTAINERS; LIQUID HANDLING\"}, {\"classifaiction\": \"DISPENSING, DELIVERING OR TRANSFERRING LIQUIDS, NOT OTHERWISE PROVIDED FOR\"}, {\"classifaiction\": \"Apparatus or devices for dispensing beverages on draught\"}, {\"classifaiction\": \"Details of specific parts of the dispensers\"}, {\"classifaiction\": \"Carbonators\"}, {\"classifaiction\": \"PERFORMING OPERATIONS; TRANSPORTING\"}, {\"classifaiction\": \"OPENING, CLOSING OR CLEANING BOTTLES, JARS OR SIMILAR CONTAINERS; LIQUID HANDLING\"}, {\"classifaiction\": \"DISPENSING, DELIVERING OR TRANSFERRING LIQUIDS, NOT OTHERWISE PROVIDED FOR\"}, {\"classifaiction\": \"Apparatus or devices for dispensing beverages on draught\"}, {\"classifaiction\": \"Details\"}, {\"classifaiction\": \"Level gauges for beverage storage containers\"}, {\"classifaiction\": \"PHYSICS\"}, {\"classifaiction\": \"MEASURING; TESTING\"}, {\"classifaiction\": \"MEASURING VOLUME, VOLUME FLOW, MASS FLOW OR LIQUID LEVEL; METERING BY VOLUME\"}, {\"classifaiction\": \"Indicating or measuring liquid level, or level of fluent solid material, e.g. indicating in terms of volume, indicating by means of an alarm\"}, {\"classifaiction\": \"Indicating or measuring liquid level, or level of fluent solid material, e.g. indicating in terms of volume, indicating by means of an alarm by measurement of physical variables, other than linear dimensions, pressure or weight, dependent on the level to be measured, e.g. by difference of heat transfer of steam or water\"}, {\"classifaiction\": \"Indicating or measuring liquid level, or level of fluent solid material, e.g. indicating in terms of volume, indicating by means of an alarm by measurement of physical variables, other than linear dimensions, pressure or weight, dependent on the level to be measured, e.g. by difference of heat transfer of steam or water by measuring variations of resistance of resistors due to contact with conductor fluid\"}, {\"classifaiction\": \"Indicating or measuring liquid level, or level of fluent solid material, e.g. indicating in terms of volume, indicating by means of an alarm by measurement of physical variables, other than linear dimensions, pressure or weight, dependent on the level to be measured, e.g. by difference of heat transfer of steam or water by measuring variations of resistance of resistors due to contact with conductor fluid for discrete levels\"}, {\"classifaiction\": \"Mounting arrangements for electrodes\"}, {\"classifaiction\": \"PHYSICS\"}, {\"classifaiction\": \"CONTROLLING; REGULATING\"}, {\"classifaiction\": \"SYSTEMS FOR CONTROLLING OR REGULATING NON-ELECTRIC VARIABLES\"}, {\"classifaiction\": \"Level control, e.g. controlling quantity of material stored in vessel\"}, {\"classifaiction\": \"Level control, e.g. controlling quantity of material stored in vessel characterised by the use of electric means\"}, {\"classifaiction\": \"PERFORMING OPERATIONS; TRANSPORTING\"}, {\"classifaiction\": \"PHYSICAL OR CHEMICAL PROCESSES OR APPARATUS IN GENERAL\"}, {\"classifaiction\": \"MIXING, e.g. DISSOLVING, EMULSIFYING, DISPERSING\"}, {\"classifaiction\": \"Auxiliary or complementary information in relation with mixing\"}, {\"classifaiction\": \"Field of application of the mixing device\"}, {\"classifaiction\": \"Mixing beverage ingredients for non-alcoholic beverages; Dissolving sugar in water\"}, {\"classifaiction\": \"PERFORMING OPERATIONS; TRANSPORTING\"}, {\"classifaiction\": \"OPENING, CLOSING OR CLEANING BOTTLES, JARS OR SIMILAR CONTAINERS; LIQUID HANDLING\"}, {\"classifaiction\": \"DISPENSING, DELIVERING OR TRANSFERRING LIQUIDS, NOT OTHERWISE PROVIDED FOR\"}, {\"classifaiction\": \"Indexing scheme relating to aspects and details of apparatus or devices for dispensing beverages on draught or for controlling flow of liquids under gravity from storage containers for dispensing purposes\"}, {\"classifaiction\": \"Component storage means\"}, {\"classifaiction\": \"Fixed containers to be filled in situ\"}, {\"classifaiction\": \"Automatically\"}, {\"classifaiction\": \"Level detected electrically by contact with sensors\"}]',\n",
              " 'patent': 'US9038991B2',\n",
              " 'title': '\"US9038991B2 - Modular electronic carbonator fluid level control mechanism \\\\n        - Google Patents\"',\n",
              " 'url': 'https://patents.google.com/patent/US9038991B2'}"
            ]
          },
          "metadata": {
            "tags": []
          },
          "execution_count": 16
        }
      ]
    },
    {
      "cell_type": "code",
      "metadata": {
        "id": "ET0bDnran546",
        "colab_type": "code",
        "colab": {}
      },
      "source": [
        ""
      ],
      "execution_count": 0,
      "outputs": []
    }
  ]
}