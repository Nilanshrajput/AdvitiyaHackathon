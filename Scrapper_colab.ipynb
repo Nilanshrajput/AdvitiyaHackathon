{
  "nbformat": 4,
  "nbformat_minor": 0,
  "metadata": {
    "kernelspec": {
      "name": "python3",
      "display_name": "Python 3"
    },
    "language_info": {
      "codemirror_mode": {
        "name": "ipython",
        "version": 3
      },
      "file_extension": ".py",
      "mimetype": "text/x-python",
      "name": "python",
      "nbconvert_exporter": "python",
      "pygments_lexer": "ipython3",
      "version": "3.6.9"
    },
    "colab": {
      "name": "Scrapper.ipynb",
      "provenance": [],
      "include_colab_link": true
    },
    "accelerator": "GPU",
    "widgets": {
      "application/vnd.jupyter.widget-state+json": {
        "6d695a3edb7c45ae97bc894b62ba597b": {
          "model_module": "@jupyter-widgets/controls",
          "model_name": "HBoxModel",
          "state": {
            "_view_name": "HBoxView",
            "_dom_classes": [],
            "_model_name": "HBoxModel",
            "_view_module": "@jupyter-widgets/controls",
            "_model_module_version": "1.5.0",
            "_view_count": null,
            "_view_module_version": "1.5.0",
            "box_style": "",
            "layout": "IPY_MODEL_693a106442be4b99af8e32ca49b790a7",
            "_model_module": "@jupyter-widgets/controls",
            "children": [
              "IPY_MODEL_c45ab364591049e9ad07840f546540c1",
              "IPY_MODEL_c8bce2b298fe4e13911f0a1d2c095b9d"
            ]
          }
        },
        "693a106442be4b99af8e32ca49b790a7": {
          "model_module": "@jupyter-widgets/base",
          "model_name": "LayoutModel",
          "state": {
            "_view_name": "LayoutView",
            "grid_template_rows": null,
            "right": null,
            "justify_content": null,
            "_view_module": "@jupyter-widgets/base",
            "overflow": null,
            "_model_module_version": "1.2.0",
            "_view_count": null,
            "flex_flow": null,
            "width": null,
            "min_width": null,
            "border": null,
            "align_items": null,
            "bottom": null,
            "_model_module": "@jupyter-widgets/base",
            "top": null,
            "grid_column": null,
            "overflow_y": null,
            "overflow_x": null,
            "grid_auto_flow": null,
            "grid_area": null,
            "grid_template_columns": null,
            "flex": null,
            "_model_name": "LayoutModel",
            "justify_items": null,
            "grid_row": null,
            "max_height": null,
            "align_content": null,
            "visibility": null,
            "align_self": null,
            "height": null,
            "min_height": null,
            "padding": null,
            "grid_auto_rows": null,
            "grid_gap": null,
            "max_width": null,
            "order": null,
            "_view_module_version": "1.2.0",
            "grid_template_areas": null,
            "object_position": null,
            "object_fit": null,
            "grid_auto_columns": null,
            "margin": null,
            "display": null,
            "left": null
          }
        },
        "c45ab364591049e9ad07840f546540c1": {
          "model_module": "@jupyter-widgets/controls",
          "model_name": "IntProgressModel",
          "state": {
            "_view_name": "ProgressView",
            "style": "IPY_MODEL_62bd499e246c433a9708ac609497cdc8",
            "_dom_classes": [],
            "description": "wabalabadubdub",
            "_model_name": "IntProgressModel",
            "bar_style": "success",
            "max": 3,
            "_view_module": "@jupyter-widgets/controls",
            "_model_module_version": "1.5.0",
            "value": 3,
            "_view_count": null,
            "_view_module_version": "1.5.0",
            "orientation": "horizontal",
            "min": 0,
            "description_tooltip": null,
            "_model_module": "@jupyter-widgets/controls",
            "layout": "IPY_MODEL_86defd5dfa8e43aabf1df1672abc69eb"
          }
        },
        "c8bce2b298fe4e13911f0a1d2c095b9d": {
          "model_module": "@jupyter-widgets/controls",
          "model_name": "HTMLModel",
          "state": {
            "_view_name": "HTMLView",
            "style": "IPY_MODEL_75f159a255dd43a5b67e24148cbce198",
            "_dom_classes": [],
            "description": "",
            "_model_name": "HTMLModel",
            "placeholder": "​",
            "_view_module": "@jupyter-widgets/controls",
            "_model_module_version": "1.5.0",
            "value": "100% 3/3 [00:00&lt;00:00,  8.02it/s]",
            "_view_count": null,
            "_view_module_version": "1.5.0",
            "description_tooltip": null,
            "_model_module": "@jupyter-widgets/controls",
            "layout": "IPY_MODEL_3e29499d724f425f8cd43bb368b7ecd5"
          }
        },
        "62bd499e246c433a9708ac609497cdc8": {
          "model_module": "@jupyter-widgets/controls",
          "model_name": "ProgressStyleModel",
          "state": {
            "_view_name": "StyleView",
            "_model_name": "ProgressStyleModel",
            "description_width": "initial",
            "_view_module": "@jupyter-widgets/base",
            "_model_module_version": "1.5.0",
            "_view_count": null,
            "_view_module_version": "1.2.0",
            "bar_color": null,
            "_model_module": "@jupyter-widgets/controls"
          }
        },
        "86defd5dfa8e43aabf1df1672abc69eb": {
          "model_module": "@jupyter-widgets/base",
          "model_name": "LayoutModel",
          "state": {
            "_view_name": "LayoutView",
            "grid_template_rows": null,
            "right": null,
            "justify_content": null,
            "_view_module": "@jupyter-widgets/base",
            "overflow": null,
            "_model_module_version": "1.2.0",
            "_view_count": null,
            "flex_flow": null,
            "width": null,
            "min_width": null,
            "border": null,
            "align_items": null,
            "bottom": null,
            "_model_module": "@jupyter-widgets/base",
            "top": null,
            "grid_column": null,
            "overflow_y": null,
            "overflow_x": null,
            "grid_auto_flow": null,
            "grid_area": null,
            "grid_template_columns": null,
            "flex": null,
            "_model_name": "LayoutModel",
            "justify_items": null,
            "grid_row": null,
            "max_height": null,
            "align_content": null,
            "visibility": null,
            "align_self": null,
            "height": null,
            "min_height": null,
            "padding": null,
            "grid_auto_rows": null,
            "grid_gap": null,
            "max_width": null,
            "order": null,
            "_view_module_version": "1.2.0",
            "grid_template_areas": null,
            "object_position": null,
            "object_fit": null,
            "grid_auto_columns": null,
            "margin": null,
            "display": null,
            "left": null
          }
        },
        "75f159a255dd43a5b67e24148cbce198": {
          "model_module": "@jupyter-widgets/controls",
          "model_name": "DescriptionStyleModel",
          "state": {
            "_view_name": "StyleView",
            "_model_name": "DescriptionStyleModel",
            "description_width": "",
            "_view_module": "@jupyter-widgets/base",
            "_model_module_version": "1.5.0",
            "_view_count": null,
            "_view_module_version": "1.2.0",
            "_model_module": "@jupyter-widgets/controls"
          }
        },
        "3e29499d724f425f8cd43bb368b7ecd5": {
          "model_module": "@jupyter-widgets/base",
          "model_name": "LayoutModel",
          "state": {
            "_view_name": "LayoutView",
            "grid_template_rows": null,
            "right": null,
            "justify_content": null,
            "_view_module": "@jupyter-widgets/base",
            "overflow": null,
            "_model_module_version": "1.2.0",
            "_view_count": null,
            "flex_flow": null,
            "width": null,
            "min_width": null,
            "border": null,
            "align_items": null,
            "bottom": null,
            "_model_module": "@jupyter-widgets/base",
            "top": null,
            "grid_column": null,
            "overflow_y": null,
            "overflow_x": null,
            "grid_auto_flow": null,
            "grid_area": null,
            "grid_template_columns": null,
            "flex": null,
            "_model_name": "LayoutModel",
            "justify_items": null,
            "grid_row": null,
            "max_height": null,
            "align_content": null,
            "visibility": null,
            "align_self": null,
            "height": null,
            "min_height": null,
            "padding": null,
            "grid_auto_rows": null,
            "grid_gap": null,
            "max_width": null,
            "order": null,
            "_view_module_version": "1.2.0",
            "grid_template_areas": null,
            "object_position": null,
            "object_fit": null,
            "grid_auto_columns": null,
            "margin": null,
            "display": null,
            "left": null
          }
        },
        "5347957667ac4a9992110430700c46dc": {
          "model_module": "@jupyter-widgets/controls",
          "model_name": "HBoxModel",
          "state": {
            "_view_name": "HBoxView",
            "_dom_classes": [],
            "_model_name": "HBoxModel",
            "_view_module": "@jupyter-widgets/controls",
            "_model_module_version": "1.5.0",
            "_view_count": null,
            "_view_module_version": "1.5.0",
            "box_style": "",
            "layout": "IPY_MODEL_8a85bc5f00ef4411a7b7952b95e30d11",
            "_model_module": "@jupyter-widgets/controls",
            "children": [
              "IPY_MODEL_b16357c39b3b42c6bddf83aeedefe304",
              "IPY_MODEL_1430b9f435504e08acdc59bf6df4a41d"
            ]
          }
        },
        "8a85bc5f00ef4411a7b7952b95e30d11": {
          "model_module": "@jupyter-widgets/base",
          "model_name": "LayoutModel",
          "state": {
            "_view_name": "LayoutView",
            "grid_template_rows": null,
            "right": null,
            "justify_content": null,
            "_view_module": "@jupyter-widgets/base",
            "overflow": null,
            "_model_module_version": "1.2.0",
            "_view_count": null,
            "flex_flow": null,
            "width": null,
            "min_width": null,
            "border": null,
            "align_items": null,
            "bottom": null,
            "_model_module": "@jupyter-widgets/base",
            "top": null,
            "grid_column": null,
            "overflow_y": null,
            "overflow_x": null,
            "grid_auto_flow": null,
            "grid_area": null,
            "grid_template_columns": null,
            "flex": null,
            "_model_name": "LayoutModel",
            "justify_items": null,
            "grid_row": null,
            "max_height": null,
            "align_content": null,
            "visibility": null,
            "align_self": null,
            "height": null,
            "min_height": null,
            "padding": null,
            "grid_auto_rows": null,
            "grid_gap": null,
            "max_width": null,
            "order": null,
            "_view_module_version": "1.2.0",
            "grid_template_areas": null,
            "object_position": null,
            "object_fit": null,
            "grid_auto_columns": null,
            "margin": null,
            "display": null,
            "left": null
          }
        },
        "b16357c39b3b42c6bddf83aeedefe304": {
          "model_module": "@jupyter-widgets/controls",
          "model_name": "IntProgressModel",
          "state": {
            "_view_name": "ProgressView",
            "style": "IPY_MODEL_a26399c38e074ab182f2fdebb6f0d143",
            "_dom_classes": [],
            "description": "CatList",
            "_model_name": "IntProgressModel",
            "bar_style": "success",
            "max": 4,
            "_view_module": "@jupyter-widgets/controls",
            "_model_module_version": "1.5.0",
            "value": 4,
            "_view_count": null,
            "_view_module_version": "1.5.0",
            "orientation": "horizontal",
            "min": 0,
            "description_tooltip": null,
            "_model_module": "@jupyter-widgets/controls",
            "layout": "IPY_MODEL_bf4d6d02f027469cbc0af3c427a3f6ff"
          }
        },
        "1430b9f435504e08acdc59bf6df4a41d": {
          "model_module": "@jupyter-widgets/controls",
          "model_name": "HTMLModel",
          "state": {
            "_view_name": "HTMLView",
            "style": "IPY_MODEL_7867baa89ba64e51bae91cae87487d90",
            "_dom_classes": [],
            "description": "",
            "_model_name": "HTMLModel",
            "placeholder": "​",
            "_view_module": "@jupyter-widgets/controls",
            "_model_module_version": "1.5.0",
            "value": "100% 4/4 [00:08&lt;00:00,  2.18s/it]",
            "_view_count": null,
            "_view_module_version": "1.5.0",
            "description_tooltip": null,
            "_model_module": "@jupyter-widgets/controls",
            "layout": "IPY_MODEL_d7114a3775df42b29c3fbd4c11ef1d93"
          }
        },
        "a26399c38e074ab182f2fdebb6f0d143": {
          "model_module": "@jupyter-widgets/controls",
          "model_name": "ProgressStyleModel",
          "state": {
            "_view_name": "StyleView",
            "_model_name": "ProgressStyleModel",
            "description_width": "initial",
            "_view_module": "@jupyter-widgets/base",
            "_model_module_version": "1.5.0",
            "_view_count": null,
            "_view_module_version": "1.2.0",
            "bar_color": null,
            "_model_module": "@jupyter-widgets/controls"
          }
        },
        "bf4d6d02f027469cbc0af3c427a3f6ff": {
          "model_module": "@jupyter-widgets/base",
          "model_name": "LayoutModel",
          "state": {
            "_view_name": "LayoutView",
            "grid_template_rows": null,
            "right": null,
            "justify_content": null,
            "_view_module": "@jupyter-widgets/base",
            "overflow": null,
            "_model_module_version": "1.2.0",
            "_view_count": null,
            "flex_flow": null,
            "width": null,
            "min_width": null,
            "border": null,
            "align_items": null,
            "bottom": null,
            "_model_module": "@jupyter-widgets/base",
            "top": null,
            "grid_column": null,
            "overflow_y": null,
            "overflow_x": null,
            "grid_auto_flow": null,
            "grid_area": null,
            "grid_template_columns": null,
            "flex": null,
            "_model_name": "LayoutModel",
            "justify_items": null,
            "grid_row": null,
            "max_height": null,
            "align_content": null,
            "visibility": null,
            "align_self": null,
            "height": null,
            "min_height": null,
            "padding": null,
            "grid_auto_rows": null,
            "grid_gap": null,
            "max_width": null,
            "order": null,
            "_view_module_version": "1.2.0",
            "grid_template_areas": null,
            "object_position": null,
            "object_fit": null,
            "grid_auto_columns": null,
            "margin": null,
            "display": null,
            "left": null
          }
        },
        "7867baa89ba64e51bae91cae87487d90": {
          "model_module": "@jupyter-widgets/controls",
          "model_name": "DescriptionStyleModel",
          "state": {
            "_view_name": "StyleView",
            "_model_name": "DescriptionStyleModel",
            "description_width": "",
            "_view_module": "@jupyter-widgets/base",
            "_model_module_version": "1.5.0",
            "_view_count": null,
            "_view_module_version": "1.2.0",
            "_model_module": "@jupyter-widgets/controls"
          }
        },
        "d7114a3775df42b29c3fbd4c11ef1d93": {
          "model_module": "@jupyter-widgets/base",
          "model_name": "LayoutModel",
          "state": {
            "_view_name": "LayoutView",
            "grid_template_rows": null,
            "right": null,
            "justify_content": null,
            "_view_module": "@jupyter-widgets/base",
            "overflow": null,
            "_model_module_version": "1.2.0",
            "_view_count": null,
            "flex_flow": null,
            "width": null,
            "min_width": null,
            "border": null,
            "align_items": null,
            "bottom": null,
            "_model_module": "@jupyter-widgets/base",
            "top": null,
            "grid_column": null,
            "overflow_y": null,
            "overflow_x": null,
            "grid_auto_flow": null,
            "grid_area": null,
            "grid_template_columns": null,
            "flex": null,
            "_model_name": "LayoutModel",
            "justify_items": null,
            "grid_row": null,
            "max_height": null,
            "align_content": null,
            "visibility": null,
            "align_self": null,
            "height": null,
            "min_height": null,
            "padding": null,
            "grid_auto_rows": null,
            "grid_gap": null,
            "max_width": null,
            "order": null,
            "_view_module_version": "1.2.0",
            "grid_template_areas": null,
            "object_position": null,
            "object_fit": null,
            "grid_auto_columns": null,
            "margin": null,
            "display": null,
            "left": null
          }
        },
        "ba82f5d928804757b1b7056546be302a": {
          "model_module": "@jupyter-widgets/controls",
          "model_name": "HBoxModel",
          "state": {
            "_view_name": "HBoxView",
            "_dom_classes": [],
            "_model_name": "HBoxModel",
            "_view_module": "@jupyter-widgets/controls",
            "_model_module_version": "1.5.0",
            "_view_count": null,
            "_view_module_version": "1.5.0",
            "box_style": "",
            "layout": "IPY_MODEL_65777090c7914e7e885331b67cc74301",
            "_model_module": "@jupyter-widgets/controls",
            "children": [
              "IPY_MODEL_ebcece7717124cfa8cc964cf747fb98f",
              "IPY_MODEL_5e2fb3aea38941058efadf3d3ad594da"
            ]
          }
        },
        "65777090c7914e7e885331b67cc74301": {
          "model_module": "@jupyter-widgets/base",
          "model_name": "LayoutModel",
          "state": {
            "_view_name": "LayoutView",
            "grid_template_rows": null,
            "right": null,
            "justify_content": null,
            "_view_module": "@jupyter-widgets/base",
            "overflow": null,
            "_model_module_version": "1.2.0",
            "_view_count": null,
            "flex_flow": null,
            "width": null,
            "min_width": null,
            "border": null,
            "align_items": null,
            "bottom": null,
            "_model_module": "@jupyter-widgets/base",
            "top": null,
            "grid_column": null,
            "overflow_y": null,
            "overflow_x": null,
            "grid_auto_flow": null,
            "grid_area": null,
            "grid_template_columns": null,
            "flex": null,
            "_model_name": "LayoutModel",
            "justify_items": null,
            "grid_row": null,
            "max_height": null,
            "align_content": null,
            "visibility": null,
            "align_self": null,
            "height": null,
            "min_height": null,
            "padding": null,
            "grid_auto_rows": null,
            "grid_gap": null,
            "max_width": null,
            "order": null,
            "_view_module_version": "1.2.0",
            "grid_template_areas": null,
            "object_position": null,
            "object_fit": null,
            "grid_auto_columns": null,
            "margin": null,
            "display": null,
            "left": null
          }
        },
        "ebcece7717124cfa8cc964cf747fb98f": {
          "model_module": "@jupyter-widgets/controls",
          "model_name": "IntProgressModel",
          "state": {
            "_view_name": "ProgressView",
            "style": "IPY_MODEL_0a34a4dbf62d443294ce9b3b8a6c0c5b",
            "_dom_classes": [],
            "description": "patents",
            "_model_name": "IntProgressModel",
            "bar_style": "success",
            "max": 280,
            "_view_module": "@jupyter-widgets/controls",
            "_model_module_version": "1.5.0",
            "value": 280,
            "_view_count": null,
            "_view_module_version": "1.5.0",
            "orientation": "horizontal",
            "min": 0,
            "description_tooltip": null,
            "_model_module": "@jupyter-widgets/controls",
            "layout": "IPY_MODEL_920089b1d91649aa8040b50b012a9c8b"
          }
        },
        "5e2fb3aea38941058efadf3d3ad594da": {
          "model_module": "@jupyter-widgets/controls",
          "model_name": "HTMLModel",
          "state": {
            "_view_name": "HTMLView",
            "style": "IPY_MODEL_958bfaa95d1a4e739266b76795b34c3b",
            "_dom_classes": [],
            "description": "",
            "_model_name": "HTMLModel",
            "placeholder": "​",
            "_view_module": "@jupyter-widgets/controls",
            "_model_module_version": "1.5.0",
            "value": "100% 280/280 [00:02&lt;00:00, 137.14it/s]",
            "_view_count": null,
            "_view_module_version": "1.5.0",
            "description_tooltip": null,
            "_model_module": "@jupyter-widgets/controls",
            "layout": "IPY_MODEL_848dc869b1b14a5fa1e6d187322bda4b"
          }
        },
        "0a34a4dbf62d443294ce9b3b8a6c0c5b": {
          "model_module": "@jupyter-widgets/controls",
          "model_name": "ProgressStyleModel",
          "state": {
            "_view_name": "StyleView",
            "_model_name": "ProgressStyleModel",
            "description_width": "initial",
            "_view_module": "@jupyter-widgets/base",
            "_model_module_version": "1.5.0",
            "_view_count": null,
            "_view_module_version": "1.2.0",
            "bar_color": null,
            "_model_module": "@jupyter-widgets/controls"
          }
        },
        "920089b1d91649aa8040b50b012a9c8b": {
          "model_module": "@jupyter-widgets/base",
          "model_name": "LayoutModel",
          "state": {
            "_view_name": "LayoutView",
            "grid_template_rows": null,
            "right": null,
            "justify_content": null,
            "_view_module": "@jupyter-widgets/base",
            "overflow": null,
            "_model_module_version": "1.2.0",
            "_view_count": null,
            "flex_flow": null,
            "width": null,
            "min_width": null,
            "border": null,
            "align_items": null,
            "bottom": null,
            "_model_module": "@jupyter-widgets/base",
            "top": null,
            "grid_column": null,
            "overflow_y": null,
            "overflow_x": null,
            "grid_auto_flow": null,
            "grid_area": null,
            "grid_template_columns": null,
            "flex": null,
            "_model_name": "LayoutModel",
            "justify_items": null,
            "grid_row": null,
            "max_height": null,
            "align_content": null,
            "visibility": null,
            "align_self": null,
            "height": null,
            "min_height": null,
            "padding": null,
            "grid_auto_rows": null,
            "grid_gap": null,
            "max_width": null,
            "order": null,
            "_view_module_version": "1.2.0",
            "grid_template_areas": null,
            "object_position": null,
            "object_fit": null,
            "grid_auto_columns": null,
            "margin": null,
            "display": null,
            "left": null
          }
        },
        "958bfaa95d1a4e739266b76795b34c3b": {
          "model_module": "@jupyter-widgets/controls",
          "model_name": "DescriptionStyleModel",
          "state": {
            "_view_name": "StyleView",
            "_model_name": "DescriptionStyleModel",
            "description_width": "",
            "_view_module": "@jupyter-widgets/base",
            "_model_module_version": "1.5.0",
            "_view_count": null,
            "_view_module_version": "1.2.0",
            "_model_module": "@jupyter-widgets/controls"
          }
        },
        "848dc869b1b14a5fa1e6d187322bda4b": {
          "model_module": "@jupyter-widgets/base",
          "model_name": "LayoutModel",
          "state": {
            "_view_name": "LayoutView",
            "grid_template_rows": null,
            "right": null,
            "justify_content": null,
            "_view_module": "@jupyter-widgets/base",
            "overflow": null,
            "_model_module_version": "1.2.0",
            "_view_count": null,
            "flex_flow": null,
            "width": null,
            "min_width": null,
            "border": null,
            "align_items": null,
            "bottom": null,
            "_model_module": "@jupyter-widgets/base",
            "top": null,
            "grid_column": null,
            "overflow_y": null,
            "overflow_x": null,
            "grid_auto_flow": null,
            "grid_area": null,
            "grid_template_columns": null,
            "flex": null,
            "_model_name": "LayoutModel",
            "justify_items": null,
            "grid_row": null,
            "max_height": null,
            "align_content": null,
            "visibility": null,
            "align_self": null,
            "height": null,
            "min_height": null,
            "padding": null,
            "grid_auto_rows": null,
            "grid_gap": null,
            "max_width": null,
            "order": null,
            "_view_module_version": "1.2.0",
            "grid_template_areas": null,
            "object_position": null,
            "object_fit": null,
            "grid_auto_columns": null,
            "margin": null,
            "display": null,
            "left": null
          }
        },
        "34ee94b87b224a6db8d7d3d08b11ae5e": {
          "model_module": "@jupyter-widgets/controls",
          "model_name": "HBoxModel",
          "state": {
            "_view_name": "HBoxView",
            "_dom_classes": [],
            "_model_name": "HBoxModel",
            "_view_module": "@jupyter-widgets/controls",
            "_model_module_version": "1.5.0",
            "_view_count": null,
            "_view_module_version": "1.5.0",
            "box_style": "",
            "layout": "IPY_MODEL_76c9396e87e04a5982fae3c0bf5e217a",
            "_model_module": "@jupyter-widgets/controls",
            "children": [
              "IPY_MODEL_66b0b97cada9413f9ed36627c7355805",
              "IPY_MODEL_6b552a83e04e41df9d88be99512e2c1b"
            ]
          }
        },
        "76c9396e87e04a5982fae3c0bf5e217a": {
          "model_module": "@jupyter-widgets/base",
          "model_name": "LayoutModel",
          "state": {
            "_view_name": "LayoutView",
            "grid_template_rows": null,
            "right": null,
            "justify_content": null,
            "_view_module": "@jupyter-widgets/base",
            "overflow": null,
            "_model_module_version": "1.2.0",
            "_view_count": null,
            "flex_flow": null,
            "width": null,
            "min_width": null,
            "border": null,
            "align_items": null,
            "bottom": null,
            "_model_module": "@jupyter-widgets/base",
            "top": null,
            "grid_column": null,
            "overflow_y": null,
            "overflow_x": null,
            "grid_auto_flow": null,
            "grid_area": null,
            "grid_template_columns": null,
            "flex": null,
            "_model_name": "LayoutModel",
            "justify_items": null,
            "grid_row": null,
            "max_height": null,
            "align_content": null,
            "visibility": null,
            "align_self": null,
            "height": null,
            "min_height": null,
            "padding": null,
            "grid_auto_rows": null,
            "grid_gap": null,
            "max_width": null,
            "order": null,
            "_view_module_version": "1.2.0",
            "grid_template_areas": null,
            "object_position": null,
            "object_fit": null,
            "grid_auto_columns": null,
            "margin": null,
            "display": null,
            "left": null
          }
        },
        "66b0b97cada9413f9ed36627c7355805": {
          "model_module": "@jupyter-widgets/controls",
          "model_name": "IntProgressModel",
          "state": {
            "_view_name": "ProgressView",
            "style": "IPY_MODEL_f7d489ac824b48adb8be4de2b3661ca1",
            "_dom_classes": [],
            "description": "patents",
            "_model_name": "IntProgressModel",
            "bar_style": "success",
            "max": 280,
            "_view_module": "@jupyter-widgets/controls",
            "_model_module_version": "1.5.0",
            "value": 280,
            "_view_count": null,
            "_view_module_version": "1.5.0",
            "orientation": "horizontal",
            "min": 0,
            "description_tooltip": null,
            "_model_module": "@jupyter-widgets/controls",
            "layout": "IPY_MODEL_e8ab2b1ea954412d8ac47b8fcc8a5065"
          }
        },
        "6b552a83e04e41df9d88be99512e2c1b": {
          "model_module": "@jupyter-widgets/controls",
          "model_name": "HTMLModel",
          "state": {
            "_view_name": "HTMLView",
            "style": "IPY_MODEL_8d2fdac61cea432a887c06230b14fce0",
            "_dom_classes": [],
            "description": "",
            "_model_name": "HTMLModel",
            "placeholder": "​",
            "_view_module": "@jupyter-widgets/controls",
            "_model_module_version": "1.5.0",
            "value": "100% 280/280 [00:01&lt;00:00, 145.10it/s]",
            "_view_count": null,
            "_view_module_version": "1.5.0",
            "description_tooltip": null,
            "_model_module": "@jupyter-widgets/controls",
            "layout": "IPY_MODEL_0de0bccae1b24474bd8f62d0c31f3b9d"
          }
        },
        "f7d489ac824b48adb8be4de2b3661ca1": {
          "model_module": "@jupyter-widgets/controls",
          "model_name": "ProgressStyleModel",
          "state": {
            "_view_name": "StyleView",
            "_model_name": "ProgressStyleModel",
            "description_width": "initial",
            "_view_module": "@jupyter-widgets/base",
            "_model_module_version": "1.5.0",
            "_view_count": null,
            "_view_module_version": "1.2.0",
            "bar_color": null,
            "_model_module": "@jupyter-widgets/controls"
          }
        },
        "e8ab2b1ea954412d8ac47b8fcc8a5065": {
          "model_module": "@jupyter-widgets/base",
          "model_name": "LayoutModel",
          "state": {
            "_view_name": "LayoutView",
            "grid_template_rows": null,
            "right": null,
            "justify_content": null,
            "_view_module": "@jupyter-widgets/base",
            "overflow": null,
            "_model_module_version": "1.2.0",
            "_view_count": null,
            "flex_flow": null,
            "width": null,
            "min_width": null,
            "border": null,
            "align_items": null,
            "bottom": null,
            "_model_module": "@jupyter-widgets/base",
            "top": null,
            "grid_column": null,
            "overflow_y": null,
            "overflow_x": null,
            "grid_auto_flow": null,
            "grid_area": null,
            "grid_template_columns": null,
            "flex": null,
            "_model_name": "LayoutModel",
            "justify_items": null,
            "grid_row": null,
            "max_height": null,
            "align_content": null,
            "visibility": null,
            "align_self": null,
            "height": null,
            "min_height": null,
            "padding": null,
            "grid_auto_rows": null,
            "grid_gap": null,
            "max_width": null,
            "order": null,
            "_view_module_version": "1.2.0",
            "grid_template_areas": null,
            "object_position": null,
            "object_fit": null,
            "grid_auto_columns": null,
            "margin": null,
            "display": null,
            "left": null
          }
        },
        "8d2fdac61cea432a887c06230b14fce0": {
          "model_module": "@jupyter-widgets/controls",
          "model_name": "DescriptionStyleModel",
          "state": {
            "_view_name": "StyleView",
            "_model_name": "DescriptionStyleModel",
            "description_width": "",
            "_view_module": "@jupyter-widgets/base",
            "_model_module_version": "1.5.0",
            "_view_count": null,
            "_view_module_version": "1.2.0",
            "_model_module": "@jupyter-widgets/controls"
          }
        },
        "0de0bccae1b24474bd8f62d0c31f3b9d": {
          "model_module": "@jupyter-widgets/base",
          "model_name": "LayoutModel",
          "state": {
            "_view_name": "LayoutView",
            "grid_template_rows": null,
            "right": null,
            "justify_content": null,
            "_view_module": "@jupyter-widgets/base",
            "overflow": null,
            "_model_module_version": "1.2.0",
            "_view_count": null,
            "flex_flow": null,
            "width": null,
            "min_width": null,
            "border": null,
            "align_items": null,
            "bottom": null,
            "_model_module": "@jupyter-widgets/base",
            "top": null,
            "grid_column": null,
            "overflow_y": null,
            "overflow_x": null,
            "grid_auto_flow": null,
            "grid_area": null,
            "grid_template_columns": null,
            "flex": null,
            "_model_name": "LayoutModel",
            "justify_items": null,
            "grid_row": null,
            "max_height": null,
            "align_content": null,
            "visibility": null,
            "align_self": null,
            "height": null,
            "min_height": null,
            "padding": null,
            "grid_auto_rows": null,
            "grid_gap": null,
            "max_width": null,
            "order": null,
            "_view_module_version": "1.2.0",
            "grid_template_areas": null,
            "object_position": null,
            "object_fit": null,
            "grid_auto_columns": null,
            "margin": null,
            "display": null,
            "left": null
          }
        },
        "5e8020f61fb748ba9e99de6560c9f28c": {
          "model_module": "@jupyter-widgets/controls",
          "model_name": "HBoxModel",
          "state": {
            "_view_name": "HBoxView",
            "_dom_classes": [],
            "_model_name": "HBoxModel",
            "_view_module": "@jupyter-widgets/controls",
            "_model_module_version": "1.5.0",
            "_view_count": null,
            "_view_module_version": "1.5.0",
            "box_style": "",
            "layout": "IPY_MODEL_4b33f66275f543c9ab597cf1afa615d3",
            "_model_module": "@jupyter-widgets/controls",
            "children": [
              "IPY_MODEL_19f48ab0e9f44899bbd26cd563da6924",
              "IPY_MODEL_276b2e31d7004fbeac188d250ffd78ff"
            ]
          }
        },
        "4b33f66275f543c9ab597cf1afa615d3": {
          "model_module": "@jupyter-widgets/base",
          "model_name": "LayoutModel",
          "state": {
            "_view_name": "LayoutView",
            "grid_template_rows": null,
            "right": null,
            "justify_content": null,
            "_view_module": "@jupyter-widgets/base",
            "overflow": null,
            "_model_module_version": "1.2.0",
            "_view_count": null,
            "flex_flow": null,
            "width": null,
            "min_width": null,
            "border": null,
            "align_items": null,
            "bottom": null,
            "_model_module": "@jupyter-widgets/base",
            "top": null,
            "grid_column": null,
            "overflow_y": null,
            "overflow_x": null,
            "grid_auto_flow": null,
            "grid_area": null,
            "grid_template_columns": null,
            "flex": null,
            "_model_name": "LayoutModel",
            "justify_items": null,
            "grid_row": null,
            "max_height": null,
            "align_content": null,
            "visibility": null,
            "align_self": null,
            "height": null,
            "min_height": null,
            "padding": null,
            "grid_auto_rows": null,
            "grid_gap": null,
            "max_width": null,
            "order": null,
            "_view_module_version": "1.2.0",
            "grid_template_areas": null,
            "object_position": null,
            "object_fit": null,
            "grid_auto_columns": null,
            "margin": null,
            "display": null,
            "left": null
          }
        },
        "19f48ab0e9f44899bbd26cd563da6924": {
          "model_module": "@jupyter-widgets/controls",
          "model_name": "IntProgressModel",
          "state": {
            "_view_name": "ProgressView",
            "style": "IPY_MODEL_e86fbc5d8032433fab07a0fa41e9f2d7",
            "_dom_classes": [],
            "description": "patents",
            "_model_name": "IntProgressModel",
            "bar_style": "success",
            "max": 280,
            "_view_module": "@jupyter-widgets/controls",
            "_model_module_version": "1.5.0",
            "value": 280,
            "_view_count": null,
            "_view_module_version": "1.5.0",
            "orientation": "horizontal",
            "min": 0,
            "description_tooltip": null,
            "_model_module": "@jupyter-widgets/controls",
            "layout": "IPY_MODEL_33cff9f541fc4f839297d1f285607c24"
          }
        },
        "276b2e31d7004fbeac188d250ffd78ff": {
          "model_module": "@jupyter-widgets/controls",
          "model_name": "HTMLModel",
          "state": {
            "_view_name": "HTMLView",
            "style": "IPY_MODEL_97101eb0e6fc46b1af1ed64220992f84",
            "_dom_classes": [],
            "description": "",
            "_model_name": "HTMLModel",
            "placeholder": "​",
            "_view_module": "@jupyter-widgets/controls",
            "_model_module_version": "1.5.0",
            "value": "100% 280/280 [00:02&lt;00:00, 123.34it/s]",
            "_view_count": null,
            "_view_module_version": "1.5.0",
            "description_tooltip": null,
            "_model_module": "@jupyter-widgets/controls",
            "layout": "IPY_MODEL_b9f69a1f6a624c129231b09585f7f8c2"
          }
        },
        "e86fbc5d8032433fab07a0fa41e9f2d7": {
          "model_module": "@jupyter-widgets/controls",
          "model_name": "ProgressStyleModel",
          "state": {
            "_view_name": "StyleView",
            "_model_name": "ProgressStyleModel",
            "description_width": "initial",
            "_view_module": "@jupyter-widgets/base",
            "_model_module_version": "1.5.0",
            "_view_count": null,
            "_view_module_version": "1.2.0",
            "bar_color": null,
            "_model_module": "@jupyter-widgets/controls"
          }
        },
        "33cff9f541fc4f839297d1f285607c24": {
          "model_module": "@jupyter-widgets/base",
          "model_name": "LayoutModel",
          "state": {
            "_view_name": "LayoutView",
            "grid_template_rows": null,
            "right": null,
            "justify_content": null,
            "_view_module": "@jupyter-widgets/base",
            "overflow": null,
            "_model_module_version": "1.2.0",
            "_view_count": null,
            "flex_flow": null,
            "width": null,
            "min_width": null,
            "border": null,
            "align_items": null,
            "bottom": null,
            "_model_module": "@jupyter-widgets/base",
            "top": null,
            "grid_column": null,
            "overflow_y": null,
            "overflow_x": null,
            "grid_auto_flow": null,
            "grid_area": null,
            "grid_template_columns": null,
            "flex": null,
            "_model_name": "LayoutModel",
            "justify_items": null,
            "grid_row": null,
            "max_height": null,
            "align_content": null,
            "visibility": null,
            "align_self": null,
            "height": null,
            "min_height": null,
            "padding": null,
            "grid_auto_rows": null,
            "grid_gap": null,
            "max_width": null,
            "order": null,
            "_view_module_version": "1.2.0",
            "grid_template_areas": null,
            "object_position": null,
            "object_fit": null,
            "grid_auto_columns": null,
            "margin": null,
            "display": null,
            "left": null
          }
        },
        "97101eb0e6fc46b1af1ed64220992f84": {
          "model_module": "@jupyter-widgets/controls",
          "model_name": "DescriptionStyleModel",
          "state": {
            "_view_name": "StyleView",
            "_model_name": "DescriptionStyleModel",
            "description_width": "",
            "_view_module": "@jupyter-widgets/base",
            "_model_module_version": "1.5.0",
            "_view_count": null,
            "_view_module_version": "1.2.0",
            "_model_module": "@jupyter-widgets/controls"
          }
        },
        "b9f69a1f6a624c129231b09585f7f8c2": {
          "model_module": "@jupyter-widgets/base",
          "model_name": "LayoutModel",
          "state": {
            "_view_name": "LayoutView",
            "grid_template_rows": null,
            "right": null,
            "justify_content": null,
            "_view_module": "@jupyter-widgets/base",
            "overflow": null,
            "_model_module_version": "1.2.0",
            "_view_count": null,
            "flex_flow": null,
            "width": null,
            "min_width": null,
            "border": null,
            "align_items": null,
            "bottom": null,
            "_model_module": "@jupyter-widgets/base",
            "top": null,
            "grid_column": null,
            "overflow_y": null,
            "overflow_x": null,
            "grid_auto_flow": null,
            "grid_area": null,
            "grid_template_columns": null,
            "flex": null,
            "_model_name": "LayoutModel",
            "justify_items": null,
            "grid_row": null,
            "max_height": null,
            "align_content": null,
            "visibility": null,
            "align_self": null,
            "height": null,
            "min_height": null,
            "padding": null,
            "grid_auto_rows": null,
            "grid_gap": null,
            "max_width": null,
            "order": null,
            "_view_module_version": "1.2.0",
            "grid_template_areas": null,
            "object_position": null,
            "object_fit": null,
            "grid_auto_columns": null,
            "margin": null,
            "display": null,
            "left": null
          }
        },
        "9f5c0de69c3043d5b68ee62562af9c5d": {
          "model_module": "@jupyter-widgets/controls",
          "model_name": "HBoxModel",
          "state": {
            "_view_name": "HBoxView",
            "_dom_classes": [],
            "_model_name": "HBoxModel",
            "_view_module": "@jupyter-widgets/controls",
            "_model_module_version": "1.5.0",
            "_view_count": null,
            "_view_module_version": "1.5.0",
            "box_style": "",
            "layout": "IPY_MODEL_52f936fa947c4cea81e08fe2fd2fa322",
            "_model_module": "@jupyter-widgets/controls",
            "children": [
              "IPY_MODEL_eb19fc76c3494f1f89227ce8a305e740",
              "IPY_MODEL_9bbcc8659d494cc0b202650a7dc7f76c"
            ]
          }
        },
        "52f936fa947c4cea81e08fe2fd2fa322": {
          "model_module": "@jupyter-widgets/base",
          "model_name": "LayoutModel",
          "state": {
            "_view_name": "LayoutView",
            "grid_template_rows": null,
            "right": null,
            "justify_content": null,
            "_view_module": "@jupyter-widgets/base",
            "overflow": null,
            "_model_module_version": "1.2.0",
            "_view_count": null,
            "flex_flow": null,
            "width": null,
            "min_width": null,
            "border": null,
            "align_items": null,
            "bottom": null,
            "_model_module": "@jupyter-widgets/base",
            "top": null,
            "grid_column": null,
            "overflow_y": null,
            "overflow_x": null,
            "grid_auto_flow": null,
            "grid_area": null,
            "grid_template_columns": null,
            "flex": null,
            "_model_name": "LayoutModel",
            "justify_items": null,
            "grid_row": null,
            "max_height": null,
            "align_content": null,
            "visibility": null,
            "align_self": null,
            "height": null,
            "min_height": null,
            "padding": null,
            "grid_auto_rows": null,
            "grid_gap": null,
            "max_width": null,
            "order": null,
            "_view_module_version": "1.2.0",
            "grid_template_areas": null,
            "object_position": null,
            "object_fit": null,
            "grid_auto_columns": null,
            "margin": null,
            "display": null,
            "left": null
          }
        },
        "eb19fc76c3494f1f89227ce8a305e740": {
          "model_module": "@jupyter-widgets/controls",
          "model_name": "IntProgressModel",
          "state": {
            "_view_name": "ProgressView",
            "style": "IPY_MODEL_ea1f6e55b3d14614a1f4916bbbd3c6aa",
            "_dom_classes": [],
            "description": "patents",
            "_model_name": "IntProgressModel",
            "bar_style": "success",
            "max": 280,
            "_view_module": "@jupyter-widgets/controls",
            "_model_module_version": "1.5.0",
            "value": 280,
            "_view_count": null,
            "_view_module_version": "1.5.0",
            "orientation": "horizontal",
            "min": 0,
            "description_tooltip": null,
            "_model_module": "@jupyter-widgets/controls",
            "layout": "IPY_MODEL_903293b56c35422685db80eee0b7d887"
          }
        },
        "9bbcc8659d494cc0b202650a7dc7f76c": {
          "model_module": "@jupyter-widgets/controls",
          "model_name": "HTMLModel",
          "state": {
            "_view_name": "HTMLView",
            "style": "IPY_MODEL_235f77707acc419f8f3d281a0fd693bb",
            "_dom_classes": [],
            "description": "",
            "_model_name": "HTMLModel",
            "placeholder": "​",
            "_view_module": "@jupyter-widgets/controls",
            "_model_module_version": "1.5.0",
            "value": "100% 280/280 [00:02&lt;00:00, 118.53it/s]",
            "_view_count": null,
            "_view_module_version": "1.5.0",
            "description_tooltip": null,
            "_model_module": "@jupyter-widgets/controls",
            "layout": "IPY_MODEL_a73b36af8391428b8c833d3e864fcf1c"
          }
        },
        "ea1f6e55b3d14614a1f4916bbbd3c6aa": {
          "model_module": "@jupyter-widgets/controls",
          "model_name": "ProgressStyleModel",
          "state": {
            "_view_name": "StyleView",
            "_model_name": "ProgressStyleModel",
            "description_width": "initial",
            "_view_module": "@jupyter-widgets/base",
            "_model_module_version": "1.5.0",
            "_view_count": null,
            "_view_module_version": "1.2.0",
            "bar_color": null,
            "_model_module": "@jupyter-widgets/controls"
          }
        },
        "903293b56c35422685db80eee0b7d887": {
          "model_module": "@jupyter-widgets/base",
          "model_name": "LayoutModel",
          "state": {
            "_view_name": "LayoutView",
            "grid_template_rows": null,
            "right": null,
            "justify_content": null,
            "_view_module": "@jupyter-widgets/base",
            "overflow": null,
            "_model_module_version": "1.2.0",
            "_view_count": null,
            "flex_flow": null,
            "width": null,
            "min_width": null,
            "border": null,
            "align_items": null,
            "bottom": null,
            "_model_module": "@jupyter-widgets/base",
            "top": null,
            "grid_column": null,
            "overflow_y": null,
            "overflow_x": null,
            "grid_auto_flow": null,
            "grid_area": null,
            "grid_template_columns": null,
            "flex": null,
            "_model_name": "LayoutModel",
            "justify_items": null,
            "grid_row": null,
            "max_height": null,
            "align_content": null,
            "visibility": null,
            "align_self": null,
            "height": null,
            "min_height": null,
            "padding": null,
            "grid_auto_rows": null,
            "grid_gap": null,
            "max_width": null,
            "order": null,
            "_view_module_version": "1.2.0",
            "grid_template_areas": null,
            "object_position": null,
            "object_fit": null,
            "grid_auto_columns": null,
            "margin": null,
            "display": null,
            "left": null
          }
        },
        "235f77707acc419f8f3d281a0fd693bb": {
          "model_module": "@jupyter-widgets/controls",
          "model_name": "DescriptionStyleModel",
          "state": {
            "_view_name": "StyleView",
            "_model_name": "DescriptionStyleModel",
            "description_width": "",
            "_view_module": "@jupyter-widgets/base",
            "_model_module_version": "1.5.0",
            "_view_count": null,
            "_view_module_version": "1.2.0",
            "_model_module": "@jupyter-widgets/controls"
          }
        },
        "a73b36af8391428b8c833d3e864fcf1c": {
          "model_module": "@jupyter-widgets/base",
          "model_name": "LayoutModel",
          "state": {
            "_view_name": "LayoutView",
            "grid_template_rows": null,
            "right": null,
            "justify_content": null,
            "_view_module": "@jupyter-widgets/base",
            "overflow": null,
            "_model_module_version": "1.2.0",
            "_view_count": null,
            "flex_flow": null,
            "width": null,
            "min_width": null,
            "border": null,
            "align_items": null,
            "bottom": null,
            "_model_module": "@jupyter-widgets/base",
            "top": null,
            "grid_column": null,
            "overflow_y": null,
            "overflow_x": null,
            "grid_auto_flow": null,
            "grid_area": null,
            "grid_template_columns": null,
            "flex": null,
            "_model_name": "LayoutModel",
            "justify_items": null,
            "grid_row": null,
            "max_height": null,
            "align_content": null,
            "visibility": null,
            "align_self": null,
            "height": null,
            "min_height": null,
            "padding": null,
            "grid_auto_rows": null,
            "grid_gap": null,
            "max_width": null,
            "order": null,
            "_view_module_version": "1.2.0",
            "grid_template_areas": null,
            "object_position": null,
            "object_fit": null,
            "grid_auto_columns": null,
            "margin": null,
            "display": null,
            "left": null
          }
        }
      }
    }
  },
  "cells": [
    {
      "cell_type": "markdown",
      "metadata": {
        "id": "view-in-github",
        "colab_type": "text"
      },
      "source": [
        "<a href=\"https://colab.research.google.com/github/Nilanshrajput/AdvitiyaHackathon/blob/master/Scrapper_colab.ipynb\" target=\"_parent\"><img src=\"https://colab.research.google.com/assets/colab-badge.svg\" alt=\"Open In Colab\"/></a>"
      ]
    },
    {
      "cell_type": "code",
      "metadata": {
        "id": "53tGBiAEo9YO",
        "colab_type": "code",
        "outputId": "70f7293b-5c6c-430f-c32a-87df49e467a0",
        "colab": {
          "base_uri": "https://localhost:8080/",
          "height": 145
        }
      },
      "source": [
        "!git clone https://Nilanshrajput:@github.com/Nilanshrajput/AdvitiyaHackathon.git"
      ],
      "execution_count": 3,
      "outputs": [
        {
          "output_type": "stream",
          "text": [
            "Cloning into 'AdvitiyaHackathon'...\n",
            "remote: Enumerating objects: 156, done.\u001b[K\n",
            "remote: Counting objects: 100% (156/156), done.\u001b[K\n",
            "remote: Compressing objects: 100% (115/115), done.\u001b[K\n",
            "remote: Total 156 (delta 92), reused 94 (delta 39), pack-reused 0\u001b[K\n",
            "Receiving objects: 100% (156/156), 335.81 KiB | 499.00 KiB/s, done.\n",
            "Resolving deltas: 100% (92/92), done.\n"
          ],
          "name": "stdout"
        }
      ]
    },
    {
      "cell_type": "code",
      "metadata": {
        "id": "mm_6_Jc8bclR",
        "colab_type": "code",
        "colab": {}
      },
      "source": [
        "!rm -r /content/AdvitiyaHackathon"
      ],
      "execution_count": 0,
      "outputs": []
    },
    {
      "cell_type": "code",
      "metadata": {
        "id": "a2Ec1v5Oo9gH",
        "colab_type": "code",
        "outputId": "2c60ca19-028a-45ad-eca6-8cd3df54aca6",
        "colab": {
          "base_uri": "https://localhost:8080/",
          "height": 128
        }
      },
      "source": [
        "from google.colab import drive\n",
        "drive.mount('/content/drive')\n"
      ],
      "execution_count": 3,
      "outputs": [
        {
          "output_type": "stream",
          "text": [
            "Go to this URL in a browser: https://accounts.google.com/o/oauth2/auth?client_id=947318989803-6bn6qk8qdgf4n4g3pfee6491hc0brc4i.apps.googleusercontent.com&redirect_uri=urn%3aietf%3awg%3aoauth%3a2.0%3aoob&response_type=code&scope=email%20https%3a%2f%2fwww.googleapis.com%2fauth%2fdocs.test%20https%3a%2f%2fwww.googleapis.com%2fauth%2fdrive%20https%3a%2f%2fwww.googleapis.com%2fauth%2fdrive.photos.readonly%20https%3a%2f%2fwww.googleapis.com%2fauth%2fpeopleapi.readonly\n",
            "\n",
            "Enter your authorization code:\n",
            "··········\n",
            "Mounted at /content/drive\n"
          ],
          "name": "stdout"
        }
      ]
    },
    {
      "cell_type": "code",
      "metadata": {
        "id": "qWJqkXoGt7fn",
        "colab_type": "code",
        "colab": {
          "base_uri": "https://localhost:8080/",
          "height": 219
        },
        "outputId": "babdaef4-624e-43c5-cc78-48ad16d0368a"
      },
      "source": [
        "!pip install beautifulsoup4==4.8.2"
      ],
      "execution_count": 4,
      "outputs": [
        {
          "output_type": "stream",
          "text": [
            "Collecting beautifulsoup4==4.8.2\n",
            "\u001b[?25l  Downloading https://files.pythonhosted.org/packages/cb/a1/c698cf319e9cfed6b17376281bd0efc6bfc8465698f54170ef60a485ab5d/beautifulsoup4-4.8.2-py3-none-any.whl (106kB)\n",
            "\r\u001b[K     |███                             | 10kB 22.9MB/s eta 0:00:01\r\u001b[K     |██████▏                         | 20kB 27.3MB/s eta 0:00:01\r\u001b[K     |█████████▏                      | 30kB 32.9MB/s eta 0:00:01\r\u001b[K     |████████████▎                   | 40kB 37.2MB/s eta 0:00:01\r\u001b[K     |███████████████▎                | 51kB 26.5MB/s eta 0:00:01\r\u001b[K     |██████████████████▍             | 61kB 29.0MB/s eta 0:00:01\r\u001b[K     |█████████████████████▌          | 71kB 21.7MB/s eta 0:00:01\r\u001b[K     |████████████████████████▌       | 81kB 23.1MB/s eta 0:00:01\r\u001b[K     |███████████████████████████▋    | 92kB 24.7MB/s eta 0:00:01\r\u001b[K     |██████████████████████████████▋ | 102kB 23.0MB/s eta 0:00:01\r\u001b[K     |████████████████████████████████| 112kB 23.0MB/s \n",
            "\u001b[?25hCollecting soupsieve>=1.2\n",
            "  Downloading https://files.pythonhosted.org/packages/81/94/03c0f04471fc245d08d0a99f7946ac228ca98da4fa75796c507f61e688c2/soupsieve-1.9.5-py2.py3-none-any.whl\n",
            "Installing collected packages: soupsieve, beautifulsoup4\n",
            "  Found existing installation: beautifulsoup4 4.6.3\n",
            "    Uninstalling beautifulsoup4-4.6.3:\n",
            "      Successfully uninstalled beautifulsoup4-4.6.3\n",
            "Successfully installed beautifulsoup4-4.8.2 soupsieve-1.9.5\n"
          ],
          "name": "stdout"
        }
      ]
    },
    {
      "cell_type": "code",
      "metadata": {
        "id": "jh6OWVu-o7NR",
        "colab_type": "code",
        "colab": {}
      },
      "source": [
        "import pandas as pd\n",
        "import re \n",
        "import matplotlib.pyplot as plt\n",
        "# ~ Import packages ~ #\n",
        "from AdvitiyaHackathon.google_patent_scrapper import scraper_class\n",
        "import json\n",
        "import os\n",
        "import spacy\n",
        "\n",
        "from nltk.corpus import stopwords\n",
        "import string\n",
        "import spacy #load spacy\n",
        "\n",
        "import nltk\n",
        "\n",
        "\n"
      ],
      "execution_count": 0,
      "outputs": []
    },
    {
      "cell_type": "code",
      "metadata": {
        "id": "pqgnwxU9s1GM",
        "colab_type": "code",
        "colab": {}
      },
      "source": [
        "\n",
        "%%capture\n",
        "from tqdm import tnrange\n",
        "from tqdm import tqdm_notebook as tqdm\n",
        "\n",
        "\n"
      ],
      "execution_count": 0,
      "outputs": []
    },
    {
      "cell_type": "code",
      "metadata": {
        "id": "Wjcoci08s7wh",
        "colab_type": "code",
        "outputId": "9103e6a6-74d6-4ccd-8ec3-549ee26d1d0d",
        "colab": {
          "base_uri": "https://localhost:8080/",
          "height": 122,
          "referenced_widgets": [
            "6d695a3edb7c45ae97bc894b62ba597b",
            "693a106442be4b99af8e32ca49b790a7",
            "c45ab364591049e9ad07840f546540c1",
            "c8bce2b298fe4e13911f0a1d2c095b9d",
            "62bd499e246c433a9708ac609497cdc8",
            "86defd5dfa8e43aabf1df1672abc69eb",
            "75f159a255dd43a5b67e24148cbce198",
            "3e29499d724f425f8cd43bb368b7ecd5"
          ]
        }
      },
      "source": [
        "\n",
        "import time\n",
        "for i in tqdm([1,2,3],desc = \"wabalabadubdub\") :\n",
        "  print(i)\n",
        "  time.sleep(.1)"
      ],
      "execution_count": 10,
      "outputs": [
        {
          "output_type": "display_data",
          "data": {
            "application/vnd.jupyter.widget-view+json": {
              "model_id": "6d695a3edb7c45ae97bc894b62ba597b",
              "version_minor": 0,
              "version_major": 2
            },
            "text/plain": [
              "HBox(children=(IntProgress(value=0, description='wabalabadubdub', max=3, style=ProgressStyle(description_width…"
            ]
          },
          "metadata": {
            "tags": []
          }
        },
        {
          "output_type": "stream",
          "text": [
            "1\n",
            "2\n",
            "3\n",
            "\n"
          ],
          "name": "stdout"
        }
      ]
    },
    {
      "cell_type": "code",
      "metadata": {
        "id": "TYzFEsYCrd88",
        "colab_type": "code",
        "colab": {}
      },
      "source": [
        "drive_pt=\"/content/drive/My Drive/dl_projects/AdvitiyaHackathon/\"\n",
        "\n",
        "git_path = \"AdvitiyaHackathon/\"\n",
        "path = drive_pt+\"ScrappeData\""
      ],
      "execution_count": 0,
      "outputs": []
    },
    {
      "cell_type": "code",
      "metadata": {
        "id": "NUbSwTnQo7NY",
        "colab_type": "code",
        "colab": {}
      },
      "source": [
        "\n",
        "dataCsv = pd.read_csv(git_path+\"data.csv\", index_col=0)\n",
        "# ~ Initialize scraper class ~ #\n",
        "scraper=scraper_class()\n"
      ],
      "execution_count": 0,
      "outputs": []
    },
    {
      "cell_type": "code",
      "metadata": {
        "id": "Mt4fD149o7Nc",
        "colab_type": "code",
        "outputId": "af823e36-61b2-4a85-9797-759e12ac0a3a",
        "colab": {
          "base_uri": "https://localhost:8080/",
          "height": 146
        }
      },
      "source": [
        "\n",
        "\n",
        "patent_1 = 'CN104651159A'\n",
        "patent_2 = 'US266827A'\n",
        "scrapped_data = scraper.scrap_single_patent(patent_1)\n",
        "err_1, soup_1, url_1 = scraper.request_single_patent(patent_1)\n",
        "patent_1_parsed = scraper.get_scraped_data(soup_1,patent_1,url_1)\n",
        "\n",
        "with open(drive_pt+\"sample.json\", 'w') as file:\n",
        "    json.dump(scrapped_data, file)\n",
        "patent_1_parsed"
      ],
      "execution_count": 5,
      "outputs": [
        {
          "output_type": "execute_result",
          "data": {
            "text/plain": [
              "{'abstract': '\" The invention discloses a brewing process of a prickly pear fruit wine. The prickly pear fruit wine is brewed by taking fresh, ripe and plump prickly pears as main raw materials and through the steps of raw material pretreatment; pulping and soaking; compound enzyme treatment; matrix pretreatment; raw material mixing; fermenting; squeezing and filtering; mixing; ageing; and canning and sterilizing. According to the brewing process, the pulps and peels of the raw materials are separated, the pulps are pulped, and the peels are soaked in a white wine with a high alcohol degree, so that the utilization ratio of the raw materials is greatly increased; the fruit wine is clarified by using a compound clarifying gent, so that the transparency of a finished product of the wine is improved; and the prickly pear fruit wine has the health effects of tonifying the spleen and benefiting the stomach, promoting the production of body fluid to relieve thirst, astringing to stop bleeding, replenishing qi and enriching blood and the like.\"',\n",
              " 'claims': '\" 1. a making method for prickly-pear cactus fruit wine, is characterized in that: described making method adopts following steps: A, raw materials pretreatment: select fresh, ripe prickly-pear cactus, remove the impurity such as surface spikes, dust, earth, and clean with clear water, and peeled through peeling machine by prickly-pear cactus, obtain prickly-pear cactus pulp and prickly-pear cactus pericarp; B, making beating: in prickly-pear cactus pulp, add its weight 35-45% concentration is that the sodium ascorbate solution of 20-25% is pulled an oar, obtained prickly-pear cactus slurries; C, immersion: prickly-pear cactus pericarp being put into its weight 2-3 alcoholic strength is doubly that the white wine of 65-70% soaks 30-40 days, soak and terminate rear filtration and obtain soaking wine and prickly-pear cactus pericarp, be filtered dry by prickly-pear cactus pericarp and pulverize, obtain prickly-pear cactus fruit peel powder; D, prozyme process: in prickly-pear cactus slurries, add the polygalacturonase of its weight 0.3-0.4%, the cellulase of 0.2-0.3%, control temperature is 40-50 DEG C, the time is 4-6 hour; E, matrix pre-treatment: in Rhizoma Dioscoreae powder, add the prickly-pear cactus slurries after the enzymolysis of its weight 35-45%, rub into steamed bread of corn shape, place steamed bread of corn in steam cooker and cook to ripe and do not stick with paste, spread cooling, obtained matrix; F, raw material mix: the prickly-pear cactus fruit peel powder adding its weight 50-60% in matrix, stirs, and obtained compound, adds the wheat koji of 25-35%, the tap water of 130-150%, the distiller\\'s yeast of 5-8%, mix in compound, obtained wine unstrained spirits; G, fermentation: by the temperature control of wine unstrained spirits product at 25-35 DEG C, when in wine unstrained spirits, ethanol concn reaches 22-25% volume ratio, fermentation ends; H, squeeze and filter: wine unstrained spirits good for secondary fermentation is squeezed, obtained fermented wine, adds the tannin of its weight 0.3-0.4%, the diatomite of 0.02-0.03%, mixes in fermented wine, leaves standstill 8-12 days, carries out separation and obtain prickly-pear cactus pure mellow wine and wine mud; I, mixing: get the soaking wine 25-35 weight part in step c, prickly-pear cactus pure mellow wine 65-75 weight part in step h, stir, the obtained former wine of prickly-pear cactus; J, ageing: adopt microwave-assisted deepfreeze to accelerate pure mellow wine ageing, microwave frequency 900-1200MHz, deepfreeze time 50-60 days, temperature 4-6 DEG C; K, canned sterilization: carry out pasteurize after tinning, temperature 75-85 DEG C, time 15-20min, obtained prickly-pear cactus fruit wine.\"',\n",
              " 'classification': '\" CHEMISTRY; METALLURGY BIOCHEMISTRY; BEER; SPIRITS; WINE; VINEGAR; MICROBIOLOGY; ENZYMOLOGY; MUTATION OR GENETIC ENGINEERING WINE; OTHER ALCOHOLIC BEVERAGES; PREPARATION THEREOF Preparation of other alcoholic beverages Preparation of other alcoholic beverages by mixing, e.g. for preparation of liqueurs CHEMISTRY; METALLURGY BIOCHEMISTRY; BEER; SPIRITS; WINE; VINEGAR; MICROBIOLOGY; ENZYMOLOGY; MUTATION OR GENETIC ENGINEERING WINE; OTHER ALCOHOLIC BEVERAGES; PREPARATION THEREOF Preparation of other alcoholic beverages Preparation of other alcoholic beverages by fermentation CHEMISTRY; METALLURGY BIOCHEMISTRY; BEER; SPIRITS; WINE; VINEGAR; MICROBIOLOGY; ENZYMOLOGY; MUTATION OR GENETIC ENGINEERING PASTEURISATION, STERILISATION, PRESERVATION, PURIFICATION, CLARIFICATION OR AGEING OF ALCOHOLIC BEVERAGES; METHODS FOR ALTERING THE ALCOHOL CONTENT OF FERMENTED SOLUTIONS OR ALCOHOLIC BEVERAGES Pasteurisation, sterilisation, preservation, purification, clarification, or ageing of alcoholic beverages Pasteurisation, sterilisation, preservation, purification, clarification, or ageing of alcoholic beverages combined with removal of precipitate or added materials, e.g. adsorption material Pasteurisation, sterilisation, preservation, purification, clarification, or ageing of alcoholic beverages combined with removal of precipitate or added materials, e.g. adsorption material with the aid of ion-exchange material or inert clarification material, e.g. adsorption material Pasteurisation, sterilisation, preservation, purification, clarification, or ageing of alcoholic beverages combined with removal of precipitate or added materials, e.g. adsorption material with the aid of ion-exchange material or inert clarification material, e.g. adsorption material with the aid of inorganic added material CHEMISTRY; METALLURGY BIOCHEMISTRY; BEER; SPIRITS; WINE; VINEGAR; MICROBIOLOGY; ENZYMOLOGY; MUTATION OR GENETIC ENGINEERING PASTEURISATION, STERILISATION, PRESERVATION, PURIFICATION, CLARIFICATION OR AGEING OF ALCOHOLIC BEVERAGES; METHODS FOR ALTERING THE ALCOHOL CONTENT OF FERMENTED SOLUTIONS OR ALCOHOLIC BEVERAGES Pasteurisation, sterilisation, preservation, purification, clarification, or ageing of alcoholic beverages Pasteurisation, sterilisation, preservation, purification, clarification, or ageing of alcoholic beverages combined with removal of precipitate or added materials, e.g. adsorption material Pasteurisation, sterilisation, preservation, purification, clarification, or ageing of alcoholic beverages combined with removal of precipitate or added materials, e.g. adsorption material with the aid of ion-exchange material or inert clarification material, e.g. adsorption material Pasteurisation, sterilisation, preservation, purification, clarification, or ageing of alcoholic beverages combined with removal of precipitate or added materials, e.g. adsorption material with the aid of ion-exchange material or inert clarification material, e.g. adsorption material with the aid of organic added material\"',\n",
              " 'patent': 'CN104651159A',\n",
              " 'title': '\" - Brewing process of prickly pear fruit wine          - \"',\n",
              " 'url': 'https://patents.google.com/patent/CN104651159A/en?'}"
            ]
          },
          "metadata": {
            "tags": []
          },
          "execution_count": 5
        }
      ]
    },
    {
      "cell_type": "code",
      "metadata": {
        "id": "8v_YR-bro7Nh",
        "colab_type": "code",
        "colab": {}
      },
      "source": [
        "\"\"\"\n",
        "os.mkdir(drive_pt+\"ScrappeData\")\n",
        "os.mkdir(drive_pt+\"ScrappeData/non_alc\")\n",
        "os.mkdir(drive_pt+\"ScrappeData/alc\")\n",
        "os.mkdir(drive_pt+\"ScrappeData/non_auto\")\n",
        "os.mkdir(drive_pt+\"ScrappeData/auto\")\n",
        "\"\"\""
      ],
      "execution_count": 0,
      "outputs": []
    },
    {
      "cell_type": "code",
      "metadata": {
        "id": "tuwc3Ov4o7Nl",
        "colab_type": "code",
        "colab": {}
      },
      "source": [
        "# Make a separate list for each category\n",
        "non_alc = list(dataCsv.iloc[:,0])\n",
        "alc = list(dataCsv.iloc[:,2])\n",
        "non_auto = list(dataCsv.iloc[:,4])\n",
        "auto = list(dataCsv.iloc[:,6])"
      ],
      "execution_count": 0,
      "outputs": []
    },
    {
      "cell_type": "code",
      "metadata": {
        "id": "FwpXV8dmo7No",
        "colab_type": "code",
        "colab": {
          "base_uri": "https://localhost:8080/",
          "height": 55
        },
        "outputId": "913d216f-6ef7-4f63-f2e0-078c31658c28"
      },
      "source": [
        "\n",
        "names = [\"non_alc\", \"alc\", \"non_auto\", \"auto\"]\n",
        "catwise_patent_lists = [non_alc, alc, non_auto, auto]\n",
        "\n",
        "\"\"\"\n",
        "for index in tnrange(4, desc = \"CatList\"):\n",
        "    patents = catwise_patent_lists[index]\n",
        "    cat_folder  = names[index]\n",
        "    cat_list = catwise_patent_lists[index]\n",
        "    for patent in tqdm(cat_list,desc  = \"patents\"):\n",
        "        scrappedJson = scraper.scrap_single_patent(patent)\n",
        "        filename = os.path.join(path,cat_folder,str(patent)+\".json\")\n",
        "        with open(filename, 'w') as file:\n",
        "            json.dump(scrappedJson, file)\n",
        "     \"\"\"    "
      ],
      "execution_count": 9,
      "outputs": [
        {
          "output_type": "execute_result",
          "data": {
            "text/plain": [
              "'\\nfor index in tnrange(4, desc = \"CatList\"):\\n    patents = catwise_patent_lists[index]\\n    cat_folder  = names[index]\\n    cat_list = catwise_patent_lists[index]\\n    for patent in tqdm(cat_list,desc  = \"patents\"):\\n        scrappedJson = scraper.scrap_single_patent(patent)\\n        filename = os.path.join(path,cat_folder,str(patent)+\".json\")\\n        with open(filename, \\'w\\') as file:\\n            json.dump(scrappedJson, file)\\n     '"
            ]
          },
          "metadata": {
            "tags": []
          },
          "execution_count": 9
        }
      ]
    },
    {
      "cell_type": "code",
      "metadata": {
        "id": "CEO0oYKWo7Nz",
        "colab_type": "code",
        "outputId": "59e8a528-1ed4-4249-ca89-8473cda743af",
        "colab": {}
      },
      "source": [
        "print(([{'inventor_name':x.get_text()} for x in soup_1.select(\".title\",limit = 30)]))"
      ],
      "execution_count": 0,
      "outputs": [
        {
          "output_type": "stream",
          "text": [
            "[]\n"
          ],
          "name": "stdout"
        }
      ]
    },
    {
      "cell_type": "code",
      "metadata": {
        "id": "wAz5uozDo7N3",
        "colab_type": "code",
        "colab": {}
      },
      "source": [
        "print([{'inventor_name':x.get_text()} for x in soup_1.find('title')])"
      ],
      "execution_count": 0,
      "outputs": []
    },
    {
      "cell_type": "code",
      "metadata": {
        "id": "eWT_sl8Eo7N_",
        "colab_type": "code",
        "colab": {}
      },
      "source": [
        "*(soup_1.select(\".abstract\")).get_text()"
      ],
      "execution_count": 0,
      "outputs": []
    },
    {
      "cell_type": "code",
      "metadata": {
        "id": "m7Z95j3lo7OC",
        "colab_type": "code",
        "colab": {}
      },
      "source": [
        "print(soup_1.find('title').get_text())"
      ],
      "execution_count": 0,
      "outputs": []
    },
    {
      "cell_type": "code",
      "metadata": {
        "id": "-LWVGX2Jo7OF",
        "colab_type": "code",
        "colab": {}
      },
      "source": [
        ""
      ],
      "execution_count": 0,
      "outputs": []
    },
    {
      "cell_type": "markdown",
      "metadata": {
        "id": "qIBlEzBQkdqw",
        "colab_type": "text"
      },
      "source": [
        "**Data** **cleaning**"
      ]
    },
    {
      "cell_type": "code",
      "metadata": {
        "id": "0Y7B8JDBmZXx",
        "colab_type": "code",
        "colab": {}
      },
      "source": [
        "# Make a separate list for each category\n",
        "non_alc_json_pt = [os.path.join(path,names[0],p_num+\".json\") for p_num in catwise_patent_lists[0]]\n",
        "alc_json_pt = [os.path.join(path,names[1],p_num+\".json\") for p_num in catwise_patent_lists[1]]\n",
        "non_auto_json_pt = [os.path.join(path,names[2],p_num+\".json\") for p_num in catwise_patent_lists[2]]\n",
        "auto_json_pt = [os.path.join(path,names[3],p_num+\".json\") for p_num in catwise_patent_lists[3]]"
      ],
      "execution_count": 0,
      "outputs": []
    },
    {
      "cell_type": "code",
      "metadata": {
        "id": "ygQq8G_SnnCg",
        "colab_type": "code",
        "colab": {
          "base_uri": "https://localhost:8080/",
          "height": 35
        },
        "outputId": "c2d3f8cb-2c9e-4dde-f96e-e6469bf3fd0f"
      },
      "source": [
        "non_alc_json_pt[1]"
      ],
      "execution_count": 11,
      "outputs": [
        {
          "output_type": "execute_result",
          "data": {
            "text/plain": [
              "'/content/drive/My Drive/dl_projects/AdvitiyaHackathon/ScrappeData/non_alc/US9040109B2.json'"
            ]
          },
          "metadata": {
            "tags": []
          },
          "execution_count": 11
        }
      ]
    },
    {
      "cell_type": "code",
      "metadata": {
        "id": "q4B8ETMxr48N",
        "colab_type": "code",
        "colab": {}
      },
      "source": [
        "\n",
        "for index in tnrange(4, desc = \"CatList\"):\n",
        "    patents = catwise_patent_lists[index]\n",
        "    cat_folder  = names[index]\n",
        "    cat_list = catwise_patent_lists[index]\n",
        "    for patent in tqdm(cat_list,desc  = \"patents\"):\n",
        "        scrappedJson = scraper.scrap_single_patent(patent)\n",
        "        filename = os.path.join(path,cat_folder,str(patent)+\".json\")\n",
        "        with open(filename ) as file:\n",
        "            data = json.load(file)"
      ],
      "execution_count": 0,
      "outputs": []
    },
    {
      "cell_type": "code",
      "metadata": {
        "id": "7XZsFxVwwlQH",
        "colab_type": "code",
        "colab": {}
      },
      "source": [
        "class data_wrangler:\n",
        "  def __init__(self, data_csv_pt, max_limit = 10000, classification = True, abstract =False, claims  = False, all = False,\n",
        "               path = \"/content/drive/My Drive/dl_projects/AdvitiyaHackathon/ScrappeData\",\n",
        "               val = False):\n",
        "    self.patent_info = \"\"\n",
        "    self.path = path\n",
        "    self.max_limit = max_limit\n",
        "    self.class_names = [\"non_alc\", \"alc\", \"non_auto\", \"auto\"]\n",
        "    self.info_classes = [\"title\", 'classification' ]\n",
        "    self.data_csv_pt = data_csv_pt\n",
        "    self.csv  = pd.read_csv(self.data_csv_pt,index_col= 0)\n",
        "\n",
        "    self.nlp = spacy.load(\"en\", disable=['parser', 'tagger', 'ner'])\n",
        "    self.nlp.max_length = 50000000000\n",
        "    self.stops = stopwords.words(\"english\")\n",
        "    self.punctuations = string.punctuation\n",
        "\n",
        "    self.cleaned_data  = pd.DataFrame(columns= [\"text\",\"cat\"])\n",
        "\n",
        "    if abstract :\n",
        "      self.info_classes.append(\"abstract\")\n",
        "    if claims :\n",
        "      self.info_classes.append(\"claims\")\n",
        "    if all :\n",
        "      self.info_classes = [\"title\", 'classification', \"abstract\", \"claims\"]\n",
        "\n",
        "\n",
        "\n",
        "    # Make a separate list for each category\n",
        "    self.non_alc = list(self.csv.iloc[:,0])\n",
        "    self.alc = list(self.csv.iloc[:,2])\n",
        "    self.non_auto = list(self.csv.iloc[:,4])\n",
        "    self.auto = list(self.csv.iloc[:,6])\n",
        "\n",
        "    self.catwise_patent_lists  = [self.non_alc, self.alc, self.non_auto, self.auto]\n",
        "\n",
        "    # Make a separate list for each category\n",
        "    self.non_alc_json_pt = [os.path.join(self.path,self.class_names[0],p_num+\".json\") for p_num in self.catwise_patent_lists[0]]\n",
        "    self.alc_json_pt = [os.path.join(self.path,self.class_names[1],p_num+\".json\") for p_num in self.catwise_patent_lists[1]]\n",
        "    self.non_auto_json_pt = [os.path.join(self.path,self.class_names[2],p_num+\".json\") for p_num in self.catwise_patent_lists[2]]\n",
        "    self.auto_json_pt = [os.path.join(self.path,self.class_names[3],p_num+\".json\") for p_num in self.catwise_patent_lists[3]]\n",
        "\n",
        "  \n",
        "    i = 0\n",
        "    for pt_list in tqdm([self.non_alc_json_pt,self.alc_json_pt,self.non_auto_json_pt, self.auto_json_pt], desc = \"CatList\"):\n",
        "    \n",
        "      try: \n",
        "      \n",
        "        for patent in tqdm(pt_list,desc  = \"patents\"):\n",
        "            with open(patent) as file:\n",
        "                data = json.load(file)\n",
        "            try:  \n",
        "              self.patent_info = \"\"\n",
        "              for info in self.info_classes:\n",
        "                self.patent_info += data[info]\n",
        "                if len(self.patent_info.split()) > self.max_limit:\n",
        "                  break\n",
        "            except Exception as e:\n",
        "              print(e)\n",
        "            self.patent_info = self.clean(self.patent_info)\n",
        "            self.cleaned_data = self.cleaned_data.append({\"text\":str(self.patent_info),\"cat\":i},ignore_index = True)\n",
        "        i += 1\n",
        "\n",
        "      except Exception as e:\n",
        "        print(e)\n",
        "    \n",
        "    if val:\n",
        "      self.cleaned_data.to_csv(\"final_val_clean.csv\")\n",
        "    else:\n",
        "      self.cleaned_data.to_csv(\"final_train_clean.csv\")\n",
        "\n",
        "    \n",
        "\n",
        "  def clean(self, comment, lowercase = True, remove_stopwords = True):\n",
        "    if lowercase:\n",
        "        comment = comment.lower()\n",
        "    comment = self.nlp(comment,disable = ['ner', 'parser', 'tagger'])\n",
        "    lemmatized = list()\n",
        "    for word in comment:\n",
        "        lemma = word.lemma_.strip()\n",
        "        #len(re.findall('[^A-Za-z0-9]+',lemma))==0 for removing alphanumerals in b/w strings\n",
        "\n",
        "        if lemma:\n",
        "            if not remove_stopwords or (remove_stopwords and lemma not in self.stops and not (\"\\\\\" in r\"%r\" % lemma)  ):\n",
        "                lemmatized.append(lemma)\n",
        "    return \" \".join(lemmatized)\n"
      ],
      "execution_count": 0,
      "outputs": []
    },
    {
      "cell_type": "code",
      "metadata": {
        "id": "VZXBjmuih52i",
        "colab_type": "code",
        "colab": {
          "base_uri": "https://localhost:8080/",
          "height": 232,
          "referenced_widgets": [
            "5347957667ac4a9992110430700c46dc",
            "8a85bc5f00ef4411a7b7952b95e30d11",
            "b16357c39b3b42c6bddf83aeedefe304",
            "1430b9f435504e08acdc59bf6df4a41d",
            "a26399c38e074ab182f2fdebb6f0d143",
            "bf4d6d02f027469cbc0af3c427a3f6ff",
            "7867baa89ba64e51bae91cae87487d90",
            "d7114a3775df42b29c3fbd4c11ef1d93",
            "ba82f5d928804757b1b7056546be302a",
            "65777090c7914e7e885331b67cc74301",
            "ebcece7717124cfa8cc964cf747fb98f",
            "5e2fb3aea38941058efadf3d3ad594da",
            "0a34a4dbf62d443294ce9b3b8a6c0c5b",
            "920089b1d91649aa8040b50b012a9c8b",
            "958bfaa95d1a4e739266b76795b34c3b",
            "848dc869b1b14a5fa1e6d187322bda4b",
            "34ee94b87b224a6db8d7d3d08b11ae5e",
            "76c9396e87e04a5982fae3c0bf5e217a",
            "66b0b97cada9413f9ed36627c7355805",
            "6b552a83e04e41df9d88be99512e2c1b",
            "f7d489ac824b48adb8be4de2b3661ca1",
            "e8ab2b1ea954412d8ac47b8fcc8a5065",
            "8d2fdac61cea432a887c06230b14fce0",
            "0de0bccae1b24474bd8f62d0c31f3b9d",
            "5e8020f61fb748ba9e99de6560c9f28c",
            "4b33f66275f543c9ab597cf1afa615d3",
            "19f48ab0e9f44899bbd26cd563da6924",
            "276b2e31d7004fbeac188d250ffd78ff",
            "e86fbc5d8032433fab07a0fa41e9f2d7",
            "33cff9f541fc4f839297d1f285607c24",
            "97101eb0e6fc46b1af1ed64220992f84",
            "b9f69a1f6a624c129231b09585f7f8c2",
            "9f5c0de69c3043d5b68ee62562af9c5d",
            "52f936fa947c4cea81e08fe2fd2fa322",
            "eb19fc76c3494f1f89227ce8a305e740",
            "9bbcc8659d494cc0b202650a7dc7f76c",
            "ea1f6e55b3d14614a1f4916bbbd3c6aa",
            "903293b56c35422685db80eee0b7d887",
            "235f77707acc419f8f3d281a0fd693bb",
            "a73b36af8391428b8c833d3e864fcf1c"
          ]
        },
        "outputId": "d82818bb-a03f-45cd-bd26-27265a71b312"
      },
      "source": [
        "data_wrangler(git_path+\"train_split.csv\", abstract= True)"
      ],
      "execution_count": 66,
      "outputs": [
        {
          "output_type": "display_data",
          "data": {
            "application/vnd.jupyter.widget-view+json": {
              "model_id": "5347957667ac4a9992110430700c46dc",
              "version_minor": 0,
              "version_major": 2
            },
            "text/plain": [
              "HBox(children=(IntProgress(value=0, description='CatList', max=4, style=ProgressStyle(description_width='initi…"
            ]
          },
          "metadata": {
            "tags": []
          }
        },
        {
          "output_type": "display_data",
          "data": {
            "application/vnd.jupyter.widget-view+json": {
              "model_id": "ba82f5d928804757b1b7056546be302a",
              "version_minor": 0,
              "version_major": 2
            },
            "text/plain": [
              "HBox(children=(IntProgress(value=0, description='patents', max=280, style=ProgressStyle(description_width='ini…"
            ]
          },
          "metadata": {
            "tags": []
          }
        },
        {
          "output_type": "stream",
          "text": [
            "'NoneType' object is not subscriptable\n"
          ],
          "name": "stdout"
        },
        {
          "output_type": "display_data",
          "data": {
            "application/vnd.jupyter.widget-view+json": {
              "model_id": "34ee94b87b224a6db8d7d3d08b11ae5e",
              "version_minor": 0,
              "version_major": 2
            },
            "text/plain": [
              "HBox(children=(IntProgress(value=0, description='patents', max=280, style=ProgressStyle(description_width='ini…"
            ]
          },
          "metadata": {
            "tags": []
          }
        },
        {
          "output_type": "display_data",
          "data": {
            "application/vnd.jupyter.widget-view+json": {
              "model_id": "5e8020f61fb748ba9e99de6560c9f28c",
              "version_minor": 0,
              "version_major": 2
            },
            "text/plain": [
              "HBox(children=(IntProgress(value=0, description='patents', max=280, style=ProgressStyle(description_width='ini…"
            ]
          },
          "metadata": {
            "tags": []
          }
        },
        {
          "output_type": "display_data",
          "data": {
            "application/vnd.jupyter.widget-view+json": {
              "model_id": "9f5c0de69c3043d5b68ee62562af9c5d",
              "version_minor": 0,
              "version_major": 2
            },
            "text/plain": [
              "HBox(children=(IntProgress(value=0, description='patents', max=280, style=ProgressStyle(description_width='ini…"
            ]
          },
          "metadata": {
            "tags": []
          }
        },
        {
          "output_type": "stream",
          "text": [
            "\n"
          ],
          "name": "stdout"
        },
        {
          "output_type": "execute_result",
          "data": {
            "text/plain": [
              "<__main__.data_wrangler at 0x7fea06812f60>"
            ]
          },
          "metadata": {
            "tags": []
          },
          "execution_count": 66
        }
      ]
    },
    {
      "cell_type": "code",
      "metadata": {
        "id": "MpDl-Nanh5mV",
        "colab_type": "code",
        "colab": {}
      },
      "source": [
        "a = pd.read_csv(\"final_train_clean.csv\")"
      ],
      "execution_count": 0,
      "outputs": []
    },
    {
      "cell_type": "code",
      "metadata": {
        "id": "gZn20kKj_MAn",
        "colab_type": "code",
        "colab": {
          "base_uri": "https://localhost:8080/",
          "height": 407
        },
        "outputId": "67eb90ed-2db1-417e-fcaa-a227e693f44c"
      },
      "source": [
        "\n",
        "\n",
        "a"
      ],
      "execution_count": 65,
      "outputs": [
        {
          "output_type": "execute_result",
          "data": {
            "text/html": [
              "<div>\n",
              "<style scoped>\n",
              "    .dataframe tbody tr th:only-of-type {\n",
              "        vertical-align: middle;\n",
              "    }\n",
              "\n",
              "    .dataframe tbody tr th {\n",
              "        vertical-align: top;\n",
              "    }\n",
              "\n",
              "    .dataframe thead th {\n",
              "        text-align: right;\n",
              "    }\n",
              "</style>\n",
              "<table border=\"1\" class=\"dataframe\">\n",
              "  <thead>\n",
              "    <tr style=\"text-align: right;\">\n",
              "      <th></th>\n",
              "      <th>Unnamed: 0</th>\n",
              "      <th>text</th>\n",
              "      <th>cat</th>\n",
              "    </tr>\n",
              "  </thead>\n",
              "  <tbody>\n",
              "    <tr>\n",
              "      <th>0</th>\n",
              "      <td>0</td>\n",
              "      <td>\" - genetically modify streptococcus thermophi...</td>\n",
              "      <td>0</td>\n",
              "    </tr>\n",
              "    <tr>\n",
              "      <th>1</th>\n",
              "      <td>1</td>\n",
              "      <td>\" - method make high - protein dairy product -...</td>\n",
              "      <td>0</td>\n",
              "    </tr>\n",
              "    <tr>\n",
              "      <th>2</th>\n",
              "      <td>2</td>\n",
              "      <td>\" - modular electronic carbonator fluid level ...</td>\n",
              "      <td>0</td>\n",
              "    </tr>\n",
              "    <tr>\n",
              "      <th>3</th>\n",
              "      <td>3</td>\n",
              "      <td>\" - bottle beverage comprise cap contain dieta...</td>\n",
              "      <td>0</td>\n",
              "    </tr>\n",
              "    <tr>\n",
              "      <th>4</th>\n",
              "      <td>4</td>\n",
              "      <td>\" - protein hydrolysate composition improve se...</td>\n",
              "      <td>0</td>\n",
              "    </tr>\n",
              "    <tr>\n",
              "      <th>...</th>\n",
              "      <td>...</td>\n",
              "      <td>...</td>\n",
              "      <td>...</td>\n",
              "    </tr>\n",
              "    <tr>\n",
              "      <th>1115</th>\n",
              "      <td>1115</td>\n",
              "      <td>\" - road information vehicular ad hoc network ...</td>\n",
              "      <td>3</td>\n",
              "    </tr>\n",
              "    <tr>\n",
              "      <th>1116</th>\n",
              "      <td>1116</td>\n",
              "      <td>\" - fast collision detection technology autono...</td>\n",
              "      <td>3</td>\n",
              "    </tr>\n",
              "    <tr>\n",
              "      <th>1117</th>\n",
              "      <td>1117</td>\n",
              "      <td>\" - automatic obstacle avoid formula intellige...</td>\n",
              "      <td>3</td>\n",
              "    </tr>\n",
              "    <tr>\n",
              "      <th>1118</th>\n",
              "      <td>1118</td>\n",
              "      <td>\" - autonomous track device vehicle - \" \" perf...</td>\n",
              "      <td>3</td>\n",
              "    </tr>\n",
              "    <tr>\n",
              "      <th>1119</th>\n",
              "      <td>1119</td>\n",
              "      <td>\" - method autonomous manoeuvre vehicle good d...</td>\n",
              "      <td>3</td>\n",
              "    </tr>\n",
              "  </tbody>\n",
              "</table>\n",
              "<p>1120 rows × 3 columns</p>\n",
              "</div>"
            ],
            "text/plain": [
              "      Unnamed: 0                                               text  cat\n",
              "0              0  \" - genetically modify streptococcus thermophi...    0\n",
              "1              1  \" - method make high - protein dairy product -...    0\n",
              "2              2  \" - modular electronic carbonator fluid level ...    0\n",
              "3              3  \" - bottle beverage comprise cap contain dieta...    0\n",
              "4              4  \" - protein hydrolysate composition improve se...    0\n",
              "...          ...                                                ...  ...\n",
              "1115        1115  \" - road information vehicular ad hoc network ...    3\n",
              "1116        1116  \" - fast collision detection technology autono...    3\n",
              "1117        1117  \" - automatic obstacle avoid formula intellige...    3\n",
              "1118        1118  \" - autonomous track device vehicle - \" \" perf...    3\n",
              "1119        1119  \" - method autonomous manoeuvre vehicle good d...    3\n",
              "\n",
              "[1120 rows x 3 columns]"
            ]
          },
          "metadata": {
            "tags": []
          },
          "execution_count": 65
        }
      ]
    },
    {
      "cell_type": "code",
      "metadata": {
        "id": "jSim_cZNklDe",
        "colab_type": "code",
        "colab": {
          "base_uri": "https://localhost:8080/",
          "height": 146
        },
        "outputId": "a21b3b7a-b497-4f4d-f255-6003f9983918"
      },
      "source": [
        "\n",
        "with open(alc_json_pt[200]) as json_file:\n",
        "    data = json.load(json_file)\n",
        "data    "
      ],
      "execution_count": 13,
      "outputs": [
        {
          "output_type": "execute_result",
          "data": {
            "text/plain": [
              "{'abstract': '\" A system and method for generating wort utilizing steam injection heating and stratified flow. The system mixes a fine ground grain with water to form a slurry. The slurry is pumped through a steam injection heater to form a mash. The heated mash enters into a stratified vessel that creates a stratified temperature profile from a first end to a second end. The stratified heating vessel allows the mash to flow from the first end to the second end without internal mixing. After retention within the mash coil, the wort is directed to a mash filtration unit. After filtration, the wort enters into a boil kettle and is heated using a second steam injection heater. The boil kettle includes a spray head that directs brewing liquor onto the wort to reduce foam within the boil kettle. Finally, the wort passes through a scraped surface sieve that removes particles from the heated wort.\"',\n",
              " 'claims': '\"  1. A system for generating wort from a slurry of milled grain and water or use in the brewing process, the system comprising: an expansion chamber that receive the slurry; a pump operable to draw the slurry from the expansion chamber; and a steam injection heater positioned downstream from the pump to heat the slurry and create a mash.  an expansion chamber that receive the slurry; a pump operable to draw the slurry from the expansion chamber; and a steam injection heater positioned downstream from the pump to heat the slurry and create a mash.  2. The system of claim 1 further comprising a stratified storage vessel positioned to receive the mash from the steam injection heater, wherein the stratified storage vessel prevents mixture within the mash as the mash moves through the stratified storage vessel.  3. The system of claim 2 wherein the stratified storage vessel is a stacked coil of pipe extending from a first end to a second end.  4. The system of claim 3 wherein the pipe has a constant diameter from the first end to the second end.  5. The system of claim 3 wherein the stacked coil has a constant inner and outer diameter from the first end to the second end.  6. The system of claim 2 further comprising a filtration unit positioned to receive the mash from the stratified storage vessel, wherein the filtration unit removes coarse particles from the mash to create a wort.  7. The system of claim 6 further comprising a boil kettle having an open interior sized to receive the wort, wherein the boil kettle includes a outlet coupled to a second steam injection heater operable to heat the wort and return the wort to the open interior.  8. The system of claim 7 further comprising a spray head positioned within the boil kettle and operable to direct a spray of liquid onto the wort contained within the open interior of the boil kettle.  9. The system of claim 8 wherein the spray of liquid is brewing liquor.  10. The system of claim 9 wherein the volume of brewing liquor directed through the spray head is measured.  11. The system of claim 7 further comprising a scraped surface sieve positioned to receive the wort from the boil kettle and operable to remove any solids from the wort.  12. The system of claim 7 further comprising: a holding tank positioned to receive the heated wort from the boil kettle a flow control valve positioned between the outlet of the boil kettle and the holding tank; and a discharge pump operable to direct the wort from the holding tank.  a holding tank positioned to receive the heated wort from the boil kettle; a flow control valve positioned between the outlet of the boil kettle and the holding tank; and a discharge pump operable to direct the wort from the holding tank.  13. A method of creating wort for use in the brewing process, the method comprising the steps of: milling a supply of grain into fine particles; mixing the milled supply of grain with water to form a slurry; and directing the slurry through a steam injection heater to heat the slurry and create a mash.  milling a supply of grain into fine particles; mixing the milled supply of grain with water to form a slurry; and directing the slurry through a steam injection heater to heat the slurry and create a mash.  14. The method of claim 13 further comprising the steps of: receiving the mash at a first end of a stratified storage vessel; and retaining the mash within the stratified storage vessel.  receiving the mash at a first end of a stratified storage vessel; and retaining the mash within the stratified storage vessel.  15. The method of claim 14 further comprising the step of removing the mash from a second end of the stratified storage vessel and directing the mash to a filtration unit to remove coarse particles from the mash to create a liquid wort.  16. The method of claim 14 further comprising the steps of: receiving the wort within an open interior of a boil kettle removing the wort from the boil kettle and heating the wort with a second steam injection heater returning the heated wort to the open interior of the boil kettle; and directing the wort from the open interior of the boil kettle for use in the fermentation process of brewing.  receiving the wort within an open interior of a boil kettle; removing the wort from the boil kettle and heating the wort with a second steam injection heater; returning the heated wort to the open interior of the boil kettle; and directing the wort from the open interior of the boil kettle for use in the fermentation process of brewing.  17. The method of claim 14 wherein the stratified storage vessel is a stacked coil of pipe extending from the first end to the second end, wherein the stacked coil prevent the mixing of the mash within the stacked coil.  18. The method of claim 16 further comprising the step of directing a spray of a brewing liquor onto the wort within the open interior of the boil kettle to reduce foaming.  19. The method of claim 18 wherein the spray of brewing liquor is directed through a spray head positioned within the open interior of the boil kettle.  20. The method of claim 16 further comprising the step of directing the wort from the boil kettle to a scraped surface sieve, wherein the scraped surface sieve operated to remove solids from the wort.  21. A system for reducing foaming in a boil kettle, comprising: a spray head positioned near an upper end of the boil kettle; a supply of brewing liquor connected to the spray head; a flow control valve operable to allow the supply of brewing liquor to pass into the spray head; and at least one flow sensor operable to measure the amount of brewing liquor directed into the boil kettle through the spray head.  a spray head positioned near an upper end of the boil kettle; a supply of brewing liquor connected to the spray head; a flow control valve operable to allow the supply of brewing liquor to pass into the spray head; and at least one flow sensor operable to measure the amount of brewing liquor directed into the boil kettle through the spray head.  22. The system of claim 21 wherein the spray head includes a plurality of nozzles.\"',\n",
              " 'classification': '\" CHEMISTRY; METALLURGY BIOCHEMISTRY; BEER; SPIRITS; WINE; VINEGAR; MICROBIOLOGY; ENZYMOLOGY; MUTATION OR GENETIC ENGINEERING BREWING OF BEER Preparation of wort Preparation or treatment of the mash Mashing apparatus PERFORMING OPERATIONS; TRANSPORTING PHYSICAL OR CHEMICAL PROCESSES OR APPARATUS IN GENERAL SEPARATION Evaporating Evaporating by spraying CHEMISTRY; METALLURGY BIOCHEMISTRY; BEER; SPIRITS; WINE; VINEGAR; MICROBIOLOGY; ENZYMOLOGY; MUTATION OR GENETIC ENGINEERING BREWING OF BEER Brewing devices, not covered by a single group of C12C1/00\\\\u00a0-\\\\u00a0C12C12/04 Brew kettles Brew kettles heated with steam CHEMISTRY; METALLURGY BIOCHEMISTRY; BEER; SPIRITS; WINE; VINEGAR; MICROBIOLOGY; ENZYMOLOGY; MUTATION OR GENETIC ENGINEERING BREWING OF BEER Preparation of wort CHEMISTRY; METALLURGY BIOCHEMISTRY; BEER; SPIRITS; WINE; VINEGAR; MICROBIOLOGY; ENZYMOLOGY; MUTATION OR GENETIC ENGINEERING BREWING OF BEER Preparation of wort Boiling the beerwort CHEMISTRY; METALLURGY BIOCHEMISTRY; BEER; SPIRITS; WINE; VINEGAR; MICROBIOLOGY; ENZYMOLOGY; MUTATION OR GENETIC ENGINEERING BREWING OF BEER Preparation of wort Boiling the beerwort Boiling with hops Processes or apparatus specially adapted to save or recover energy PERFORMING OPERATIONS; TRANSPORTING PHYSICAL OR CHEMICAL PROCESSES OR APPARATUS IN GENERAL BOILING; BOILING APPARATUS ; EVAPORATION; EVAPORATION APPARATUS Boiling; Boiling apparatus for physical or chemical purposes ; Evaporation in general Preventing foaming CHEMISTRY; METALLURGY BIOCHEMISTRY; BEER; SPIRITS; WINE; VINEGAR; MICROBIOLOGY; ENZYMOLOGY; MUTATION OR GENETIC ENGINEERING BREWING OF BEER Preparation of wort After-treatment, e.g. sterilisation CHEMISTRY; METALLURGY BIOCHEMISTRY; BEER; SPIRITS; WINE; VINEGAR; MICROBIOLOGY; ENZYMOLOGY; MUTATION OR GENETIC ENGINEERING BREWING OF BEER Methods specially adapted for the making of beerwort Beerwort treatment; Boiling with hops; Hop extraction\"',\n",
              " 'patent': 'US20180094229A1',\n",
              " 'title': '\" - System and method for wort generation        - \"',\n",
              " 'url': 'https://patents.google.com/patent/US20180094229A1/en?'}"
            ]
          },
          "metadata": {
            "tags": []
          },
          "execution_count": 13
        }
      ]
    },
    {
      "cell_type": "code",
      "metadata": {
        "id": "DbMZFsWGZ08F",
        "colab_type": "code",
        "colab": {}
      },
      "source": [
        "cleaned_data  = pd.DataFrame(columns=[\"text\",\"cat\"])\n",
        "cleaned_data=cleaned_data.append({\"text\":'bleh',\"cat\":1},ignore_index= True)\n",
        "cleaned_data = cleaned_data.append({\"text\":'bldeh',\"cat\":2},ignore_index= True)"
      ],
      "execution_count": 0,
      "outputs": []
    },
    {
      "cell_type": "code",
      "metadata": {
        "id": "ET0bDnran546",
        "colab_type": "code",
        "colab": {
          "base_uri": "https://localhost:8080/",
          "height": 108
        },
        "outputId": "de789569-4bc6-4b6a-da84-c98a4e3e090b"
      },
      "source": [
        "cleaned_data"
      ],
      "execution_count": 29,
      "outputs": [
        {
          "output_type": "execute_result",
          "data": {
            "text/html": [
              "<div>\n",
              "<style scoped>\n",
              "    .dataframe tbody tr th:only-of-type {\n",
              "        vertical-align: middle;\n",
              "    }\n",
              "\n",
              "    .dataframe tbody tr th {\n",
              "        vertical-align: top;\n",
              "    }\n",
              "\n",
              "    .dataframe thead th {\n",
              "        text-align: right;\n",
              "    }\n",
              "</style>\n",
              "<table border=\"1\" class=\"dataframe\">\n",
              "  <thead>\n",
              "    <tr style=\"text-align: right;\">\n",
              "      <th></th>\n",
              "      <th>text</th>\n",
              "      <th>cat</th>\n",
              "    </tr>\n",
              "  </thead>\n",
              "  <tbody>\n",
              "    <tr>\n",
              "      <th>0</th>\n",
              "      <td>bleh</td>\n",
              "      <td>1</td>\n",
              "    </tr>\n",
              "    <tr>\n",
              "      <th>1</th>\n",
              "      <td>bldeh</td>\n",
              "      <td>2</td>\n",
              "    </tr>\n",
              "  </tbody>\n",
              "</table>\n",
              "</div>"
            ],
            "text/plain": [
              "    text cat\n",
              "0   bleh   1\n",
              "1  bldeh   2"
            ]
          },
          "metadata": {
            "tags": []
          },
          "execution_count": 29
        }
      ]
    },
    {
      "cell_type": "code",
      "metadata": {
        "id": "3XnnoqEsQcFM",
        "colab_type": "code",
        "colab": {
          "base_uri": "https://localhost:8080/",
          "height": 72
        },
        "outputId": "a8b5c50a-249c-4984-b70e-f1d5a7091ad7"
      },
      "source": [
        "import nltk\n",
        "nltk.download('stopwords')"
      ],
      "execution_count": 15,
      "outputs": [
        {
          "output_type": "stream",
          "text": [
            "[nltk_data] Downloading package stopwords to /root/nltk_data...\n",
            "[nltk_data]   Unzipping corpora/stopwords.zip.\n"
          ],
          "name": "stdout"
        },
        {
          "output_type": "execute_result",
          "data": {
            "text/plain": [
              "True"
            ]
          },
          "metadata": {
            "tags": []
          },
          "execution_count": 15
        }
      ]
    },
    {
      "cell_type": "code",
      "metadata": {
        "id": "je3WW3I8og9b",
        "colab_type": "code",
        "colab": {}
      },
      "source": [
        "!python -m nltk.downloader all"
      ],
      "execution_count": 0,
      "outputs": []
    },
    {
      "cell_type": "code",
      "metadata": {
        "id": "JO-NNof3o09r",
        "colab_type": "code",
        "colab": {
          "base_uri": "https://localhost:8080/",
          "height": 55
        },
        "outputId": "6d06d577-1338-4af0-dd1e-47788a66e138"
      },
      "source": [
        "from nltk.corpus import stopwords\n",
        "import string\n",
        "import spacy #load spacy\n",
        "nlp = spacy.load(\"en\", disable=['parser', 'tagger', 'ner'])\n",
        "stops = stopwords.words(\"english\")\n",
        "puncs = string.punctuation\n",
        "puncs.replace('.','/')\n",
        "\n",
        "def normalize(comment, lowercase = True, remove_stopwords = True):\n",
        "  if lowercase:\n",
        "      comment = comment.lower()\n",
        "  comment = nlp(comment)\n",
        "  lemmatized = list()\n",
        "  for word in comment:\n",
        "      lemma = word.lemma_.strip()\n",
        "      if lemma:\n",
        "          if not remove_stopwords or (remove_stopwords and lemma not in stops and not (\"\\\\\" in r\"%r\" % lemma)):\n",
        "              result = re.findall('[^A-Za-z0-9]+',lemma)\n",
        "              len(result)\n",
        "              lemmatized.append(lemma)\n",
        "  return \" \".join(lemmatized)\n",
        "normalize(data[\"claims\"])"
      ],
      "execution_count": 154,
      "outputs": [
        {
          "output_type": "execute_result",
          "data": {
            "text/plain": [
              "'\" 1 . system generate wort slurry mill grain water use brew process , system comprise : expansion chamber receive slurry ; pump operable draw slurry expansion chamber ; steam injection heater position downstream pump heat slurry create mash . expansion chamber receive slurry ; pump operable draw slurry expansion chamber ; steam injection heater position downstream pump heat slurry create mash . 2 . system claim 1 far comprise stratify storage vessel position receive mash steam injection heater , wherein stratify storage vessel prevent mixture within mash mash move stratify storage vessel . 3 . system claim 2 wherein stratify storage vessel stack coil pipe extend end 2 end . 4 . system claim 3 wherein pipe constant diameter end 2 end . 5 . system claim 3 wherein stack coil constant inner outer diameter end 2 end . 6 . system claim 2 far comprise filtration unit position receive mash stratify storage vessel , wherein filtration unit remove coarse particle mash create wort . 7 . system claim 6 far comprise boil kettle open interior size receive wort , wherein boil kettle include outlet couple 2 steam injection heater operable heat wort return wort open interior . 8 . system claim 7 far comprise spray head position within boil kettle operable direct spray liquid onto wort contain within open interior boil kettle . 9 . system claim 8 wherein spray liquid brew liquor . 10 . system claim 9 wherein volume brew liquor direct spray head measure . 11 . system claim 7 far comprise scrape surface sieve position receive wort boil kettle operable remove solid wort . 12 . system claim 7 far comprise : hold tank position receive heat wort boil kettle flow control valve position outlet boil kettle hold tank ; discharge pump operable direct wort hold tank . hold tank position receive heat wort boil kettle ; flow control valve position outlet boil kettle hold tank ; discharge pump operable direct wort hold tank . 13 . method create wort use brew process , method comprise step : mill supply grain fine particle ; mix mill supply grain water form slurry ; direct slurry steam injection heater heat slurry create mash . mill supply grain fine particle ; mix mill supply grain water form slurry ; direct slurry steam injection heater heat slurry create mash . 14 . method claim 13 far comprise step : receive mash end stratify storage vessel ; retain mash within stratify storage vessel . receive mash end stratify storage vessel ; retain mash within stratify storage vessel . 15 . method claim 14 far comprise step remove mash 2 end stratify storage vessel direct mash filtration unit remove coarse particle mash create liquid wort . 16 . method claim 14 far comprise step : receive wort within open interior boil kettle remove wort boil kettle heat wort 2 steam injection heater return heat wort open interior boil kettle ; direct wort open interior boil kettle use fermentation process brew . receive wort within open interior boil kettle ; remove wort boil kettle heat wort 2 steam injection heater ; return heat wort open interior boil kettle ; direct wort open interior boil kettle use fermentation process brew . 17 . method claim 14 wherein stratify storage vessel stack coil pipe extend end 2 end , wherein stack coil prevent mix mash within stack coil . 18 . method claim 16 far comprise step direct spray brew liquor onto wort within open interior boil kettle reduce foam . 19 . method claim 18 wherein spray brew liquor direct spray head position within open interior boil kettle . 20 . method claim 16 far comprise step direct wort boil kettle scrape surface sieve , wherein scrape surface sieve operate remove solid wort . 21 . system reduce foam boil kettle , comprise : spray head position near upper end boil kettle ; supply brew liquor connect spray head ; flow control valve operable allow supply brew liquor pass spray head ; little one flow sensor operable measure amount brew liquor direct boil kettle spray head . spray head position near upper end boil kettle ; supply brew liquor connect spray head ; flow control valve operable allow supply brew liquor pass spray head ; little one flow sensor operable measure amount brew liquor direct boil kettle spray head . 22 . system claim 21 wherein spray head include plurality nozzle . \"'"
            ]
          },
          "metadata": {
            "tags": []
          },
          "execution_count": 154
        }
      ]
    },
    {
      "cell_type": "code",
      "metadata": {
        "id": "Goy28R-fpJOF",
        "colab_type": "code",
        "colab": {
          "base_uri": "https://localhost:8080/",
          "height": 135
        },
        "outputId": "d80523fb-d4ce-41d6-9595-939ec8859c06"
      },
      "source": [
        "a= \"\\ufeff1\"\n",
        "\\\\u03b4\n",
        "str = \"a23b\\\\u00a0-\\\\u 00a0a23j \"\n",
        "\"c12c1/00\\\\u00a0-\\\\u00a0c12c12/04\n",
        "a.encode(\"utf-\")"
      ],
      "execution_count": 43,
      "outputs": [
        {
          "output_type": "error",
          "ename": "SyntaxError",
          "evalue": "ignored",
          "traceback": [
            "\u001b[0;36m  File \u001b[0;32m\"<ipython-input-43-101081d5b97b>\"\u001b[0;36m, line \u001b[0;32m2\u001b[0m\n\u001b[0;31m    \\\\u03b4\u001b[0m\n\u001b[0m           ^\u001b[0m\n\u001b[0;31mSyntaxError\u001b[0m\u001b[0;31m:\u001b[0m unexpected character after line continuation character\n"
          ]
        }
      ]
    },
    {
      "cell_type": "code",
      "metadata": {
        "id": "lni_S6LynIKn",
        "colab_type": "code",
        "colab": {
          "base_uri": "https://localhost:8080/",
          "height": 35
        },
        "outputId": "91b202fe-6a8f-4317-bf32-cd1006555e71"
      },
      "source": [
        "import re\n",
        "str1 = \"a23b\\u00a0 ' \\\\u00a0a23j\"\n",
        "str = \"Ilovedlockinglovers\"\n",
        "result = re.findall('[^A-Za-z0-9]+',str1)\n",
        "(result)"
      ],
      "execution_count": 151,
      "outputs": [
        {
          "output_type": "execute_result",
          "data": {
            "text/plain": [
              "[\"\\xa0 ' \\\\\"]"
            ]
          },
          "metadata": {
            "tags": []
          },
          "execution_count": 151
        }
      ]
    },
    {
      "cell_type": "code",
      "metadata": {
        "id": "7EH_7zOar8V0",
        "colab_type": "code",
        "colab": {
          "base_uri": "https://localhost:8080/",
          "height": 35
        },
        "outputId": "ec0ad7d2-eb8c-4ea3-a067-d329831bb2ea"
      },
      "source": [
        "\"\\\\\" in r\"%r\" % str1"
      ],
      "execution_count": 150,
      "outputs": [
        {
          "output_type": "execute_result",
          "data": {
            "text/plain": [
              "True"
            ]
          },
          "metadata": {
            "tags": []
          },
          "execution_count": 150
        }
      ]
    },
    {
      "cell_type": "code",
      "metadata": {
        "id": "3pCdH6qtvoPk",
        "colab_type": "code",
        "colab": {}
      },
      "source": [
        "s = r\"u\""
      ],
      "execution_count": 0,
      "outputs": []
    },
    {
      "cell_type": "code",
      "metadata": {
        "id": "zGDtkcvqmLD-",
        "colab_type": "code",
        "colab": {
          "base_uri": "https://localhost:8080/",
          "height": 35
        },
        "outputId": "9655a7cb-e299-4b0a-954f-a42111bc10de"
      },
      "source": [
        "s"
      ],
      "execution_count": 149,
      "outputs": [
        {
          "output_type": "execute_result",
          "data": {
            "text/plain": [
              "'u'"
            ]
          },
          "metadata": {
            "tags": []
          },
          "execution_count": 149
        }
      ]
    },
    {
      "cell_type": "code",
      "metadata": {
        "id": "AfhCOr0Ynja_",
        "colab_type": "code",
        "colab": {}
      },
      "source": [
        ""
      ],
      "execution_count": 0,
      "outputs": []
    }
  ]
}