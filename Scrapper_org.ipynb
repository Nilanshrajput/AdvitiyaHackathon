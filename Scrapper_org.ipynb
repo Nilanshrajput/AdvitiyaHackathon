{
 "cells": [
  {
   "cell_type": "code",
   "execution_count": 6,
   "metadata": {},
   "outputs": [],
   "source": [
    "import pandas as pd\n",
    "import re \n",
    "import matplotlib.pyplot as plt\n",
    "# ~ Import packages ~ #\n",
    "from google_patent_scrapper import scraper_class\n",
    "import json\n",
    "import os\n",
    "import numpy as np\n"
   ]
  },
  {
   "cell_type": "code",
   "execution_count": 2,
   "metadata": {},
   "outputs": [],
   "source": [
    "dataCsv = pd.read_csv(\"data.csv\", index_col=0)\n",
    "# ~ Initialize scraper class ~ #\n",
    "scraper=scraper_class()\n"
   ]
  },
  {
   "cell_type": "code",
   "execution_count": 10,
   "metadata": {},
   "outputs": [
    {
     "data": {
      "text/plain": [
       "(300, 8)"
      ]
     },
     "execution_count": 10,
     "metadata": {},
     "output_type": "execute_result"
    }
   ],
   "source": [
    "\"\"\"\n",
    "lucky_test_samples = np.random.randint(0, len(dataCsv), 20)\n",
    "reduced_df = dataCsv.drop(lucky_test_samples, axis=0)\n",
    "\"\"\""
   ]
  },
  {
   "cell_type": "code",
   "execution_count": 11,
   "metadata": {},
   "outputs": [],
   "source": [
    "\"\"\"reduced_df.to_csv(\"validation_split.csv\")\n",
    "reduced_df.to_csv(\"train_split.csv\")\"\"\""
   ]
  },
  {
   "cell_type": "code",
   "execution_count": 14,
   "metadata": {},
   "outputs": [
    {
     "data": {
      "text/html": [
       "<div>\n",
       "<style scoped>\n",
       "    .dataframe tbody tr th:only-of-type {\n",
       "        vertical-align: middle;\n",
       "    }\n",
       "\n",
       "    .dataframe tbody tr th {\n",
       "        vertical-align: top;\n",
       "    }\n",
       "\n",
       "    .dataframe thead th {\n",
       "        text-align: right;\n",
       "    }\n",
       "</style>\n",
       "<table border=\"1\" class=\"dataframe\">\n",
       "  <thead>\n",
       "    <tr style=\"text-align: right;\">\n",
       "      <th></th>\n",
       "      <th>Publication number</th>\n",
       "      <th>Category</th>\n",
       "      <th>Publication number.1</th>\n",
       "      <th>Category.1</th>\n",
       "      <th>Publication number.2</th>\n",
       "      <th>Category.2</th>\n",
       "      <th>Publication number.3</th>\n",
       "      <th>Category.3</th>\n",
       "    </tr>\n",
       "  </thead>\n",
       "  <tbody>\n",
       "    <tr>\n",
       "      <th>0</th>\n",
       "      <td>US9040302B2</td>\n",
       "      <td>Non-Alcohol</td>\n",
       "      <td>US9012694B2</td>\n",
       "      <td>Alcohol</td>\n",
       "      <td>US9277674B2</td>\n",
       "      <td>Non-Autonomous Vehicles</td>\n",
       "      <td>US9646356B1</td>\n",
       "      <td>Autonomous Vehicles</td>\n",
       "    </tr>\n",
       "    <tr>\n",
       "      <th>1</th>\n",
       "      <td>US9040109B2</td>\n",
       "      <td>Non-Alcohol</td>\n",
       "      <td>US9012188B2</td>\n",
       "      <td>Alcohol</td>\n",
       "      <td>US9277385B2</td>\n",
       "      <td>Non-Autonomous Vehicles</td>\n",
       "      <td>US9645576B2</td>\n",
       "      <td>Autonomous Vehicles</td>\n",
       "    </tr>\n",
       "    <tr>\n",
       "      <th>2</th>\n",
       "      <td>US9040107B2</td>\n",
       "      <td>Non-Alcohol</td>\n",
       "      <td>US9010952B2</td>\n",
       "      <td>Alcohol</td>\n",
       "      <td>US9277311B2</td>\n",
       "      <td>Non-Autonomous Vehicles</td>\n",
       "      <td>US9622452B2</td>\n",
       "      <td>Autonomous Vehicles</td>\n",
       "    </tr>\n",
       "    <tr>\n",
       "      <th>3</th>\n",
       "      <td>US9040036B2</td>\n",
       "      <td>Non-Alcohol</td>\n",
       "      <td>US8987530B2</td>\n",
       "      <td>Alcohol</td>\n",
       "      <td>US9277191B2</td>\n",
       "      <td>Non-Autonomous Vehicles</td>\n",
       "      <td>US9599482B2</td>\n",
       "      <td>Autonomous Vehicles</td>\n",
       "    </tr>\n",
       "    <tr>\n",
       "      <th>4</th>\n",
       "      <td>US9038991B2</td>\n",
       "      <td>Non-Alcohol</td>\n",
       "      <td>US8981165B2</td>\n",
       "      <td>Alcohol</td>\n",
       "      <td>US9276431B2</td>\n",
       "      <td>Non-Autonomous Vehicles</td>\n",
       "      <td>US9598078B2</td>\n",
       "      <td>Autonomous Vehicles</td>\n",
       "    </tr>\n",
       "  </tbody>\n",
       "</table>\n",
       "</div>"
      ],
      "text/plain": [
       "  Publication number     Category Publication number.1 Category.1  \\\n",
       "0        US9040302B2  Non-Alcohol          US9012694B2    Alcohol   \n",
       "1        US9040109B2  Non-Alcohol          US9012188B2    Alcohol   \n",
       "2        US9040107B2  Non-Alcohol          US9010952B2    Alcohol   \n",
       "3        US9040036B2  Non-Alcohol          US8987530B2    Alcohol   \n",
       "4        US9038991B2  Non-Alcohol          US8981165B2    Alcohol   \n",
       "\n",
       "  Publication number.2               Category.2 Publication number.3  \\\n",
       "0          US9277674B2  Non-Autonomous Vehicles          US9646356B1   \n",
       "1          US9277385B2  Non-Autonomous Vehicles          US9645576B2   \n",
       "2          US9277311B2  Non-Autonomous Vehicles          US9622452B2   \n",
       "3          US9277191B2  Non-Autonomous Vehicles          US9599482B2   \n",
       "4          US9276431B2  Non-Autonomous Vehicles          US9598078B2   \n",
       "\n",
       "            Category.3  \n",
       "0  Autonomous Vehicles  \n",
       "1  Autonomous Vehicles  \n",
       "2  Autonomous Vehicles  \n",
       "3  Autonomous Vehicles  \n",
       "4  Autonomous Vehicles  "
      ]
     },
     "execution_count": 14,
     "metadata": {},
     "output_type": "execute_result"
    }
   ],
   "source": [
    "val_csv = pd.read_csv(\"validation_split.csv\", index_col=0)\n",
    "val_csv.head()"
   ]
  },
  {
   "cell_type": "code",
   "execution_count": 3,
   "metadata": {},
   "outputs": [],
   "source": [
    "patent_1 = 'US9038991B2'\n",
    "patent_2 = 'US266827A'\n",
    "patent_2 = 'US266827A'\n",
    "err_1, soup_1, url_1 = scraper.request_single_patent(patent_1)\n",
    "patent_1_parsed = scraper.get_scraped_data(soup_1,patent_1,url_1)"
   ]
  },
  {
   "cell_type": "code",
   "execution_count": 6,
   "metadata": {},
   "outputs": [],
   "source": [
    "scrapped_data = scraper.scrap_single_patent(patent_1)\n",
    "#print(scrapped_data)\n",
    "with open(\"sample.json\", 'w') as file:\n",
    "    json.dump(scrapped_data, file)"
   ]
  },
  {
   "cell_type": "code",
   "execution_count": 7,
   "metadata": {
    "jupyter": {
     "source_hidden": true
    }
   },
   "outputs": [],
   "source": [
    "\n",
    "os.mkdir(\"/ScrappeData\")\n",
    "os.mkdir(\"/ScrappeData/non_alc\")\n",
    "os.mkdir(\"/ScrappeData/alc\")\n",
    "os.mkdir(\"/ScrappeData/non_auto\")\n",
    "os.mkdir(\"/ScrappeData/auto\")"
   ]
  },
  {
   "cell_type": "code",
   "execution_count": 14,
   "metadata": {},
   "outputs": [],
   "source": [
    "# Make a separate list for each category\n",
    "non_alc = list(dataCsv.iloc[:,0])\n",
    "alc = list(dataCsv.iloc[:,2])\n",
    "non_auto = list(dataCsv.iloc[:,4])\n",
    "auto = list(dataCsv.iloc[:,6])"
   ]
  },
  {
   "cell_type": "code",
   "execution_count": 12,
   "metadata": {},
   "outputs": [
    {
     "data": {
      "text/plain": [
       "300"
      ]
     },
     "execution_count": 12,
     "metadata": {},
     "output_type": "execute_result"
    }
   ],
   "source": [
    "path = \"/ScrappeData\"\n",
    "\n",
    "for cat_list in [non_alc, alc, non_auto, auto]:\n",
    "    for patent in cat_list:\n",
    "        scrappedJson = scraper.scrap_single_patent(patent)\n",
    "        filename = os.path.join(path,str(cat_list),str(patent)+\".json\")\n",
    "        with open(filename, 'w') as file:\n",
    "            json.dump(scrappedJson, file)"
   ]
  },
  {
   "cell_type": "code",
   "execution_count": 16,
   "metadata": {},
   "outputs": [
    {
     "ename": "AttributeError",
     "evalue": "'str' object has no attribute 'decode'",
     "output_type": "error",
     "traceback": [
      "\u001b[0;31m---------------------------------------------------------------------------\u001b[0m",
      "\u001b[0;31mAttributeError\u001b[0m                            Traceback (most recent call last)",
      "\u001b[0;32m<ipython-input-16-c7b6d7c779c7>\u001b[0m in \u001b[0;36m<module>\u001b[0;34m\u001b[0m\n\u001b[0;32m----> 1\u001b[0;31m \u001b[0;34mu'\\u4e00'\u001b[0m\u001b[0;34m.\u001b[0m\u001b[0mdecode\u001b[0m\u001b[0;34m(\u001b[0m\u001b[0;34m)\u001b[0m\u001b[0;34m\u001b[0m\u001b[0;34m\u001b[0m\u001b[0m\n\u001b[0m",
      "\u001b[0;31mAttributeError\u001b[0m: 'str' object has no attribute 'decode'"
     ]
    }
   ],
   "source": [
    "u'\\u4e00'.decode()"
   ]
  },
  {
   "cell_type": "code",
   "execution_count": 5,
   "metadata": {},
   "outputs": [
    {
     "data": {
      "text/plain": [
       "{'title': '\" - Modular electronic carbonator fluid level control mechanism          - \"',\n",
       " 'abstract': '\" A carbonator tank assembly is disclosed for use in a beverage machine wherein the beverage dispensed therefrom is a carbonated beverage. The carbonator tank includes walls defining a carbonator tank interior. A probe assembly is provided for coupling in a gaseous and fluid-type manner to the walls of the carbonator tank. The probe assembly has no floats but includes elongated probes having removed ends configured to extend into the interior of the carbonator tank and near ends exposed exteriorly. An electronics module is adapt to fluidly enclose an electronics assembly therein. The electronics module includes walls adapted to receive an electrical cable carrying electrical energy from a remote source.\"',\n",
       " 'claims': '\" 1. A carbonator tank assembly comprising: a carbonator tank including walls defining a carbonator tank interior and a mounting plate a probe assembly configured for removable gaseous and fluid-tight coupling using elastomeric members, to the mounting plate of the carbonator tank, the probe assembly without float elements, but including a multiplicity of elongated probes, each having a near end and a removed end, each probe having a different length, and a base, the multiplicity of probes fixedly and fluid sealingly engaging the base such that most of the probes length extends into the interior of the carbonator tank to different points when the probe assembly is engaged with the carbonator tank an electronics module adapted to receive electricity from a remote source through an electrical cable, the electronics module having an interior, the electrical cable engaging the walls of the electronics module in fluid sealing relation an electronics assembly configured to fit within the interior of the electronics module for receiving electrical energy from the cable and generating signals responsive to an immersed/exposed condition of the removed ends of the probes multiple electrodes for engaging the walls of the electronics module in fluid sealing relation and for engaging the electronics assembly, the multiple electrodes having removed ends adapted to form electrical engagement with the multiple near ends of the probes when the electronics module engages the probe assembly wherein the electronics module and probe assembly include coupling members to electronically and removably couple and uncouple the probe assembly to the electronics module, without affecting the gaseous and fluid tight coupling of the probe assembly with the tank.   a carbonator tank including walls defining a carbonator tank interior and a mounting plate; a probe assembly configured for removable gaseous and fluid-tight coupling using elastomeric members, to the mounting plate of the carbonator tank, the probe assembly without float elements, but including a multiplicity of elongated probes, each having a near end and a removed end, each probe having a different length, and a base, the multiplicity of probes fixedly and fluid sealingly engaging the base such that most of the probes length extends into the interior of the carbonator tank to different points when the probe assembly is engaged with the carbonator tank; an electronics module adapted to receive electricity from a remote source through an electrical cable, the electronics module having an interior, the electrical cable engaging the walls of the electronics module in fluid sealing relation; an electronics assembly configured to fit within the interior of the electronics module for receiving electrical energy from the cable and generating signals responsive to an immersed/exposed condition of the removed ends of the probes; multiple electrodes for engaging the walls of the electronics module in fluid sealing relation and for engaging the electronics assembly, the multiple electrodes having removed ends adapted to form electrical engagement with the multiple near ends of the probes when the electronics module engages the probe assembly wherein the electronics module and probe assembly include coupling members to electronically and removably couple and uncouple the probe assembly to the electronics module, without affecting the gaseous and fluid tight coupling of the probe assembly with the tank.  wherein the electronics module and probe assembly include coupling members to electronically and removably couple and uncouple the probe assembly to the electronics module, without affecting the gaseous and fluid tight coupling of the probe assembly with the tank. 2. The invention of claim 1, wherein the coupling members of the probe assembly and the electronics module include walls adapted to receive fasteners for removably fastening the probe assembly to the electronics module while leaving the probe assembly in removable, gaseous and fluid tight couple with the carbonator tank. 3. The invention of claim 1 wherein the electronics module includes a housing and a base, the housing removably coupled to the base in fluid sealing relation with fasteners. 4. The invention of claim 3 wherein the coupling members of the probe assembly and the electronics module include plug and socket members, which plug and socket members locate the removed ends of the electrodes. 5. The invention of claim 4 wherein the plug and socket members include an O-ring for fluidly sealing the plug to the socket. 6. The invention of claim 3 wherein the base and housing of the electronics module include walls to removably attach the base to the housing with fasteners and walls to removably attach the electronics module to the base of the probe assembly. 7. The invention of claim 3 wherein the base and housing of the electronics module are configured to receive sealing members to fluidly seal the surfaces therebetween and to fluidly seal the electronical cable where it enters joins the electronics module. 8. The invention of claim 1 wherein the probe assembly and the electronics module include walls adapted to align the two in a specific one-way alignment when they are engaged to one another. 9. The invention of claim 1 wherein the electronics assembly is configured to reduce voltage supplied thereto from the remote source, the reduced voltage for energizing the probes. 10. The invention of claim 9 wherein the remote source provides A/C to the electronics assembly. 11. The invention of claim 1 wherein the probe assembly includes a base, each with fastener walls configured to releasably engage one to the other with fasteners. 12. The invention of claim 11 wherein the mounting plate and base include walls configured to align one with the other in a specific one-way only position when they are engaged one to the other. 13. A carbonator tank assembly comprising: a carbonator tank including walls defining a carbonator tank interior and a mounting plate a probe assembly configured for removable, gaseous and fluid-tight coupling using elastomeric members to the mounting plate of the carbonator tank, the probe assembly without float elements, but including a multiplicity of elongated probes, each having a near end and a removed end, each having a different length, and a base, the multiplicity of probes fixedly and fluid sealingly engaging the base such that most of the probes length extends into the interior of the carbonator tank to different points when the probe assembly is engaged with the carbonator tank and the near ends project through the base an electronics module adapted to receive electricity from a remote source through an electrical cable, the electronics module having an interior, the electrical cable engaging the walls in fluid sealing relation an electronics assembly configured to fit within the interior of the electronics module for receiving electrical energy from the cable and generating signals responsive to an immersed/exposed condition of the removed ends of the probes multiple electrodes for engaging the walls of the electronics module in fluid sealing relation and for engaging the electronics assembly, the multiple electrodes having removed ends adapted to form electrical engagement with the multiple near ends of the probes when the electronics module engages the probe assembly wherein the electronics module and probe assembly include coupling members to electronically and removably couple the probe assembly to the electronics module, without affecting the gaseous and fluid tight coupling of the probe assembly with the tank wherein the coupling members of the probe assembly and the electronics module include walls adapted to receive fasteners for removably fastening the probe assembly to the electronics module while leaving the probe assembly in removable, gaseous and fluid tight couple with the carbonator tank wherein the electronics module includes a housing and a base, the housing removably coupled to the base in fluid sealing relation with fasteners wherein the base and housing of the electronics module include walls to removably attach the base to the housing with fasteners and walls to removably attach the electronics module to the base of the probe assembly; and wherein the base and housing of the electronics module are configured to receive sealing members to fluidly seal the surfaces therebetween and to fluidly seal the electronical cable where it enters the electronics module.   a carbonator tank including walls defining a carbonator tank interior and a mounting plate; a probe assembly configured for removable, gaseous and fluid-tight coupling using elastomeric members to the mounting plate of the carbonator tank, the probe assembly without float elements, but including a multiplicity of elongated probes, each having a near end and a removed end, each having a different length, and a base, the multiplicity of probes fixedly and fluid sealingly engaging the base such that most of the probes length extends into the interior of the carbonator tank to different points when the probe assembly is engaged with the carbonator tank and the near ends project through the base; an electronics module adapted to receive electricity from a remote source through an electrical cable, the electronics module having an interior, the electrical cable engaging the walls in fluid sealing relation; an electronics assembly configured to fit within the interior of the electronics module for receiving electrical energy from the cable and generating signals responsive to an immersed/exposed condition of the removed ends of the probes; multiple electrodes for engaging the walls of the electronics module in fluid sealing relation and for engaging the electronics assembly, the multiple electrodes having removed ends adapted to form electrical engagement with the multiple near ends of the probes when the electronics module engages the probe assembly wherein the electronics module and probe assembly include coupling members to electronically and removably couple the probe assembly to the electronics module, without affecting the gaseous and fluid tight coupling of the probe assembly with the tank wherein the coupling members of the probe assembly and the electronics module include walls adapted to receive fasteners for removably fastening the probe assembly to the electronics module while leaving the probe assembly in removable, gaseous and fluid tight couple with the carbonator tank wherein the electronics module includes a housing and a base, the housing removably coupled to the base in fluid sealing relation with fasteners wherein the base and housing of the electronics module include walls to removably attach the base to the housing with fasteners and walls to removably attach the electronics module to the base of the probe assembly; and wherein the base and housing of the electronics module are configured to receive sealing members to fluidly seal the surfaces therebetween and to fluidly seal the electronical cable where it enters the electronics module.  wherein the electronics module and probe assembly include coupling members to electronically and removably couple the probe assembly to the electronics module, without affecting the gaseous and fluid tight coupling of the probe assembly with the tank; wherein the coupling members of the probe assembly and the electronics module include walls adapted to receive fasteners for removably fastening the probe assembly to the electronics module while leaving the probe assembly in removable, gaseous and fluid tight couple with the carbonator tank; wherein the electronics module includes a housing and a base, the housing removably coupled to the base in fluid sealing relation with fasteners; wherein the base and housing of the electronics module include walls to removably attach the base to the housing with fasteners and walls to removably attach the electronics module to the base of the probe assembly; and wherein the base and housing of the electronics module are configured to receive sealing members to fluidly seal the surfaces therebetween and to fluidly seal the electronical cable where it enters the electronics module. 14. A beverage dispensing apparatus comprising: a water source a pump engaging the water source a source of high pressure CO2 gas a dispensing head a source of beverage concentrate a carbonator tank assembly comprising: a carbonator tank including walls defining a carbonator tank interior and a mounting plate a probe assembly configured for removable, gaseous and fluid-tight coupling using elastomeric members to the mounting plate of the carbonator tank, the probe assembly without float elements, but including a multiplicity of elongated probes, each having a near end and a removed end, each having a different length, and a base, the multiplicity of probes fixedly and fluid sealingly engaging the base such that most of the probes length extends into the interior of the carbonator tank to different points when the probe assembly is engaged with the carbonator tank and the near ends project through the base an electronics module adapted to receive electricity from a remote source through an electrical cable, the electronics module having an interior, the electrical cable engaging the walls in fluid sealing relation an electronics assembly configured to fit within the interior of the electronics module for receiving electrical energy from the cable and generating signals responsive to an immersed/exposed condition of the removed ends of the probes multiple electrodes for engaging the walls of the electronics module in fluid sealing relation and for engaging the electronics assembly, the multiple electrodes having removed ends adapted to form electrical engagement with the multiple near ends of the probes when the electronics module engages the probe assembly wherein the electronics module and probe assembly include coupling members to electronically and removably couple the probe assembly to the electronics module, without affecting the gaseous and fluid tight coupling of the probe assembly with the tank  wherein the pump provides water to the carbonator tank responsive to signals from the electronics assembly; and wherein the source of high pressure CO2 gas maintain pressure in the carbonator tank and wherein an outline from the carbonator tank to the dispensing head and lines from the beverage concentrate allows a carbonate of beverage to be dispensed therefrom.  a water source; a pump engaging the water source; a source of high pressure CO2 gas; a dispensing head; a source of beverage concentrate; a carbonator tank assembly comprising: a carbonator tank including walls defining a carbonator tank interior and a mounting plate; a probe assembly configured for removable, gaseous and fluid-tight coupling using elastomeric members to the mounting plate of the carbonator tank, the probe assembly without float elements, but including a multiplicity of elongated probes, each having a near end and a removed end, each having a different length, and a base, the multiplicity of probes fixedly and fluid sealingly engaging the base such that most of the probes length extends into the interior of the carbonator tank to different points when the probe assembly is engaged with the carbonator tank and the near ends project through the base; an electronics module adapted to receive electricity from a remote source through an electrical cable, the electronics module having an interior, the electrical cable engaging the walls in fluid sealing relation; an electronics assembly configured to fit within the interior of the electronics module for receiving electrical energy from the cable and generating signals responsive to an immersed/exposed condition of the removed ends of the probes; multiple electrodes for engaging the walls of the electronics module in fluid sealing relation and for engaging the electronics assembly, the multiple electrodes having removed ends adapted to form electrical engagement with the multiple near ends of the probes when the electronics module engages the probe assembly wherein the electronics module and probe assembly include coupling members to electronically and removably couple the probe assembly to the electronics module, without affecting the gaseous and fluid tight coupling of the probe assembly with the tank  wherein the electronics module and probe assembly include coupling members to electronically and removably couple the probe assembly to the electronics module, without affecting the gaseous and fluid tight coupling of the probe assembly with the tank; wherein the pump provides water to the carbonator tank responsive to signals from the electronics assembly; and wherein the source of high pressure CO2 gas maintain pressure in the carbonator tank and wherein an outline from the carbonator tank to the dispensing head and lines from the beverage concentrate allows a carbonate of beverage to be dispensed therefrom. 15. The carbonator tank assembly of claim 2, wherein the electronics assembly provides low voltage DC to at least one of the probes. 16. The beverage dispensing apparatus of claim 14, wherein the electronics assembly provides low voltage DC to at least some of the probes. 17. The beverage dispensing apparatus of claim 14, wherein the coupling members of the probe assembly and the electronics module include walls adapted to receive fasteners for removably fastening the probe assembly to the electronics module while leaving the probe assembly in removable, gaseous and fluid tight couple with the carbonator tank. 18. The beverage dispensing apparatus of claim 14, wherein the probe assembly and the electronics module include walls adapted to align the two in a specific one-way alignment when they are engaged to one another. \"',\n",
       " 'classification': '\" PERFORMING OPERATIONS; TRANSPORTING PHYSICAL OR CHEMICAL PROCESSES OR APPARATUS IN GENERAL MIXING, e.g. DISSOLVING, EMULSIFYING, DISPERSING Mixing, e.g. dispersing, emulsifying, according to the phases to be mixed Mixing, e.g. dispersing, emulsifying, according to the phases to be mixed gases or vapours with liquids Introducing a gas or vapour into a liquid medium, e.g. producing aerated liquids Apparatus for aerating or carbonating beverages Apparatus for aerating or carbonating beverages for aerating or carbonating within receptables or tanks, e.g. distribution machines PERFORMING OPERATIONS; TRANSPORTING PHYSICAL OR CHEMICAL PROCESSES OR APPARATUS IN GENERAL MIXING, e.g. DISSOLVING, EMULSIFYING, DISPERSING Accessories for mixers ; Auxiliary operations or auxiliary devices; Parts or details of general application Controlling; Testing; Measuring Measuring operational parameters Measuring the level of material in a container or the position or shape of the upper surface of the material PERFORMING OPERATIONS; TRANSPORTING OPENING, CLOSING OR CLEANING BOTTLES, JARS OR SIMILAR CONTAINERS; LIQUID HANDLING DISPENSING, DELIVERING OR TRANSFERRING LIQUIDS, NOT OTHERWISE PROVIDED FOR Apparatus or devices for dispensing beverages on draught Details of specific parts of the dispensers Carbonators PERFORMING OPERATIONS; TRANSPORTING OPENING, CLOSING OR CLEANING BOTTLES, JARS OR SIMILAR CONTAINERS; LIQUID HANDLING DISPENSING, DELIVERING OR TRANSFERRING LIQUIDS, NOT OTHERWISE PROVIDED FOR Apparatus or devices for dispensing beverages on draught Details Level gauges for beverage storage containers PHYSICS MEASURING; TESTING MEASURING VOLUME, VOLUME FLOW, MASS FLOW OR LIQUID LEVEL; METERING BY VOLUME Indicating or measuring liquid level, or level of fluent solid material, e.g. indicating in terms of volume, indicating by means of an alarm Indicating or measuring liquid level, or level of fluent solid material, e.g. indicating in terms of volume, indicating by means of an alarm by measurement of physical variables, other than linear dimensions, pressure or weight, dependent on the level to be measured, e.g. by difference of heat transfer of steam or water Indicating or measuring liquid level, or level of fluent solid material, e.g. indicating in terms of volume, indicating by means of an alarm by measurement of physical variables, other than linear dimensions, pressure or weight, dependent on the level to be measured, e.g. by difference of heat transfer of steam or water by measuring variations of resistance of resistors due to contact with conductor fluid Indicating or measuring liquid level, or level of fluent solid material, e.g. indicating in terms of volume, indicating by means of an alarm by measurement of physical variables, other than linear dimensions, pressure or weight, dependent on the level to be measured, e.g. by difference of heat transfer of steam or water by measuring variations of resistance of resistors due to contact with conductor fluid for discrete levels Mounting arrangements for electrodes PHYSICS CONTROLLING; REGULATING SYSTEMS FOR CONTROLLING OR REGULATING NON-ELECTRIC VARIABLES Level control, e.g. controlling quantity of material stored in vessel Level control, e.g. controlling quantity of material stored in vessel characterised by the use of electric means PERFORMING OPERATIONS; TRANSPORTING PHYSICAL OR CHEMICAL PROCESSES OR APPARATUS IN GENERAL MIXING, e.g. DISSOLVING, EMULSIFYING, DISPERSING Auxiliary or complementary information in relation with mixing Field of application of the mixing device Mixing beverage ingredients for non-alcoholic beverages; Dissolving sugar in water PERFORMING OPERATIONS; TRANSPORTING OPENING, CLOSING OR CLEANING BOTTLES, JARS OR SIMILAR CONTAINERS; LIQUID HANDLING DISPENSING, DELIVERING OR TRANSFERRING LIQUIDS, NOT OTHERWISE PROVIDED FOR Indexing scheme relating to aspects and details of apparatus or devices for dispensing beverages on draught or for controlling flow of liquids under gravity from storage containers for dispensing purposes Component storage means Fixed containers to be filled in situ Automatically Level detected electrically by contact with sensors\"',\n",
       " 'url': 'https://patents.google.com/patent/US9038991B2/en?',\n",
       " 'patent': 'US9038991B2'}"
      ]
     },
     "execution_count": 5,
     "metadata": {},
     "output_type": "execute_result"
    }
   ],
   "source": [
    "patent_1_parsed"
   ]
  },
  {
   "cell_type": "code",
   "execution_count": 5,
   "metadata": {},
   "outputs": [
    {
     "name": "stdout",
     "output_type": "stream",
     "text": [
      "[]\n"
     ]
    }
   ],
   "source": [
    "print(([{'inventor_name':x.get_text()} for x in soup_1.select(\".title\",limit = 30)]))"
   ]
  },
  {
   "cell_type": "code",
   "execution_count": 7,
   "metadata": {},
   "outputs": [
    {
     "ename": "AttributeError",
     "evalue": "'NavigableString' object has no attribute 'get_text'",
     "output_type": "error",
     "traceback": [
      "\u001b[0;31m---------------------------------------------------------------------------\u001b[0m",
      "\u001b[0;31mAttributeError\u001b[0m                            Traceback (most recent call last)",
      "\u001b[0;32m<ipython-input-7-bc9fea6a8658>\u001b[0m in \u001b[0;36m<module>\u001b[0;34m\u001b[0m\n\u001b[0;32m----> 1\u001b[0;31m \u001b[0mprint\u001b[0m\u001b[0;34m(\u001b[0m\u001b[0;34m[\u001b[0m\u001b[0;34m{\u001b[0m\u001b[0;34m'inventor_name'\u001b[0m\u001b[0;34m:\u001b[0m\u001b[0mx\u001b[0m\u001b[0;34m.\u001b[0m\u001b[0mget_text\u001b[0m\u001b[0;34m(\u001b[0m\u001b[0;34m)\u001b[0m\u001b[0;34m}\u001b[0m \u001b[0;32mfor\u001b[0m \u001b[0mx\u001b[0m \u001b[0;32min\u001b[0m \u001b[0msoup_1\u001b[0m\u001b[0;34m.\u001b[0m\u001b[0mfind\u001b[0m\u001b[0;34m(\u001b[0m\u001b[0;34m'title'\u001b[0m\u001b[0;34m)\u001b[0m\u001b[0;34m]\u001b[0m\u001b[0;34m)\u001b[0m\u001b[0;34m\u001b[0m\u001b[0;34m\u001b[0m\u001b[0m\n\u001b[0m",
      "\u001b[0;32m<ipython-input-7-bc9fea6a8658>\u001b[0m in \u001b[0;36m<listcomp>\u001b[0;34m(.0)\u001b[0m\n\u001b[0;32m----> 1\u001b[0;31m \u001b[0mprint\u001b[0m\u001b[0;34m(\u001b[0m\u001b[0;34m[\u001b[0m\u001b[0;34m{\u001b[0m\u001b[0;34m'inventor_name'\u001b[0m\u001b[0;34m:\u001b[0m\u001b[0mx\u001b[0m\u001b[0;34m.\u001b[0m\u001b[0mget_text\u001b[0m\u001b[0;34m(\u001b[0m\u001b[0;34m)\u001b[0m\u001b[0;34m}\u001b[0m \u001b[0;32mfor\u001b[0m \u001b[0mx\u001b[0m \u001b[0;32min\u001b[0m \u001b[0msoup_1\u001b[0m\u001b[0;34m.\u001b[0m\u001b[0mfind\u001b[0m\u001b[0;34m(\u001b[0m\u001b[0;34m'title'\u001b[0m\u001b[0;34m)\u001b[0m\u001b[0;34m]\u001b[0m\u001b[0;34m)\u001b[0m\u001b[0;34m\u001b[0m\u001b[0;34m\u001b[0m\u001b[0m\n\u001b[0m",
      "\u001b[0;32m~/anaconda3/envs/tensorflow/lib/python3.6/site-packages/bs4/element.py\u001b[0m in \u001b[0;36m__getattr__\u001b[0;34m(self, attr)\u001b[0m\n\u001b[1;32m    869\u001b[0m             raise AttributeError(\n\u001b[1;32m    870\u001b[0m                 \"'%s' object has no attribute '%s'\" % (\n\u001b[0;32m--> 871\u001b[0;31m                     self.__class__.__name__, attr))\n\u001b[0m\u001b[1;32m    872\u001b[0m \u001b[0;34m\u001b[0m\u001b[0m\n\u001b[1;32m    873\u001b[0m     \u001b[0;32mdef\u001b[0m \u001b[0moutput_ready\u001b[0m\u001b[0;34m(\u001b[0m\u001b[0mself\u001b[0m\u001b[0;34m,\u001b[0m \u001b[0mformatter\u001b[0m\u001b[0;34m=\u001b[0m\u001b[0;34m\"minimal\"\u001b[0m\u001b[0;34m)\u001b[0m\u001b[0;34m:\u001b[0m\u001b[0;34m\u001b[0m\u001b[0;34m\u001b[0m\u001b[0m\n",
      "\u001b[0;31mAttributeError\u001b[0m: 'NavigableString' object has no attribute 'get_text'"
     ]
    }
   ],
   "source": [
    "print([{'inventor_name':x.get_text()} for x in soup_1.find('title')])"
   ]
  },
  {
   "cell_type": "code",
   "execution_count": 9,
   "metadata": {},
   "outputs": [
    {
     "data": {
      "text/plain": [
       "'1. A carbonator tank assembly comprising:\\na carbonator tank including walls defining a carbonator tank interior and a mounting plate;\\na probe assembly configured for removable gaseous and fluid-tight coupling using elastomeric members, to the mounting plate of the carbonator tank, the probe assembly without float elements, but including a multiplicity of elongated probes, each having a near end and a removed end, each probe having a different length, and a base, the multiplicity of probes fixedly and fluid sealingly engaging the base such that most of the probes length extends into the interior of the carbonator tank to different points when the probe assembly is engaged with the carbonator tank;\\nan electronics module adapted to receive electricity from a remote source through an electrical cable, the electronics module having an interior, the electrical cable engaging the walls of the electronics module in fluid sealing relation;\\nan electronics assembly configured to fit within the interior of the electronics module for receiving electrical energy from the cable and generating signals responsive to an immersed/exposed condition of the removed ends of the probes;\\nmultiple electrodes for engaging the walls of the electronics module in fluid sealing relation and for engaging the electronics assembly, the multiple electrodes having removed ends adapted to form electrical engagement with the multiple near ends of the probes when the electronics module engages the probe assembly;\\nwherein the electronics module and probe assembly include coupling members to electronically and removably couple and uncouple the probe assembly to the electronics module, without affecting the gaseous and fluid tight coupling of the probe assembly with the tank.\\n\\na carbonator tank including walls defining a carbonator tank interior and a mounting plate;a probe assembly configured for removable gaseous and fluid-tight coupling using elastomeric members, to the mounting plate of the carbonator tank, the probe assembly without float elements, but including a multiplicity of elongated probes, each having a near end and a removed end, each probe having a different length, and a base, the multiplicity of probes fixedly and fluid sealingly engaging the base such that most of the probes length extends into the interior of the carbonator tank to different points when the probe assembly is engaged with the carbonator tank;an electronics module adapted to receive electricity from a remote source through an electrical cable, the electronics module having an interior, the electrical cable engaging the walls of the electronics module in fluid sealing relation;an electronics assembly configured to fit within the interior of the electronics module for receiving electrical energy from the cable and generating signals responsive to an immersed/exposed condition of the removed ends of the probes;multiple electrodes for engaging the walls of the electronics module in fluid sealing relation and for engaging the electronics assembly, the multiple electrodes having removed ends adapted to form electrical engagement with the multiple near ends of the probes when the electronics module engages the probe assembly;\\nwherein the electronics module and probe assembly include coupling members to electronically and removably couple and uncouple the probe assembly to the electronics module, without affecting the gaseous and fluid tight coupling of the probe assembly with the tank.\\nwherein the electronics module and probe assembly include coupling members to electronically and removably couple and uncouple the probe assembly to the electronics module, without affecting the gaseous and fluid tight coupling of the probe assembly with the tank.2. The invention of claim 1, wherein the coupling members of the probe assembly and the electronics module include walls adapted to receive fasteners for removably fastening the probe assembly to the electronics module while leaving the probe assembly in removable, gaseous and fluid tight couple with the carbonator tank.3. The invention of claim 1 wherein the electronics module includes a housing and a base, the housing removably coupled to the base in fluid sealing relation with fasteners.4. The invention of claim 3 wherein the coupling members of the probe assembly and the electronics module include plug and socket members, which plug and socket members locate the removed ends of the electrodes.5. The invention of claim 4 wherein the plug and socket members include an O-ring for fluidly sealing the plug to the socket.6. The invention of claim 3 wherein the base and housing of the electronics module include walls to removably attach the base to the housing with fasteners and walls to removably attach the electronics module to the base of the probe assembly.7. The invention of claim 3 wherein the base and housing of the electronics module are configured to receive sealing members to fluidly seal the surfaces therebetween and to fluidly seal the electronical cable where it enters joins the electronics module.8. The invention of claim 1 wherein the probe assembly and the electronics module include walls adapted to align the two in a specific one-way alignment when they are engaged to one another.9. The invention of claim 1 wherein the electronics assembly is configured to reduce voltage supplied thereto from the remote source, the reduced voltage for energizing the probes.10. The invention of claim 9 wherein the remote source provides A/C to the electronics assembly.11. The invention of claim 1 wherein the probe assembly includes a base, each with fastener walls configured to releasably engage one to the other with fasteners.12. The invention of claim 11 wherein the mounting plate and base include walls configured to align one with the other in a specific one-way only position when they are engaged one to the other.13. A carbonator tank assembly comprising:\\na carbonator tank including walls defining a carbonator tank interior and a mounting plate;\\na probe assembly configured for removable, gaseous and fluid-tight coupling using elastomeric members to the mounting plate of the carbonator tank, the probe assembly without float elements, but including a multiplicity of elongated probes, each having a near end and a removed end, each having a different length, and a base, the multiplicity of probes fixedly and fluid sealingly engaging the base such that most of the probes length extends into the interior of the carbonator tank to different points when the probe assembly is engaged with the carbonator tank and the near ends project through the base;\\nan electronics module adapted to receive electricity from a remote source through an electrical cable, the electronics module having an interior, the electrical cable engaging the walls in fluid sealing relation;\\nan electronics assembly configured to fit within the interior of the electronics module for receiving electrical energy from the cable and generating signals responsive to an immersed/exposed condition of the removed ends of the probes;\\nmultiple electrodes for engaging the walls of the electronics module in fluid sealing relation and for engaging the electronics assembly, the multiple electrodes having removed ends adapted to form electrical engagement with the multiple near ends of the probes when the electronics module engages the probe assembly;\\nwherein the electronics module and probe assembly include coupling members to electronically and removably couple the probe assembly to the electronics module, without affecting the gaseous and fluid tight coupling of the probe assembly with the tank;\\nwherein the coupling members of the probe assembly and the electronics module include walls adapted to receive fasteners for removably fastening the probe assembly to the electronics module while leaving the probe assembly in removable, gaseous and fluid tight couple with the carbonator tank;\\nwherein the electronics module includes a housing and a base, the housing removably coupled to the base in fluid sealing relation with fasteners;\\nwherein the base and housing of the electronics module include walls to removably attach the base to the housing with fasteners and walls to removably attach the electronics module to the base of the probe assembly; and\\nwherein the base and housing of the electronics module are configured to receive sealing members to fluidly seal the surfaces therebetween and to fluidly seal the electronical cable where it enters the electronics module.\\n\\na carbonator tank including walls defining a carbonator tank interior and a mounting plate;a probe assembly configured for removable, gaseous and fluid-tight coupling using elastomeric members to the mounting plate of the carbonator tank, the probe assembly without float elements, but including a multiplicity of elongated probes, each having a near end and a removed end, each having a different length, and a base, the multiplicity of probes fixedly and fluid sealingly engaging the base such that most of the probes length extends into the interior of the carbonator tank to different points when the probe assembly is engaged with the carbonator tank and the near ends project through the base;an electronics module adapted to receive electricity from a remote source through an electrical cable, the electronics module having an interior, the electrical cable engaging the walls in fluid sealing relation;an electronics assembly configured to fit within the interior of the electronics module for receiving electrical energy from the cable and generating signals responsive to an immersed/exposed condition of the removed ends of the probes;multiple electrodes for engaging the walls of the electronics module in fluid sealing relation and for engaging the electronics assembly, the multiple electrodes having removed ends adapted to form electrical engagement with the multiple near ends of the probes when the electronics module engages the probe assembly;\\nwherein the electronics module and probe assembly include coupling members to electronically and removably couple the probe assembly to the electronics module, without affecting the gaseous and fluid tight coupling of the probe assembly with the tank;\\nwherein the coupling members of the probe assembly and the electronics module include walls adapted to receive fasteners for removably fastening the probe assembly to the electronics module while leaving the probe assembly in removable, gaseous and fluid tight couple with the carbonator tank;\\nwherein the electronics module includes a housing and a base, the housing removably coupled to the base in fluid sealing relation with fasteners;\\nwherein the base and housing of the electronics module include walls to removably attach the base to the housing with fasteners and walls to removably attach the electronics module to the base of the probe assembly; and\\nwherein the base and housing of the electronics module are configured to receive sealing members to fluidly seal the surfaces therebetween and to fluidly seal the electronical cable where it enters the electronics module.\\nwherein the electronics module and probe assembly include coupling members to electronically and removably couple the probe assembly to the electronics module, without affecting the gaseous and fluid tight coupling of the probe assembly with the tank;wherein the coupling members of the probe assembly and the electronics module include walls adapted to receive fasteners for removably fastening the probe assembly to the electronics module while leaving the probe assembly in removable, gaseous and fluid tight couple with the carbonator tank;wherein the electronics module includes a housing and a base, the housing removably coupled to the base in fluid sealing relation with fasteners;wherein the base and housing of the electronics module include walls to removably attach the base to the housing with fasteners and walls to removably attach the electronics module to the base of the probe assembly; andwherein the base and housing of the electronics module are configured to receive sealing members to fluidly seal the surfaces therebetween and to fluidly seal the electronical cable where it enters the electronics module.14. A beverage dispensing apparatus comprising:\\na water source;\\na pump engaging the water source;\\na source of high pressure CO2 gas;\\na dispensing head;\\na source of beverage concentrate;\\na carbonator tank assembly comprising:\\na carbonator tank including walls defining a carbonator tank interior and a mounting plate;\\na probe assembly configured for removable, gaseous and fluid-tight coupling using elastomeric members to the mounting plate of the carbonator tank, the probe assembly without float elements, but including a multiplicity of elongated probes, each having a near end and a removed end, each having a different length, and a base, the multiplicity of probes fixedly and fluid sealingly engaging the base such that most of the probes length extends into the interior of the carbonator tank to different points when the probe assembly is engaged with the carbonator tank and the near ends project through the base;\\nan electronics module adapted to receive electricity from a remote source through an electrical cable, the electronics module having an interior, the electrical cable engaging the walls in fluid sealing relation;\\nan electronics assembly configured to fit within the interior of the electronics module for receiving electrical energy from the cable and generating signals responsive to an immersed/exposed condition of the removed ends of the probes;\\nmultiple electrodes for engaging the walls of the electronics module in fluid sealing relation and for engaging the electronics assembly, the multiple electrodes having removed ends adapted to form electrical engagement with the multiple near ends of the probes when the electronics module engages the probe assembly;\\nwherein the electronics module and probe assembly include coupling members to electronically and removably couple the probe assembly to the electronics module, without affecting the gaseous and fluid tight coupling of the probe assembly with the tank;\\n\\nwherein the pump provides water to the carbonator tank responsive to signals from the electronics assembly; and\\nwherein the source of high pressure CO2 gas maintain pressure in the carbonator tank and wherein an outline from the carbonator tank to the dispensing head and lines from the beverage concentrate allows a carbonate of beverage to be dispensed therefrom.\\na water source;a pump engaging the water source;a source of high pressure CO2 gas;a dispensing head;a source of beverage concentrate;a carbonator tank assembly comprising:a carbonator tank including walls defining a carbonator tank interior and a mounting plate;a probe assembly configured for removable, gaseous and fluid-tight coupling using elastomeric members to the mounting plate of the carbonator tank, the probe assembly without float elements, but including a multiplicity of elongated probes, each having a near end and a removed end, each having a different length, and a base, the multiplicity of probes fixedly and fluid sealingly engaging the base such that most of the probes length extends into the interior of the carbonator tank to different points when the probe assembly is engaged with the carbonator tank and the near ends project through the base;an electronics module adapted to receive electricity from a remote source through an electrical cable, the electronics module having an interior, the electrical cable engaging the walls in fluid sealing relation;an electronics assembly configured to fit within the interior of the electronics module for receiving electrical energy from the cable and generating signals responsive to an immersed/exposed condition of the removed ends of the probes;multiple electrodes for engaging the walls of the electronics module in fluid sealing relation and for engaging the electronics assembly, the multiple electrodes having removed ends adapted to form electrical engagement with the multiple near ends of the probes when the electronics module engages the probe assembly;\\nwherein the electronics module and probe assembly include coupling members to electronically and removably couple the probe assembly to the electronics module, without affecting the gaseous and fluid tight coupling of the probe assembly with the tank;\\nwherein the electronics module and probe assembly include coupling members to electronically and removably couple the probe assembly to the electronics module, without affecting the gaseous and fluid tight coupling of the probe assembly with the tank;wherein the pump provides water to the carbonator tank responsive to signals from the electronics assembly; andwherein the source of high pressure CO2 gas maintain pressure in the carbonator tank and wherein an outline from the carbonator tank to the dispensing head and lines from the beverage concentrate allows a carbonate of beverage to be dispensed therefrom.15. The carbonator tank assembly of claim 2, wherein the electronics assembly provides low voltage DC to at least one of the probes.16. The beverage dispensing apparatus of claim 14, wherein the electronics assembly provides low voltage DC to at least some of the probes.17. The beverage dispensing apparatus of claim 14, wherein the coupling members of the probe assembly and the electronics module include walls adapted to receive fasteners for removably fastening the probe assembly to the electronics module while leaving the probe assembly in removable, gaseous and fluid tight couple with the carbonator tank.18. The beverage dispensing apparatus of claim 14, wherein the probe assembly and the electronics module include walls adapted to align the two in a specific one-way alignment when they are engaged to one another. '"
      ]
     },
     "execution_count": 9,
     "metadata": {},
     "output_type": "execute_result"
    }
   ],
   "source": [
    "x=''\n",
    "for t in soup_1.select(\".claim-text\",limit = 100): x+=t.get_text()\n",
    "x"
   ]
  },
  {
   "cell_type": "code",
   "execution_count": 7,
   "metadata": {},
   "outputs": [
    {
     "data": {
      "text/plain": [
       "'1. A carbonator tank assembly comprising: a carbonator tank including walls defining a carbonator tank interior and a mounting plate a probe assembly configured for removable gaseous and fluid-tight coupling using elastomeric members, to the mounting plate of the carbonator tank, the probe assembly without float elements, but including a multiplicity of elongated probes, each having a near end and a removed end, each probe having a different length, and a base, the multiplicity of probes fixedly and fluid sealingly engaging the base such that most of the probes length extends into the interior of the carbonator tank to different points when the probe assembly is engaged with the carbonator tank an electronics module adapted to receive electricity from a remote source through an electrical cable, the electronics module having an interior, the electrical cable engaging the walls of the electronics module in fluid sealing relation an electronics assembly configured to fit within the interior of the electronics module for receiving electrical energy from the cable and generating signals responsive to an immersed/exposed condition of the removed ends of the probes multiple electrodes for engaging the walls of the electronics module in fluid sealing relation and for engaging the electronics assembly, the multiple electrodes having removed ends adapted to form electrical engagement with the multiple near ends of the probes when the electronics module engages the probe assembly wherein the electronics module and probe assembly include coupling members to electronically and removably couple and uncouple the probe assembly to the electronics module, without affecting the gaseous and fluid tight coupling of the probe assembly with the tank. a carbonator tank including walls defining a carbonator tank interior and a mounting plate;a probe assembly configured for removable gaseous and fluid-tight coupling using elastomeric members, to the mounting plate of the carbonator tank, the probe assembly without float elements, but including a multiplicity of elongated probes, each having a near end and a removed end, each probe having a different length, and a base, the multiplicity of probes fixedly and fluid sealingly engaging the base such that most of the probes length extends into the interior of the carbonator tank to different points when the probe assembly is engaged with the carbonator tank;an electronics module adapted to receive electricity from a remote source through an electrical cable, the electronics module having an interior, the electrical cable engaging the walls of the electronics module in fluid sealing relation;an electronics assembly configured to fit within the interior of the electronics module for receiving electrical energy from the cable and generating signals responsive to an immersed/exposed condition of the removed ends of the probes;multiple electrodes for engaging the walls of the electronics module in fluid sealing relation and for engaging the electronics assembly, the multiple electrodes having removed ends adapted to form electrical engagement with the multiple near ends of the probes when the electronics module engages the probe assembly wherein the electronics module and probe assembly include coupling members to electronically and removably couple and uncouple the probe assembly to the electronics module, without affecting the gaseous and fluid tight coupling of the probe assembly with the tank. wherein the electronics module and probe assembly include coupling members to electronically and removably couple and uncouple the probe assembly to the electronics module, without affecting the gaseous and fluid tight coupling of the probe assembly with the tank.2. The invention of claim 1, wherein the coupling members of the probe assembly and the electronics module include walls adapted to receive fasteners for removably fastening the probe assembly to the electronics module while leaving the probe assembly in removable, gaseous and fluid tight couple with the carbonator tank.3. The invention of claim 1 wherein the electronics module includes a housing and a base, the housing removably coupled to the base in fluid sealing relation with fasteners.4. The invention of claim 3 wherein the coupling members of the probe assembly and the electronics module include plug and socket members, which plug and socket members locate the removed ends of the electrodes.5. The invention of claim 4 wherein the plug and socket members include an O-ring for fluidly sealing the plug to the socket.6. The invention of claim 3 wherein the base and housing of the electronics module include walls to removably attach the base to the housing with fasteners and walls to removably attach the electronics module to the base of the probe assembly.7. The invention of claim 3 wherein the base and housing of the electronics module are configured to receive sealing members to fluidly seal the surfaces therebetween and to fluidly seal the electronical cable where it enters joins the electronics module.8. The invention of claim 1 wherein the probe assembly and the electronics module include walls adapted to align the two in a specific one-way alignment when they are engaged to one another.9. The invention of claim 1 wherein the electronics assembly is configured to reduce voltage supplied thereto from the remote source, the reduced voltage for energizing the probes.10. The invention of claim 9 wherein the remote source provides A/C to the electronics assembly.11. The invention of claim 1 wherein the probe assembly includes a base, each with fastener walls configured to releasably engage one to the other with fasteners.12. The invention of claim 11 wherein the mounting plate and base include walls configured to align one with the other in a specific one-way only position when they are engaged one to the other.13. A carbonator tank assembly comprising: a carbonator tank including walls defining a carbonator tank interior and a mounting plate a probe assembly configured for removable, gaseous and fluid-tight coupling using elastomeric members to the mounting plate of the carbonator tank, the probe assembly without float elements, but including a multiplicity of elongated probes, each having a near end and a removed end, each having a different length, and a base, the multiplicity of probes fixedly and fluid sealingly engaging the base such that most of the probes length extends into the interior of the carbonator tank to different points when the probe assembly is engaged with the carbonator tank and the near ends project through the base an electronics module adapted to receive electricity from a remote source through an electrical cable, the electronics module having an interior, the electrical cable engaging the walls in fluid sealing relation an electronics assembly configured to fit within the interior of the electronics module for receiving electrical energy from the cable and generating signals responsive to an immersed/exposed condition of the removed ends of the probes multiple electrodes for engaging the walls of the electronics module in fluid sealing relation and for engaging the electronics assembly, the multiple electrodes having removed ends adapted to form electrical engagement with the multiple near ends of the probes when the electronics module engages the probe assembly wherein the electronics module and probe assembly include coupling members to electronically and removably couple the probe assembly to the electronics module, without affecting the gaseous and fluid tight coupling of the probe assembly with the tank wherein the coupling members of the probe assembly and the electronics module include walls adapted to receive fasteners for removably fastening the probe assembly to the electronics module while leaving the probe assembly in removable, gaseous and fluid tight couple with the carbonator tank wherein the electronics module includes a housing and a base, the housing removably coupled to the base in fluid sealing relation with fasteners wherein the base and housing of the electronics module include walls to removably attach the base to the housing with fasteners and walls to removably attach the electronics module to the base of the probe assembly; and wherein the base and housing of the electronics module are configured to receive sealing members to fluidly seal the surfaces therebetween and to fluidly seal the electronical cable where it enters the electronics module. a carbonator tank including walls defining a carbonator tank interior and a mounting plate;a probe assembly configured for removable, gaseous and fluid-tight coupling using elastomeric members to the mounting plate of the carbonator tank, the probe assembly without float elements, but including a multiplicity of elongated probes, each having a near end and a removed end, each having a different length, and a base, the multiplicity of probes fixedly and fluid sealingly engaging the base such that most of the probes length extends into the interior of the carbonator tank to different points when the probe assembly is engaged with the carbonator tank and the near ends project through the base;an electronics module adapted to receive electricity from a remote source through an electrical cable, the electronics module having an interior, the electrical cable engaging the walls in fluid sealing relation;an electronics assembly configured to fit within the interior of the electronics module for receiving electrical energy from the cable and generating signals responsive to an immersed/exposed condition of the removed ends of the probes;multiple electrodes for engaging the walls of the electronics module in fluid sealing relation and for engaging the electronics assembly, the multiple electrodes having removed ends adapted to form electrical engagement with the multiple near ends of the probes when the electronics module engages the probe assembly wherein the electronics module and probe assembly include coupling members to electronically and removably couple the probe assembly to the electronics module, without affecting the gaseous and fluid tight coupling of the probe assembly with the tank wherein the coupling members of the probe assembly and the electronics module include walls adapted to receive fasteners for removably fastening the probe assembly to the electronics module while leaving the probe assembly in removable, gaseous and fluid tight couple with the carbonator tank wherein the electronics module includes a housing and a base, the housing removably coupled to the base in fluid sealing relation with fasteners wherein the base and housing of the electronics module include walls to removably attach the base to the housing with fasteners and walls to removably attach the electronics module to the base of the probe assembly; and wherein the base and housing of the electronics module are configured to receive sealing members to fluidly seal the surfaces therebetween and to fluidly seal the electronical cable where it enters the electronics module. wherein the electronics module and probe assembly include coupling members to electronically and removably couple the probe assembly to the electronics module, without affecting the gaseous and fluid tight coupling of the probe assembly with the tank;wherein the coupling members of the probe assembly and the electronics module include walls adapted to receive fasteners for removably fastening the probe assembly to the electronics module while leaving the probe assembly in removable, gaseous and fluid tight couple with the carbonator tank;wherein the electronics module includes a housing and a base, the housing removably coupled to the base in fluid sealing relation with fasteners;wherein the base and housing of the electronics module include walls to removably attach the base to the housing with fasteners and walls to removably attach the electronics module to the base of the probe assembly; andwherein the base and housing of the electronics module are configured to receive sealing members to fluidly seal the surfaces therebetween and to fluidly seal the electronical cable where it enters the electronics module.14. A beverage dispensing apparatus comprising: a water source a pump engaging the water source a source of high pressure CO2 gas a dispensing head a source of beverage concentrate a carbonator tank assembly comprising: a carbonator tank including walls defining a carbonator tank interior and a mounting plate a probe assembly configured for removable, gaseous and fluid-tight coupling using elastomeric members to the mounting plate of the carbonator tank, the probe assembly without float elements, but including a multiplicity of elongated probes, each having a near end and a removed end, each having a different length, and a base, the multiplicity of probes fixedly and fluid sealingly engaging the base such that most of the probes length extends into the interior of the carbonator tank to different points when the probe assembly is engaged with the carbonator tank and the near ends project through the base an electronics module adapted to receive electricity from a remote source through an electrical cable, the electronics module having an interior, the electrical cable engaging the walls in fluid sealing relation an electronics assembly configured to fit within the interior of the electronics module for receiving electrical energy from the cable and generating signals responsive to an immersed/exposed condition of the removed ends of the probes multiple electrodes for engaging the walls of the electronics module in fluid sealing relation and for engaging the electronics assembly, the multiple electrodes having removed ends adapted to form electrical engagement with the multiple near ends of the probes when the electronics module engages the probe assembly wherein the electronics module and probe assembly include coupling members to electronically and removably couple the probe assembly to the electronics module, without affecting the gaseous and fluid tight coupling of the probe assembly with the tank wherein the pump provides water to the carbonator tank responsive to signals from the electronics assembly; and wherein the source of high pressure CO2 gas maintain pressure in the carbonator tank and wherein an outline from the carbonator tank to the dispensing head and lines from the beverage concentrate allows a carbonate of beverage to be dispensed therefrom. a water source;a pump engaging the water source;a source of high pressure CO2 gas;a dispensing head;a source of beverage concentrate;a carbonator tank assembly comprising:a carbonator tank including walls defining a carbonator tank interior and a mounting plate;a probe assembly configured for removable, gaseous and fluid-tight coupling using elastomeric members to the mounting plate of the carbonator tank, the probe assembly without float elements, but including a multiplicity of elongated probes, each having a near end and a removed end, each having a different length, and a base, the multiplicity of probes fixedly and fluid sealingly engaging the base such that most of the probes length extends into the interior of the carbonator tank to different points when the probe assembly is engaged with the carbonator tank and the near ends project through the base;an electronics module adapted to receive electricity from a remote source through an electrical cable, the electronics module having an interior, the electrical cable engaging the walls in fluid sealing relation;an electronics assembly configured to fit within the interior of the electronics module for receiving electrical energy from the cable and generating signals responsive to an immersed/exposed condition of the removed ends of the probes;multiple electrodes for engaging the walls of the electronics module in fluid sealing relation and for engaging the electronics assembly, the multiple electrodes having removed ends adapted to form electrical engagement with the multiple near ends of the probes when the electronics module engages the probe assembly wherein the electronics module and probe assembly include coupling members to electronically and removably couple the probe assembly to the electronics module, without affecting the gaseous and fluid tight coupling of the probe assembly with the tank wherein the electronics module and probe assembly include coupling members to electronically and removably couple the probe assembly to the electronics module, without affecting the gaseous and fluid tight coupling of the probe assembly with the tank;wherein the pump provides water to the carbonator tank responsive to signals from the electronics assembly; andwherein the source of high pressure CO2 gas maintain pressure in the carbonator tank and wherein an outline from the carbonator tank to the dispensing head and lines from the beverage concentrate allows a carbonate of beverage to be dispensed therefrom.15. The carbonator tank assembly of claim 2, wherein the electronics assembly provides low voltage DC to at least one of the probes.16. The beverage dispensing apparatus of claim 14, wherein the electronics assembly provides low voltage DC to at least some of the probes.17. The beverage dispensing apparatus of claim 14, wherein the coupling members of the probe assembly and the electronics module include walls adapted to receive fasteners for removably fastening the probe assembly to the electronics module while leaving the probe assembly in removable, gaseous and fluid tight couple with the carbonator tank.18. The beverage dispensing apparatus of claim 14, wherein the probe assembly and the electronics module include walls adapted to align the two in a specific one-way alignment when they are engaged to one another. '"
      ]
     },
     "execution_count": 7,
     "metadata": {},
     "output_type": "execute_result"
    }
   ],
   "source": [
    "description  = x\n",
    "description=description.replace(';\\n',' ')\n",
    "description=description.replace('\\n',' ')\n",
    "description=description.replace('  ',' ')\n",
    "description"
   ]
  },
  {
   "cell_type": "code",
   "execution_count": 9,
   "metadata": {},
   "outputs": [
    {
     "ename": "AttributeError",
     "evalue": "ResultSet object has no attribute 'get_text'. You're probably treating a list of elements like a single element. Did you call find_all() when you meant to call find()?",
     "output_type": "error",
     "traceback": [
      "\u001b[0;31m---------------------------------------------------------------------------\u001b[0m",
      "\u001b[0;31mAttributeError\u001b[0m                            Traceback (most recent call last)",
      "\u001b[0;32m<ipython-input-9-1bd5cdbe4b94>\u001b[0m in \u001b[0;36m<module>\u001b[0;34m\u001b[0m\n\u001b[0;32m----> 1\u001b[0;31m \u001b[0;34m(\u001b[0m\u001b[0msoup_1\u001b[0m\u001b[0;34m.\u001b[0m\u001b[0mselect\u001b[0m\u001b[0;34m(\u001b[0m\u001b[0;34m\".abstract\"\u001b[0m\u001b[0;34m)\u001b[0m\u001b[0;34m)\u001b[0m\u001b[0;34m.\u001b[0m\u001b[0mget_text\u001b[0m\u001b[0;34m(\u001b[0m\u001b[0;34m)\u001b[0m\u001b[0;34m\u001b[0m\u001b[0;34m\u001b[0m\u001b[0m\n\u001b[0m",
      "\u001b[0;32m~/anaconda3/envs/tensorflow/lib/python3.6/site-packages/bs4/element.py\u001b[0m in \u001b[0;36m__getattr__\u001b[0;34m(self, key)\u001b[0m\n\u001b[1;32m   2079\u001b[0m         \u001b[0;34m\"\"\"Raise a helpful exception to explain a common code fix.\"\"\"\u001b[0m\u001b[0;34m\u001b[0m\u001b[0;34m\u001b[0m\u001b[0m\n\u001b[1;32m   2080\u001b[0m         raise AttributeError(\n\u001b[0;32m-> 2081\u001b[0;31m             \u001b[0;34m\"ResultSet object has no attribute '%s'. You're probably treating a list of elements like a single element. Did you call find_all() when you meant to call find()?\"\u001b[0m \u001b[0;34m%\u001b[0m \u001b[0mkey\u001b[0m\u001b[0;34m\u001b[0m\u001b[0;34m\u001b[0m\u001b[0m\n\u001b[0m\u001b[1;32m   2082\u001b[0m         )\n",
      "\u001b[0;31mAttributeError\u001b[0m: ResultSet object has no attribute 'get_text'. You're probably treating a list of elements like a single element. Did you call find_all() when you meant to call find()?"
     ]
    }
   ],
   "source": [
    "(soup_1.select(\".abstract\")).get_text()"
   ]
  },
  {
   "cell_type": "code",
   "execution_count": 4,
   "metadata": {},
   "outputs": [
    {
     "name": "stdout",
     "output_type": "stream",
     "text": [
      "US9389611B2 - Adaptative platform for unmanned defense vehicles \n",
      "        - Google Patents\n"
     ]
    }
   ],
   "source": [
    "print(soup_1.find('title').get_text())"
   ]
  },
  {
   "cell_type": "code",
   "execution_count": null,
   "metadata": {},
   "outputs": [],
   "source": []
  },
  {
   "cell_type": "raw",
   "metadata": {},
   "source": []
  },
  {
   "cell_type": "raw",
   "metadata": {},
   "source": []
  }
 ],
 "metadata": {
  "kernelspec": {
   "display_name": "Python 3",
   "language": "python",
   "name": "python3"
  },
  "language_info": {
   "codemirror_mode": {
    "name": "ipython",
    "version": 3
   },
   "file_extension": ".py",
   "mimetype": "text/x-python",
   "name": "python",
   "nbconvert_exporter": "python",
   "pygments_lexer": "ipython3",
   "version": "3.6.9"
  }
 },
 "nbformat": 4,
 "nbformat_minor": 4
}
