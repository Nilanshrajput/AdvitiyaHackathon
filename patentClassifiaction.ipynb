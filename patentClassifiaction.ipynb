{
 "cells": [
  {
   "cell_type": "code",
   "execution_count": 52,
   "metadata": {},
   "outputs": [],
   "source": [
    "import pandas as pd\n",
    "import re "
   ]
  },
  {
   "cell_type": "code",
   "execution_count": 50,
   "metadata": {},
   "outputs": [],
   "source": [
    "dataCsv = pd.read_csv(\"data.csv\", index_col=0)"
   ]
  },
  {
   "cell_type": "code",
   "execution_count": 51,
   "metadata": {},
   "outputs": [
    {
     "data": {
      "text/html": [
       "<div>\n",
       "<style scoped>\n",
       "    .dataframe tbody tr th:only-of-type {\n",
       "        vertical-align: middle;\n",
       "    }\n",
       "\n",
       "    .dataframe tbody tr th {\n",
       "        vertical-align: top;\n",
       "    }\n",
       "\n",
       "    .dataframe thead th {\n",
       "        text-align: right;\n",
       "    }\n",
       "</style>\n",
       "<table border=\"1\" class=\"dataframe\">\n",
       "  <thead>\n",
       "    <tr style=\"text-align: right;\">\n",
       "      <th></th>\n",
       "      <th>Publication number</th>\n",
       "      <th>Category</th>\n",
       "      <th>Publication number.1</th>\n",
       "      <th>Category.1</th>\n",
       "      <th>Publication number.2</th>\n",
       "      <th>Category.2</th>\n",
       "      <th>Publication number.3</th>\n",
       "      <th>Category.3</th>\n",
       "    </tr>\n",
       "  </thead>\n",
       "  <tbody>\n",
       "    <tr>\n",
       "      <th>0</th>\n",
       "      <td>US9040302B2</td>\n",
       "      <td>Non-Alcohol</td>\n",
       "      <td>US9012694B2</td>\n",
       "      <td>Alcohol</td>\n",
       "      <td>US9277674B2</td>\n",
       "      <td>Non-Autonomous Vehicles</td>\n",
       "      <td>US9646356B1</td>\n",
       "      <td>Autonomous Vehicles</td>\n",
       "    </tr>\n",
       "    <tr>\n",
       "      <th>1</th>\n",
       "      <td>US9040109B2</td>\n",
       "      <td>Non-Alcohol</td>\n",
       "      <td>US9012188B2</td>\n",
       "      <td>Alcohol</td>\n",
       "      <td>US9277385B2</td>\n",
       "      <td>Non-Autonomous Vehicles</td>\n",
       "      <td>US9645576B2</td>\n",
       "      <td>Autonomous Vehicles</td>\n",
       "    </tr>\n",
       "    <tr>\n",
       "      <th>2</th>\n",
       "      <td>US9040107B2</td>\n",
       "      <td>Non-Alcohol</td>\n",
       "      <td>US9010952B2</td>\n",
       "      <td>Alcohol</td>\n",
       "      <td>US9277311B2</td>\n",
       "      <td>Non-Autonomous Vehicles</td>\n",
       "      <td>US9622452B2</td>\n",
       "      <td>Autonomous Vehicles</td>\n",
       "    </tr>\n",
       "    <tr>\n",
       "      <th>3</th>\n",
       "      <td>US9040036B2</td>\n",
       "      <td>Non-Alcohol</td>\n",
       "      <td>US8987530B2</td>\n",
       "      <td>Alcohol</td>\n",
       "      <td>US9277191B2</td>\n",
       "      <td>Non-Autonomous Vehicles</td>\n",
       "      <td>US9599482B2</td>\n",
       "      <td>Autonomous Vehicles</td>\n",
       "    </tr>\n",
       "    <tr>\n",
       "      <th>4</th>\n",
       "      <td>US9038991B2</td>\n",
       "      <td>Non-Alcohol</td>\n",
       "      <td>US8981165B2</td>\n",
       "      <td>Alcohol</td>\n",
       "      <td>US9276431B2</td>\n",
       "      <td>Non-Autonomous Vehicles</td>\n",
       "      <td>US9598078B2</td>\n",
       "      <td>Autonomous Vehicles</td>\n",
       "    </tr>\n",
       "  </tbody>\n",
       "</table>\n",
       "</div>"
      ],
      "text/plain": [
       "  Publication number     Category Publication number.1 Category.1  \\\n",
       "0        US9040302B2  Non-Alcohol          US9012694B2    Alcohol   \n",
       "1        US9040109B2  Non-Alcohol          US9012188B2    Alcohol   \n",
       "2        US9040107B2  Non-Alcohol          US9010952B2    Alcohol   \n",
       "3        US9040036B2  Non-Alcohol          US8987530B2    Alcohol   \n",
       "4        US9038991B2  Non-Alcohol          US8981165B2    Alcohol   \n",
       "\n",
       "  Publication number.2               Category.2 Publication number.3  \\\n",
       "0          US9277674B2  Non-Autonomous Vehicles          US9646356B1   \n",
       "1          US9277385B2  Non-Autonomous Vehicles          US9645576B2   \n",
       "2          US9277311B2  Non-Autonomous Vehicles          US9622452B2   \n",
       "3          US9277191B2  Non-Autonomous Vehicles          US9599482B2   \n",
       "4          US9276431B2  Non-Autonomous Vehicles          US9598078B2   \n",
       "\n",
       "            Category.3  \n",
       "0  Autonomous Vehicles  \n",
       "1  Autonomous Vehicles  \n",
       "2  Autonomous Vehicles  \n",
       "3  Autonomous Vehicles  \n",
       "4  Autonomous Vehicles  "
      ]
     },
     "execution_count": 51,
     "metadata": {},
     "output_type": "execute_result"
    }
   ],
   "source": [
    "dataCsv.head()"
   ]
  },
  {
   "cell_type": "code",
   "execution_count": 47,
   "metadata": {},
   "outputs": [],
   "source": [
    "dataCsv.iloc[:,[1,3,5,7]]=[\"Non-Alcohol\",\"Alcohol\", \"Non-Autonomous Vehicles\",\"Autonomous Vehicles\"]"
   ]
  },
  {
   "cell_type": "code",
   "execution_count": 39,
   "metadata": {},
   "outputs": [
    {
     "data": {
      "text/plain": [
       "'\\nnew_header = dataCsv.iloc[0] #grab the first row for the header\\ndataCsv = dataCsv[1:] #take the data less the header row\\ndataCsv.columns = new_header\\n'"
      ]
     },
     "execution_count": 39,
     "metadata": {},
     "output_type": "execute_result"
    }
   ],
   "source": [
    "\n",
    "# remove unnammed columns\n",
    "dataCsv = dataCsv.loc[:, ~dataCsv.columns.str.contains('^Unnamed')]\n",
    "\"\"\"\n",
    "new_header = dataCsv.iloc[0] #grab the first row for the header\n",
    "dataCsv = dataCsv[1:] #take the data less the header row\n",
    "dataCsv.columns = new_header\n",
    "\"\"\"\n"
   ]
  },
  {
   "cell_type": "code",
   "execution_count": 48,
   "metadata": {},
   "outputs": [
    {
     "data": {
      "text/html": [
       "<div>\n",
       "<style scoped>\n",
       "    .dataframe tbody tr th:only-of-type {\n",
       "        vertical-align: middle;\n",
       "    }\n",
       "\n",
       "    .dataframe tbody tr th {\n",
       "        vertical-align: top;\n",
       "    }\n",
       "\n",
       "    .dataframe thead th {\n",
       "        text-align: right;\n",
       "    }\n",
       "</style>\n",
       "<table border=\"1\" class=\"dataframe\">\n",
       "  <thead>\n",
       "    <tr style=\"text-align: right;\">\n",
       "      <th></th>\n",
       "      <th>Publication number</th>\n",
       "      <th>Category</th>\n",
       "      <th>Publication number.1</th>\n",
       "      <th>Category.1</th>\n",
       "      <th>Publication number.2</th>\n",
       "      <th>Category.2</th>\n",
       "      <th>Publication number.3</th>\n",
       "      <th>Category.3</th>\n",
       "    </tr>\n",
       "  </thead>\n",
       "  <tbody>\n",
       "    <tr>\n",
       "      <th>0</th>\n",
       "      <td>US9040302B2</td>\n",
       "      <td>Non-Alcohol</td>\n",
       "      <td>US9012694B2</td>\n",
       "      <td>Alcohol</td>\n",
       "      <td>US9277674B2</td>\n",
       "      <td>Non-Autonomous Vehicles</td>\n",
       "      <td>US9646356B1</td>\n",
       "      <td>Autonomous Vehicles</td>\n",
       "    </tr>\n",
       "    <tr>\n",
       "      <th>1</th>\n",
       "      <td>US9040109B2</td>\n",
       "      <td>Non-Alcohol</td>\n",
       "      <td>US9012188B2</td>\n",
       "      <td>Alcohol</td>\n",
       "      <td>US9277385B2</td>\n",
       "      <td>Non-Autonomous Vehicles</td>\n",
       "      <td>US9645576B2</td>\n",
       "      <td>Autonomous Vehicles</td>\n",
       "    </tr>\n",
       "    <tr>\n",
       "      <th>2</th>\n",
       "      <td>US9040107B2</td>\n",
       "      <td>Non-Alcohol</td>\n",
       "      <td>US9010952B2</td>\n",
       "      <td>Alcohol</td>\n",
       "      <td>US9277311B2</td>\n",
       "      <td>Non-Autonomous Vehicles</td>\n",
       "      <td>US9622452B2</td>\n",
       "      <td>Autonomous Vehicles</td>\n",
       "    </tr>\n",
       "    <tr>\n",
       "      <th>3</th>\n",
       "      <td>US9040036B2</td>\n",
       "      <td>Non-Alcohol</td>\n",
       "      <td>US8987530B2</td>\n",
       "      <td>Alcohol</td>\n",
       "      <td>US9277191B2</td>\n",
       "      <td>Non-Autonomous Vehicles</td>\n",
       "      <td>US9599482B2</td>\n",
       "      <td>Autonomous Vehicles</td>\n",
       "    </tr>\n",
       "    <tr>\n",
       "      <th>4</th>\n",
       "      <td>US9038991B2</td>\n",
       "      <td>Non-Alcohol</td>\n",
       "      <td>US8981165B2</td>\n",
       "      <td>Alcohol</td>\n",
       "      <td>US9276431B2</td>\n",
       "      <td>Non-Autonomous Vehicles</td>\n",
       "      <td>US9598078B2</td>\n",
       "      <td>Autonomous Vehicles</td>\n",
       "    </tr>\n",
       "  </tbody>\n",
       "</table>\n",
       "</div>"
      ],
      "text/plain": [
       "  Publication number     Category Publication number.1 Category.1  \\\n",
       "0        US9040302B2  Non-Alcohol          US9012694B2    Alcohol   \n",
       "1        US9040109B2  Non-Alcohol          US9012188B2    Alcohol   \n",
       "2        US9040107B2  Non-Alcohol          US9010952B2    Alcohol   \n",
       "3        US9040036B2  Non-Alcohol          US8987530B2    Alcohol   \n",
       "4        US9038991B2  Non-Alcohol          US8981165B2    Alcohol   \n",
       "\n",
       "  Publication number.2               Category.2 Publication number.3  \\\n",
       "0          US9277674B2  Non-Autonomous Vehicles          US9646356B1   \n",
       "1          US9277385B2  Non-Autonomous Vehicles          US9645576B2   \n",
       "2          US9277311B2  Non-Autonomous Vehicles          US9622452B2   \n",
       "3          US9277191B2  Non-Autonomous Vehicles          US9599482B2   \n",
       "4          US9276431B2  Non-Autonomous Vehicles          US9598078B2   \n",
       "\n",
       "            Category.3  \n",
       "0  Autonomous Vehicles  \n",
       "1  Autonomous Vehicles  \n",
       "2  Autonomous Vehicles  \n",
       "3  Autonomous Vehicles  \n",
       "4  Autonomous Vehicles  "
      ]
     },
     "execution_count": 48,
     "metadata": {},
     "output_type": "execute_result"
    }
   ],
   "source": [
    "dataCsv.head()"
   ]
  },
  {
   "cell_type": "code",
   "execution_count": 49,
   "metadata": {},
   "outputs": [],
   "source": [
    "dataCsv.to_csv(\"data.csv\")"
   ]
  },
  {
   "cell_type": "markdown",
   "metadata": {},
   "source": [
    "###############################\n",
    "############  EDA  ############\n",
    "###############################"
   ]
  },
  {
   "cell_type": "code",
   "execution_count": null,
   "metadata": {},
   "outputs": [],
   "source": [
    "\n",
    "# Function to extract all the numbers from the given string \n",
    "def getNumbers(str): \n",
    "    array = re.findall(r'[0-9]+', str) \n",
    "    return array \n",
    "  \n",
    "# Driver code \n",
    "str = \"adbv345hj43hvb42\"\n",
    "array = getNumbers(str) \n",
    "print(*array) \n",
    "\n"
   ]
  }
 ],
 "metadata": {
  "kernelspec": {
   "display_name": "Python 3",
   "language": "python",
   "name": "python3"
  },
  "language_info": {
   "codemirror_mode": {
    "name": "ipython",
    "version": 3
   },
   "file_extension": ".py",
   "mimetype": "text/x-python",
   "name": "python",
   "nbconvert_exporter": "python",
   "pygments_lexer": "ipython3",
   "version": "3.6.9"
  }
 },
 "nbformat": 4,
 "nbformat_minor": 4
}
